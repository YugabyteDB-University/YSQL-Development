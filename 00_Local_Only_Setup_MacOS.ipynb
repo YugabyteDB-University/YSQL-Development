{
 "cells": [
  {
   "attachments": {},
   "cell_type": "markdown",
   "metadata": {},
   "source": [
    "\n",
    "TODO: \n",
    "Check out the smart driver\n",
    "- https://dev.to/franckpachot/cluster-aware-psycopg2-405i\n",
    "- https://github.com/yugabyte/psycopg2\n",
    "\n",
    "Isolation levels\n",
    "- https://dev.to/yugabyte/read-committed-is-a-must-for-postgres-compatible-distributed-sql-databases-59pf\n",
    "\n",
    "Fast path (WAL/ IntentsDB, RegularDB)\n",
    "- https://dev.to/yugabyte/yugabytedb-fast-path-write-51hm\n",
    "\n",
    "https://dev.to/franckpachot\n",
    "\n",
    "<div style=\"width:100%; background-color: #000041\"><a target=\"_blank\" href=\"http://university.yugabyte.com\"><img src=\"assets/YBU_Logo.png\" /></a></div>\n",
    "\n",
    "> **YugabyteDB YSQL Development**\n",
    ">\n",
    "> Enroll for free  [Yugabyte University](https://university.yugabyte.com/).\n",
    ">\n",
    "\n",
    "# Requirements to run this locally\n",
    "Here are the requirements to run this notebook locally:\n",
    "\n",
    "- Download and install YugabyteDB\n",
    "- Update the `env_vars.env` file\n",
    "- Install Python 3.8 or higher\n",
    "  \n",
    "## Download and install YugabyteDB\n",
    "To run this notebook locally in VS Code on MacOs or Linux, you must download and install YugabyteDB:\n",
    "### MacOS \n",
    "You can download YugabyteDB for the MacOS at [https://download.yugabyte.com/#macos](https://download.yugabyte.com/#macos).\n",
    "\n",
    "### Linux\n",
    "You can download YugabyteDB for Linux at [https://download.yugabyte.com/#linux](https://download.yugabyte.com/#linux).\n",
    "\n",
    "### Docker\n",
    "You can download YugabyteDB for Docker at [https://download.yugabyte.com/#docker](https://download.yugabyte.com/#docker).\n",
    "\n",
    "## Update the `env_vars.env` file\n",
    "After installing YugabyteDB locally, you need to update these paths in `env_vars.env`:\n",
    "```\n",
    "MY_YB_PATH_LOCAL_2.16=/Users/seth/yugabyte/yugabyte-2.16.3.0\n",
    "MY_YB_PATH_LOCAL=/Users/seth/yugabyte/yugabyte-2.17.3.0\n",
    "MY_YB_PATH_DATA_LOCAL=/Users/seth/yugabyte-data\n",
    "```\n",
    "\n",
    "## Install Python 3.8 or higher\n",
    "For MacOs, PyEnv is probably the easiest way to install. You can learn more at:\n",
    "- [https://github.com/pyenv/pyenv](https://github.com/pyenv/pyenv)\n",
    "- [https://realpython.com/intro-to-pyenv/](https://realpython.com/intro-to-pyenv/)"
   ]
  },
  {
   "attachments": {},
   "cell_type": "markdown",
   "metadata": {},
   "source": [
    "---\n",
    "# Update the notebook dependencies."
   ]
  },
  {
   "cell_type": "markdown",
   "metadata": {},
   "source": [
    "%%markdown\n",
    "<style>\n",
    "    .rendered_html table {\n",
    "        border-collapse: collapse;\n",
    "        margin: auto;\n",
    "    }\n",
    "    .rendered_html th, .rendered_html td {\n",
    "        border: 1px solid black;\n",
    "        padding: 8px;\n",
    "        text-align: left;\n",
    "    }\n",
    "    .rendered_html th {\n",
    "        background-color: #f2f2f2;\n",
    "    }\n",
    "</style>\n"
   ]
  },
  {
   "cell_type": "code",
   "execution_count": 17,
   "metadata": {
    "vscode": {
     "languageId": "html"
    }
   },
   "outputs": [
    {
     "data": {
      "text/html": [
       "<style>\n",
       "    .rendered_html table {\n",
       "        border-collapse: collapse;\n",
       "        margin: auto;\n",
       "    }\n",
       "    .rendered_html th, .rendered_html td {\n",
       "        border: 1px solid black;\n",
       "        padding: 8px;\n",
       "        text-align: left;\n",
       "    }\n",
       "    .rendered_html th {\n",
       "        background-color: #f2f2f2;\n",
       "    }\n",
       "</style>\n",
       "<table id=\"rendered_html\" >\n",
       "    <tr>\n",
       "      <th>Month</th>\n",
       "      <th>Savings</th>\n",
       "    </tr>\n",
       "    <tr>\n",
       "      <td>January</td>\n",
       "      <td>$100</td>\n",
       "    </tr>\n",
       "    <tr>\n",
       "      <td>February</td>\n",
       "      <td>$80</td>\n",
       "    </tr>\n",
       "  </table>\n"
      ],
      "text/plain": [
       "<IPython.core.display.HTML object>"
      ]
     },
     "metadata": {},
     "output_type": "display_data"
    }
   ],
   "source": [
    "%%html\n",
    "<style>\n",
    "    .rendered_html table {\n",
    "        border-collapse: collapse;\n",
    "        margin: auto;\n",
    "    }\n",
    "    .rendered_html th, .rendered_html td {\n",
    "        border: 1px solid black;\n",
    "        padding: 8px;\n",
    "        text-align: left;\n",
    "    }\n",
    "    .rendered_html th {\n",
    "        background-color: #f2f2f2;\n",
    "    }\n",
    "</style>\n",
    "<table id=\"rendered_html\" >\n",
    "    <tr>\n",
    "      <th>Month</th>\n",
    "      <th>Savings</th>\n",
    "    </tr>\n",
    "    <tr>\n",
    "      <td>January</td>\n",
    "      <td>$100</td>\n",
    "    </tr>\n",
    "    <tr>\n",
    "      <td>February</td>\n",
    "      <td>$80</td>\n",
    "    </tr>\n",
    "  </table>"
   ]
  },
  {
   "cell_type": "code",
   "execution_count": null,
   "metadata": {},
   "outputs": [],
   "source": [
    "from IPython.core.display import HTML\n",
    "\n",
    "# Define your custom CSS\n",
    "style = \"\"\"\n",
    "<style>\n",
    "    .rendered_html table {\n",
    "        border-collapse: collapse;\n",
    "        margin: auto;\n",
    "    }\n",
    "    .rendered_html th, .rendered_html td {\n",
    "        border: 1px solid black;\n",
    "        padding: 8px;\n",
    "        text-align: left;\n",
    "    }\n",
    "    .rendered_html th {\n",
    "        background-color: #f2f2f2;\n",
    "    }\n",
    "</style>\n",
    "\"\"\"\n",
    "\n",
    "# Inject the CSS into the notebook\n",
    "display(HTML(style))\n"
   ]
  },
  {
   "cell_type": "code",
   "execution_count": null,
   "metadata": {},
   "outputs": [],
   "source": [
    "!pip install --upgrade pip\n",
    "!pip install ipython-sql~=0.5 --upgrade\n",
    "!pip install psycopg2-binary\n",
    "!pip install SQLAlchemy --upgrade \n",
    "!pip install sqlparse\n",
    "!pip install html2text\n",
    "!pip install jq"
   ]
  },
  {
   "attachments": {},
   "cell_type": "markdown",
   "metadata": {},
   "source": [
    "### Create the notebook variables \n",
    "\n",
    "> IMPORTANT!\n",
    "> \n",
    "> Do NOT skip editing and running this cell. \n",
    "> \n",
    "\n",
    "The following Python cell creates and stores the Jupyter notebook variables.\n",
    "- First, edit the script to select how to assign a value to `MY_SUDO`.\n",
    "- To run the script, select Execute Cell (Play Arrow in the cell side bar).\n",
    "- Verify the accuracy of the output values\n",
    "\n",
    "> About sudo and MacOS:\n",
    "> \n",
    "> You'll need to supply your sudo password to create the loopback addresses.\n",
    ">\n",
    "> "
   ]
  },
  {
   "cell_type": "code",
   "execution_count": null,
   "metadata": {},
   "outputs": [],
   "source": [
    "# Env variables for Notebook\n",
    "import os\n",
    "\n",
    "env_vars = !cat env_vars.env\n",
    "for var in env_vars:\n",
    "    key, value = var.split('=')\n",
    "    os.environ[key] = value\n",
    " \n",
    "### BEGIN: Edit your MY_SUDO\n",
    "\n",
    "# Leave it blank forcing a strategy for notebook execution\n",
    "#MY_SUDO=''\n",
    "\n",
    "# Specify your sudo password in the cell\n",
    "#MY_SUDO='psswrd'\n",
    "\n",
    "# env_vars defines ENV_SUDO='psswrd'\n",
    "#MY_SUDO=os.environ.get('MY_SUDO')\n",
    "\n",
    "# bash_profile exports the variable, e.g., export GLOBAL_SUDO='psswrd' \n",
    "MY_SUDO=os.environ.get('GLOBAL_SUDO')\n",
    "\n",
    "### END: MY_SUDO\n",
    "\n",
    "\n",
    "# Create and assign notebook variables\n",
    "# env_vars defines the following\n",
    "MY_DB_NAME=os.environ.get('MY_DB_NAME')\n",
    "\n",
    "MY_YB_PATH=os.environ.get('MY_YB_PATH_LOCAL')\n",
    "MY_YB_PATH_DATA=os.environ.get('MY_YB_PATH_DATA_LOCAL')\n",
    "\n",
    "MY_HOST_IPv4_01=os.environ.get('MY_HOST_IPv4_01')\n",
    "MY_HOST_IPv4_02=os.environ.get('MY_HOST_IPv4_02')\n",
    "MY_HOST_IPv4_03=os.environ.get('MY_HOST_IPv4_03')\n",
    "MY_TSERVER_WEBSERVER_PORT=os.environ.get('MY_TSERVER_WEBSERVER_PORT')\n",
    "\n",
    "MY_NOTEBOOK_DIR=os.getcwd()\n",
    "MY_NOTEBOOK_DATA_FOLDER=MY_NOTEBOOK_DIR +'/data'\n",
    "MY_NOTEBOOK_UTILS_FOLDER=MY_NOTEBOOK_DIR + '/utils'\n",
    "MY_UTIL_FUNCTIONS_FILE=os.environ.get(\"MY_UTIL_FUNCTIONS_FILE\")\n",
    "# Store the note book values for other notebooks to use\n",
    "%store MY_SUDO\n",
    "%store MY_DB_NAME\n",
    "%store MY_YB_PATH\n",
    "%store MY_YB_PATH_DATA\n",
    "%store MY_HOST_IPv4_01\n",
    "%store MY_HOST_IPv4_02\n",
    "%store MY_HOST_IPv4_03\n",
    "%store MY_TSERVER_WEBSERVER_PORT"
   ]
  },
  {
   "attachments": {},
   "cell_type": "markdown",
   "metadata": {},
   "source": [
    "### Create the loopback host aliases for MacOS\n",
    "> Important!\n",
    "> \n",
    "> The script requires the password for `sudo`.\n",
    "> \n",
    "> The bash cell utilizes the notebook variable, `MY_SUDO`.\n",
    "> \n",
    "> If you did not define the `MY_SUDO` notebook variable using one of the suggested options, you can copy this script into the terminal, which is interactive, and manually supply the password.\n",
    "\n",
    "The YugabyteDB local cluster for this lab requires that your create loop back aliases for your local host (127.0.0.1). The bash cell does the following:\n",
    "- Deletes existing aliases\n",
    "- Creates the loopback aliases from `127.0.0.2` to `127.0.0.7`"
   ]
  },
  {
   "cell_type": "code",
   "execution_count": null,
   "metadata": {
    "vscode": {
     "languageId": "shellscript"
    }
   },
   "outputs": [],
   "source": [
    "%%bash -s \"$MY_SUDO\"  # ifconfig aliases\n",
    "MY_SUDO=${1}\n",
    "\n",
    "if ifconfig lo0 | grep 127.0.0.[2-7] > /dev/null\n",
    "then\n",
    "    echo ${MY_SUDO} | sudo -S ifconfig lo0 delete 127.0.0.2\n",
    "    echo ${MY_SUDO} | sudo -S ifconfig lo0 delete 127.0.0.3\n",
    "    echo ${MY_SUDO} | sudo -S ifconfig lo0 delete 127.0.0.4\n",
    "    echo ${MY_SUDO} | sudo -S ifconfig lo0 delete 127.0.0.5\n",
    "    echo ${MY_SUDO} | sudo -S ifconfig lo0 delete 127.0.0.6\n",
    "    echo ${MY_SUDO} | sudo -S ifconfig lo0 delete 127.0.0.7\n",
    "fi\n",
    "\n",
    "echo ${MY_SUDO} | sudo -S ifconfig lo0 alias 127.0.0.2\n",
    "echo ${MY_SUDO} | sudo -S ifconfig lo0 alias 127.0.0.3\n",
    "echo ${MY_SUDO} | sudo -S ifconfig lo0 alias 127.0.0.4\n",
    "echo ${MY_SUDO} | sudo -S ifconfig lo0 alias 127.0.0.5\n",
    "echo ${MY_SUDO} | sudo -S ifconfig lo0 alias 127.0.0.6\n",
    "echo ${MY_SUDO} | sudo -S ifconfig lo0 alias 127.0.0.7\n",
    "\n",
    "echo ${MY_SUDO} | sudo ifconfig lo0"
   ]
  },
  {
   "attachments": {},
   "cell_type": "markdown",
   "metadata": {},
   "source": [
    "### Create a YugabyteDB local cluster\n",
    "- If a YugabyteDB local cluster is running, it will be stopped and destroyed using `yb-ctl`\n",
    "- To avoid the port 9000 conflict, specifies port `TSERVER_WEBSERVER_PORT` as `8200`"
   ]
  },
  {
   "cell_type": "code",
   "execution_count": null,
   "metadata": {
    "vscode": {
     "languageId": "shellscript"
    }
   },
   "outputs": [],
   "source": [
    "%%bash\n",
    "process_ids=$(pgrep -f 'yuga')\n",
    "\n",
    "# Check if any processes were found\n",
    "if [ -z \"$process_ids\" ]; then\n",
    "    echo \"No processes found containing 'yuga' in the file path.\"\n",
    "    exit 0\n",
    "fi\n",
    "\n",
    "# Kill the processes\n",
    "for pid in $process_ids; do\n",
    "    kill $pid\n",
    "    echo \"Killed process $pid\"\n",
    "done"
   ]
  },
  {
   "cell_type": "code",
   "execution_count": null,
   "metadata": {
    "vscode": {
     "languageId": "shellscript"
    }
   },
   "outputs": [],
   "source": [
    "%%bash\n",
    "### Grep port 9000 for conflict\n",
    " lsof -nP -iTCP -sTCP:LISTEN | grep 8890\n",
    "## this should be juypter"
   ]
  },
  {
   "cell_type": "code",
   "execution_count": null,
   "metadata": {
    "vscode": {
     "languageId": "shellscript"
    }
   },
   "outputs": [],
   "source": [
    "%%bash -s \"$MY_YB_PATH\"  \"$MY_YB_PATH_DATA\"  \"$MY_TSERVER_WEBSERVER_PORT\"  # yb-ctl create\n",
    "YB_PATH=${1}\n",
    "YB_PATH_DATA=${2}\n",
    "TSERVER_WEBSERVER_PORT=${3}\n",
    "\n",
    "cd $YB_PATH\n",
    "\n",
    "\n",
    "## this should be juypter\n",
    "\n",
    "\n",
    "./bin/yugabyted start  \\\n",
    "        --advertise_address=\"127.0.0.1\"  \\\n",
    "        --base_dir=${YB_PATH_DATA}/node-1  \\\n",
    "        --cloud_location=cloud1.region1.zone1  \\\n",
    "        --fault_tolerance=zone  \\\n",
    "        --master_flags=\"yb_num_shards_per_tserver=1,ysql_num_shards_per_tserver=1,ysql_beta_features=true,ysql_enable_packed_row=false\"  \\\n",
    "        --master_webserver_port=7000  \\\n",
    "        --tserver_flags=\"yb_num_shards_per_tserver=1,ysql_num_shards_per_tserver=1,ysql_beta_features=true,ysql_enable_packed_row=false\"  \\\n",
    "        --tserver_webserver_port=8200 > dev\\null\n",
    "        \n",
    "# ./bin/yugabyted start  \\\n",
    "#         --advertise_address=\"127.0.0.2\"  \\\n",
    "#         --base_dir=${YB_PATH_DATA}/node-2 \\\n",
    "#         --cloud_location=cloud1.region1.zone2  \\\n",
    "#         --fault_tolerance=zone  \\\n",
    "#         --join=\"127.0.0.1\"  \\\n",
    "#         --master_flags=\"yb_num_shards_per_tserver=1,ysql_num_shards_per_tserver=1,ysql_beta_features=true,ysql_enable_packed_row=false\"  \\\n",
    "#         --master_webserver_port=7000  \\\n",
    "#         --tserver_flags=\"yb_num_shards_per_tserver=1,ysql_num_shards_per_tserver=1,ysql_beta_features=true,ysql_enable_packed_row=false\"  \\\n",
    "#         --tserver_webserver_port=8200\n",
    "\n",
    "#    ./bin/yugabyted start  \\\n",
    "#         --advertise_address=\"127.0.0.3\"  \\\n",
    "#         --base_dir=${YB_PATH_DATA}/node-3  \\\n",
    "#         --cloud_location=cloud1.region1.zone3  \\\n",
    "#         --fault_tolerance=zone  \\\n",
    "#         --join=\"127.0.0.1\"  \\\n",
    "#         --master_flags=\"yb_num_shards_per_tserver=1,ysql_num_shards_per_tserver=1,ysql_beta_features=true,ysql_enable_packed_row=false\"  \\\n",
    "#         --master_webserver_port=7000  \\\n",
    "#         --tserver_flags=\"yb_num_shards_per_tserver=1,ysql_num_shards_per_tserver=1,ysql_beta_features=true,ysql_enable_packed_row=false\"  \\\n",
    "#         --tserver_webserver_port=8200\n",
    "\n",
    "# ./bin/yugabyted configure data_placement --fault_tolerance=zone\n",
    "\n",
    "# ./bin/yugabyted status"
   ]
  },
  {
   "attachments": {},
   "cell_type": "markdown",
   "metadata": {},
   "source": [
    "In the above, you'll see the status of the YugabyteDB cluster running locally."
   ]
  },
  {
   "attachments": {},
   "cell_type": "markdown",
   "metadata": {},
   "source": [
    "### YCQL API"
   ]
  },
  {
   "cell_type": "code",
   "execution_count": null,
   "metadata": {
    "vscode": {
     "languageId": "shellscript"
    }
   },
   "outputs": [],
   "source": [
    "%%bash -s \"$MY_YB_PATH\" \"$MY_TSERVER_WEBSERVER_PORT\"  # yb-ctl create\n",
    "YB_PATH=${1}\n",
    "TSERVER_WEBSERVER_PORT=${2}\n",
    "\n",
    "cd $YB_PATH\n",
    "\n",
    "# select version\n",
    "./bin/ycqlsh -e \"\n",
    "  select cql_version from system.local;\n",
    "  \"  "
   ]
  },
  {
   "attachments": {},
   "cell_type": "markdown",
   "metadata": {},
   "source": [
    "### YSQL API"
   ]
  },
  {
   "cell_type": "code",
   "execution_count": null,
   "metadata": {
    "vscode": {
     "languageId": "shellscript"
    }
   },
   "outputs": [],
   "source": [
    "%%bash -s \"$MY_YB_PATH\" \"$MY_DB_NAME\"  # create database\n",
    "YB_PATH=${1}\n",
    "DB_NAME=${2}\n",
    "\n",
    "cd $YB_PATH\n",
    "\n",
    "# select version\n",
    "./bin/ysqlsh -d yugabyte -c \"\n",
    "   select version();\n",
    "\"  "
   ]
  },
  {
   "attachments": {},
   "cell_type": "markdown",
   "metadata": {},
   "source": [
    "create database"
   ]
  },
  {
   "cell_type": "code",
   "execution_count": null,
   "metadata": {
    "vscode": {
     "languageId": "shellscript"
    }
   },
   "outputs": [],
   "source": [
    "%%bash -s \"$MY_YB_PATH\" \"$MY_DB_NAME\"  # create database\n",
    "YB_PATH=${1}\n",
    "DB_NAME=${2}\n",
    "\n",
    "cd $YB_PATH\n",
    "\n",
    "# terminate connections, drop, and create\n",
    "./bin/ysqlsh -d yugabyte -c \"select pg_terminate_backend(pid) from pg_stat_activity where datname = '\"${DB_NAME}\"';\"  \n",
    "./bin/ysqlsh -d yugabyte -c \"drop database if exists \"${DB_NAME}\";\"  \n",
    "./bin/ysqlsh -d yugabyte -c \"create database \"${DB_NAME}\";\" \n",
    "\n",
    "# list dbs\n",
    "./bin/ysqlsh -d yugabyte -c \"\\l\""
   ]
  },
  {
   "cell_type": "code",
   "execution_count": null,
   "metadata": {
    "vscode": {
     "languageId": "shellscript"
    }
   },
   "outputs": [],
   "source": [
    "%%bash -s \"$MY_YB_PATH\" \"$MY_DB_NAME\" \"$MY_NOTEBOOK_UTILS_FOLDER\" \"$MY_UTIL_FUNCTIONS_FILE\"  # util functions\n",
    "YB_PATH=${1}\n",
    "DB_NAME=${2}\n",
    "UTILS_FOLDER=${3}\n",
    "UTIL_FUNCTIONS_FILE=${4}\n",
    "\n",
    "\n",
    "#ls $UTIL_FOLDER\n",
    "UTIL_FUNCTIONS_FILE_PATH=${UTILS_FOLDER}/${UTIL_FUNCTIONS_FILE}\n",
    "\n",
    "cd $YB_PATH\n",
    "\n",
    "# Functions file\n",
    "./bin/ysqlsh -q -d ${DB_NAME} -f ${UTIL_FUNCTIONS_FILE_PATH} \n",
    "sleep 1;\n",
    "\n",
    "# Describe functions\n",
    "./bin/ysqlsh -d ${DB_NAME} -c \"\\df public.fn_*\""
   ]
  },
  {
   "attachments": {},
   "cell_type": "markdown",
   "metadata": {},
   "source": [
    "### SQL Magic"
   ]
  },
  {
   "cell_type": "code",
   "execution_count": null,
   "metadata": {},
   "outputs": [],
   "source": [
    "# Connect to db_ybu\n",
    "# Inspiration from https://medium.com/analytics-vidhya/postgresql-integration-with-jupyter-notebook-deb97579a38d\n",
    "import psycopg2\n",
    "import sqlalchemy as alc\n",
    "from sqlalchemy import create_engine\n",
    "\n",
    "# env_var.env\n",
    "db_host=MY_HOST_IPv4_01\n",
    "db_name=MY_DB_NAME\n",
    "\n",
    "connection_str='postgresql+psycopg2://yugabyte@'+db_host+':5433/'+db_name\n",
    "print(connection_str)\n",
    "engine = create_engine(connection_str)"
   ]
  },
  {
   "cell_type": "code",
   "execution_count": null,
   "metadata": {},
   "outputs": [],
   "source": [
    "%reload_ext sql \n",
    "# creates connection for sql magic\n",
    "%sql {connection_str}"
   ]
  },
  {
   "cell_type": "markdown",
   "metadata": {},
   "source": [
    "---\n"
   ]
  },
  {
   "cell_type": "markdown",
   "metadata": {},
   "source": [
    "## Fast Path"
   ]
  },
  {
   "cell_type": "code",
   "execution_count": null,
   "metadata": {
    "vscode": {
     "languageId": "shellscript"
    }
   },
   "outputs": [],
   "source": [
    "%%bash -s \"$MY_YB_PATH\" \"$MY_DB_NAME\" \"$MY_NOTEBOOK_UTILS_FOLDER\" \"$MY_UTIL_FUNCTIONS_FILE\"  # util functions\n",
    "MY_TSERVER_LOGS=/Users/seth/yugabyte-data/node-1/yb-data/tserver/logs  \n",
    "ls $MY_TSERVER_LOGS\n",
    "\n",
    "tail -f $MY_TSERVER_LOGS/yb-tserver.INFO | grep -E '^ | tablet.cc:'\n"
   ]
  },
  {
   "cell_type": "markdown",
   "metadata": {},
   "source": [
    "---"
   ]
  },
  {
   "attachments": {},
   "cell_type": "markdown",
   "metadata": {},
   "source": [
    "show hash\n"
   ]
  },
  {
   "cell_type": "code",
   "execution_count": null,
   "metadata": {},
   "outputs": [],
   "source": [
    "%%sql \n",
    "select pg_sleep(5), replace(current_setting('listen_addresses'),'0.0.0.0', host(inet_server_addr())::text);"
   ]
  },
  {
   "cell_type": "code",
   "execution_count": null,
   "metadata": {},
   "outputs": [],
   "source": [
    "%%sql \n",
    "drop table if exists demo;\n"
   ]
  },
  {
   "cell_type": "code",
   "execution_count": null,
   "metadata": {},
   "outputs": [],
   "source": [
    "%%sql \n",
    "\n",
    "create table if not exists demo(id bigint primary key, value text);\n"
   ]
  },
  {
   "cell_type": "code",
   "execution_count": null,
   "metadata": {},
   "outputs": [],
   "source": [
    "%%sql \n",
    "\n",
    "create unique index idx_unq_demo on demo(value);"
   ]
  },
  {
   "cell_type": "code",
   "execution_count": null,
   "metadata": {},
   "outputs": [],
   "source": [
    "%%sql \n",
    "insert into demo values (300,'hey now3');"
   ]
  },
  {
   "cell_type": "code",
   "execution_count": 7,
   "metadata": {},
   "outputs": [
    {
     "name": "stdout",
     "output_type": "stream",
     "text": [
      " * postgresql+psycopg2://yugabyte@127.0.0.1:5433/db_ybu\n",
      "5 rows affected.\n"
     ]
    },
    {
     "data": {
      "text/html": [
       "<table>\n",
       "    <thead>\n",
       "        <tr>\n",
       "            <th>QUERY PLAN</th>\n",
       "        </tr>\n",
       "    </thead>\n",
       "    <tbody>\n",
       "        <tr>\n",
       "            <td>Index Scan using idx_unq_demo on demo  (cost=0.00..4.12 rows=1 width=8) (actual time=0.881..0.883 rows=1 loops=1)</td>\n",
       "        </tr>\n",
       "        <tr>\n",
       "            <td>&nbsp;&nbsp;Index Cond: (value = &#x27;hey now3&#x27;::text)</td>\n",
       "        </tr>\n",
       "        <tr>\n",
       "            <td>Planning Time: 3.660 ms</td>\n",
       "        </tr>\n",
       "        <tr>\n",
       "            <td>Execution Time: 0.914 ms</td>\n",
       "        </tr>\n",
       "        <tr>\n",
       "            <td>Peak Memory Usage: 8 kB</td>\n",
       "        </tr>\n",
       "    </tbody>\n",
       "</table>"
      ],
      "text/plain": [
       "[('Index Scan using idx_unq_demo on demo  (cost=0.00..4.12 rows=1 width=8) (actual time=0.881..0.883 rows=1 loops=1)',),\n",
       " (\"  Index Cond: (value = 'hey now3'::text)\",),\n",
       " ('Planning Time: 3.660 ms',),\n",
       " ('Execution Time: 0.914 ms',),\n",
       " ('Peak Memory Usage: 8 kB',)]"
      ]
     },
     "execution_count": 7,
     "metadata": {},
     "output_type": "execute_result"
    }
   ],
   "source": [
    "%%sql\n",
    "explain analyze select id from demo where value = 'hey now3';"
   ]
  },
  {
   "cell_type": "markdown",
   "metadata": {},
   "source": []
  },
  {
   "cell_type": "code",
   "execution_count": null,
   "metadata": {},
   "outputs": [],
   "source": [
    "%%sql \n",
    "update demo set value='question' where id 1=1;;"
   ]
  },
  {
   "cell_type": "markdown",
   "metadata": {},
   "source": [
    "```\n",
    "I0731 12:49:46.371345 129552384 tablet.cc:1495] T bb4179e058cf4fcc84da1573eeed5be5 P d3f71cf04f7844ba81a9753135831117: Wrote 1 key/value pairs to kRegular RocksDB:\n",
    "  T bb4179e058cf4fcc84da1573eeed5be5 P d3f71cf04f7844ba81a9753135831117 [R]: 1. PutCF: SubDocKey(DocKey(0xbf4f, [42], []), [ColumnId(1); HT{ physical: 1690832986370808 }]) => \"question\"\n",
    "```"
   ]
  },
  {
   "cell_type": "code",
   "execution_count": null,
   "metadata": {},
   "outputs": [],
   "source": [
    "%%sql \n",
    "delete from demo where 1=1;"
   ]
  },
  {
   "cell_type": "markdown",
   "metadata": {},
   "source": [
    "```\n",
    "I0731 12:51:34.516342 129552384 tablet.cc:1495] T bb4179e058cf4fcc84da1573eeed5be5 P d3f71cf04f7844ba81a9753135831117: Wrote 1 key/value pairs to kRegular RocksDB:\n",
    "  T bb4179e058cf4fcc84da1573eeed5be5 P d3f71cf04f7844ba81a9753135831117 [R]: 1. PutCF: SubDocKey(DocKey(0xbf4f, [42], []), [HT{ physical: 1690833094515929 }]) => DEL\n",
    "```\n"
   ]
  },
  {
   "cell_type": "markdown",
   "metadata": {},
   "source": [
    "Now, a distributed transaction."
   ]
  },
  {
   "cell_type": "code",
   "execution_count": null,
   "metadata": {},
   "outputs": [],
   "source": [
    "%%sql \n",
    "insert into demo values (1,'HitchHiker'),(2,'Restaurant');"
   ]
  },
  {
   "cell_type": "markdown",
   "metadata": {},
   "source": [
    "```\n",
    "I0731 13:32:18.626562 22200320 tablet.cc:1495] T ab874dea16d64a14892c2f3fea29a981 P ade1a2d814884e498b1f69a1d1be1041: Wrote 15 key/value pairs to kIntents RocksDB:\n",
    "  T ab874dea16d64a14892c2f3fea29a981 P ade1a2d814884e498b1f69a1d1be1041 [I]: 1. PutCF: TXN META 45f1546f-1634-45a1-aa7a-80a80a0b84a4 => { transaction_id: 45f1546f-1634-45a1-aa7a-80a80a0b84a4 isolation: SNAPSHOT_ISOLATION status_tablet: 6f7bcec790f64814b036d261d65f9a3a priority: 13210515334273129354 start_time: { physical: 1690835538625177 } locality: GLOBAL old_status_tablet:  external_transaction: 0}\n",
    "  T ab874dea16d64a14892c2f3fea29a981 P ade1a2d814884e498b1f69a1d1be1041 [I]: 2. PutCF: SubDocKey(DocKey(0xeda9, [1], []), [SystemColumnId(0)]) [kStrongRead, kStrongWrite] HT{ physical: 1690835538626171 } => TransactionId(45f1546f-1634-45a1-aa7a-80a80a0b84a4) WriteId(0) null\n",
    "  T ab874dea16d64a14892c2f3fea29a981 P ade1a2d814884e498b1f69a1d1be1041 [I]: 3. PutCF: TXN REV 45f1546f-1634-45a1-aa7a-80a80a0b84a4 HT{ physical: 1690835538626171 } => SubDocKey(DocKey(0xeda9, [1], []), [SystemColumnId(0)]) [kStrongRead, kStrongWrite] HT{ physical: 1690835538626171 }\n",
    "  T ab874dea16d64a14892c2f3fea29a981 P ade1a2d814884e498b1f69a1d1be1041 [I]: 4. PutCF: SubDocKey(DocKey(0xeda9, [1], []), [ColumnId(1)]) [kStrongRead, kStrongWrite] HT{ physical: 1690835538626171 w: 1 } => TransactionId(45f1546f-1634-45a1-aa7a-80a80a0b84a4) WriteId(1) \"HitchHiker\"\n",
    "  T ab874dea16d64a14892c2f3fea29a981 P ade1a2d814884e498b1f69a1d1be1041 [I]: 5. PutCF: TXN REV 45f1546f-1634-45a1-aa7a-80a80a0b84a4 HT{ physical: 1690835538626171 w: 1 } => SubDocKey(DocKey(0xeda9, [1], []), [ColumnId(1)]) [kStrongRead, kStrongWrite] HT{ physical: 1690835538626171 w: 1 }\n",
    "  T ab874dea16d64a14892c2f3fea29a981 P ade1a2d814884e498b1f69a1d1be1041 [I]: 6. PutCF: SubDocKey(DocKey(0xcfaa, [2], []), [SystemColumnId(0)]) [kStrongRead, kStrongWrite] HT{ physical: 1690835538626171 w: 2 } => TransactionId(45f1546f-1634-45a1-aa7a-80a80a0b84a4) WriteId(2) null\n",
    "  T ab874dea16d64a14892c2f3fea29a981 P ade1a2d814884e498b1f69a1d1be1041 [I]: 7. PutCF: TXN REV 45f1546f-1634-45a1-aa7a-80a80a0b84a4 HT{ physical: 1690835538626171 w: 2 } => SubDocKey(DocKey(0xcfaa, [2], []), [SystemColumnId(0)]) [kStrongRead, kStrongWrite] HT{ physical: 1690835538626171 w: 2 }\n",
    "  T ab874dea16d64a14892c2f3fea29a981 P ade1a2d814884e498b1f69a1d1be1041 [I]: 8. PutCF: SubDocKey(DocKey(0xcfaa, [2], []), [ColumnId(1)]) [kStrongRead, kStrongWrite] HT{ physical: 1690835538626171 w: 3 } => TransactionId(45f1546f-1634-45a1-aa7a-80a80a0b84a4) WriteId(3) \"Restaurant\"\n",
    "  T ab874dea16d64a14892c2f3fea29a981 P ade1a2d814884e498b1f69a1d1be1041 [I]: 9. PutCF: TXN REV 45f1546f-1634-45a1-aa7a-80a80a0b84a4 HT{ physical: 1690835538626171 w: 3 } => SubDocKey(DocKey(0xcfaa, [2], []), [ColumnId(1)]) [kStrongRead, kStrongWrite] HT{ physical: 1690835538626171 w: 3 }\n",
    "  T ab874dea16d64a14892c2f3fea29a981 P ade1a2d814884e498b1f69a1d1be1041 [I]: 10. PutCF: SubDocKey(DocKey(0xcfaa, [2], []), []) [kWeakRead, kWeakWrite] HT{ physical: 1690835538626171 w: 4 } => TransactionId(45f1546f-1634-45a1-aa7a-80a80a0b84a4) none\n",
    "  T ab874dea16d64a14892c2f3fea29a981 P ade1a2d814884e498b1f69a1d1be1041 [I]: 11. PutCF: TXN REV 45f1546f-1634-45a1-aa7a-80a80a0b84a4 HT{ physical: 1690835538626171 w: 4 } => SubDocKey(DocKey(0xcfaa, [2], []), []) [kWeakRead, kWeakWrite] HT{ physical: 1690835538626171 w: 4 }\n",
    "  T ab874dea16d64a14892c2f3fea29a981 P ade1a2d814884e498b1f69a1d1be1041 [I]: 12. PutCF: SubDocKey(DocKey(0xeda9, [1], []), []) [kWeakRead, kWeakWrite] HT{ physical: 1690835538626171 w: 5 } => TransactionId(45f1546f-1634-45a1-aa7a-80a80a0b84a4) none\n",
    "  T ab874dea16d64a14892c2f3fea29a981 P ade1a2d814884e498b1f69a1d1be1041 [I]: 13. PutCF: TXN REV 45f1546f-1634-45a1-aa7a-80a80a0b84a4 HT{ physical: 1690835538626171 w: 5 } => SubDocKey(DocKey(0xeda9, [1], []), []) [kWeakRead, kWeakWrite] HT{ physical: 1690835538626171 w: 5 }\n",
    "  T ab874dea16d64a14892c2f3fea29a981 P ade1a2d814884e498b1f69a1d1be1041 [I]: 14. PutCF: SubDocKey(DocKey([], []), []) [kWeakRead, kWeakWrite] HT{ physical: 1690835538626171 w: 6 } => TransactionId(45f1546f-1634-45a1-aa7a-80a80a0b84a4) none\n",
    "  T ab874dea16d64a14892c2f3fea29a981 P ade1a2d814884e498b1f69a1d1be1041 [I]: 15. PutCF: TXN REV 45f1546f-1634-45a1-aa7a-80a80a0b84a4 HT{ physical: 1690835538626171 w: 6 } => SubDocKey(DocKey([], []), []) [kWeakRead, kWeakWrite] HT{ physical: 1690835538626171 w: 6 }\n",
    "I0731 13:32:18.627648 22200320 tablet.cc:1495] T ab874dea16d64a14892c2f3fea29a981 P ade1a2d814884e498b1f69a1d1be1041: Wrote 4 key/value pairs to kRegular RocksDB:\n",
    "  T ab874dea16d64a14892c2f3fea29a981 P ade1a2d814884e498b1f69a1d1be1041 [R]: 1. PutCF: SubDocKey(DocKey(0xeda9, [1], []), [SystemColumnId(0); HT{ physical: 1690835538627274 }]) => null\n",
    "  T ab874dea16d64a14892c2f3fea29a981 P ade1a2d814884e498b1f69a1d1be1041 [R]: 2. PutCF: SubDocKey(DocKey(0xeda9, [1], []), [ColumnId(1); HT{ physical: 1690835538627274 w: 1 }]) => \"HitchHiker\"\n",
    "  T ab874dea16d64a14892c2f3fea29a981 P ade1a2d814884e498b1f69a1d1be1041 [R]: 3. PutCF: SubDocKey(DocKey(0xcfaa, [2], []), [SystemColumnId(0); HT{ physical: 1690835538627274 w: 2 }]) => null\n",
    "  T ab874dea16d64a14892c2f3fea29a981 P ade1a2d814884e498b1f69a1d1be1041 [R]: 4. PutCF: SubDocKey(DocKey(0xcfaa, [2], []), [ColumnId(1); HT{ physical: 1690835538627274 w: 3 }]) => \"Restaurant\"\n",
    "I0731 13:32:18.627890 46346240 tablet.cc:1495] T ab874dea16d64a14892c2f3fea29a981 P ade1a2d814884e498b1f69a1d1be1041: Wrote 15 key/value pairs to kIntents RocksDB:\n",
    "  T ab874dea16d64a14892c2f3fea29a981 P ade1a2d814884e498b1f69a1d1be1041 [I]: 1. SingleDeleteCF: TXN META 45f1546f-1634-45a1-aa7a-80a80a0b84a4\n",
    "  T ab874dea16d64a14892c2f3fea29a981 P ade1a2d814884e498b1f69a1d1be1041 [I]: 2. SingleDeleteCF: TXN REV 45f1546f-1634-45a1-aa7a-80a80a0b84a4 HT{ physical: 1690835538626171 }\n",
    "  T ab874dea16d64a14892c2f3fea29a981 P ade1a2d814884e498b1f69a1d1be1041 [I]: 3. SingleDeleteCF: SubDocKey(DocKey(0xeda9, [1], []), [SystemColumnId(0)]) [kStrongRead, kStrongWrite] HT{ physical: 1690835538626171 }\n",
    "  T ab874dea16d64a14892c2f3fea29a981 P ade1a2d814884e498b1f69a1d1be1041 [I]: 4. SingleDeleteCF: TXN REV 45f1546f-1634-45a1-aa7a-80a80a0b84a4 HT{ physical: 1690835538626171 w: 1 }\n",
    "  T ab874dea16d64a14892c2f3fea29a981 P ade1a2d814884e498b1f69a1d1be1041 [I]: 5. SingleDeleteCF: SubDocKey(DocKey(0xeda9, [1], []), [ColumnId(1)]) [kStrongRead, kStrongWrite] HT{ physical: 1690835538626171 w: 1 }\n",
    "  T ab874dea16d64a14892c2f3fea29a981 P ade1a2d814884e498b1f69a1d1be1041 [I]: 6. SingleDeleteCF: TXN REV 45f1546f-1634-45a1-aa7a-80a80a0b84a4 HT{ physical: 1690835538626171 w: 2 }\n",
    "  T ab874dea16d64a14892c2f3fea29a981 P ade1a2d814884e498b1f69a1d1be1041 [I]: 7. SingleDeleteCF: SubDocKey(DocKey(0xcfaa, [2], []), [SystemColumnId(0)]) [kStrongRead, kStrongWrite] HT{ physical: 1690835538626171 w: 2 }\n",
    "  T ab874dea16d64a14892c2f3fea29a981 P ade1a2d814884e498b1f69a1d1be1041 [I]: 8. SingleDeleteCF: TXN REV 45f1546f-1634-45a1-aa7a-80a80a0b84a4 HT{ physical: 1690835538626171 w: 3 }\n",
    "  T ab874dea16d64a14892c2f3fea29a981 P ade1a2d814884e498b1f69a1d1be1041 [I]: 9. SingleDeleteCF: SubDocKey(DocKey(0xcfaa, [2], []), [ColumnId(1)]) [kStrongRead, kStrongWrite] HT{ physical: 1690835538626171 w: 3 }\n",
    "  T ab874dea16d64a14892c2f3fea29a981 P ade1a2d814884e498b1f69a1d1be1041 [I]: 10. SingleDeleteCF: TXN REV 45f1546f-1634-45a1-aa7a-80a80a0b84a4 HT{ physical: 1690835538626171 w: 4 }\n",
    "  T ab874dea16d64a14892c2f3fea29a981 P ade1a2d814884e498b1f69a1d1be1041 [I]: 11. SingleDeleteCF: SubDocKey(DocKey(0xcfaa, [2], []), []) [kWeakRead, kWeakWrite] HT{ physical: 1690835538626171 w: 4 }\n",
    "  T ab874dea16d64a14892c2f3fea29a981 P ade1a2d814884e498b1f69a1d1be1041 [I]: 12. SingleDeleteCF: TXN REV 45f1546f-1634-45a1-aa7a-80a80a0b84a4 HT{ physical: 1690835538626171 w: 5 }\n",
    "  T ab874dea16d64a14892c2f3fea29a981 P ade1a2d814884e498b1f69a1d1be1041 [I]: 13. SingleDeleteCF: SubDocKey(DocKey(0xeda9, [1], []), []) [kWeakRead, kWeakWrite] HT{ physical: 1690835538626171 w: 5 }\n",
    "  T ab874dea16d64a14892c2f3fea29a981 P ade1a2d814884e498b1f69a1d1be1041 [I]: 14. SingleDeleteCF: TXN REV 45f1546f-1634-45a1-aa7a-80a80a0b84a4 HT{ physical: 1690835538626171 w: 6 }\n",
    "  T ab874dea16d64a14892c2f3fea29a981 P ade1a2d814884e498b1f69a1d1be1041 [I]: 15. SingleDeleteCF: SubDocKey(DocKey([], []), []) [kWeakRead, kWeakWrite] HT{ physical: 1690835538626171 w: 6 }\n",
    "```"
   ]
  },
  {
   "cell_type": "code",
   "execution_count": null,
   "metadata": {},
   "outputs": [],
   "source": [
    "%%sql \n",
    "update demo set value='nada';"
   ]
  },
  {
   "cell_type": "markdown",
   "metadata": {},
   "source": [
    "---"
   ]
  },
  {
   "cell_type": "code",
   "execution_count": null,
   "metadata": {
    "vscode": {
     "languageId": "sql"
    }
   },
   "outputs": [],
   "source": [
    "%%sql \n",
    "drop table if exists tmp_pk_hash;\n",
    "create temporary table if not exists tmp_pk_hash (k int, v1 text, v2 text, hash_code int, col_0x0000_0x5555 text ,col_0x5555_0xAAAA text,col_0xAAAA_0xFFFF text);\n",
    "\n",
    "insert into tmp_pk_hash  (k,v1, v2, hash_code )\n",
    "--, col_0x0000_0x5555,col_0x5555_0xAAAA,col_0xAAAA_0xFFFF)\n",
    "select \n",
    "   g.id \n",
    "   , fn_random_chars()\n",
    "   , fn_random_chars()\n",
    "   , yb_hash_code(g.id)\n",
    "   -- , fn_find_hash_code_in_partition_hex_range(yb_hash_code( g.id),'hash_split: [0x0000, 0x5555)'::text) as col_0x0000_0x5555\n",
    "   -- , fn_find_hash_code_in_partition_hex_range(yb_hash_code( g.id),'hash_split: [0x5555, 0xAAAA)'::text) as col_0x5555_0xAAAA\n",
    "   -- , fn_find_hash_code_in_partition_hex_range(yb_hash_code( g.id),'hash_split: [0xAAAA, 0xFFFF)'::text) as col_0xAAAA_0xFFFF\n",
    "from generate_series(1, 10) AS g (id) ;"
   ]
  },
  {
   "cell_type": "code",
   "execution_count": null,
   "metadata": {
    "vscode": {
     "languageId": "sql"
    }
   },
   "outputs": [],
   "source": [
    "%%sql \n",
    "drop table if exists tbl_pk_hash;\n",
    "create table if not exists tbl_pk_hash (k int, v1 text, v2 text, hash_code int, col_0x0000_0x5555 text ,col_0x5555_0xAAAA text,col_0xAAAA_0xFFFF text);\n",
    "\n",
    "insert into tbl_pk_hash  (k,v1,v2, hash_code , col_0x0000_0x5555,col_0x5555_0xAAAA,col_0xAAAA_0xFFFF)\n",
    "select \n",
    "   k\n",
    "   , v1\n",
    "   , v2\n",
    "   , yb_hash_code(v1)\n",
    "   , fn_find_hash_code_in_partition_hex_range(yb_hash_code( v1),'hash_split: [0x0000, 0x5555)'::text) as col_0x0000_0x5555\n",
    "   , fn_find_hash_code_in_partition_hex_range(yb_hash_code( v1),'hash_split: [0x5555, 0xAAAA)'::text) as col_0x5555_0xAAAA\n",
    "   , fn_find_hash_code_in_partition_hex_range(yb_hash_code( v1),'hash_split: [0xAAAA, 0xFFFF)'::text) as col_0xAAAA_0xFFFF\n",
    "from tmp_pk_hash \n",
    "\n",
    "--where col_0x5555_0xAAAA <> '';\n"
   ]
  },
  {
   "cell_type": "code",
   "execution_count": null,
   "metadata": {
    "vscode": {
     "languageId": "sql"
    }
   },
   "outputs": [],
   "source": [
    "%%sql \n",
    "select \n",
    "  k\n",
    "  , v1\n",
    "  , v2\n",
    "  , hash_code\n",
    "  , col_0x0000_0x5555\n",
    "  , col_0x5555_0xAAAA\n",
    "  , col_0xAAAA_0xFFFF\n",
    "from tbl_pk_hash\n",
    "order by hash_code;"
   ]
  },
  {
   "cell_type": "code",
   "execution_count": null,
   "metadata": {
    "vscode": {
     "languageId": "sql"
    }
   },
   "outputs": [],
   "source": [
    "%%sql \n",
    "create index\n",
    " idx_cols\n",
    " on tbl_pk_hash\n",
    "(v1 hash,\n",
    " v2 asc);"
   ]
  },
  {
   "attachments": {},
   "cell_type": "markdown",
   "metadata": {},
   "source": [
    "http://127.0.0.1:7000\n"
   ]
  },
  {
   "cell_type": "code",
   "execution_count": null,
   "metadata": {
    "vscode": {
     "languageId": "shellscript"
    }
   },
   "outputs": [],
   "source": [
    "%%bash -s \"$MY_YB_PATH\" \"$MY_TSERVER_WEBSERVER_PORT\"  # yb-ctl remove node\n",
    "YB_PATH=${1}\n",
    "TSERVER_WEBSERVER_PORT=${2}\n",
    "\n",
    "cd $YB_PATH\n",
    "\n",
    "## add node\n",
    "./bin/yb-ctl add_node \\\n",
    "--tserver_flags \"enable_automatic_tablet_splitting=true,yb_num_shards_per_tserver=1,ysql_num_shards_per_tserver=1,ysql_beta_features=true,webserver_port=\"${TSERVER_WEBSERVER_PORT}  \\\n",
    "--num_shards_per_tserver=1  \\\n",
    "--placement_info \"cloud1.region1.zone1\" \n",
    "\n"
   ]
  },
  {
   "cell_type": "code",
   "execution_count": null,
   "metadata": {
    "vscode": {
     "languageId": "sql"
    }
   },
   "outputs": [],
   "source": [
    "%%sql \n",
    "\n",
    "insert into tbl_pk_hash  (k,v)\n",
    "select g.id, fn_random_chars()\n",
    "from generate_series(11, 2000000) AS g (id);"
   ]
  },
  {
   "cell_type": "code",
   "execution_count": null,
   "metadata": {
    "vscode": {
     "languageId": "sql"
    }
   },
   "outputs": [],
   "source": [
    "%%sql \n",
    "\n",
    "insert into tbl_pk_hash  (k,v)\n",
    "select g.id, fn_random_chars()\n",
    "from generate_series(10000001,20000000) AS g (id);"
   ]
  },
  {
   "cell_type": "code",
   "execution_count": null,
   "metadata": {
    "vscode": {
     "languageId": "shellscript"
    }
   },
   "outputs": [],
   "source": [
    "%%bash -s \"$MY_YB_PATH\" \"$MY_TSERVER_WEBSERVER_PORT\"  # yb-ctl remove node\n",
    "YB_PATH=${1}\n",
    "TSERVER_WEBSERVER_PORT=${2}\n",
    "\n",
    "cd $YB_PATH\n",
    "echo $YB_PATH\n",
    "./bin/yb-admin --list\n",
    "\n",
    "# .bin/yb-admin \\\n",
    "#     -master_addresses 127.0.0.1:7100 \\\n",
    "#     change_config f3cc5d37893f4e51a08b900cfda87219 \\\n",
    "#     [ ADD_SERVER | REMOVE_SERVER ] \\\n",
    "#     <peer_uuid> \\\n",
    "#     [ PRE_VOTER | PRE_OBSERVER ]\n"
   ]
  },
  {
   "cell_type": "code",
   "execution_count": null,
   "metadata": {
    "vscode": {
     "languageId": "shellscript"
    }
   },
   "outputs": [],
   "source": [
    "%%bash -s \"$MY_YB_PATH\" \"$MY_TSERVER_WEBSERVER_PORT\"  # yb-ctl remove node\n",
    "YB_PATH=${1}\n",
    "TSERVER_WEBSERVER_PORT=${2}\n",
    "\n",
    "cd $YB_PATH\n",
    "# ./bin/yb-ctl start_node 3 \\\n",
    "#       --master_flags \"yb_num_shards_per_tserver=1,ysql_num_shards_per_tserver=1\" \\\n",
    "#       --tserver_flags \"yb_num_shards_per_tserver=1,ysql_num_shards_per_tserver=1,ysql_beta_features=true,webserver_port=8200\" \\\n",
    "#       --num_shards_per_tserver 1  \\\n",
    "#       --placement_info \"cloud3.region3.zone3\" \n",
    "\n",
    "#./bin/yb-ctl start_node 3  --tserver_flags \"yb_num_shards_per_tserver=1,ysql_num_shards_per_tserver=1,ysql_beta_features=true,webserver_port=8200\" \\\n",
    " --num_shards_per_tserver 1  \\\n",
    "   --placement_info \"cloud1.region1.zone1,cloud2.region2.zone2,cloud3.region3.zone3\" \n",
    "./bin/yb-ctl status"
   ]
  },
  {
   "cell_type": "code",
   "execution_count": null,
   "metadata": {
    "vscode": {
     "languageId": "shellscript"
    }
   },
   "outputs": [],
   "source": [
    "%%bash -s \"$MY_YB_PATH\" \"$MY_TSERVER_WEBSERVER_PORT\"  # yb-ctl remove node\n",
    "YB_PATH=${1}\n",
    "TSERVER_WEBSERVER_PORT=${2}\n",
    "\n",
    "cd $YB_PATH\n",
    "./bin/yb-ctl start_node 3 \\\n",
    "      --master \\\n",
    "      --master_flags \"yb_num_shards_per_tserver=1,ysql_num_shards_per_tserver=1\" \\\n",
    "      --tserver_flags \"yb_num_shards_per_tserver=1,ysql_num_shards_per_tserver=1,ysql_beta_features=true,webserver_port=8200\" \\\n",
    "      --num_shards_per_tserver 1  \\\n",
    "      --placement_info \"cloud3.region3.zone3\" \n",
    "\n",
    "\n",
    "./bin/yb-ctl status"
   ]
  },
  {
   "attachments": {},
   "cell_type": "markdown",
   "metadata": {},
   "source": [
    "Index\n"
   ]
  },
  {
   "cell_type": "code",
   "execution_count": null,
   "metadata": {
    "vscode": {
     "languageId": "sql"
    }
   },
   "outputs": [],
   "source": [
    "%%sql \n",
    "select 'a', yb_hash_code('a'::text)\n",
    "union all\n",
    "select 'b', yb_hash_code('b'::text)\n",
    "union all\n",
    "select 'c', yb_hash_code('c'::text)\n",
    "union all\n",
    "select 'd', yb_hash_code('d'::text)\n",
    "union all\n",
    "select 'e', yb_hash_code('e'::text)\n",
    "union all\n",
    "select 'f', yb_hash_code('f'::text)\n",
    "union all\n",
    "select 'g', yb_hash_code('g'::text)\n",
    "union all\n",
    "select 'h', yb_hash_code('h'::text)\n",
    "union all\n",
    "select 'i', yb_hash_code('i'::text)\n",
    "union all\n",
    "select 'j', yb_hash_code('j'::text)\n",
    "union all\n",
    "select 'k', yb_hash_code('k'::text)\n",
    "order by 1;\n"
   ]
  },
  {
   "cell_type": "code",
   "execution_count": null,
   "metadata": {
    "vscode": {
     "languageId": "sql"
    }
   },
   "outputs": [],
   "source": [
    "%%sql \n",
    "select v.c1 , yb_hash_code(v.c1::text)\n",
    "from (\n",
    "select 'a' as c1\n",
    "union all\n",
    "select 'b'\n",
    "union all\n",
    "select 'c'\n",
    "union all\n",
    "select 'd'\n",
    "union all\n",
    "select 'e'\n",
    "union all\n",
    "select 'f'\n",
    "union all\n",
    "select 'g'\n",
    "union all\n",
    "select 'h'\n",
    "union all\n",
    "select 'i'\n",
    "union all\n",
    "select 'j'\n",
    "union all\n",
    "select 'k'\n",
    ") v\n",
    "order by 1;"
   ]
  },
  {
   "cell_type": "code",
   "execution_count": null,
   "metadata": {
    "vscode": {
     "languageId": "sql"
    }
   },
   "outputs": [],
   "source": [
    "%%sql \n",
    "select v.c1 \n",
    "  , yb_hash_code(v.c1::text)\n",
    "  , fn_find_hash_code_in_partition_hex_range(yb_hash_code(v.c1::text),'hash_split: [0x0000, 0x5555)'::text) as col_0x0000_0x5555\n",
    "  , fn_find_hash_code_in_partition_hex_range(yb_hash_code(v.c1::text),'hash_split: [0x5555, 0xAAAA)'::text) as col_0x5555_0xAAAA\n",
    "  , fn_find_hash_code_in_partition_hex_range(yb_hash_code(v.c1::text),'hash_split: [0xAAAA, 0xFFFF)'::text) as col_0xAAAA_0xFFFF\n",
    "from (\n",
    "select 'h' as c1\n",
    "union all\n",
    "select 'i'\n",
    "union all\n",
    "select 'j'\n",
    "union all\n",
    "select 'k'\n",
    "union all \n",
    "select 'l'\n",
    "union all\n",
    "select 'm'\n",
    "union all\n",
    "select 'n'\n",
    "union all\n",
    "select 'o'\n",
    "union all\n",
    "select 'p'\n",
    "union all\n",
    "select 'q'\n",
    ") v\n",
    "order by 1;"
   ]
  }
 ],
 "metadata": {
  "kernelspec": {
   "display_name": "Python 3.7.9 64-bit",
   "language": "python",
   "name": "python3"
  },
  "language_info": {
   "codemirror_mode": {
    "name": "ipython",
    "version": 3
   },
   "file_extension": ".py",
   "mimetype": "text/x-python",
   "name": "python",
   "nbconvert_exporter": "python",
   "pygments_lexer": "ipython3",
   "version": "3.9.16"
  },
  "orig_nbformat": 4,
  "vscode": {
   "interpreter": {
    "hash": "aee8b7b246df8f9039afb4144a1f6fd8d2ca17a180786b69acc140d282b71a49"
   }
  }
 },
 "nbformat": 4,
 "nbformat_minor": 2
}
