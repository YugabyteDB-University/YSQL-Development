{
 "cells": [
  {
   "attachments": {},
   "cell_type": "markdown",
   "metadata": {},
   "source": [
    "\n",
    "TODO: \n",
    "Check out the smart driver\n",
    "- https://dev.to/franckpachot/cluster-aware-psycopg2-405i\n",
    "- https://github.com/yugabyte/psycopg2\n",
    "\n",
    "Isolation levels\n",
    "- https://dev.to/yugabyte/read-committed-is-a-must-for-postgres-compatible-distributed-sql-databases-59pf\n",
    "\n",
    "Fast path (WAL/ IntentsDB, RegularDB)\n",
    "- https://dev.to/yugabyte/yugabytedb-fast-path-write-51hm\n",
    "\n",
    "https://dev.to/franckpachot\n",
    "\n",
    "<div style=\"width:100%; background-color: #000041\"><a target=\"_blank\" href=\"http://university.yugabyte.com\"><img src=\"assets/YBU_Logo.png\" /></a></div>\n",
    "\n",
    "> **YugabyteDB YSQL Development**\n",
    ">\n",
    "> Enroll for free  [Yugabyte University](https://university.yugabyte.com/).\n",
    ">\n",
    "\n",
    "# Requirements to run this locally\n",
    "Here are the requirements to run this notebook locally:\n",
    "\n",
    "- Download and install YugabyteDB\n",
    "- Update the `env_vars.env` file\n",
    "- Install Python 3.8 or higher\n",
    "  \n",
    "## Download and install YugabyteDB\n",
    "To run this notebook locally in VS Code on MacOs or Linux, you must download and install YugabyteDB:\n",
    "### MacOS \n",
    "You can download YugabyteDB for the MacOS at [https://download.yugabyte.com/#macos](https://download.yugabyte.com/#macos).\n",
    "\n",
    "### Linux\n",
    "You can download YugabyteDB for Linux at [https://download.yugabyte.com/#linux](https://download.yugabyte.com/#linux).\n",
    "\n",
    "### Docker\n",
    "You can download YugabyteDB for Docker at [https://download.yugabyte.com/#docker](https://download.yugabyte.com/#docker).\n",
    "\n",
    "## Update the `env_vars.env` file\n",
    "After installing YugabyteDB locally, you need to update these paths in `env_vars.env`:\n",
    "```\n",
    "MY_YB_PATH_LOCAL_2.16=/Users/seth/yugabyte/yugabyte-2.16.3.0\n",
    "MY_YB_PATH_LOCAL=/Users/seth/yugabyte/yugabyte-2.17.3.0\n",
    "MY_YB_PATH_DATA_LOCAL=/Users/seth/yugabyte-data\n",
    "```\n",
    "\n",
    "## Install Python 3.8 or higher\n",
    "For MacOs, PyEnv is probably the easiest way to install. You can learn more at:\n",
    "- [https://github.com/pyenv/pyenv](https://github.com/pyenv/pyenv)\n",
    "- [https://realpython.com/intro-to-pyenv/](https://realpython.com/intro-to-pyenv/)"
   ]
  },
  {
   "attachments": {},
   "cell_type": "markdown",
   "metadata": {},
   "source": [
    "---\n",
    "# Update the notebook dependencies."
   ]
  },
  {
   "cell_type": "code",
   "execution_count": null,
   "metadata": {},
   "outputs": [],
   "source": [
    "!pip install --upgrade pip\n",
    "!pip install ipython-sql~=0.5 --upgrade\n",
    "!pip install psycopg2-binary\n",
    "!pip install SQLAlchemy --upgrade \n",
    "!pip install sqlparse\n",
    "!pip install html2text\n",
    "!pip install jq"
   ]
  },
  {
   "attachments": {},
   "cell_type": "markdown",
   "metadata": {},
   "source": [
    "### Create the notebook variables \n",
    "\n",
    "> IMPORTANT!\n",
    "> \n",
    "> Do NOT skip editing and running this cell. \n",
    "> \n",
    "\n",
    "The following Python cell creates and stores the Jupyter notebook variables.\n",
    "- First, edit the script to select how to assign a value to `MY_SUDO`.\n",
    "- To run the script, select Execute Cell (Play Arrow in the cell side bar).\n",
    "- Verify the accuracy of the output values\n",
    "\n",
    "> About sudo and MacOS:\n",
    "> \n",
    "> You'll need to supply your sudo password to create the loopback addresses.\n",
    ">\n",
    "> "
   ]
  },
  {
   "cell_type": "code",
   "execution_count": 4,
   "metadata": {},
   "outputs": [
    {
     "name": "stdout",
     "output_type": "stream",
     "text": [
      "Stored 'MY_SUDO' (str)\n",
      "Stored 'MY_DB_NAME' (str)\n",
      "Stored 'MY_YB_PATH' (str)\n",
      "Stored 'MY_HOST_IPv4_01' (str)\n",
      "Stored 'MY_HOST_IPv4_02' (str)\n",
      "Stored 'MY_HOST_IPv4_03' (str)\n",
      "Stored 'MY_TSERVER_WEBSERVER_PORT' (str)\n"
     ]
    }
   ],
   "source": [
    "# Env variables for Notebook\n",
    "import os\n",
    "\n",
    "env_vars = !cat env_vars.env\n",
    "for var in env_vars:\n",
    "    key, value = var.split('=')\n",
    "    os.environ[key] = value\n",
    " \n",
    "### BEGIN: Edit your MY_SUDO\n",
    "\n",
    "# Leave it blank forcing a strategy for notebook execution\n",
    "MY_SUDO=''\n",
    "\n",
    "# Specify your sudo password in the cell\n",
    "#MY_SUDO='psswrd'\n",
    "\n",
    "# env_vars defines ENV_SUDO='psswrd'\n",
    "# MY_SUDO=os.environ.get('MY_SUDO')\n",
    "\n",
    "# bash_profile exports the variable, e.g., export GLOBAL_SUDO='psswrd' \n",
    "#MY_SUDO=os.environ.get('GLOBAL_SUDO')\n",
    "\n",
    "### END: MY_SUDO\n",
    "\n",
    "\n",
    "# Create and assign notebook variables\n",
    "# env_vars defines the following\n",
    "MY_DB_NAME=os.environ.get('MY_DB_NAME')\n",
    "MY_YB_PATH=os.environ.get('MY_YB_PATH_LOCAL')\n",
    "MY_HOST_IPv4_01=os.environ.get('MY_HOST_IPv4_01')\n",
    "MY_HOST_IPv4_02=os.environ.get('MY_HOST_IPv4_02')\n",
    "MY_HOST_IPv4_03=os.environ.get('MY_HOST_IPv4_03')\n",
    "MY_TSERVER_WEBSERVER_PORT=os.environ.get('MY_TSERVER_WEBSERVER_PORT')\n",
    "\n",
    "MY_NOTEBOOK_DIR=os.getcwd()\n",
    "MY_NOTEBOOK_DATA_FOLDER=MY_NOTEBOOK_DIR +'/data'\n",
    "MY_NOTEBOOK_UTILS_FOLDER=MY_NOTEBOOK_DIR + '/utils'\n",
    "MY_UTIL_FUNCTIONS_FILE=os.environ.get(\"MY_UTIL_FUNCTIONS_FILE\")\n",
    "# Store the note book values for other notebooks to use\n",
    "%store MY_SUDO\n",
    "%store MY_DB_NAME\n",
    "%store MY_YB_PATH\n",
    "%store MY_HOST_IPv4_01\n",
    "%store MY_HOST_IPv4_02\n",
    "%store MY_HOST_IPv4_03\n",
    "%store MY_TSERVER_WEBSERVER_PORT"
   ]
  },
  {
   "attachments": {},
   "cell_type": "markdown",
   "metadata": {},
   "source": [
    "### Create the loopback host aliases for MacOS\n",
    "> Important!\n",
    "> \n",
    "> The script requires the password for `sudo`.\n",
    "> \n",
    "> The bash cell utilizes the notebook variable, `MY_SUDO`.\n",
    "> \n",
    "> If you did not define the `MY_SUDO` notebook variable using one of the suggested options, you can copy this script into the terminal, which is interactive, and manually supply the password.\n",
    "\n",
    "The YugabyteDB local cluster for this lab requires that your create loop back aliases for your local host (127.0.0.1). The bash cell does the following:\n",
    "- Deletes existing aliases\n",
    "- Creates the loopback aliases from `127.0.0.2` to `127.0.0.7`"
   ]
  },
  {
   "cell_type": "code",
   "execution_count": null,
   "metadata": {
    "vscode": {
     "languageId": "shellscript"
    }
   },
   "outputs": [],
   "source": [
    "%%bash -s \"$MY_SUDO\"  # ifconfig aliases\n",
    "MY_SUDO=${1}\n",
    "\n",
    "if ifconfig lo0 | grep 127.0.0.[2-7] > /dev/null\n",
    "then\n",
    "    echo ${MY_SUDO} | sudo -S ifconfig lo0 delete 127.0.0.2\n",
    "    echo ${MY_SUDO} | sudo -S ifconfig lo0 delete 127.0.0.3\n",
    "    echo ${MY_SUDO} | sudo -S ifconfig lo0 delete 127.0.0.4\n",
    "    echo ${MY_SUDO} | sudo -S ifconfig lo0 delete 127.0.0.5\n",
    "    echo ${MY_SUDO} | sudo -S ifconfig lo0 delete 127.0.0.6\n",
    "    echo ${MY_SUDO} | sudo -S ifconfig lo0 delete 127.0.0.7\n",
    "fi\n",
    "\n",
    "echo ${MY_SUDO} | sudo -S ifconfig lo0 alias 127.0.0.2\n",
    "echo ${MY_SUDO} | sudo -S ifconfig lo0 alias 127.0.0.3\n",
    "echo ${MY_SUDO} | sudo -S ifconfig lo0 alias 127.0.0.4\n",
    "echo ${MY_SUDO} | sudo -S ifconfig lo0 alias 127.0.0.5\n",
    "echo ${MY_SUDO} | sudo -S ifconfig lo0 alias 127.0.0.6\n",
    "echo ${MY_SUDO} | sudo -S ifconfig lo0 alias 127.0.0.7\n",
    "\n",
    "echo ${MY_SUDO} | sudo ifconfig lo0"
   ]
  },
  {
   "attachments": {},
   "cell_type": "markdown",
   "metadata": {},
   "source": [
    "### Create a YugabyteDB local cluster\n",
    "- If a YugabyteDB local cluster is running, it will be stopped and destroyed using `yb-ctl`\n",
    "- To avoid the port 9000 conflict, specifies port `TSERVER_WEBSERVER_PORT` as `8200`"
   ]
  },
  {
   "cell_type": "code",
   "execution_count": 5,
   "metadata": {
    "vscode": {
     "languageId": "shellscript"
    }
   },
   "outputs": [
    {
     "name": "stderr",
     "output_type": "stream",
     "text": [
      "bash: line 4: cd: /Users/seth/yugabyte/yugabyte-2.19.2.0: No such file or directory\n",
      "bash: line 17: ./bin/yb-ctl: No such file or directory\n",
      "bash: line 23: ./bin/yugabyted: No such file or directory\n",
      "bash: line 33: ./bin/yugabyted: No such file or directory\n",
      "bash: line 44: ./bin/yugabyted: No such file or directory\n"
     ]
    },
    {
     "name": "stderr",
     "output_type": "stream",
     "text": [
      "bash: line 55: ./bin/yugabyted: No such file or directory\n",
      "bash: line 57: ./bin/yugabyted: No such file or directory\n"
     ]
    },
    {
     "ename": "CalledProcessError",
     "evalue": "Command 'b'YB_PATH=${1}\\nTSERVER_WEBSERVER_PORT=${2}\\n\\ncd $YB_PATH\\n\\n### Grep port 9000 for conflict\\n# lsof -nP -iTCP -sTCP:LISTEN | grep 9000\\n\\n# Stop running cluster\\nif  pgrep -x \"yb-tserver\" > /dev/null \\nthen\\n    ./bin/yb-ctl stop\\n    sleep 1\\nfi\\n\\n# Destroy cluster\\nif echo `./bin/yb-ctl status` | grep \"Node Count\"  > /dev/null \\nthen\\n    ./bin/yb-ctl destroy\\n    sleep 1\\nfi\\n#--tserver_flags=\"TEST_docdb_log_write_batches=true,tserver_enable_metrics_snapshotter=false\"\\n./bin/yugabyted start  \\\\\\n        --advertise_address=\"127.0.0.1\"  \\\\\\n        --base_dir=/home/gitpod/var/node1  \\\\\\n        --cloud_location=cloud1.region1.zone1  \\\\\\n        --fault_tolerance=zone  \\\\\\n        --master_flags=\"yb_num_shards_per_tserver=1,ysql_num_shards_per_tserver=1,ysql_beta_features=true,ysql_enable_packed_row=false\"  \\\\\\n        --master_webserver_port=7000  \\\\\\n        --tserver_flags=\"yb_num_shards_per_tserver=1,ysql_num_shards_per_tserver=1,ysql_beta_features=true,ysql_enable_packed_row=false\"  \\\\\\n        --tserver_webserver_port=8200\\n        \\n./bin/yugabyted start  \\\\\\n        --advertise_address=\"127.0.0.2\"  \\\\\\n        --base_dir=/home/gitpod/var/node2  \\\\\\n        --cloud_location=cloud1.region1.zone2  \\\\\\n        --fault_tolerance=zone  \\\\\\n        --join=\"127.0.0.1\"  \\\\\\n        --master_flags=\"yb_num_shards_per_tserver=1,ysql_num_shards_per_tserver=1,ysql_beta_features=true,ysql_enable_packed_row=false\"  \\\\\\n        --master_webserver_port=7000  \\\\\\n        --tserver_flags=\"yb_num_shards_per_tserver=1,ysql_num_shards_per_tserver=1,ysql_beta_features=true,ysql_enable_packed_row=false\"  \\\\\\n        --tserver_webserver_port=8200\\n\\n   ./bin/yugabyted start  \\\\\\n        --advertise_address=\"127.0.0.3\"  \\\\\\n        --base_dir=/home/gitpod/var/node3  \\\\\\n        --cloud_location=cloud1.region1.zone3  \\\\\\n        --fault_tolerance=zone  \\\\\\n        --join=\"127.0.0.1\"  \\\\\\n        --master_flags=\"yb_num_shards_per_tserver=1,ysql_num_shards_per_tserver=1,ysql_beta_features=true,ysql_enable_packed_row=false\"  \\\\\\n        --master_webserver_port=7000  \\\\\\n        --tserver_flags=\"yb_num_shards_per_tserver=1,ysql_num_shards_per_tserver=1,ysql_beta_features=true,ysql_enable_packed_row=false\"  \\\\\\n        --tserver_webserver_port=8200\\n\\n./bin/yugabyted configure data_placement --fault_tolerance=zone\\n\\n./bin/yugabyted status\\n'' returned non-zero exit status 127.",
     "output_type": "error",
     "traceback": [
      "\u001b[0;31m---------------------------------------------------------------------------\u001b[0m",
      "\u001b[0;31mCalledProcessError\u001b[0m                        Traceback (most recent call last)",
      "\u001b[1;32m/Users/seth/Documents/GitHub/YugabyteDB-University/YSQL-Development/00_Local_Only_Setup_MacOS.ipynb Cell 9\u001b[0m line \u001b[0;36m1\n\u001b[0;32m----> <a href='vscode-notebook-cell:/Users/seth/Documents/GitHub/YugabyteDB-University/YSQL-Development/00_Local_Only_Setup_MacOS.ipynb#X11sZmlsZQ%3D%3D?line=0'>1</a>\u001b[0m get_ipython()\u001b[39m.\u001b[39;49mrun_cell_magic(\u001b[39m'\u001b[39;49m\u001b[39mbash\u001b[39;49m\u001b[39m'\u001b[39;49m, \u001b[39m'\u001b[39;49m\u001b[39m-s \u001b[39;49m\u001b[39m\"\u001b[39;49m\u001b[39m$MY_YB_PATH\u001b[39;49m\u001b[39m\"\u001b[39;49m\u001b[39m \u001b[39;49m\u001b[39m\"\u001b[39;49m\u001b[39m$MY_TSERVER_WEBSERVER_PORT\u001b[39;49m\u001b[39m\"\u001b[39;49m\u001b[39m  # yb-ctl create\u001b[39;49m\u001b[39m'\u001b[39;49m, \u001b[39m'\u001b[39;49m\u001b[39mYB_PATH=$\u001b[39;49m\u001b[39m{1}\u001b[39;49;00m\u001b[39m\\n\u001b[39;49;00m\u001b[39mTSERVER_WEBSERVER_PORT=$\u001b[39;49m\u001b[39m{2}\u001b[39;49;00m\u001b[39m\\n\u001b[39;49;00m\u001b[39m\\n\u001b[39;49;00m\u001b[39mcd $YB_PATH\u001b[39;49m\u001b[39m\\n\u001b[39;49;00m\u001b[39m\\n\u001b[39;49;00m\u001b[39m### Grep port 9000 for conflict\u001b[39;49m\u001b[39m\\n\u001b[39;49;00m\u001b[39m# lsof -nP -iTCP -sTCP:LISTEN | grep 9000\u001b[39;49m\u001b[39m\\n\u001b[39;49;00m\u001b[39m\\n\u001b[39;49;00m\u001b[39m# Stop running cluster\u001b[39;49m\u001b[39m\\n\u001b[39;49;00m\u001b[39mif  pgrep -x \u001b[39;49m\u001b[39m\"\u001b[39;49m\u001b[39myb-tserver\u001b[39;49m\u001b[39m\"\u001b[39;49m\u001b[39m > /dev/null \u001b[39;49m\u001b[39m\\n\u001b[39;49;00m\u001b[39mthen\u001b[39;49m\u001b[39m\\n\u001b[39;49;00m\u001b[39m    ./bin/yb-ctl stop\u001b[39;49m\u001b[39m\\n\u001b[39;49;00m\u001b[39m    sleep 1\u001b[39;49m\u001b[39m\\n\u001b[39;49;00m\u001b[39mfi\u001b[39;49m\u001b[39m\\n\u001b[39;49;00m\u001b[39m\\n\u001b[39;49;00m\u001b[39m# Destroy cluster\u001b[39;49m\u001b[39m\\n\u001b[39;49;00m\u001b[39mif echo `./bin/yb-ctl status` | grep \u001b[39;49m\u001b[39m\"\u001b[39;49m\u001b[39mNode Count\u001b[39;49m\u001b[39m\"\u001b[39;49m\u001b[39m  > /dev/null \u001b[39;49m\u001b[39m\\n\u001b[39;49;00m\u001b[39mthen\u001b[39;49m\u001b[39m\\n\u001b[39;49;00m\u001b[39m    ./bin/yb-ctl destroy\u001b[39;49m\u001b[39m\\n\u001b[39;49;00m\u001b[39m    sleep 1\u001b[39;49m\u001b[39m\\n\u001b[39;49;00m\u001b[39mfi\u001b[39;49m\u001b[39m\\n\u001b[39;49;00m\u001b[39m#--tserver_flags=\u001b[39;49m\u001b[39m\"\u001b[39;49m\u001b[39mTEST_docdb_log_write_batches=true,tserver_enable_metrics_snapshotter=false\u001b[39;49m\u001b[39m\"\u001b[39;49m\u001b[39m\\n\u001b[39;49;00m\u001b[39m./bin/yugabyted start  \u001b[39;49m\u001b[39m\\\\\u001b[39;49;00m\u001b[39m\\n\u001b[39;49;00m\u001b[39m        --advertise_address=\u001b[39;49m\u001b[39m\"\u001b[39;49m\u001b[39m127.0.0.1\u001b[39;49m\u001b[39m\"\u001b[39;49m\u001b[39m  \u001b[39;49m\u001b[39m\\\\\u001b[39;49;00m\u001b[39m\\n\u001b[39;49;00m\u001b[39m        --base_dir=/home/gitpod/var/node1  \u001b[39;49m\u001b[39m\\\\\u001b[39;49;00m\u001b[39m\\n\u001b[39;49;00m\u001b[39m        --cloud_location=cloud1.region1.zone1  \u001b[39;49m\u001b[39m\\\\\u001b[39;49;00m\u001b[39m\\n\u001b[39;49;00m\u001b[39m        --fault_tolerance=zone  \u001b[39;49m\u001b[39m\\\\\u001b[39;49;00m\u001b[39m\\n\u001b[39;49;00m\u001b[39m        --master_flags=\u001b[39;49m\u001b[39m\"\u001b[39;49m\u001b[39myb_num_shards_per_tserver=1,ysql_num_shards_per_tserver=1,ysql_beta_features=true,ysql_enable_packed_row=false\u001b[39;49m\u001b[39m\"\u001b[39;49m\u001b[39m  \u001b[39;49m\u001b[39m\\\\\u001b[39;49;00m\u001b[39m\\n\u001b[39;49;00m\u001b[39m        --master_webserver_port=7000  \u001b[39;49m\u001b[39m\\\\\u001b[39;49;00m\u001b[39m\\n\u001b[39;49;00m\u001b[39m        --tserver_flags=\u001b[39;49m\u001b[39m\"\u001b[39;49m\u001b[39myb_num_shards_per_tserver=1,ysql_num_shards_per_tserver=1,ysql_beta_features=true,ysql_enable_packed_row=false\u001b[39;49m\u001b[39m\"\u001b[39;49m\u001b[39m  \u001b[39;49m\u001b[39m\\\\\u001b[39;49;00m\u001b[39m\\n\u001b[39;49;00m\u001b[39m        --tserver_webserver_port=8200\u001b[39;49m\u001b[39m\\n\u001b[39;49;00m\u001b[39m        \u001b[39;49m\u001b[39m\\n\u001b[39;49;00m\u001b[39m./bin/yugabyted start  \u001b[39;49m\u001b[39m\\\\\u001b[39;49;00m\u001b[39m\\n\u001b[39;49;00m\u001b[39m        --advertise_address=\u001b[39;49m\u001b[39m\"\u001b[39;49m\u001b[39m127.0.0.2\u001b[39;49m\u001b[39m\"\u001b[39;49m\u001b[39m  \u001b[39;49m\u001b[39m\\\\\u001b[39;49;00m\u001b[39m\\n\u001b[39;49;00m\u001b[39m        --base_dir=/home/gitpod/var/node2  \u001b[39;49m\u001b[39m\\\\\u001b[39;49;00m\u001b[39m\\n\u001b[39;49;00m\u001b[39m        --cloud_location=cloud1.region1.zone2  \u001b[39;49m\u001b[39m\\\\\u001b[39;49;00m\u001b[39m\\n\u001b[39;49;00m\u001b[39m        --fault_tolerance=zone  \u001b[39;49m\u001b[39m\\\\\u001b[39;49;00m\u001b[39m\\n\u001b[39;49;00m\u001b[39m        --join=\u001b[39;49m\u001b[39m\"\u001b[39;49m\u001b[39m127.0.0.1\u001b[39;49m\u001b[39m\"\u001b[39;49m\u001b[39m  \u001b[39;49m\u001b[39m\\\\\u001b[39;49;00m\u001b[39m\\n\u001b[39;49;00m\u001b[39m        --master_flags=\u001b[39;49m\u001b[39m\"\u001b[39;49m\u001b[39myb_num_shards_per_tserver=1,ysql_num_shards_per_tserver=1,ysql_beta_features=true,ysql_enable_packed_row=false\u001b[39;49m\u001b[39m\"\u001b[39;49m\u001b[39m  \u001b[39;49m\u001b[39m\\\\\u001b[39;49;00m\u001b[39m\\n\u001b[39;49;00m\u001b[39m        --master_webserver_port=7000  \u001b[39;49m\u001b[39m\\\\\u001b[39;49;00m\u001b[39m\\n\u001b[39;49;00m\u001b[39m        --tserver_flags=\u001b[39;49m\u001b[39m\"\u001b[39;49m\u001b[39myb_num_shards_per_tserver=1,ysql_num_shards_per_tserver=1,ysql_beta_features=true,ysql_enable_packed_row=false\u001b[39;49m\u001b[39m\"\u001b[39;49m\u001b[39m  \u001b[39;49m\u001b[39m\\\\\u001b[39;49;00m\u001b[39m\\n\u001b[39;49;00m\u001b[39m        --tserver_webserver_port=8200\u001b[39;49m\u001b[39m\\n\u001b[39;49;00m\u001b[39m\\n\u001b[39;49;00m\u001b[39m   ./bin/yugabyted start  \u001b[39;49m\u001b[39m\\\\\u001b[39;49;00m\u001b[39m\\n\u001b[39;49;00m\u001b[39m        --advertise_address=\u001b[39;49m\u001b[39m\"\u001b[39;49m\u001b[39m127.0.0.3\u001b[39;49m\u001b[39m\"\u001b[39;49m\u001b[39m  \u001b[39;49m\u001b[39m\\\\\u001b[39;49;00m\u001b[39m\\n\u001b[39;49;00m\u001b[39m        --base_dir=/home/gitpod/var/node3  \u001b[39;49m\u001b[39m\\\\\u001b[39;49;00m\u001b[39m\\n\u001b[39;49;00m\u001b[39m        --cloud_location=cloud1.region1.zone3  \u001b[39;49m\u001b[39m\\\\\u001b[39;49;00m\u001b[39m\\n\u001b[39;49;00m\u001b[39m        --fault_tolerance=zone  \u001b[39;49m\u001b[39m\\\\\u001b[39;49;00m\u001b[39m\\n\u001b[39;49;00m\u001b[39m        --join=\u001b[39;49m\u001b[39m\"\u001b[39;49m\u001b[39m127.0.0.1\u001b[39;49m\u001b[39m\"\u001b[39;49m\u001b[39m  \u001b[39;49m\u001b[39m\\\\\u001b[39;49;00m\u001b[39m\\n\u001b[39;49;00m\u001b[39m        --master_flags=\u001b[39;49m\u001b[39m\"\u001b[39;49m\u001b[39myb_num_shards_per_tserver=1,ysql_num_shards_per_tserver=1,ysql_beta_features=true,ysql_enable_packed_row=false\u001b[39;49m\u001b[39m\"\u001b[39;49m\u001b[39m  \u001b[39;49m\u001b[39m\\\\\u001b[39;49;00m\u001b[39m\\n\u001b[39;49;00m\u001b[39m        --master_webserver_port=7000  \u001b[39;49m\u001b[39m\\\\\u001b[39;49;00m\u001b[39m\\n\u001b[39;49;00m\u001b[39m        --tserver_flags=\u001b[39;49m\u001b[39m\"\u001b[39;49m\u001b[39myb_num_shards_per_tserver=1,ysql_num_shards_per_tserver=1,ysql_beta_features=true,ysql_enable_packed_row=false\u001b[39;49m\u001b[39m\"\u001b[39;49m\u001b[39m  \u001b[39;49m\u001b[39m\\\\\u001b[39;49;00m\u001b[39m\\n\u001b[39;49;00m\u001b[39m        --tserver_webserver_port=8200\u001b[39;49m\u001b[39m\\n\u001b[39;49;00m\u001b[39m\\n\u001b[39;49;00m\u001b[39m./bin/yugabyted configure data_placement --fault_tolerance=zone\u001b[39;49m\u001b[39m\\n\u001b[39;49;00m\u001b[39m\\n\u001b[39;49;00m\u001b[39m./bin/yugabyted status\u001b[39;49m\u001b[39m\\n\u001b[39;49;00m\u001b[39m'\u001b[39;49m)\n",
      "File \u001b[0;32m~/.pyenv/versions/3.9.16/lib/python3.9/site-packages/IPython/core/interactiveshell.py:2430\u001b[0m, in \u001b[0;36mInteractiveShell.run_cell_magic\u001b[0;34m(self, magic_name, line, cell)\u001b[0m\n\u001b[1;32m   2428\u001b[0m \u001b[39mwith\u001b[39;00m \u001b[39mself\u001b[39m\u001b[39m.\u001b[39mbuiltin_trap:\n\u001b[1;32m   2429\u001b[0m     args \u001b[39m=\u001b[39m (magic_arg_s, cell)\n\u001b[0;32m-> 2430\u001b[0m     result \u001b[39m=\u001b[39m fn(\u001b[39m*\u001b[39;49margs, \u001b[39m*\u001b[39;49m\u001b[39m*\u001b[39;49mkwargs)\n\u001b[1;32m   2432\u001b[0m \u001b[39m# The code below prevents the output from being displayed\u001b[39;00m\n\u001b[1;32m   2433\u001b[0m \u001b[39m# when using magics with decodator @output_can_be_silenced\u001b[39;00m\n\u001b[1;32m   2434\u001b[0m \u001b[39m# when the last Python token in the expression is a ';'.\u001b[39;00m\n\u001b[1;32m   2435\u001b[0m \u001b[39mif\u001b[39;00m \u001b[39mgetattr\u001b[39m(fn, magic\u001b[39m.\u001b[39mMAGIC_OUTPUT_CAN_BE_SILENCED, \u001b[39mFalse\u001b[39;00m):\n",
      "File \u001b[0;32m~/.pyenv/versions/3.9.16/lib/python3.9/site-packages/IPython/core/magics/script.py:153\u001b[0m, in \u001b[0;36mScriptMagics._make_script_magic.<locals>.named_script_magic\u001b[0;34m(line, cell)\u001b[0m\n\u001b[1;32m    151\u001b[0m \u001b[39melse\u001b[39;00m:\n\u001b[1;32m    152\u001b[0m     line \u001b[39m=\u001b[39m script\n\u001b[0;32m--> 153\u001b[0m \u001b[39mreturn\u001b[39;00m \u001b[39mself\u001b[39;49m\u001b[39m.\u001b[39;49mshebang(line, cell)\n",
      "File \u001b[0;32m~/.pyenv/versions/3.9.16/lib/python3.9/site-packages/IPython/core/magics/script.py:305\u001b[0m, in \u001b[0;36mScriptMagics.shebang\u001b[0;34m(self, line, cell)\u001b[0m\n\u001b[1;32m    300\u001b[0m \u001b[39mif\u001b[39;00m args\u001b[39m.\u001b[39mraise_error \u001b[39mand\u001b[39;00m p\u001b[39m.\u001b[39mreturncode \u001b[39m!=\u001b[39m \u001b[39m0\u001b[39m:\n\u001b[1;32m    301\u001b[0m     \u001b[39m# If we get here and p.returncode is still None, we must have\u001b[39;00m\n\u001b[1;32m    302\u001b[0m     \u001b[39m# killed it but not yet seen its return code. We don't wait for it,\u001b[39;00m\n\u001b[1;32m    303\u001b[0m     \u001b[39m# in case it's stuck in uninterruptible sleep. -9 = SIGKILL\u001b[39;00m\n\u001b[1;32m    304\u001b[0m     rc \u001b[39m=\u001b[39m p\u001b[39m.\u001b[39mreturncode \u001b[39mor\u001b[39;00m \u001b[39m-\u001b[39m\u001b[39m9\u001b[39m\n\u001b[0;32m--> 305\u001b[0m     \u001b[39mraise\u001b[39;00m CalledProcessError(rc, cell)\n",
      "\u001b[0;31mCalledProcessError\u001b[0m: Command 'b'YB_PATH=${1}\\nTSERVER_WEBSERVER_PORT=${2}\\n\\ncd $YB_PATH\\n\\n### Grep port 9000 for conflict\\n# lsof -nP -iTCP -sTCP:LISTEN | grep 9000\\n\\n# Stop running cluster\\nif  pgrep -x \"yb-tserver\" > /dev/null \\nthen\\n    ./bin/yb-ctl stop\\n    sleep 1\\nfi\\n\\n# Destroy cluster\\nif echo `./bin/yb-ctl status` | grep \"Node Count\"  > /dev/null \\nthen\\n    ./bin/yb-ctl destroy\\n    sleep 1\\nfi\\n#--tserver_flags=\"TEST_docdb_log_write_batches=true,tserver_enable_metrics_snapshotter=false\"\\n./bin/yugabyted start  \\\\\\n        --advertise_address=\"127.0.0.1\"  \\\\\\n        --base_dir=/home/gitpod/var/node1  \\\\\\n        --cloud_location=cloud1.region1.zone1  \\\\\\n        --fault_tolerance=zone  \\\\\\n        --master_flags=\"yb_num_shards_per_tserver=1,ysql_num_shards_per_tserver=1,ysql_beta_features=true,ysql_enable_packed_row=false\"  \\\\\\n        --master_webserver_port=7000  \\\\\\n        --tserver_flags=\"yb_num_shards_per_tserver=1,ysql_num_shards_per_tserver=1,ysql_beta_features=true,ysql_enable_packed_row=false\"  \\\\\\n        --tserver_webserver_port=8200\\n        \\n./bin/yugabyted start  \\\\\\n        --advertise_address=\"127.0.0.2\"  \\\\\\n        --base_dir=/home/gitpod/var/node2  \\\\\\n        --cloud_location=cloud1.region1.zone2  \\\\\\n        --fault_tolerance=zone  \\\\\\n        --join=\"127.0.0.1\"  \\\\\\n        --master_flags=\"yb_num_shards_per_tserver=1,ysql_num_shards_per_tserver=1,ysql_beta_features=true,ysql_enable_packed_row=false\"  \\\\\\n        --master_webserver_port=7000  \\\\\\n        --tserver_flags=\"yb_num_shards_per_tserver=1,ysql_num_shards_per_tserver=1,ysql_beta_features=true,ysql_enable_packed_row=false\"  \\\\\\n        --tserver_webserver_port=8200\\n\\n   ./bin/yugabyted start  \\\\\\n        --advertise_address=\"127.0.0.3\"  \\\\\\n        --base_dir=/home/gitpod/var/node3  \\\\\\n        --cloud_location=cloud1.region1.zone3  \\\\\\n        --fault_tolerance=zone  \\\\\\n        --join=\"127.0.0.1\"  \\\\\\n        --master_flags=\"yb_num_shards_per_tserver=1,ysql_num_shards_per_tserver=1,ysql_beta_features=true,ysql_enable_packed_row=false\"  \\\\\\n        --master_webserver_port=7000  \\\\\\n        --tserver_flags=\"yb_num_shards_per_tserver=1,ysql_num_shards_per_tserver=1,ysql_beta_features=true,ysql_enable_packed_row=false\"  \\\\\\n        --tserver_webserver_port=8200\\n\\n./bin/yugabyted configure data_placement --fault_tolerance=zone\\n\\n./bin/yugabyted status\\n'' returned non-zero exit status 127."
     ]
    }
   ],
   "source": [
    "%%bash -s \"$MY_YB_PATH\" \"$MY_TSERVER_WEBSERVER_PORT\"  # yb-ctl create\n",
    "YB_PATH=${1}\n",
    "TSERVER_WEBSERVER_PORT=${2}\n",
    "\n",
    "cd $YB_PATH\n",
    "\n",
    "### Grep port 9000 for conflict\n",
    "# lsof -nP -iTCP -sTCP:LISTEN | grep 9000\n",
    "\n",
    "# Stop running cluster\n",
    "if  pgrep -x \"yb-tserver\" > /dev/null \n",
    "then\n",
    "    ./bin/yb-ctl stop\n",
    "    sleep 1\n",
    "fi\n",
    "\n",
    "# Destroy cluster\n",
    "if echo `./bin/yb-ctl status` | grep \"Node Count\"  > /dev/null \n",
    "then\n",
    "    ./bin/yb-ctl destroy\n",
    "    sleep 1\n",
    "fi\n",
    "#--tserver_flags=\"TEST_docdb_log_write_batches=true,tserver_enable_metrics_snapshotter=false\"\n",
    "./bin/yugabyted start  \\\n",
    "        --advertise_address=\"127.0.0.1\"  \\\n",
    "        --base_dir=/home/gitpod/var/node1  \\\n",
    "        --cloud_location=cloud1.region1.zone1  \\\n",
    "        --fault_tolerance=zone  \\\n",
    "        --master_flags=\"yb_num_shards_per_tserver=1,ysql_num_shards_per_tserver=1,ysql_beta_features=true,ysql_enable_packed_row=false\"  \\\n",
    "        --master_webserver_port=7000  \\\n",
    "        --tserver_flags=\"yb_num_shards_per_tserver=1,ysql_num_shards_per_tserver=1,ysql_beta_features=true,ysql_enable_packed_row=false\"  \\\n",
    "        --tserver_webserver_port=8200\n",
    "        \n",
    "./bin/yugabyted start  \\\n",
    "        --advertise_address=\"127.0.0.2\"  \\\n",
    "        --base_dir=/home/gitpod/var/node2  \\\n",
    "        --cloud_location=cloud1.region1.zone2  \\\n",
    "        --fault_tolerance=zone  \\\n",
    "        --join=\"127.0.0.1\"  \\\n",
    "        --master_flags=\"yb_num_shards_per_tserver=1,ysql_num_shards_per_tserver=1,ysql_beta_features=true,ysql_enable_packed_row=false\"  \\\n",
    "        --master_webserver_port=7000  \\\n",
    "        --tserver_flags=\"yb_num_shards_per_tserver=1,ysql_num_shards_per_tserver=1,ysql_beta_features=true,ysql_enable_packed_row=false\"  \\\n",
    "        --tserver_webserver_port=8200\n",
    "\n",
    "   ./bin/yugabyted start  \\\n",
    "        --advertise_address=\"127.0.0.3\"  \\\n",
    "        --base_dir=/home/gitpod/var/node3  \\\n",
    "        --cloud_location=cloud1.region1.zone3  \\\n",
    "        --fault_tolerance=zone  \\\n",
    "        --join=\"127.0.0.1\"  \\\n",
    "        --master_flags=\"yb_num_shards_per_tserver=1,ysql_num_shards_per_tserver=1,ysql_beta_features=true,ysql_enable_packed_row=false\"  \\\n",
    "        --master_webserver_port=7000  \\\n",
    "        --tserver_flags=\"yb_num_shards_per_tserver=1,ysql_num_shards_per_tserver=1,ysql_beta_features=true,ysql_enable_packed_row=false\"  \\\n",
    "        --tserver_webserver_port=8200\n",
    "\n",
    "./bin/yugabyted configure data_placement --fault_tolerance=zone\n",
    "\n",
    "./bin/yugabyted status"
   ]
  },
  {
   "attachments": {},
   "cell_type": "markdown",
   "metadata": {},
   "source": [
    "In the above, you'll see the status of the YugabyteDB cluster running locally."
   ]
  },
  {
   "attachments": {},
   "cell_type": "markdown",
   "metadata": {},
   "source": [
    "### YCQL API"
   ]
  },
  {
   "cell_type": "code",
   "execution_count": null,
   "metadata": {
    "vscode": {
     "languageId": "shellscript"
    }
   },
   "outputs": [],
   "source": [
    "%%bash -s \"$MY_YB_PATH\" \"$MY_TSERVER_WEBSERVER_PORT\"  # yb-ctl create\n",
    "YB_PATH=${1}\n",
    "TSERVER_WEBSERVER_PORT=${2}\n",
    "\n",
    "cd $YB_PATH\n",
    "\n",
    "# select version\n",
    "./bin/ycqlsh -e \"\n",
    "  select cql_version from system.local;\n",
    "  \"  "
   ]
  },
  {
   "attachments": {},
   "cell_type": "markdown",
   "metadata": {},
   "source": [
    "### YSQL API"
   ]
  },
  {
   "cell_type": "code",
   "execution_count": null,
   "metadata": {
    "vscode": {
     "languageId": "shellscript"
    }
   },
   "outputs": [],
   "source": [
    "%%bash -s \"$MY_YB_PATH\" \"$MY_DB_NAME\"  # create database\n",
    "YB_PATH=${1}\n",
    "DB_NAME=${2}\n",
    "\n",
    "cd $YB_PATH\n",
    "\n",
    "# select version\n",
    "./bin/ysqlsh -d yugabyte -c \"\n",
    "   select version();\n",
    "\"  "
   ]
  },
  {
   "attachments": {},
   "cell_type": "markdown",
   "metadata": {},
   "source": [
    "create database"
   ]
  },
  {
   "cell_type": "code",
   "execution_count": null,
   "metadata": {
    "vscode": {
     "languageId": "shellscript"
    }
   },
   "outputs": [],
   "source": [
    "%%bash -s \"$MY_YB_PATH\" \"$MY_DB_NAME\"  # create database\n",
    "YB_PATH=${1}\n",
    "DB_NAME=${2}\n",
    "\n",
    "cd $YB_PATH\n",
    "\n",
    "# terminate connections, drop, and create\n",
    "./bin/ysqlsh -d yugabyte -c \"select pg_terminate_backend(pid) from pg_stat_activity where datname = '\"${DB_NAME}\"';\"  \n",
    "./bin/ysqlsh -d yugabyte -c \"drop database if exists \"${DB_NAME}\";\"  \n",
    "./bin/ysqlsh -d yugabyte -c \"create database \"${DB_NAME}\";\" \n",
    "\n",
    "# list dbs\n",
    "./bin/ysqlsh -d yugabyte -c \"\\l\""
   ]
  },
  {
   "cell_type": "code",
   "execution_count": null,
   "metadata": {
    "vscode": {
     "languageId": "shellscript"
    }
   },
   "outputs": [],
   "source": [
    "%%bash -s \"$MY_YB_PATH\" \"$MY_DB_NAME\" \"$MY_NOTEBOOK_UTILS_FOLDER\" \"$MY_UTIL_FUNCTIONS_FILE\"  # util functions\n",
    "YB_PATH=${1}\n",
    "DB_NAME=${2}\n",
    "UTILS_FOLDER=${3}\n",
    "UTIL_FUNCTIONS_FILE=${4}\n",
    "\n",
    "\n",
    "#ls $UTIL_FOLDER\n",
    "UTIL_FUNCTIONS_FILE_PATH=${UTILS_FOLDER}/${UTIL_FUNCTIONS_FILE}\n",
    "\n",
    "cd $YB_PATH\n",
    "\n",
    "# Functions file\n",
    "./bin/ysqlsh -q -d ${DB_NAME} -f ${UTIL_FUNCTIONS_FILE_PATH} \n",
    "sleep 1;\n",
    "\n",
    "# Describe functions\n",
    "./bin/ysqlsh -d ${DB_NAME} -c \"\\df public.fn_*\""
   ]
  },
  {
   "attachments": {},
   "cell_type": "markdown",
   "metadata": {},
   "source": [
    "### SQL Magic"
   ]
  },
  {
   "cell_type": "code",
   "execution_count": null,
   "metadata": {},
   "outputs": [],
   "source": [
    "# Connect to db_ybu\n",
    "# Inspiration from https://medium.com/analytics-vidhya/postgresql-integration-with-jupyter-notebook-deb97579a38d\n",
    "import psycopg2\n",
    "import sqlalchemy as alc\n",
    "from sqlalchemy import create_engine\n",
    "\n",
    "# env_var.env\n",
    "db_host=MY_HOST_IPv4_01\n",
    "db_name=MY_DB_NAME\n",
    "\n",
    "connection_str='postgresql+psycopg2://yugabyte@'+db_host+':5433/'+db_name\n",
    "print(connection_str)\n",
    "engine = create_engine(connection_str)"
   ]
  },
  {
   "cell_type": "code",
   "execution_count": null,
   "metadata": {},
   "outputs": [],
   "source": [
    "%reload_ext sql \n",
    "# creates connection for sql magic\n",
    "%sql {connection_str}"
   ]
  },
  {
   "cell_type": "markdown",
   "metadata": {},
   "source": [
    "---\n"
   ]
  },
  {
   "cell_type": "markdown",
   "metadata": {},
   "source": [
    "## Fast Path"
   ]
  },
  {
   "cell_type": "code",
   "execution_count": null,
   "metadata": {
    "vscode": {
     "languageId": "shellscript"
    }
   },
   "outputs": [],
   "source": [
    "%%bash -s \"$MY_YB_PATH\" \"$MY_DB_NAME\" \"$MY_NOTEBOOK_UTILS_FOLDER\" \"$MY_UTIL_FUNCTIONS_FILE\"  # util functions\n",
    "MY_TSERVER_LOGS=/Users/seth/yugabyte-data/node-1/disk-1/yb-data/tserver/logs  \n",
    "ls $MY_TSERVER_LOGS\n",
    "\n",
    "tail -f $MY_TSERVER_LOGS/yb-tserver.INFO | grep -E '^ | tablet.cc:'\n"
   ]
  },
  {
   "cell_type": "markdown",
   "metadata": {},
   "source": [
    "---"
   ]
  },
  {
   "attachments": {},
   "cell_type": "markdown",
   "metadata": {},
   "source": [
    "show hash\n"
   ]
  },
  {
   "cell_type": "code",
   "execution_count": null,
   "metadata": {},
   "outputs": [],
   "source": [
    "%%sql \n",
    "select pg_sleep(5), replace(current_setting('listen_addresses'),'0.0.0.0', host(inet_server_addr())::text);"
   ]
  },
  {
   "cell_type": "code",
   "execution_count": null,
   "metadata": {},
   "outputs": [],
   "source": [
    "%%sql \n",
    "drop table if exists demo;\n"
   ]
  },
  {
   "cell_type": "code",
   "execution_count": null,
   "metadata": {},
   "outputs": [],
   "source": [
    "%%sql \n",
    "\n",
    "create table if not exists demo(id bigint primary key, value text);\n"
   ]
  },
  {
   "cell_type": "code",
   "execution_count": null,
   "metadata": {},
   "outputs": [],
   "source": [
    "%%sql \n",
    "\n",
    "create unique index idx_unq_demo on demo(value);"
   ]
  },
  {
   "cell_type": "code",
   "execution_count": null,
   "metadata": {},
   "outputs": [],
   "source": [
    "%%sql \n",
    "insert into demo values (300,'hey now3');"
   ]
  },
  {
   "cell_type": "markdown",
   "metadata": {},
   "source": []
  },
  {
   "cell_type": "code",
   "execution_count": null,
   "metadata": {},
   "outputs": [],
   "source": [
    "%%sql \n",
    "update demo set value='question' where id 1=1;;"
   ]
  },
  {
   "cell_type": "markdown",
   "metadata": {},
   "source": [
    "```\n",
    "I0731 12:49:46.371345 129552384 tablet.cc:1495] T bb4179e058cf4fcc84da1573eeed5be5 P d3f71cf04f7844ba81a9753135831117: Wrote 1 key/value pairs to kRegular RocksDB:\n",
    "  T bb4179e058cf4fcc84da1573eeed5be5 P d3f71cf04f7844ba81a9753135831117 [R]: 1. PutCF: SubDocKey(DocKey(0xbf4f, [42], []), [ColumnId(1); HT{ physical: 1690832986370808 }]) => \"question\"\n",
    "```"
   ]
  },
  {
   "cell_type": "code",
   "execution_count": null,
   "metadata": {},
   "outputs": [],
   "source": [
    "%%sql \n",
    "delete from demo where 1=1;"
   ]
  },
  {
   "cell_type": "markdown",
   "metadata": {},
   "source": [
    "```\n",
    "I0731 12:51:34.516342 129552384 tablet.cc:1495] T bb4179e058cf4fcc84da1573eeed5be5 P d3f71cf04f7844ba81a9753135831117: Wrote 1 key/value pairs to kRegular RocksDB:\n",
    "  T bb4179e058cf4fcc84da1573eeed5be5 P d3f71cf04f7844ba81a9753135831117 [R]: 1. PutCF: SubDocKey(DocKey(0xbf4f, [42], []), [HT{ physical: 1690833094515929 }]) => DEL\n",
    "```\n"
   ]
  },
  {
   "cell_type": "markdown",
   "metadata": {},
   "source": [
    "Now, a distributed transaction."
   ]
  },
  {
   "cell_type": "code",
   "execution_count": null,
   "metadata": {},
   "outputs": [],
   "source": [
    "%%sql \n",
    "insert into demo values (1,'HitchHiker'),(2,'Restaurant');"
   ]
  },
  {
   "cell_type": "markdown",
   "metadata": {},
   "source": [
    "```\n",
    "I0731 13:32:18.626562 22200320 tablet.cc:1495] T ab874dea16d64a14892c2f3fea29a981 P ade1a2d814884e498b1f69a1d1be1041: Wrote 15 key/value pairs to kIntents RocksDB:\n",
    "  T ab874dea16d64a14892c2f3fea29a981 P ade1a2d814884e498b1f69a1d1be1041 [I]: 1. PutCF: TXN META 45f1546f-1634-45a1-aa7a-80a80a0b84a4 => { transaction_id: 45f1546f-1634-45a1-aa7a-80a80a0b84a4 isolation: SNAPSHOT_ISOLATION status_tablet: 6f7bcec790f64814b036d261d65f9a3a priority: 13210515334273129354 start_time: { physical: 1690835538625177 } locality: GLOBAL old_status_tablet:  external_transaction: 0}\n",
    "  T ab874dea16d64a14892c2f3fea29a981 P ade1a2d814884e498b1f69a1d1be1041 [I]: 2. PutCF: SubDocKey(DocKey(0xeda9, [1], []), [SystemColumnId(0)]) [kStrongRead, kStrongWrite] HT{ physical: 1690835538626171 } => TransactionId(45f1546f-1634-45a1-aa7a-80a80a0b84a4) WriteId(0) null\n",
    "  T ab874dea16d64a14892c2f3fea29a981 P ade1a2d814884e498b1f69a1d1be1041 [I]: 3. PutCF: TXN REV 45f1546f-1634-45a1-aa7a-80a80a0b84a4 HT{ physical: 1690835538626171 } => SubDocKey(DocKey(0xeda9, [1], []), [SystemColumnId(0)]) [kStrongRead, kStrongWrite] HT{ physical: 1690835538626171 }\n",
    "  T ab874dea16d64a14892c2f3fea29a981 P ade1a2d814884e498b1f69a1d1be1041 [I]: 4. PutCF: SubDocKey(DocKey(0xeda9, [1], []), [ColumnId(1)]) [kStrongRead, kStrongWrite] HT{ physical: 1690835538626171 w: 1 } => TransactionId(45f1546f-1634-45a1-aa7a-80a80a0b84a4) WriteId(1) \"HitchHiker\"\n",
    "  T ab874dea16d64a14892c2f3fea29a981 P ade1a2d814884e498b1f69a1d1be1041 [I]: 5. PutCF: TXN REV 45f1546f-1634-45a1-aa7a-80a80a0b84a4 HT{ physical: 1690835538626171 w: 1 } => SubDocKey(DocKey(0xeda9, [1], []), [ColumnId(1)]) [kStrongRead, kStrongWrite] HT{ physical: 1690835538626171 w: 1 }\n",
    "  T ab874dea16d64a14892c2f3fea29a981 P ade1a2d814884e498b1f69a1d1be1041 [I]: 6. PutCF: SubDocKey(DocKey(0xcfaa, [2], []), [SystemColumnId(0)]) [kStrongRead, kStrongWrite] HT{ physical: 1690835538626171 w: 2 } => TransactionId(45f1546f-1634-45a1-aa7a-80a80a0b84a4) WriteId(2) null\n",
    "  T ab874dea16d64a14892c2f3fea29a981 P ade1a2d814884e498b1f69a1d1be1041 [I]: 7. PutCF: TXN REV 45f1546f-1634-45a1-aa7a-80a80a0b84a4 HT{ physical: 1690835538626171 w: 2 } => SubDocKey(DocKey(0xcfaa, [2], []), [SystemColumnId(0)]) [kStrongRead, kStrongWrite] HT{ physical: 1690835538626171 w: 2 }\n",
    "  T ab874dea16d64a14892c2f3fea29a981 P ade1a2d814884e498b1f69a1d1be1041 [I]: 8. PutCF: SubDocKey(DocKey(0xcfaa, [2], []), [ColumnId(1)]) [kStrongRead, kStrongWrite] HT{ physical: 1690835538626171 w: 3 } => TransactionId(45f1546f-1634-45a1-aa7a-80a80a0b84a4) WriteId(3) \"Restaurant\"\n",
    "  T ab874dea16d64a14892c2f3fea29a981 P ade1a2d814884e498b1f69a1d1be1041 [I]: 9. PutCF: TXN REV 45f1546f-1634-45a1-aa7a-80a80a0b84a4 HT{ physical: 1690835538626171 w: 3 } => SubDocKey(DocKey(0xcfaa, [2], []), [ColumnId(1)]) [kStrongRead, kStrongWrite] HT{ physical: 1690835538626171 w: 3 }\n",
    "  T ab874dea16d64a14892c2f3fea29a981 P ade1a2d814884e498b1f69a1d1be1041 [I]: 10. PutCF: SubDocKey(DocKey(0xcfaa, [2], []), []) [kWeakRead, kWeakWrite] HT{ physical: 1690835538626171 w: 4 } => TransactionId(45f1546f-1634-45a1-aa7a-80a80a0b84a4) none\n",
    "  T ab874dea16d64a14892c2f3fea29a981 P ade1a2d814884e498b1f69a1d1be1041 [I]: 11. PutCF: TXN REV 45f1546f-1634-45a1-aa7a-80a80a0b84a4 HT{ physical: 1690835538626171 w: 4 } => SubDocKey(DocKey(0xcfaa, [2], []), []) [kWeakRead, kWeakWrite] HT{ physical: 1690835538626171 w: 4 }\n",
    "  T ab874dea16d64a14892c2f3fea29a981 P ade1a2d814884e498b1f69a1d1be1041 [I]: 12. PutCF: SubDocKey(DocKey(0xeda9, [1], []), []) [kWeakRead, kWeakWrite] HT{ physical: 1690835538626171 w: 5 } => TransactionId(45f1546f-1634-45a1-aa7a-80a80a0b84a4) none\n",
    "  T ab874dea16d64a14892c2f3fea29a981 P ade1a2d814884e498b1f69a1d1be1041 [I]: 13. PutCF: TXN REV 45f1546f-1634-45a1-aa7a-80a80a0b84a4 HT{ physical: 1690835538626171 w: 5 } => SubDocKey(DocKey(0xeda9, [1], []), []) [kWeakRead, kWeakWrite] HT{ physical: 1690835538626171 w: 5 }\n",
    "  T ab874dea16d64a14892c2f3fea29a981 P ade1a2d814884e498b1f69a1d1be1041 [I]: 14. PutCF: SubDocKey(DocKey([], []), []) [kWeakRead, kWeakWrite] HT{ physical: 1690835538626171 w: 6 } => TransactionId(45f1546f-1634-45a1-aa7a-80a80a0b84a4) none\n",
    "  T ab874dea16d64a14892c2f3fea29a981 P ade1a2d814884e498b1f69a1d1be1041 [I]: 15. PutCF: TXN REV 45f1546f-1634-45a1-aa7a-80a80a0b84a4 HT{ physical: 1690835538626171 w: 6 } => SubDocKey(DocKey([], []), []) [kWeakRead, kWeakWrite] HT{ physical: 1690835538626171 w: 6 }\n",
    "I0731 13:32:18.627648 22200320 tablet.cc:1495] T ab874dea16d64a14892c2f3fea29a981 P ade1a2d814884e498b1f69a1d1be1041: Wrote 4 key/value pairs to kRegular RocksDB:\n",
    "  T ab874dea16d64a14892c2f3fea29a981 P ade1a2d814884e498b1f69a1d1be1041 [R]: 1. PutCF: SubDocKey(DocKey(0xeda9, [1], []), [SystemColumnId(0); HT{ physical: 1690835538627274 }]) => null\n",
    "  T ab874dea16d64a14892c2f3fea29a981 P ade1a2d814884e498b1f69a1d1be1041 [R]: 2. PutCF: SubDocKey(DocKey(0xeda9, [1], []), [ColumnId(1); HT{ physical: 1690835538627274 w: 1 }]) => \"HitchHiker\"\n",
    "  T ab874dea16d64a14892c2f3fea29a981 P ade1a2d814884e498b1f69a1d1be1041 [R]: 3. PutCF: SubDocKey(DocKey(0xcfaa, [2], []), [SystemColumnId(0); HT{ physical: 1690835538627274 w: 2 }]) => null\n",
    "  T ab874dea16d64a14892c2f3fea29a981 P ade1a2d814884e498b1f69a1d1be1041 [R]: 4. PutCF: SubDocKey(DocKey(0xcfaa, [2], []), [ColumnId(1); HT{ physical: 1690835538627274 w: 3 }]) => \"Restaurant\"\n",
    "I0731 13:32:18.627890 46346240 tablet.cc:1495] T ab874dea16d64a14892c2f3fea29a981 P ade1a2d814884e498b1f69a1d1be1041: Wrote 15 key/value pairs to kIntents RocksDB:\n",
    "  T ab874dea16d64a14892c2f3fea29a981 P ade1a2d814884e498b1f69a1d1be1041 [I]: 1. SingleDeleteCF: TXN META 45f1546f-1634-45a1-aa7a-80a80a0b84a4\n",
    "  T ab874dea16d64a14892c2f3fea29a981 P ade1a2d814884e498b1f69a1d1be1041 [I]: 2. SingleDeleteCF: TXN REV 45f1546f-1634-45a1-aa7a-80a80a0b84a4 HT{ physical: 1690835538626171 }\n",
    "  T ab874dea16d64a14892c2f3fea29a981 P ade1a2d814884e498b1f69a1d1be1041 [I]: 3. SingleDeleteCF: SubDocKey(DocKey(0xeda9, [1], []), [SystemColumnId(0)]) [kStrongRead, kStrongWrite] HT{ physical: 1690835538626171 }\n",
    "  T ab874dea16d64a14892c2f3fea29a981 P ade1a2d814884e498b1f69a1d1be1041 [I]: 4. SingleDeleteCF: TXN REV 45f1546f-1634-45a1-aa7a-80a80a0b84a4 HT{ physical: 1690835538626171 w: 1 }\n",
    "  T ab874dea16d64a14892c2f3fea29a981 P ade1a2d814884e498b1f69a1d1be1041 [I]: 5. SingleDeleteCF: SubDocKey(DocKey(0xeda9, [1], []), [ColumnId(1)]) [kStrongRead, kStrongWrite] HT{ physical: 1690835538626171 w: 1 }\n",
    "  T ab874dea16d64a14892c2f3fea29a981 P ade1a2d814884e498b1f69a1d1be1041 [I]: 6. SingleDeleteCF: TXN REV 45f1546f-1634-45a1-aa7a-80a80a0b84a4 HT{ physical: 1690835538626171 w: 2 }\n",
    "  T ab874dea16d64a14892c2f3fea29a981 P ade1a2d814884e498b1f69a1d1be1041 [I]: 7. SingleDeleteCF: SubDocKey(DocKey(0xcfaa, [2], []), [SystemColumnId(0)]) [kStrongRead, kStrongWrite] HT{ physical: 1690835538626171 w: 2 }\n",
    "  T ab874dea16d64a14892c2f3fea29a981 P ade1a2d814884e498b1f69a1d1be1041 [I]: 8. SingleDeleteCF: TXN REV 45f1546f-1634-45a1-aa7a-80a80a0b84a4 HT{ physical: 1690835538626171 w: 3 }\n",
    "  T ab874dea16d64a14892c2f3fea29a981 P ade1a2d814884e498b1f69a1d1be1041 [I]: 9. SingleDeleteCF: SubDocKey(DocKey(0xcfaa, [2], []), [ColumnId(1)]) [kStrongRead, kStrongWrite] HT{ physical: 1690835538626171 w: 3 }\n",
    "  T ab874dea16d64a14892c2f3fea29a981 P ade1a2d814884e498b1f69a1d1be1041 [I]: 10. SingleDeleteCF: TXN REV 45f1546f-1634-45a1-aa7a-80a80a0b84a4 HT{ physical: 1690835538626171 w: 4 }\n",
    "  T ab874dea16d64a14892c2f3fea29a981 P ade1a2d814884e498b1f69a1d1be1041 [I]: 11. SingleDeleteCF: SubDocKey(DocKey(0xcfaa, [2], []), []) [kWeakRead, kWeakWrite] HT{ physical: 1690835538626171 w: 4 }\n",
    "  T ab874dea16d64a14892c2f3fea29a981 P ade1a2d814884e498b1f69a1d1be1041 [I]: 12. SingleDeleteCF: TXN REV 45f1546f-1634-45a1-aa7a-80a80a0b84a4 HT{ physical: 1690835538626171 w: 5 }\n",
    "  T ab874dea16d64a14892c2f3fea29a981 P ade1a2d814884e498b1f69a1d1be1041 [I]: 13. SingleDeleteCF: SubDocKey(DocKey(0xeda9, [1], []), []) [kWeakRead, kWeakWrite] HT{ physical: 1690835538626171 w: 5 }\n",
    "  T ab874dea16d64a14892c2f3fea29a981 P ade1a2d814884e498b1f69a1d1be1041 [I]: 14. SingleDeleteCF: TXN REV 45f1546f-1634-45a1-aa7a-80a80a0b84a4 HT{ physical: 1690835538626171 w: 6 }\n",
    "  T ab874dea16d64a14892c2f3fea29a981 P ade1a2d814884e498b1f69a1d1be1041 [I]: 15. SingleDeleteCF: SubDocKey(DocKey([], []), []) [kWeakRead, kWeakWrite] HT{ physical: 1690835538626171 w: 6 }\n",
    "```"
   ]
  },
  {
   "cell_type": "code",
   "execution_count": null,
   "metadata": {},
   "outputs": [],
   "source": [
    "%%sql \n",
    "update demo set value='nada';"
   ]
  },
  {
   "cell_type": "markdown",
   "metadata": {},
   "source": [
    "---"
   ]
  },
  {
   "cell_type": "code",
   "execution_count": null,
   "metadata": {
    "vscode": {
     "languageId": "sql"
    }
   },
   "outputs": [],
   "source": [
    "%%sql \n",
    "drop table if exists tmp_pk_hash;\n",
    "create temporary table if not exists tmp_pk_hash (k int, v1 text, v2 text, hash_code int, col_0x0000_0x5555 text ,col_0x5555_0xAAAA text,col_0xAAAA_0xFFFF text);\n",
    "\n",
    "insert into tmp_pk_hash  (k,v1, v2, hash_code )\n",
    "--, col_0x0000_0x5555,col_0x5555_0xAAAA,col_0xAAAA_0xFFFF)\n",
    "select \n",
    "   g.id \n",
    "   , fn_random_chars()\n",
    "   , fn_random_chars()\n",
    "   , yb_hash_code(g.id)\n",
    "   -- , fn_find_hash_code_in_partition_hex_range(yb_hash_code( g.id),'hash_split: [0x0000, 0x5555)'::text) as col_0x0000_0x5555\n",
    "   -- , fn_find_hash_code_in_partition_hex_range(yb_hash_code( g.id),'hash_split: [0x5555, 0xAAAA)'::text) as col_0x5555_0xAAAA\n",
    "   -- , fn_find_hash_code_in_partition_hex_range(yb_hash_code( g.id),'hash_split: [0xAAAA, 0xFFFF)'::text) as col_0xAAAA_0xFFFF\n",
    "from generate_series(1, 10) AS g (id) ;"
   ]
  },
  {
   "cell_type": "code",
   "execution_count": null,
   "metadata": {
    "vscode": {
     "languageId": "sql"
    }
   },
   "outputs": [],
   "source": [
    "%%sql \n",
    "drop table if exists tbl_pk_hash;\n",
    "create table if not exists tbl_pk_hash (k int, v1 text, v2 text, hash_code int, col_0x0000_0x5555 text ,col_0x5555_0xAAAA text,col_0xAAAA_0xFFFF text);\n",
    "\n",
    "insert into tbl_pk_hash  (k,v1,v2, hash_code , col_0x0000_0x5555,col_0x5555_0xAAAA,col_0xAAAA_0xFFFF)\n",
    "select \n",
    "   k\n",
    "   , v1\n",
    "   , v2\n",
    "   , yb_hash_code(v1)\n",
    "   , fn_find_hash_code_in_partition_hex_range(yb_hash_code( v1),'hash_split: [0x0000, 0x5555)'::text) as col_0x0000_0x5555\n",
    "   , fn_find_hash_code_in_partition_hex_range(yb_hash_code( v1),'hash_split: [0x5555, 0xAAAA)'::text) as col_0x5555_0xAAAA\n",
    "   , fn_find_hash_code_in_partition_hex_range(yb_hash_code( v1),'hash_split: [0xAAAA, 0xFFFF)'::text) as col_0xAAAA_0xFFFF\n",
    "from tmp_pk_hash \n",
    "\n",
    "--where col_0x5555_0xAAAA <> '';\n"
   ]
  },
  {
   "cell_type": "code",
   "execution_count": null,
   "metadata": {
    "vscode": {
     "languageId": "sql"
    }
   },
   "outputs": [],
   "source": [
    "%%sql \n",
    "select \n",
    "  k\n",
    "  , v1\n",
    "  , v2\n",
    "  , hash_code\n",
    "  , col_0x0000_0x5555\n",
    "  , col_0x5555_0xAAAA\n",
    "  , col_0xAAAA_0xFFFF\n",
    "from tbl_pk_hash\n",
    "order by hash_code;"
   ]
  },
  {
   "cell_type": "code",
   "execution_count": null,
   "metadata": {
    "vscode": {
     "languageId": "sql"
    }
   },
   "outputs": [],
   "source": [
    "%%sql \n",
    "create index\n",
    " idx_cols\n",
    " on tbl_pk_hash\n",
    "(v1 hash,\n",
    " v2 asc);"
   ]
  },
  {
   "attachments": {},
   "cell_type": "markdown",
   "metadata": {},
   "source": [
    "http://127.0.0.1:7000\n"
   ]
  },
  {
   "cell_type": "code",
   "execution_count": null,
   "metadata": {
    "vscode": {
     "languageId": "shellscript"
    }
   },
   "outputs": [],
   "source": [
    "%%bash -s \"$MY_YB_PATH\" \"$MY_TSERVER_WEBSERVER_PORT\"  # yb-ctl remove node\n",
    "YB_PATH=${1}\n",
    "TSERVER_WEBSERVER_PORT=${2}\n",
    "\n",
    "cd $YB_PATH\n",
    "\n",
    "## add node\n",
    "./bin/yb-ctl add_node \\\n",
    "--tserver_flags \"enable_automatic_tablet_splitting=true,yb_num_shards_per_tserver=1,ysql_num_shards_per_tserver=1,ysql_beta_features=true,webserver_port=\"${TSERVER_WEBSERVER_PORT}  \\\n",
    "--num_shards_per_tserver=1  \\\n",
    "--placement_info \"cloud1.region1.zone1\" \n",
    "\n"
   ]
  },
  {
   "cell_type": "code",
   "execution_count": null,
   "metadata": {
    "vscode": {
     "languageId": "sql"
    }
   },
   "outputs": [],
   "source": [
    "%%sql \n",
    "\n",
    "insert into tbl_pk_hash  (k,v)\n",
    "select g.id, fn_random_chars()\n",
    "from generate_series(11, 2000000) AS g (id);"
   ]
  },
  {
   "cell_type": "code",
   "execution_count": null,
   "metadata": {
    "vscode": {
     "languageId": "sql"
    }
   },
   "outputs": [],
   "source": [
    "%%sql \n",
    "\n",
    "insert into tbl_pk_hash  (k,v)\n",
    "select g.id, fn_random_chars()\n",
    "from generate_series(10000001,20000000) AS g (id);"
   ]
  },
  {
   "cell_type": "code",
   "execution_count": null,
   "metadata": {
    "vscode": {
     "languageId": "shellscript"
    }
   },
   "outputs": [],
   "source": [
    "%%bash -s \"$MY_YB_PATH\" \"$MY_TSERVER_WEBSERVER_PORT\"  # yb-ctl remove node\n",
    "YB_PATH=${1}\n",
    "TSERVER_WEBSERVER_PORT=${2}\n",
    "\n",
    "cd $YB_PATH\n",
    "echo $YB_PATH\n",
    "./bin/yb-admin --list\n",
    "\n",
    "# .bin/yb-admin \\\n",
    "#     -master_addresses 127.0.0.1:7100 \\\n",
    "#     change_config f3cc5d37893f4e51a08b900cfda87219 \\\n",
    "#     [ ADD_SERVER | REMOVE_SERVER ] \\\n",
    "#     <peer_uuid> \\\n",
    "#     [ PRE_VOTER | PRE_OBSERVER ]\n"
   ]
  },
  {
   "cell_type": "code",
   "execution_count": null,
   "metadata": {
    "vscode": {
     "languageId": "shellscript"
    }
   },
   "outputs": [],
   "source": [
    "%%bash -s \"$MY_YB_PATH\" \"$MY_TSERVER_WEBSERVER_PORT\"  # yb-ctl remove node\n",
    "YB_PATH=${1}\n",
    "TSERVER_WEBSERVER_PORT=${2}\n",
    "\n",
    "cd $YB_PATH\n",
    "# ./bin/yb-ctl start_node 3 \\\n",
    "#       --master_flags \"yb_num_shards_per_tserver=1,ysql_num_shards_per_tserver=1\" \\\n",
    "#       --tserver_flags \"yb_num_shards_per_tserver=1,ysql_num_shards_per_tserver=1,ysql_beta_features=true,webserver_port=8200\" \\\n",
    "#       --num_shards_per_tserver 1  \\\n",
    "#       --placement_info \"cloud3.region3.zone3\" \n",
    "\n",
    "#./bin/yb-ctl start_node 3  --tserver_flags \"yb_num_shards_per_tserver=1,ysql_num_shards_per_tserver=1,ysql_beta_features=true,webserver_port=8200\" \\\n",
    " --num_shards_per_tserver 1  \\\n",
    "   --placement_info \"cloud1.region1.zone1,cloud2.region2.zone2,cloud3.region3.zone3\" \n",
    "./bin/yb-ctl status"
   ]
  },
  {
   "cell_type": "code",
   "execution_count": null,
   "metadata": {
    "vscode": {
     "languageId": "shellscript"
    }
   },
   "outputs": [],
   "source": [
    "%%bash -s \"$MY_YB_PATH\" \"$MY_TSERVER_WEBSERVER_PORT\"  # yb-ctl remove node\n",
    "YB_PATH=${1}\n",
    "TSERVER_WEBSERVER_PORT=${2}\n",
    "\n",
    "cd $YB_PATH\n",
    "./bin/yb-ctl start_node 3 \\\n",
    "      --master \\\n",
    "      --master_flags \"yb_num_shards_per_tserver=1,ysql_num_shards_per_tserver=1\" \\\n",
    "      --tserver_flags \"yb_num_shards_per_tserver=1,ysql_num_shards_per_tserver=1,ysql_beta_features=true,webserver_port=8200\" \\\n",
    "      --num_shards_per_tserver 1  \\\n",
    "      --placement_info \"cloud3.region3.zone3\" \n",
    "\n",
    "\n",
    "./bin/yb-ctl status"
   ]
  },
  {
   "attachments": {},
   "cell_type": "markdown",
   "metadata": {},
   "source": [
    "Index\n"
   ]
  },
  {
   "cell_type": "code",
   "execution_count": null,
   "metadata": {
    "vscode": {
     "languageId": "sql"
    }
   },
   "outputs": [],
   "source": [
    "%%sql \n",
    "select 'a', yb_hash_code('a'::text)\n",
    "union all\n",
    "select 'b', yb_hash_code('b'::text)\n",
    "union all\n",
    "select 'c', yb_hash_code('c'::text)\n",
    "union all\n",
    "select 'd', yb_hash_code('d'::text)\n",
    "union all\n",
    "select 'e', yb_hash_code('e'::text)\n",
    "union all\n",
    "select 'f', yb_hash_code('f'::text)\n",
    "union all\n",
    "select 'g', yb_hash_code('g'::text)\n",
    "union all\n",
    "select 'h', yb_hash_code('h'::text)\n",
    "union all\n",
    "select 'i', yb_hash_code('i'::text)\n",
    "union all\n",
    "select 'j', yb_hash_code('j'::text)\n",
    "union all\n",
    "select 'k', yb_hash_code('k'::text)\n",
    "order by 1;\n"
   ]
  },
  {
   "cell_type": "code",
   "execution_count": null,
   "metadata": {
    "vscode": {
     "languageId": "sql"
    }
   },
   "outputs": [],
   "source": [
    "%%sql \n",
    "select v.c1 , yb_hash_code(v.c1::text)\n",
    "from (\n",
    "select 'a' as c1\n",
    "union all\n",
    "select 'b'\n",
    "union all\n",
    "select 'c'\n",
    "union all\n",
    "select 'd'\n",
    "union all\n",
    "select 'e'\n",
    "union all\n",
    "select 'f'\n",
    "union all\n",
    "select 'g'\n",
    "union all\n",
    "select 'h'\n",
    "union all\n",
    "select 'i'\n",
    "union all\n",
    "select 'j'\n",
    "union all\n",
    "select 'k'\n",
    ") v\n",
    "order by 1;"
   ]
  },
  {
   "cell_type": "code",
   "execution_count": null,
   "metadata": {
    "vscode": {
     "languageId": "sql"
    }
   },
   "outputs": [],
   "source": [
    "%%sql \n",
    "select v.c1 \n",
    "  , yb_hash_code(v.c1::text)\n",
    "  , fn_find_hash_code_in_partition_hex_range(yb_hash_code(v.c1::text),'hash_split: [0x0000, 0x5555)'::text) as col_0x0000_0x5555\n",
    "  , fn_find_hash_code_in_partition_hex_range(yb_hash_code(v.c1::text),'hash_split: [0x5555, 0xAAAA)'::text) as col_0x5555_0xAAAA\n",
    "  , fn_find_hash_code_in_partition_hex_range(yb_hash_code(v.c1::text),'hash_split: [0xAAAA, 0xFFFF)'::text) as col_0xAAAA_0xFFFF\n",
    "from (\n",
    "select 'h' as c1\n",
    "union all\n",
    "select 'i'\n",
    "union all\n",
    "select 'j'\n",
    "union all\n",
    "select 'k'\n",
    "union all \n",
    "select 'l'\n",
    "union all\n",
    "select 'm'\n",
    "union all\n",
    "select 'n'\n",
    "union all\n",
    "select 'o'\n",
    "union all\n",
    "select 'p'\n",
    "union all\n",
    "select 'q'\n",
    ") v\n",
    "order by 1;"
   ]
  }
 ],
 "metadata": {
  "kernelspec": {
   "display_name": "Python 3.7.9 64-bit",
   "language": "python",
   "name": "python3"
  },
  "language_info": {
   "codemirror_mode": {
    "name": "ipython",
    "version": 3
   },
   "file_extension": ".py",
   "mimetype": "text/x-python",
   "name": "python",
   "nbconvert_exporter": "python",
   "pygments_lexer": "ipython3",
   "version": "3.9.16"
  },
  "orig_nbformat": 4,
  "vscode": {
   "interpreter": {
    "hash": "aee8b7b246df8f9039afb4144a1f6fd8d2ca17a180786b69acc140d282b71a49"
   }
  }
 },
 "nbformat": 4,
 "nbformat_minor": 2
}
