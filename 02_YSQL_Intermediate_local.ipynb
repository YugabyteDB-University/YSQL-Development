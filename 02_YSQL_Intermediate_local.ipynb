{
 "cells": [
  {
   "cell_type": "markdown",
   "metadata": {
    "deletable": false,
    "editable": false
   },
   "source": [
    "# Lab Requirements and Setup\n",
    "\n",
    "This lab consists of several Jupyter notebooks and runs in Gitpod using VS Code.  Follow the instructions for requirements and setup.\n",
    "\n",
    "## About Jupyter notebooks\n",
    "A notebook consists of one or more cells. In VS Code, notebooks cells are editable. \n",
    "\n",
    "There are two types of cells: markdown and code. This is a markdown cell.\n",
    "\n",
    "You run a code cell by simply selecting the play icon in the cell's left gutter. For code cells, you can modify the code for execution. Certain labs contain challenges or experiments that require you to do just that - modify a code cell and re-run it!\n",
    "\n",
    "### Requirements\n",
    "Here are the requirements for this lab:\n",
    "- Launch using a gitpod workspace\n",
    "- Run a three node, YugabyteDB cluster using `yb-ctl`\n",
    "\n",
    "> Note\n",
    ">  \n",
    "> Although a three node cluster is up and running, Gitpod does not support visiting loopback addresses over a web ui, even if exposed on a different port.\n",
    "> 127.0.0.1 is the only web user interfaces. To see all available ports in Gitpod, in the terminal, run `gp ports list`."
   ]
  },
  {
   "cell_type": "markdown",
   "metadata": {
    "deletable": false,
    "editable": false
   },
   "source": [
    "#### Notebook keyboard shortcuts\n",
    "The Jupyter extension for Gitpod supports the following keyboard shortcuts:\n",
    "| Keystroke | Description |\n",
    "|--|--|\n",
    "| ESC | Change the cell mode |\n",
    "| A | Add a cell above |\n",
    "| B | Add a cell below |\n",
    "| J or down arrow key |  Change a cell to below | \n",
    "| K or up arrow key | Change a cell to above | \n",
    "| Ctrl+Enter | Run the currently selected cell |\n",
    "| Shift+Enter | Run the currently selected cell and insert a new cell immediately below (focus moves to new cell) |\n",
    "| Alt+Enter | Run the currently selected cell and insert a new cell immediately below (focus remains on current cell) |\n",
    "| dd | Delete a selected cell |\n",
    "| z | Undo the last change | \n",
    "| M | switch the cell type to Markdown | \n",
    "| Y | switch the cell type to code |\n",
    "| L | Enable/Disable line numbers |\n",
    "```\n"
   ]
  },
  {
   "cell_type": "markdown",
   "metadata": {
    "deletable": false,
    "editable": false
   },
   "source": [
    "## Setup steps\n",
    "Here are the steps to setup this lab:\n",
    "- Install missing dependencies and restart the notebook\n",
    "- Create the notebook variables\n",
    "- Create the `db_ybu` database"
   ]
  },
  {
   "cell_type": "markdown",
   "metadata": {},
   "source": [
    "### Install missing dependencies and restart the notebook\n",
    "Run the following cell to ensure that the notebook dependencies are available to the notebook. "
   ]
  },
  {
   "cell_type": "code",
   "execution_count": null,
   "metadata": {},
   "outputs": [],
   "source": [
    "!pip install ipython-sql\n",
    "!pip install psycopg2-binary\n",
    "!pip install sqlalchemy "
   ]
  },
  {
   "cell_type": "markdown",
   "metadata": {},
   "source": [
    "> Important!\n",
    "> \n",
    "> Restart the Notebook.\n",
    "> \n",
    "> Do NOT skip this step.\n",
    "> \n",
    "> After restarting the notebook, you can continue running notebook cells below, at **Create the notebook variables**.\n"
   ]
  },
  {
   "cell_type": "markdown",
   "metadata": {
    "deletable": false,
    "editable": false
   },
   "source": [
    "### Create the notebook variables \n",
    "\n",
    "> IMPORTANT!\n",
    "> \n",
    "> Do NOT skip running this cell. \n",
    "> \n",
    "\n",
    "The following Python cell creates and stores variables that all the notebooks in this lab will use. You can view these variables in the Jupyter tab.\n",
    "\n",
    "- To run the script, select Execute Cell (Play Arrow) in the left gutter of the cell.\n",
    "- Verify the accuracy of the output values"
   ]
  },
  {
   "cell_type": "code",
   "execution_count": 1,
   "metadata": {
    "deletable": false,
    "editable": false
   },
   "outputs": [
    {
     "name": "stdout",
     "output_type": "stream",
     "text": [
      "company_ddl.sql company_dml.sql\n",
      "/Users/markkim/Documents/YBU_repos/jupyter/YSQL/data /Users/markkim/Documents/YBU_repos/jupyter/YSQL/utils\n",
      "Stored 'MY_DB_NAME' (str)\n",
      "Stored 'MY_YB_PATH' (str)\n",
      "Stored 'MY_GITPOD_WORKSPACE_URL' (str)\n",
      "Stored 'MY_HOST_IPv4_01' (str)\n",
      "Stored 'MY_HOST_IPv4_02' (str)\n",
      "Stored 'MY_HOST_IPv4_03' (str)\n",
      "Stored 'MY_NOTEBOOK_DIR' (str)\n",
      "Stored 'MY_TSERVER_WEBSERVER_PORT' (str)\n",
      "Stored 'MY_NOTEBOOK_DATA_FOLDER' (str)\n",
      "Stored 'MY_NOTEBOOK_UTILS_FOLDER' (str)\n",
      "Stored 'MY_DATA_DDL_FILE' (str)\n",
      "Stored 'MY_DATA_DML_FILE' (str)\n",
      "Stored 'MY_UTIL_FUNCTIONS_FILE' (str)\n",
      "Stored 'MY_UTIL_YBTSERVER_METRICS_FILE' (str)\n",
      "Stored 'MY_SUDO' (str)\n"
     ]
    }
   ],
   "source": [
    "# Env variables for Notebook\n",
    "import os\n",
    "\n",
    "# read env_vars.env\n",
    "env_vars = !cat env_vars.env\n",
    "for var in env_vars:\n",
    "    key, value = var.split('=')\n",
    "    os.environ[key] = value\n",
    " \n",
    "\n",
    "# Comment out Local\n",
    "MY_YB_PATH=os.environ.get('MY_YB_PATH_LOCAL')\n",
    "MY_GITPOD_WORKSPACE_URL=os.environ.get('MY_GITPOD_WORKSPACE_URL_LOCAL')\n",
    "MY_SUDO=os.environ.get('MY_SUDO')\n",
    "\n",
    "# Gitpod specific\n",
    "# MY_YB_PATH=os.environ.get('MY_YB_PATH')\n",
    "# MY_GITPOD_WORKSPACE_URL=os.environ.get('GITPOD_WORKSPACE_URL')\n",
    "\n",
    "# env_vars defines the following\n",
    "MY_DB_NAME=os.environ.get('MY_DB_NAME')\n",
    "MY_HOST_IPv4_01=os.environ.get('MY_HOST_IPv4_01')\n",
    "MY_HOST_IPv4_02=os.environ.get('MY_HOST_IPv4_02')\n",
    "MY_HOST_IPv4_03=os.environ.get('MY_HOST_IPv4_03')\n",
    "MY_TSERVER_WEBSERVER_PORT=os.environ.get('MY_TSERVER_WEBSERVER_PORT')\n",
    "MY_DATA_DDL_FILE=os.environ.get(\"MY_DATA_DDL_FILE\")\n",
    "MY_DATA_DML_FILE=os.environ.get(\"MY_DATA_DML_FILE\")\n",
    "print(MY_DATA_DDL_FILE, MY_DATA_DML_FILE)\n",
    "MY_UTIL_FUNCTIONS_FILE=os.environ.get(\"MY_UTIL_FUNCTIONS_FILE\")\n",
    "MY_UTIL_YBTSERVER_METRICS_FILE=os.environ.get(\"MY_UTIL_YBTSERVER_METRICS_FILE\")\n",
    "\n",
    "# Current directory of project and related child folders\n",
    "MY_NOTEBOOK_DIR=os.getcwd()\n",
    "MY_NOTEBOOK_DATA_FOLDER=MY_NOTEBOOK_DIR +'/data'\n",
    "MY_NOTEBOOK_UTILS_FOLDER=MY_NOTEBOOK_DIR + '/utils'\n",
    "\n",
    "print(MY_NOTEBOOK_DATA_FOLDER, MY_NOTEBOOK_UTILS_FOLDER)\n",
    "# Store the note book values for other notebooks to use\n",
    "\n",
    "%store MY_DB_NAME\n",
    "%store MY_YB_PATH\n",
    "%store MY_GITPOD_WORKSPACE_URL\n",
    "%store MY_HOST_IPv4_01\n",
    "%store MY_HOST_IPv4_02\n",
    "%store MY_HOST_IPv4_03\n",
    "%store MY_NOTEBOOK_DIR\n",
    "%store MY_TSERVER_WEBSERVER_PORT\n",
    "%store MY_NOTEBOOK_DATA_FOLDER\n",
    "%store MY_NOTEBOOK_UTILS_FOLDER\n",
    "%store MY_DATA_DDL_FILE\n",
    "%store MY_DATA_DML_FILE\n",
    "%store MY_UTIL_FUNCTIONS_FILE\n",
    "%store MY_UTIL_YBTSERVER_METRICS_FILE\n",
    "%store MY_SUDO"
   ]
  },
  {
   "cell_type": "code",
   "execution_count": 2,
   "metadata": {
    "vscode": {
     "languageId": "shellscript"
    }
   },
   "outputs": [
    {
     "name": "stdout",
     "output_type": "stream",
     "text": [
      "lo0: flags=8049<UP,LOOPBACK,RUNNING,MULTICAST> mtu 16384\n",
      "\toptions=1203<RXCSUM,TXCSUM,TXSTATUS,SW_TIMESTAMP>\n",
      "\tinet 127.0.0.1 netmask 0xff000000 \n",
      "\tinet6 ::1 prefixlen 128 \n",
      "\tinet6 fe80::1%lo0 prefixlen 64 scopeid 0x1 \n",
      "\tinet 127.0.0.2 netmask 0xff000000 \n",
      "\tinet 127.0.0.3 netmask 0xff000000 \n",
      "\tinet 127.0.0.4 netmask 0xff000000 \n",
      "\tinet 127.0.0.5 netmask 0xff000000 \n",
      "\tinet 127.0.0.6 netmask 0xff000000 \n",
      "\tinet 127.0.0.7 netmask 0xff000000 \n",
      "\tnd6 options=201<PERFORMNUD,DAD>\n"
     ]
    },
    {
     "name": "stderr",
     "output_type": "stream",
     "text": [
      "Password:"
     ]
    }
   ],
   "source": [
    "%%bash -s \"$MY_SUDO\"  # ifconfig aliases\n",
    "MY_SUDO=${1}\n",
    "\n",
    "if ifconfig lo0 | grep 127.0.0.[2-7] > /dev/null\n",
    "then\n",
    "    echo ${MY_SUDO} | sudo -S ifconfig lo0 delete 127.0.0.2\n",
    "    echo ${MY_SUDO} | sudo -S ifconfig lo0 delete 127.0.0.3\n",
    "    echo ${MY_SUDO} | sudo -S ifconfig lo0 delete 127.0.0.4\n",
    "    echo ${MY_SUDO} | sudo -S ifconfig lo0 delete 127.0.0.5\n",
    "    echo ${MY_SUDO} | sudo -S ifconfig lo0 delete 127.0.0.6\n",
    "    echo ${MY_SUDO} | sudo -S ifconfig lo0 delete 127.0.0.7\n",
    "fi\n",
    "\n",
    "echo ${MY_SUDO} | sudo -S ifconfig lo0 alias 127.0.0.2\n",
    "echo ${MY_SUDO} | sudo -S ifconfig lo0 alias 127.0.0.3\n",
    "echo ${MY_SUDO} | sudo -S ifconfig lo0 alias 127.0.0.4\n",
    "echo ${MY_SUDO} | sudo -S ifconfig lo0 alias 127.0.0.5\n",
    "echo ${MY_SUDO} | sudo -S ifconfig lo0 alias 127.0.0.6\n",
    "echo ${MY_SUDO} | sudo -S ifconfig lo0 alias 127.0.0.7\n",
    "\n",
    "echo ${MY_SUDO} | sudo ifconfig lo0"
   ]
  },
  {
   "cell_type": "code",
   "execution_count": 3,
   "metadata": {
    "vscode": {
     "languageId": "shellscript"
    }
   },
   "outputs": [
    {
     "name": "stdout",
     "output_type": "stream",
     "text": [
      "Stopping cluster.\n",
      "Destroying cluster.\n",
      "Creating cluster.\n",
      "Waiting for cluster to be ready.\n",
      "----------------------------------------------------------------------------------------------------\n",
      "| Node Count: 3 | Replication Factor: 3                                                            |\n",
      "----------------------------------------------------------------------------------------------------\n",
      "| JDBC                : jdbc:postgresql://127.0.0.1:5433/yugabyte                                  |\n",
      "| YSQL Shell          : bin/ysqlsh                                                                 |\n",
      "| YCQL Shell          : bin/ycqlsh                                                                 |\n",
      "| YEDIS Shell         : bin/redis-cli                                                              |\n",
      "| Web UI              : http://127.0.0.1:7000/                                                     |\n",
      "| Cluster Data        : /Users/markkim/yugabyte-data                                               |\n",
      "----------------------------------------------------------------------------------------------------\n",
      "\n",
      "For more info, please use: yb-ctl status\n",
      "----------------------------------------------------------------------------------------------------\n",
      "| Node Count: 3 | Replication Factor: 3                                                            |\n",
      "----------------------------------------------------------------------------------------------------\n",
      "| JDBC                : jdbc:postgresql://127.0.0.1:5433/yugabyte                                  |\n",
      "| YSQL Shell          : bin/ysqlsh                                                                 |\n",
      "| YCQL Shell          : bin/ycqlsh                                                                 |\n",
      "| YEDIS Shell         : bin/redis-cli                                                              |\n",
      "| Web UI              : http://127.0.0.1:7000/                                                     |\n",
      "| Cluster Data        : /Users/markkim/yugabyte-data                                               |\n",
      "----------------------------------------------------------------------------------------------------\n",
      "----------------------------------------------------------------------------------------------------\n",
      "| Node 1: yb-tserver (pid 22473), yb-master (pid 22464)                                            |\n",
      "----------------------------------------------------------------------------------------------------\n",
      "| JDBC                : jdbc:postgresql://127.0.0.1:5433/yugabyte                                  |\n",
      "| YSQL Shell          : bin/ysqlsh                                                                 |\n",
      "| YCQL Shell          : bin/ycqlsh                                                                 |\n",
      "| YEDIS Shell         : bin/redis-cli                                                              |\n",
      "| data-dir[0]         : /Users/markkim/yugabyte-data/node-1/disk-1/yb-data                         |\n",
      "| yb-tserver Logs     : /Users/markkim/yugabyte-data/node-1/disk-1/yb-data/tserver/logs            |\n",
      "| yb-master Logs      : /Users/markkim/yugabyte-data/node-1/disk-1/yb-data/master/logs             |\n",
      "----------------------------------------------------------------------------------------------------\n",
      "----------------------------------------------------------------------------------------------------\n",
      "| Node 2: yb-tserver (pid 22476), yb-master (pid 22467)                                            |\n",
      "----------------------------------------------------------------------------------------------------\n",
      "| JDBC                : jdbc:postgresql://127.0.0.2:5433/yugabyte                                  |\n",
      "| YSQL Shell          : bin/ysqlsh -h 127.0.0.2                                                    |\n",
      "| YCQL Shell          : bin/ycqlsh 127.0.0.2                                                       |\n",
      "| YEDIS Shell         : bin/redis-cli -h 127.0.0.2                                                 |\n",
      "| data-dir[0]         : /Users/markkim/yugabyte-data/node-2/disk-1/yb-data                         |\n",
      "| yb-tserver Logs     : /Users/markkim/yugabyte-data/node-2/disk-1/yb-data/tserver/logs            |\n",
      "| yb-master Logs      : /Users/markkim/yugabyte-data/node-2/disk-1/yb-data/master/logs             |\n",
      "----------------------------------------------------------------------------------------------------\n",
      "----------------------------------------------------------------------------------------------------\n",
      "| Node 3: yb-tserver (pid 22479), yb-master (pid 22470)                                            |\n",
      "----------------------------------------------------------------------------------------------------\n",
      "| JDBC                : jdbc:postgresql://127.0.0.3:5433/yugabyte                                  |\n",
      "| YSQL Shell          : bin/ysqlsh -h 127.0.0.3                                                    |\n",
      "| YCQL Shell          : bin/ycqlsh 127.0.0.3                                                       |\n",
      "| YEDIS Shell         : bin/redis-cli -h 127.0.0.3                                                 |\n",
      "| data-dir[0]         : /Users/markkim/yugabyte-data/node-3/disk-1/yb-data                         |\n",
      "| yb-tserver Logs     : /Users/markkim/yugabyte-data/node-3/disk-1/yb-data/tserver/logs            |\n",
      "| yb-master Logs      : /Users/markkim/yugabyte-data/node-3/disk-1/yb-data/master/logs             |\n",
      "----------------------------------------------------------------------------------------------------\n"
     ]
    }
   ],
   "source": [
    "%%bash -s \"$MY_YB_PATH\" \"$MY_TSERVER_WEBSERVER_PORT\"  # yb-ctl create\n",
    "YB_PATH=${1}\n",
    "TSERVER_WEBSERVER_PORT=${2}\n",
    "\n",
    "cd $YB_PATH\n",
    "\n",
    "### Grep port 9000 for conflict\n",
    "# lsof -nP -iTCP -sTCP:LISTEN | grep 9000\n",
    "\n",
    "# Stop running cluster\n",
    "if  pgrep -x \"yb-tserver\" > /dev/null \n",
    "then\n",
    "    ./bin/yb-ctl stop\n",
    "    sleep 1\n",
    "fi\n",
    "\n",
    "# Destroy cluster\n",
    "if echo `./bin/yb-ctl status` | grep \"Node Count\"  > /dev/null \n",
    "then\n",
    "    ./bin/yb-ctl destroy\n",
    "    sleep 1\n",
    "fi\n",
    "\n",
    "# Create cluster\n",
    "./bin/yb-ctl --rf 3 create  \\\n",
    "--tserver_flags \"yb_num_shards_per_tserver=1,ysql_num_shards_per_tserver=1,ysql_beta_features=true,webserver_port=\"${TSERVER_WEBSERVER_PORT}  \\\n",
    "--master_flags \"yb_num_shards_per_tserver=1,ysql_num_shards_per_tserver=1\" \\\n",
    "--num_shards_per_tserver=1  \\\n",
    "--placement_info \"azure.region1.zone1,azure.region1.zone2,azure.region1.zone3\" \n",
    "\n",
    "# Output status\n",
    "./bin/yb-ctl status"
   ]
  },
  {
   "cell_type": "markdown",
   "metadata": {
    "deletable": false,
    "editable": false
   },
   "source": [
    "### Create the `db_ybu` database with `ysqlsh`\n",
    "Run the following cell to connect to the local host using `ysqlsh`, create the `db_ybu` database, and then list the databases."
   ]
  },
  {
   "cell_type": "code",
   "execution_count": 4,
   "metadata": {
    "vscode": {
     "languageId": "shellscript"
    }
   },
   "outputs": [
    {
     "name": "stderr",
     "output_type": "stream",
     "text": [
      "NOTICE:  database \"db_ybu\" does not exist, skipping\n"
     ]
    },
    {
     "name": "stdout",
     "output_type": "stream",
     "text": [
      "DROP DATABASE\n",
      "CREATE DATABASE\n",
      "                                   List of databases\n",
      "      Name       |  Owner   | Encoding | Collate |    Ctype    |   Access privileges   \n",
      "-----------------+----------+----------+---------+-------------+-----------------------\n",
      " db_ybu          | yugabyte | UTF8     | C       | en_US.UTF-8 | \n",
      " postgres        | postgres | UTF8     | C       | en_US.UTF-8 | \n",
      " system_platform | postgres | UTF8     | C       | en_US.UTF-8 | \n",
      " template0       | postgres | UTF8     | C       | en_US.UTF-8 | =c/postgres          +\n",
      "                 |          |          |         |             | postgres=CTc/postgres\n",
      " template1       | postgres | UTF8     | C       | en_US.UTF-8 | =c/postgres          +\n",
      "                 |          |          |         |             | postgres=CTc/postgres\n",
      " yugabyte        | postgres | UTF8     | C       | en_US.UTF-8 | \n",
      "(6 rows)\n",
      "\n"
     ]
    }
   ],
   "source": [
    "%%bash -s \"$MY_YB_PATH\" \"$MY_DB_NAME\"  # create database\n",
    "YB_PATH=${1}\n",
    "DB_NAME=${2}\n",
    "\n",
    "cd $YB_PATH\n",
    "\n",
    "# drop and create\n",
    "./bin/ysqlsh -d yugabyte -c \"drop database if exists \"${DB_NAME}\";\"  \n",
    "./bin/ysqlsh -d yugabyte -c \"create database \"${DB_NAME}\";\" \n",
    "\n",
    "# list dbs\n",
    "./bin/ysqlsh -d yugabyte -c \"\\l\""
   ]
  },
  {
   "cell_type": "markdown",
   "metadata": {
    "deletable": false,
    "editable": false
   },
   "source": [
    "### Create tables and loaded data using DDL and DML scripts\n",
    "In this section of the notebook, you will:\n",
    "- Create tables with a DDL script\n",
    "- Load data with a DML script\n",
    "- Verify the creation of tables and data\n",
    "- View the DDL for tbl_countries"
   ]
  },
  {
   "cell_type": "markdown",
   "metadata": {
    "deletable": false,
    "editable": false
   },
   "source": [
    "##### Create tables, load data, and review relations\n",
    "Run the following cell to execute the DDL and DML scripts using `ysqlsh`."
   ]
  },
  {
   "cell_type": "code",
   "execution_count": 5,
   "metadata": {
    "vscode": {
     "languageId": "shellscript"
    }
   },
   "outputs": [],
   "source": [
    "%%bash -s \"$MY_YB_PATH\" \"$MY_DB_NAME\" \"$MY_NOTEBOOK_DATA_FOLDER\" \"$MY_DATA_DDL_FILE\" \"$MY_DATA_DML_FILE\"   # World Cities\n",
    "YB_PATH=${1}\n",
    "DB_NAME=${2}\n",
    "DATA_FOLDER=${3}\n",
    "DATA_DDL_FILE=${4}\n",
    "DATA_DML_FILE=${5}\n",
    "\n",
    "#ls $DATA_FOLDER\n",
    "\n",
    "COMPANY_DDL_PATH=${DATA_FOLDER}/${DATA_DDL_FILE}\n",
    "COMPANY_DML_PATH=${DATA_FOLDER}/${DATA_DML_FILE}\n",
    "\n",
    "cd $YB_PATH\n",
    "\n",
    "# DDL file\n",
    "./bin/ysqlsh -d ${DB_NAME} -f ${COMPANY_DDL_PATH} >&/dev/null\n",
    "sleep 1;\n",
    "\n",
    "# DML file\n",
    "./bin/ysqlsh -d ${DB_NAME} -f ${COMPANY_DML_PATH} >&/dev/null\n",
    "sleep 1;\n",
    "\n",
    "# Describe relations\n",
    "# ./bin/ysqlsh -d ${DB_NAME} -c \"\\d\"\n",
    "# ./bin/ysqlsh -d ${DB_NAME} -c \"\\d emp\"\n",
    "# ./bin/ysqlsh -d ${DB_NAME} -c \"\\d dept\""
   ]
  },
  {
   "cell_type": "markdown",
   "metadata": {
    "deletable": false,
    "editable": false
   },
   "source": [
    "##### View DDL for tbl_countries\n",
    "Run the following cell using `ysqlsh` to view a table definition.\n",
    "\n",
    "> Note\n",
    "> \n",
    "> SQL magic does not support PostgreSQL `psql` commands. In order to execute `psql` commands, the notebook uses bash and `ysqlsh`.\n",
    "\n"
   ]
  },
  {
   "cell_type": "code",
   "execution_count": 7,
   "metadata": {
    "vscode": {
     "languageId": "shellscript"
    }
   },
   "outputs": [
    {
     "name": "stdout",
     "output_type": "stream",
     "text": [
      "                  Table \"public.dept\"\n",
      "   Column    |  Type   | Collation | Nullable | Default \n",
      "-------------+---------+-----------+----------+---------\n",
      " deptno      | integer |           | not null | \n",
      " dname       | text    |           |          | \n",
      " loc         | text    |           |          | \n",
      " description | text    |           |          | \n",
      "Indexes:\n",
      "    \"pk_dept\" PRIMARY KEY, lsm (deptno ASC)\n",
      "\n",
      "                               Table \"public.emp\"\n",
      "   Column   |  Type   | Collation | Nullable |             Default              \n",
      "------------+---------+-----------+----------+----------------------------------\n",
      " empno      | integer |           | not null | generated by default as identity\n",
      " ename      | text    |           | not null | \n",
      " job        | text    |           |          | \n",
      " mgr        | integer |           |          | \n",
      " hiredate   | date    |           |          | \n",
      " sal        | integer |           |          | \n",
      " comm       | integer |           |          | \n",
      " deptno     | integer |           | not null | \n",
      " email      | text    |           |          | \n",
      " other_info | jsonb   |           |          | \n",
      "Indexes:\n",
      "    \"pk_emp\" PRIMARY KEY, lsm (empno HASH)\n",
      "    \"emp_email_uk\" UNIQUE CONSTRAINT, lsm (email HASH)\n",
      "Check constraints:\n",
      "    \"emp_email_check\" CHECK (email ~ '^[a-zA-Z0-9.!#$%&''*+/=?^_`{|}~-]+@[a-zA-Z0-9](?:[a-zA-Z0-9-]{0,61}[a-zA-Z0-9])?(?:\\.[a-zA-Z0-9](?:[a-zA-Z0-9-]{0,61}[a-zA-Z0-9])?)*$'::text)\n",
      "\n",
      "                   Sequence \"public.emp_empno_seq\"\n",
      "  Type   | Start | Minimum |  Maximum   | Increment | Cycles? | Cache \n",
      "---------+-------+---------+------------+-----------+---------+-------\n",
      " integer | 10000 |       1 | 2147483647 |         1 | no      |   100\n",
      "Sequence for identity column: public.emp.empno\n",
      "\n"
     ]
    }
   ],
   "source": [
    "%%bash -s \"$MY_YB_PATH\" \"$MY_DB_NAME\"  \n",
    "\n",
    "YB_PATH=${1}\n",
    "DB_NAME=${2}\n",
    "\n",
    "cd $YB_PATH\n",
    "\n",
    "# ./bin/ysqlsh -d ${DB_NAME} -c \"\\dt\"\n",
    "./bin/ysqlsh -d ${DB_NAME} -c \"\\d dept\"\n",
    "./bin/ysqlsh -d ${DB_NAME} -c \"\\d emp\"\n",
    "./bin/ysqlsh -d ${DB_NAME} -c \"\\d emp_empno_seq\""
   ]
  },
  {
   "cell_type": "markdown",
   "metadata": {
    "deletable": false,
    "editable": false
   },
   "source": [
    "## Connect to YugabyteDB using the PostgreSQL Driver for Python\n",
    "The following cells requires:\n",
    "- Python 3.8+ and psycopg2"
   ]
  },
  {
   "cell_type": "code",
   "execution_count": 8,
   "metadata": {
    "deletable": false,
    "editable": false
   },
   "outputs": [],
   "source": [
    "# Connect to db_ybu\n",
    "# Inspiration from https://medium.com/analytics-vidhya/postgresql-integration-with-jupyter-notebook-deb97579a38d\n",
    "import psycopg2\n",
    "import sqlalchemy as alc\n",
    "from sqlalchemy import create_engine\n",
    "\n",
    "# env_var.env\n",
    "db_host=MY_HOST_IPv4_01\n",
    "db_name=MY_DB_NAME\n",
    "\n",
    "connection_str='postgresql+psycopg2://yugabyte@'+db_host+':5433/'+db_name\n",
    "\n",
    "# engine = create_engine(connection_str)"
   ]
  },
  {
   "cell_type": "markdown",
   "metadata": {
    "deletable": false,
    "editable": false
   },
   "source": [
    "#### Load SQL magic extension\n",
    ">IMPORTANT!\n",
    ">\n",
    "> To use SQL magic, you must run the following cell that loads the notebook extension."
   ]
  },
  {
   "cell_type": "code",
   "execution_count": 9,
   "metadata": {},
   "outputs": [],
   "source": [
    "%reload_ext sql\n",
    "# creates connection for sql magic\n",
    "%sql {connection_str}"
   ]
  },
  {
   "cell_type": "markdown",
   "metadata": {
    "deletable": false,
    "editable": false
   },
   "source": [
    "#### Show table row counts\n",
    "Run the cell below to view the row counts for the tables."
   ]
  },
  {
   "cell_type": "markdown",
   "metadata": {},
   "source": [
    "A SQL update can compute the new value and return it without the need to query again. The following adds 100 to the salaries of all employees who are not managers and show the new value"
   ]
  },
  {
   "cell_type": "code",
   "execution_count": 10,
   "metadata": {
    "vscode": {
     "languageId": "sql"
    }
   },
   "outputs": [
    {
     "name": "stdout",
     "output_type": "stream",
     "text": [
      " * postgresql+psycopg2://yugabyte@127.0.0.1:5433/db_ybu\n",
      "11 rows affected.\n"
     ]
    },
    {
     "data": {
      "text/html": [
       "<table>\n",
       "    <tr>\n",
       "        <th>ename</th>\n",
       "        <th>new_salary</th>\n",
       "    </tr>\n",
       "    <tr>\n",
       "        <td>SMITH</td>\n",
       "        <td>900</td>\n",
       "    </tr>\n",
       "    <tr>\n",
       "        <td>ADAMS</td>\n",
       "        <td>1200</td>\n",
       "    </tr>\n",
       "    <tr>\n",
       "        <td>WARD</td>\n",
       "        <td>1350</td>\n",
       "    </tr>\n",
       "    <tr>\n",
       "        <td>KING</td>\n",
       "        <td>5100</td>\n",
       "    </tr>\n",
       "    <tr>\n",
       "        <td>FORD</td>\n",
       "        <td>3100</td>\n",
       "    </tr>\n",
       "    <tr>\n",
       "        <td>MARTIN</td>\n",
       "        <td>1350</td>\n",
       "    </tr>\n",
       "    <tr>\n",
       "        <td>JAMES</td>\n",
       "        <td>1050</td>\n",
       "    </tr>\n",
       "    <tr>\n",
       "        <td>ALLEN</td>\n",
       "        <td>1700</td>\n",
       "    </tr>\n",
       "    <tr>\n",
       "        <td>MILLER</td>\n",
       "        <td>1400</td>\n",
       "    </tr>\n",
       "    <tr>\n",
       "        <td>SCOTT</td>\n",
       "        <td>3100</td>\n",
       "    </tr>\n",
       "    <tr>\n",
       "        <td>TURNER</td>\n",
       "        <td>1600</td>\n",
       "    </tr>\n",
       "</table>"
      ],
      "text/plain": [
       "[('SMITH', 900),\n",
       " ('ADAMS', 1200),\n",
       " ('WARD', 1350),\n",
       " ('KING', 5100),\n",
       " ('FORD', 3100),\n",
       " ('MARTIN', 1350),\n",
       " ('JAMES', 1050),\n",
       " ('ALLEN', 1700),\n",
       " ('MILLER', 1400),\n",
       " ('SCOTT', 3100),\n",
       " ('TURNER', 1600)]"
      ]
     },
     "execution_count": 10,
     "metadata": {},
     "output_type": "execute_result"
    }
   ],
   "source": [
    "%%sql /* row counts */\n",
    "\n",
    "update emp set sal=sal+100\n",
    "where job != 'MANAGER'\n",
    "returning ename,sal as new_salary;"
   ]
  },
  {
   "cell_type": "markdown",
   "metadata": {},
   "source": [
    "Scenario 2. Join\n",
    "List all employees earning more than their managers using a self-join query.\n",
    "\n",
    "Description\n",
    "A self join is a regular join, but the table is joined with itself. The following SQL statement matches employees with their manager and filters those that are earning more than their manager."
   ]
  },
  {
   "cell_type": "code",
   "execution_count": 11,
   "metadata": {
    "vscode": {
     "languageId": "sql"
    }
   },
   "outputs": [
    {
     "name": "stdout",
     "output_type": "stream",
     "text": [
      " * postgresql+psycopg2://yugabyte@127.0.0.1:5433/db_ybu\n",
      "2 rows affected.\n"
     ]
    },
    {
     "data": {
      "text/html": [
       "<table>\n",
       "    <tr>\n",
       "        <th>ename</th>\n",
       "        <th>sal</th>\n",
       "        <th>manager ename</th>\n",
       "        <th>manager sal</th>\n",
       "    </tr>\n",
       "    <tr>\n",
       "        <td>FORD</td>\n",
       "        <td>3100</td>\n",
       "        <td>JONES</td>\n",
       "        <td>2975</td>\n",
       "    </tr>\n",
       "    <tr>\n",
       "        <td>SCOTT</td>\n",
       "        <td>3100</td>\n",
       "        <td>JONES</td>\n",
       "        <td>2975</td>\n",
       "    </tr>\n",
       "</table>"
      ],
      "text/plain": [
       "[('FORD', 3100, 'JONES', 2975), ('SCOTT', 3100, 'JONES', 2975)]"
      ]
     },
     "execution_count": 11,
     "metadata": {},
     "output_type": "execute_result"
    }
   ],
   "source": [
    "%%sql\n",
    "\n",
    "SELECT \n",
    "  employee.ename,\n",
    "  employee.sal,\n",
    "  manager.ename as \"manager ename\",\n",
    "  manager.sal as \"manager sal\"\n",
    "FROM\n",
    "  emp employee\n",
    "JOIN emp manager ON\n",
    "  employee.mgr = manager.empno\n",
    "WHERE\n",
    "  manager.sal<employee.sal\n",
    "ORDER BY employee.sal;"
   ]
  },
  {
   "cell_type": "markdown",
   "metadata": {},
   "source": [
    "Scenario 4. Indexes\n",
    "Create and analyze index on the fly\n",
    "\n",
    "Description\n",
    "Create a new table and a specific index to avoid table scan and sorts\n",
    "\n",
    "SQL Statement\n",
    "Step 1: Create a new demo table with randomly generated rows\n",
    "\n",
    "GENERATE_SERIES function can generate rows. The following uses it to create a table with 42 rows and a random value from 1 to 10"
   ]
  },
  {
   "cell_type": "code",
   "execution_count": 12,
   "metadata": {
    "vscode": {
     "languageId": "sql"
    }
   },
   "outputs": [
    {
     "name": "stdout",
     "output_type": "stream",
     "text": [
      " * postgresql+psycopg2://yugabyte@127.0.0.1:5433/db_ybu\n",
      "42 rows affected.\n"
     ]
    },
    {
     "data": {
      "text/plain": [
       "[]"
      ]
     },
     "execution_count": 12,
     "metadata": {},
     "output_type": "execute_result"
    }
   ],
   "source": [
    "%%sql \n",
    "\n",
    "create table demo as select generate_series(1,42) num, round(10*random()) val;"
   ]
  },
  {
   "cell_type": "markdown",
   "metadata": {},
   "source": [
    "Step 2: Create the index “demo_val” on demo table\n",
    "\n",
    "With the goal to query, for a value, with numbers ordered, in the most efficient way, the following creates an index on “val” (hashed for distribution) and “num” in ascending order"
   ]
  },
  {
   "cell_type": "code",
   "execution_count": 13,
   "metadata": {
    "vscode": {
     "languageId": "sql"
    }
   },
   "outputs": [
    {
     "name": "stdout",
     "output_type": "stream",
     "text": [
      " * postgresql+psycopg2://yugabyte@127.0.0.1:5433/db_ybu\n",
      "Done.\n"
     ]
    },
    {
     "data": {
      "text/plain": [
       "[]"
      ]
     },
     "execution_count": 13,
     "metadata": {},
     "output_type": "execute_result"
    }
   ],
   "source": [
    "%%sql\n",
    "\n",
    "create index demo_val on demo(val hash,num asc);"
   ]
  },
  {
   "cell_type": "markdown",
   "metadata": {},
   "source": [
    "Step 3: Gather optimizer statistics on table demo\n",
    "\n",
    "The query planner chooses the best access path when provided with statistics about the data stored in the table. The following gathers those statistics."
   ]
  },
  {
   "cell_type": "code",
   "execution_count": 14,
   "metadata": {
    "vscode": {
     "languageId": "sql"
    }
   },
   "outputs": [
    {
     "name": "stdout",
     "output_type": "stream",
     "text": [
      " * postgresql+psycopg2://yugabyte@127.0.0.1:5433/db_ybu\n",
      "Done.\n"
     ]
    },
    {
     "data": {
      "text/plain": [
       "[]"
      ]
     },
     "execution_count": 14,
     "metadata": {},
     "output_type": "execute_result"
    }
   ],
   "source": [
    "%%sql \n",
    "\n",
    "analyze demo;"
   ]
  },
  {
   "cell_type": "markdown",
   "metadata": {},
   "source": [
    "Step 4: Query the Top-3 numbers for a specific value\n",
    "\n",
    "The following displays the Top-3 numbers for the value 5"
   ]
  },
  {
   "cell_type": "code",
   "execution_count": 15,
   "metadata": {
    "vscode": {
     "languageId": "sql"
    }
   },
   "outputs": [
    {
     "name": "stdout",
     "output_type": "stream",
     "text": [
      " * postgresql+psycopg2://yugabyte@127.0.0.1:5433/db_ybu\n",
      "3 rows affected.\n"
     ]
    },
    {
     "data": {
      "text/html": [
       "<table>\n",
       "    <tr>\n",
       "        <th>num</th>\n",
       "        <th>val</th>\n",
       "    </tr>\n",
       "    <tr>\n",
       "        <td>5</td>\n",
       "        <td>5.0</td>\n",
       "    </tr>\n",
       "    <tr>\n",
       "        <td>11</td>\n",
       "        <td>5.0</td>\n",
       "    </tr>\n",
       "    <tr>\n",
       "        <td>17</td>\n",
       "        <td>5.0</td>\n",
       "    </tr>\n",
       "</table>"
      ],
      "text/plain": [
       "[(5, 5.0), (11, 5.0), (17, 5.0)]"
      ]
     },
     "execution_count": 15,
     "metadata": {},
     "output_type": "execute_result"
    }
   ],
   "source": [
    "%%sql\n",
    "\n",
    "select * from demo where val=5 order by num asc fetch first 3 rows only;"
   ]
  },
  {
   "cell_type": "markdown",
   "metadata": {},
   "source": [
    "Step 5: Verify that index is leading to faster query execution using explain analyze\n",
    "\n",
    "When defining an index for a specific access pattern, it is good that the developer verifies that the index is used. The following shows that an “Index Only Scan” was used, without the need for an additional “Sort” operation"
   ]
  },
  {
   "cell_type": "code",
   "execution_count": 16,
   "metadata": {
    "vscode": {
     "languageId": "sql"
    }
   },
   "outputs": [
    {
     "name": "stdout",
     "output_type": "stream",
     "text": [
      " * postgresql+psycopg2://yugabyte@127.0.0.1:5433/db_ybu\n",
      "7 rows affected.\n"
     ]
    },
    {
     "data": {
      "text/html": [
       "<table>\n",
       "    <tr>\n",
       "        <th>QUERY PLAN</th>\n",
       "    </tr>\n",
       "    <tr>\n",
       "        <td>Limit  (cost=0.00..3.19 rows=3 width=12) (actual time=2.837..2.843 rows=3 loops=1)</td>\n",
       "    </tr>\n",
       "    <tr>\n",
       "        <td>&nbsp;&nbsp;-&gt;  Index Only Scan using demo_val on demo  (cost=0.00..4.47 rows=4 width=12) (actual time=2.836..2.839 rows=3 loops=1)</td>\n",
       "    </tr>\n",
       "    <tr>\n",
       "        <td>&nbsp;&nbsp;&nbsp;&nbsp;&nbsp;&nbsp;&nbsp;&nbsp;Index Cond: (val = &#x27;5&#x27;::double precision)</td>\n",
       "    </tr>\n",
       "    <tr>\n",
       "        <td>&nbsp;&nbsp;&nbsp;&nbsp;&nbsp;&nbsp;&nbsp;&nbsp;Heap Fetches: 0</td>\n",
       "    </tr>\n",
       "    <tr>\n",
       "        <td>Planning Time: 0.105 ms</td>\n",
       "    </tr>\n",
       "    <tr>\n",
       "        <td>Execution Time: 2.896 ms</td>\n",
       "    </tr>\n",
       "    <tr>\n",
       "        <td>Peak Memory Usage: 8 kB</td>\n",
       "    </tr>\n",
       "</table>"
      ],
      "text/plain": [
       "[('Limit  (cost=0.00..3.19 rows=3 width=12) (actual time=2.837..2.843 rows=3 loops=1)',),\n",
       " ('  ->  Index Only Scan using demo_val on demo  (cost=0.00..4.47 rows=4 width=12) (actual time=2.836..2.839 rows=3 loops=1)',),\n",
       " (\"        Index Cond: (val = '5'::double precision)\",),\n",
       " ('        Heap Fetches: 0',),\n",
       " ('Planning Time: 0.105 ms',),\n",
       " ('Execution Time: 2.896 ms',),\n",
       " ('Peak Memory Usage: 8 kB',)]"
      ]
     },
     "execution_count": 16,
     "metadata": {},
     "output_type": "execute_result"
    }
   ],
   "source": [
    "%%sql\n",
    "\n",
    "explain analyze select * from demo where val=5 order by num fetch first 3 rows only;"
   ]
  },
  {
   "cell_type": "markdown",
   "metadata": {},
   "source": [
    "Step 6: Clean up the table for this exercise.\n",
    "\n",
    "To leave the database in the same state as before this exercise, the following removes the demo table created before"
   ]
  },
  {
   "cell_type": "code",
   "execution_count": 17,
   "metadata": {
    "vscode": {
     "languageId": "sql"
    }
   },
   "outputs": [
    {
     "name": "stdout",
     "output_type": "stream",
     "text": [
      " * postgresql+psycopg2://yugabyte@127.0.0.1:5433/db_ybu\n",
      "Done.\n"
     ]
    },
    {
     "data": {
      "text/plain": [
       "[]"
      ]
     },
     "execution_count": 17,
     "metadata": {},
     "output_type": "execute_result"
    }
   ],
   "source": [
    "%%sql\n",
    "\n",
    "drop table if exists demo;"
   ]
  },
  {
   "cell_type": "markdown",
   "metadata": {},
   "source": [
    "2. Built-in Functions\n",
    "Learn powerful functions for performing complex database operations with ease\n",
    "\n",
    "Scenario 1. Window Functions\n",
    "Compare employees hiring time interval by department using LAG function\n",
    "\n",
    "LAG is a window function that provides access to the row before the current one. The following SQL statement uses WINDOW to define groups of employees by department, in order of their hiring date. LAG is used to access the previous row in this group, to compare the hiring date interval between two employees. FORMAT builds a text from column values, and COALESCE handles the first hire for which there is no previous row in the group. Without those window functions, this query would have required reading the same table two times.\n"
   ]
  },
  {
   "cell_type": "code",
   "execution_count": 18,
   "metadata": {
    "vscode": {
     "languageId": "sql"
    }
   },
   "outputs": [
    {
     "name": "stdout",
     "output_type": "stream",
     "text": [
      " * postgresql+psycopg2://yugabyte@127.0.0.1:5433/db_ybu\n",
      "14 rows affected.\n"
     ]
    },
    {
     "data": {
      "text/html": [
       "<table>\n",
       "    <tr>\n",
       "        <th>dname</th>\n",
       "        <th>ename</th>\n",
       "        <th>job</th>\n",
       "        <th>last hire in dept</th>\n",
       "    </tr>\n",
       "    <tr>\n",
       "        <td>ACCOUNTING</td>\n",
       "        <td>CLARK</td>\n",
       "        <td>MANAGER</td>\n",
       "        <td>(1st hire in &#x27;ACCOUNTING&#x27;)</td>\n",
       "    </tr>\n",
       "    <tr>\n",
       "        <td>ACCOUNTING</td>\n",
       "        <td>KING</td>\n",
       "        <td>PRESIDENT</td>\n",
       "        <td>hired  161 days after CLARK</td>\n",
       "    </tr>\n",
       "    <tr>\n",
       "        <td>ACCOUNTING</td>\n",
       "        <td>MILLER</td>\n",
       "        <td>CLERK</td>\n",
       "        <td>hired   67 days after KING</td>\n",
       "    </tr>\n",
       "    <tr>\n",
       "        <td>RESEARCH</td>\n",
       "        <td>SMITH</td>\n",
       "        <td>CLERK</td>\n",
       "        <td>(1st hire in &#x27;RESEARCH&#x27;)</td>\n",
       "    </tr>\n",
       "    <tr>\n",
       "        <td>RESEARCH</td>\n",
       "        <td>JONES</td>\n",
       "        <td>MANAGER</td>\n",
       "        <td>hired  106 days after SMITH</td>\n",
       "    </tr>\n",
       "    <tr>\n",
       "        <td>RESEARCH</td>\n",
       "        <td>FORD</td>\n",
       "        <td>ANALYST</td>\n",
       "        <td>hired  245 days after JONES</td>\n",
       "    </tr>\n",
       "    <tr>\n",
       "        <td>RESEARCH</td>\n",
       "        <td>SCOTT</td>\n",
       "        <td>ANALYST</td>\n",
       "        <td>hired  371 days after FORD</td>\n",
       "    </tr>\n",
       "    <tr>\n",
       "        <td>RESEARCH</td>\n",
       "        <td>ADAMS</td>\n",
       "        <td>CLERK</td>\n",
       "        <td>hired   34 days after SCOTT</td>\n",
       "    </tr>\n",
       "    <tr>\n",
       "        <td>SALES</td>\n",
       "        <td>ALLEN</td>\n",
       "        <td>SALESMAN</td>\n",
       "        <td>(1st hire in &#x27;SALES&#x27;)</td>\n",
       "    </tr>\n",
       "    <tr>\n",
       "        <td>SALES</td>\n",
       "        <td>WARD</td>\n",
       "        <td>SALESMAN</td>\n",
       "        <td>hired    2 days after ALLEN</td>\n",
       "    </tr>\n",
       "    <tr>\n",
       "        <td>SALES</td>\n",
       "        <td>BLAKE</td>\n",
       "        <td>MANAGER</td>\n",
       "        <td>hired   68 days after WARD</td>\n",
       "    </tr>\n",
       "    <tr>\n",
       "        <td>SALES</td>\n",
       "        <td>TURNER</td>\n",
       "        <td>SALESMAN</td>\n",
       "        <td>hired  130 days after BLAKE</td>\n",
       "    </tr>\n",
       "    <tr>\n",
       "        <td>SALES</td>\n",
       "        <td>MARTIN</td>\n",
       "        <td>SALESMAN</td>\n",
       "        <td>hired   20 days after TURNER</td>\n",
       "    </tr>\n",
       "    <tr>\n",
       "        <td>SALES</td>\n",
       "        <td>JAMES</td>\n",
       "        <td>CLERK</td>\n",
       "        <td>hired   66 days after MARTIN</td>\n",
       "    </tr>\n",
       "</table>"
      ],
      "text/plain": [
       "[('ACCOUNTING', 'CLARK', 'MANAGER', \"(1st hire in 'ACCOUNTING')\"),\n",
       " ('ACCOUNTING', 'KING', 'PRESIDENT', 'hired  161 days after CLARK'),\n",
       " ('ACCOUNTING', 'MILLER', 'CLERK', 'hired   67 days after KING'),\n",
       " ('RESEARCH', 'SMITH', 'CLERK', \"(1st hire in 'RESEARCH')\"),\n",
       " ('RESEARCH', 'JONES', 'MANAGER', 'hired  106 days after SMITH'),\n",
       " ('RESEARCH', 'FORD', 'ANALYST', 'hired  245 days after JONES'),\n",
       " ('RESEARCH', 'SCOTT', 'ANALYST', 'hired  371 days after FORD'),\n",
       " ('RESEARCH', 'ADAMS', 'CLERK', 'hired   34 days after SCOTT'),\n",
       " ('SALES', 'ALLEN', 'SALESMAN', \"(1st hire in 'SALES')\"),\n",
       " ('SALES', 'WARD', 'SALESMAN', 'hired    2 days after ALLEN'),\n",
       " ('SALES', 'BLAKE', 'MANAGER', 'hired   68 days after WARD'),\n",
       " ('SALES', 'TURNER', 'SALESMAN', 'hired  130 days after BLAKE'),\n",
       " ('SALES', 'MARTIN', 'SALESMAN', 'hired   20 days after TURNER'),\n",
       " ('SALES', 'JAMES', 'CLERK', 'hired   66 days after MARTIN')]"
      ]
     },
     "execution_count": 18,
     "metadata": {},
     "output_type": "execute_result"
    }
   ],
   "source": [
    "%%sql\n",
    "\n",
    "select\n",
    "dname,ename,job,\n",
    "coalesce (\n",
    "  'hired '||to_char(hiredate -\n",
    "    lag(hiredate) over (per_dept_hiredate),'999')||' days after '||\n",
    "    lag(ename) over (per_dept_hiredate),\n",
    "    format('(1st hire in %L)',dname)\n",
    ") as \"last hire in dept\"\n",
    "from emp join dept using(deptno)\n",
    "window per_dept_hiredate\n",
    "  as (partition by dname order by hiredate)\n",
    "order by dname,hiredate;"
   ]
  },
  {
   "cell_type": "markdown",
   "metadata": {},
   "source": [
    "Scenario 2. Regexp Matching\n",
    "List all employees with @gmail or .org in their email addresses\n",
    "Description\n",
    "REGEXP performs a pattern match of a string expression. The following lists employees with an e-mail ending in ‘.org’ or a domain starting with ‘gmail.’"
   ]
  },
  {
   "cell_type": "code",
   "execution_count": 19,
   "metadata": {
    "vscode": {
     "languageId": "sql"
    }
   },
   "outputs": [
    {
     "name": "stdout",
     "output_type": "stream",
     "text": [
      " * postgresql+psycopg2://yugabyte@127.0.0.1:5433/db_ybu\n",
      "3 rows affected.\n"
     ]
    },
    {
     "data": {
      "text/html": [
       "<table>\n",
       "    <tr>\n",
       "        <th>empno</th>\n",
       "        <th>ename</th>\n",
       "        <th>job</th>\n",
       "        <th>mgr</th>\n",
       "        <th>hiredate</th>\n",
       "        <th>sal</th>\n",
       "        <th>comm</th>\n",
       "        <th>deptno</th>\n",
       "        <th>email</th>\n",
       "        <th>other_info</th>\n",
       "    </tr>\n",
       "    <tr>\n",
       "        <td>7876</td>\n",
       "        <td>ADAMS</td>\n",
       "        <td>CLERK</td>\n",
       "        <td>7788</td>\n",
       "        <td>1983-01-12</td>\n",
       "        <td>1200</td>\n",
       "        <td>None</td>\n",
       "        <td>20</td>\n",
       "        <td>ADAMS@acme.org</td>\n",
       "        <td>None</td>\n",
       "    </tr>\n",
       "    <tr>\n",
       "        <td>7566</td>\n",
       "        <td>JONES</td>\n",
       "        <td>MANAGER</td>\n",
       "        <td>7839</td>\n",
       "        <td>1981-04-02</td>\n",
       "        <td>2975</td>\n",
       "        <td>None</td>\n",
       "        <td>20</td>\n",
       "        <td>JONES@gmail.com</td>\n",
       "        <td>None</td>\n",
       "    </tr>\n",
       "    <tr>\n",
       "        <td>7900</td>\n",
       "        <td>JAMES</td>\n",
       "        <td>CLERK</td>\n",
       "        <td>7698</td>\n",
       "        <td>1981-12-03</td>\n",
       "        <td>1050</td>\n",
       "        <td>None</td>\n",
       "        <td>30</td>\n",
       "        <td>JAMES@acme.org</td>\n",
       "        <td>None</td>\n",
       "    </tr>\n",
       "</table>"
      ],
      "text/plain": [
       "[(7876, 'ADAMS', 'CLERK', 7788, datetime.date(1983, 1, 12), 1200, None, 20, 'ADAMS@acme.org', None),\n",
       " (7566, 'JONES', 'MANAGER', 7839, datetime.date(1981, 4, 2), 2975, None, 20, 'JONES@gmail.com', None),\n",
       " (7900, 'JAMES', 'CLERK', 7698, datetime.date(1981, 12, 3), 1050, None, 30, 'JAMES@acme.org', None)]"
      ]
     },
     "execution_count": 19,
     "metadata": {},
     "output_type": "execute_result"
    }
   ],
   "source": [
    "%%sql\n",
    "\n",
    "select * from emp\n",
    "where email ~ any ( ARRAY[ '@.*\\.org$' , '@gmail\\.' ] );"
   ]
  },
  {
   "cell_type": "markdown",
   "metadata": {},
   "source": [
    "Scenario 3. Arithmetic Date Intervals\n",
    "\n",
    "The interval data type allows you to store and manipulate a period of time in years, months, days... The following example compares overlapping evaluation periods. A WITH clause defines the evaluation period length depending on the job.\n",
    "\n",
    "Find employees with overlapping evaluation periods"
   ]
  },
  {
   "cell_type": "code",
   "execution_count": 20,
   "metadata": {
    "vscode": {
     "languageId": "sql"
    }
   },
   "outputs": [
    {
     "name": "stdout",
     "output_type": "stream",
     "text": [
      " * postgresql+psycopg2://yugabyte@127.0.0.1:5433/db_ybu\n",
      "3 rows affected.\n"
     ]
    },
    {
     "data": {
      "text/html": [
       "<table>\n",
       "    <tr>\n",
       "        <th>ename</th>\n",
       "        <th>deptno</th>\n",
       "        <th>hiredate</th>\n",
       "        <th>evaluation_end</th>\n",
       "        <th>ename_1</th>\n",
       "        <th>deptno_1</th>\n",
       "        <th>hiredate_1</th>\n",
       "        <th>evaluation_end_1</th>\n",
       "    </tr>\n",
       "    <tr>\n",
       "        <td>MILLER</td>\n",
       "        <td>10</td>\n",
       "        <td>1982-01-23</td>\n",
       "        <td>1982-02-20 00:00:00</td>\n",
       "        <td>KING</td>\n",
       "        <td>10</td>\n",
       "        <td>1981-11-17</td>\n",
       "        <td>1982-02-17 00:00:00</td>\n",
       "    </tr>\n",
       "    <tr>\n",
       "        <td>TURNER</td>\n",
       "        <td>30</td>\n",
       "        <td>1981-09-08</td>\n",
       "        <td>1981-10-06 00:00:00</td>\n",
       "        <td>MARTIN</td>\n",
       "        <td>30</td>\n",
       "        <td>1981-09-28</td>\n",
       "        <td>1981-10-26 00:00:00</td>\n",
       "    </tr>\n",
       "    <tr>\n",
       "        <td>WARD</td>\n",
       "        <td>30</td>\n",
       "        <td>1981-02-22</td>\n",
       "        <td>1981-03-22 00:00:00</td>\n",
       "        <td>ALLEN</td>\n",
       "        <td>30</td>\n",
       "        <td>1981-02-20</td>\n",
       "        <td>1981-03-20 00:00:00</td>\n",
       "    </tr>\n",
       "</table>"
      ],
      "text/plain": [
       "[('MILLER', 10, datetime.date(1982, 1, 23), datetime.datetime(1982, 2, 20, 0, 0), 'KING', 10, datetime.date(1981, 11, 17), datetime.datetime(1982, 2, 17, 0, 0)),\n",
       " ('TURNER', 30, datetime.date(1981, 9, 8), datetime.datetime(1981, 10, 6, 0, 0), 'MARTIN', 30, datetime.date(1981, 9, 28), datetime.datetime(1981, 10, 26, 0, 0)),\n",
       " ('WARD', 30, datetime.date(1981, 2, 22), datetime.datetime(1981, 3, 22, 0, 0), 'ALLEN', 30, datetime.date(1981, 2, 20), datetime.datetime(1981, 3, 20, 0, 0))]"
      ]
     },
     "execution_count": 20,
     "metadata": {},
     "output_type": "execute_result"
    }
   ],
   "source": [
    "%%sql\n",
    "\n",
    "with emp_evaluation_period as (\n",
    " select ename,deptno,hiredate,\n",
    " hiredate + case when job in ('MANAGER','PRESIDENT')\n",
    " then interval '3 month' else interval '4 weeks'\n",
    " end evaluation_end from emp)\n",
    "select * from emp_evaluation_period e1\n",
    " join emp_evaluation_period e2\n",
    " on (e1.ename>e2.ename) and (e1.deptno=e2.deptno)\n",
    "where (e1.hiredate,e1.evaluation_end)\n",
    " overlaps (e2.hiredate,e2.evaluation_end);"
   ]
  },
  {
   "cell_type": "markdown",
   "metadata": {},
   "source": [
    "Scenario 4. CROSSTABVIEW\n",
    "Description\n",
    "CROSSTABVIEW is a client command to display rows as columns. The following sums the salaries across jobs and departments and displays them as a cross-table\n",
    "\n",
    "Display total salary per job and department as a cross-table"
   ]
  },
  {
   "cell_type": "code",
   "execution_count": 21,
   "metadata": {
    "vscode": {
     "languageId": "sql"
    }
   },
   "outputs": [
    {
     "name": "stdout",
     "output_type": "stream",
     "text": [
      " * postgresql+psycopg2://yugabyte@127.0.0.1:5433/db_ybu\n",
      "9 rows affected.\n"
     ]
    },
    {
     "data": {
      "text/html": [
       "<table>\n",
       "    <tr>\n",
       "        <th>job</th>\n",
       "        <th>dname</th>\n",
       "        <th>sum</th>\n",
       "    </tr>\n",
       "    <tr>\n",
       "        <td>PRESIDENT</td>\n",
       "        <td>ACCOUNTING</td>\n",
       "        <td>5100</td>\n",
       "    </tr>\n",
       "    <tr>\n",
       "        <td>CLERK</td>\n",
       "        <td>ACCOUNTING</td>\n",
       "        <td>1400</td>\n",
       "    </tr>\n",
       "    <tr>\n",
       "        <td>SALESMAN</td>\n",
       "        <td>SALES</td>\n",
       "        <td>6000</td>\n",
       "    </tr>\n",
       "    <tr>\n",
       "        <td>MANAGER</td>\n",
       "        <td>ACCOUNTING</td>\n",
       "        <td>2450</td>\n",
       "    </tr>\n",
       "    <tr>\n",
       "        <td>MANAGER</td>\n",
       "        <td>RESEARCH</td>\n",
       "        <td>2975</td>\n",
       "    </tr>\n",
       "    <tr>\n",
       "        <td>MANAGER</td>\n",
       "        <td>SALES</td>\n",
       "        <td>2850</td>\n",
       "    </tr>\n",
       "    <tr>\n",
       "        <td>CLERK</td>\n",
       "        <td>SALES</td>\n",
       "        <td>1050</td>\n",
       "    </tr>\n",
       "    <tr>\n",
       "        <td>ANALYST</td>\n",
       "        <td>RESEARCH</td>\n",
       "        <td>6200</td>\n",
       "    </tr>\n",
       "    <tr>\n",
       "        <td>CLERK</td>\n",
       "        <td>RESEARCH</td>\n",
       "        <td>2100</td>\n",
       "    </tr>\n",
       "</table>"
      ],
      "text/plain": [
       "[('PRESIDENT', 'ACCOUNTING', 5100),\n",
       " ('CLERK', 'ACCOUNTING', 1400),\n",
       " ('SALESMAN', 'SALES', 6000),\n",
       " ('MANAGER', 'ACCOUNTING', 2450),\n",
       " ('MANAGER', 'RESEARCH', 2975),\n",
       " ('MANAGER', 'SALES', 2850),\n",
       " ('CLERK', 'SALES', 1050),\n",
       " ('ANALYST', 'RESEARCH', 6200),\n",
       " ('CLERK', 'RESEARCH', 2100)]"
      ]
     },
     "execution_count": 21,
     "metadata": {},
     "output_type": "execute_result"
    }
   ],
   "source": [
    "%%sql\n",
    "\n",
    "select job, dname, sum(sal)\n",
    "from emp join dept using(deptno)\n",
    "group by dname, job"
   ]
  },
  {
   "cell_type": "markdown",
   "metadata": {},
   "source": [
    "Scenario 5. NTILE Function\n",
    "\n",
    "Split e-mails in 3 groups and format them\n",
    "\n",
    "In order to send e-mails to all employees in different batches, you will split them into 3 groups using the NTILE function, and format them with the FORMAT function and aggregate them in a comma-separated list with the STRING_AGG function"
   ]
  },
  {
   "cell_type": "code",
   "execution_count": 22,
   "metadata": {
    "vscode": {
     "languageId": "sql"
    }
   },
   "outputs": [
    {
     "name": "stdout",
     "output_type": "stream",
     "text": [
      " * postgresql+psycopg2://yugabyte@127.0.0.1:5433/db_ybu\n",
      "3 rows affected.\n"
     ]
    },
    {
     "data": {
      "text/html": [
       "<table>\n",
       "    <tr>\n",
       "        <th>string_agg</th>\n",
       "    </tr>\n",
       "    <tr>\n",
       "        <td>&lt;ADAMS&gt; ADAMS@acme.org, &lt;JAMES&gt; JAMES@acme.org, &lt;FORD&gt; FORD@acme.com, &lt;MILLER&gt; MILLER@acme.com</td>\n",
       "    </tr>\n",
       "    <tr>\n",
       "        <td>&lt;BLAKE&gt; BLAKE@hotmail.com, &lt;CLARK&gt; CLARK@acme.com, &lt;SCOTT&gt; SCOTT@acme.com, &lt;KING&gt; KING@aol.com, &lt;TURNER&gt; TURNER@acme.com</td>\n",
       "    </tr>\n",
       "    <tr>\n",
       "        <td>&lt;SMITH&gt; SMITH@acme.com, &lt;ALLEN&gt; ALLEN@acme.com, &lt;WARD&gt; WARD@compuserve.com, &lt;JONES&gt; JONES@gmail.com, &lt;MARTIN&gt; MARTIN@acme.com</td>\n",
       "    </tr>\n",
       "</table>"
      ],
      "text/plain": [
       "[('<ADAMS> ADAMS@acme.org, <JAMES> JAMES@acme.org, <FORD> FORD@acme.com, <MILLER> MILLER@acme.com',),\n",
       " ('<BLAKE> BLAKE@hotmail.com, <CLARK> CLARK@acme.com, <SCOTT> SCOTT@acme.com, <KING> KING@aol.com, <TURNER> TURNER@acme.com',),\n",
       " ('<SMITH> SMITH@acme.com, <ALLEN> ALLEN@acme.com, <WARD> WARD@compuserve.com, <JONES> JONES@gmail.com, <MARTIN> MARTIN@acme.com',)]"
      ]
     },
     "execution_count": 22,
     "metadata": {},
     "output_type": "execute_result"
    }
   ],
   "source": [
    "%%sql\n",
    "\n",
    "with groups as (\n",
    " select ntile(3) over (order by empno) group_num\n",
    " ,* \n",
    " from emp\n",
    ")\n",
    "select string_agg(format('<%s> %s',ename,email),', ') \n",
    "from groups group by group_num;"
   ]
  },
  {
   "cell_type": "markdown",
   "metadata": {},
   "source": [
    "Advanced Features\n",
    "Expand your YSQL skills by completing the following 5 scenarios\n",
    "\n",
    "Scenario 1. GIN Index on Document\n",
    "List employees that know SQL\n",
    "Description\n",
    "The skills are stored in the semi-structured JSON document. We can query them with @>, ?, ?& and ?| operators. And, for best performance, index them.\n",
    "\n",
    "SQL Statement\n",
    "Step 1: Create GIN index on JSON document\n",
    "\n",
    "GIN indexes can provide fast access to elements inside a JSON document. The following creates an index on the ‘skills’ attributes within ‘other_info’ JSON column"
   ]
  },
  {
   "cell_type": "code",
   "execution_count": null,
   "metadata": {
    "vscode": {
     "languageId": "sql"
    }
   },
   "outputs": [],
   "source": [
    "%%sql \n",
    "\n",
    "create index emp_skills on emp using gin((other_info->'skills'));"
   ]
  },
  {
   "cell_type": "markdown",
   "metadata": {},
   "source": [
    "Step 2: Query the JSON attribute list\n",
    "\n",
    "SQL queries can navigate into the JSON document with -> and check if an array contains a value with @>. The following searches the employees with the “SQL” skill"
   ]
  },
  {
   "cell_type": "code",
   "execution_count": null,
   "metadata": {
    "vscode": {
     "languageId": "sql"
    }
   },
   "outputs": [],
   "source": [
    "%%sql \n",
    "\n",
    "select * from emp where other_info->'skills' @> '\"SQL\"' ;"
   ]
  },
  {
   "cell_type": "markdown",
   "metadata": {},
   "source": [
    "Step 3: Use Explain pla to verify that index is used\n",
    "\n",
    "Thanks to the GIN index, this search doesn’t need to read all documents. The following shows the execution plan being an indexed access path."
   ]
  },
  {
   "cell_type": "code",
   "execution_count": null,
   "metadata": {
    "vscode": {
     "languageId": "sql"
    }
   },
   "outputs": [],
   "source": [
    "%%sql\n",
    "\n",
    "explain select * from emp where other_info->'skills' @> '\"SQL\"' ;"
   ]
  },
  {
   "cell_type": "markdown",
   "metadata": {},
   "source": [
    "Scenario 2. Text Search\n",
    "Build a search index on department descriptions\n",
    "\n",
    "Description\n",
    "SQL queries can search in the text for some words using the to_tsvector() function to extract a list of words that can be compared. We will find all department descriptions with the words 'responsible' and 'services' in it\n",
    "\n",
    "SQL Statement\n",
    "Step 1: Create text search index on the description column\n",
    "\n",
    "GIN indexes can provide fast access to words inside a text. The following creates an index for the simple-grammar vector of words extracted from the department description"
   ]
  },
  {
   "cell_type": "code",
   "execution_count": null,
   "metadata": {
    "vscode": {
     "languageId": "sql"
    }
   },
   "outputs": [],
   "source": [
    "%%sql\n",
    "\n",
    "create index dept_description_text_search on dept using gin (( to_tsvector('simple',description) ));"
   ]
  },
  {
   "cell_type": "markdown",
   "metadata": {},
   "source": [
    "Step 2: Query on description for matching words\n",
    "\n",
    "The following compares the simple-grammar vector of words extracted from the department description with a word search pattern to find the departments which contain ‘responsible’ and ‘services’ in their description."
   ]
  },
  {
   "cell_type": "code",
   "execution_count": null,
   "metadata": {
    "vscode": {
     "languageId": "sql"
    }
   },
   "outputs": [],
   "source": [
    "%%sql\n",
    "\n",
    "select * from dept where to_tsvector('simple',description) @@ to_tsquery('simple','responsible & services');"
   ]
  },
  {
   "cell_type": "markdown",
   "metadata": {},
   "source": [
    "Step 3: Explain plan to verify that index is used\n",
    "\n",
    "Thanks to the GIN index, this search doesn’t need to read all rows and text. The following shows the execution plan being an indexed access path"
   ]
  },
  {
   "cell_type": "code",
   "execution_count": null,
   "metadata": {
    "vscode": {
     "languageId": "sql"
    }
   },
   "outputs": [],
   "source": [
    "%%sql\n",
    "\n",
    "explain select * from dept where to_tsvector('simple',description) @@ to_tsquery('simple','responsible & services');"
   ]
  },
  {
   "cell_type": "markdown",
   "metadata": {},
   "source": [
    "Scenario 3. Stored Procedures\n",
    "Transfer commission from one employee to another\n",
    "\n",
    "\n",
    "Description\n",
    "A stored procedure can encapsulate a procedural logic into an atomic operation. We will create one in PL/pgSQL, named \"commission_transfer\", that transfers commission “amount” from “empno1” to “empno2”\n",
    "\n",
    "SQL Statement\n",
    "Step 1: Create the procedure for the commission transfer between employees\n",
    "\n",
    "The procedure has two SQL operations: decrease from “empno1” and add to “empno2”. Plus error checking to raise a custom exception if “empno1” doesn’t have the amount to be transferred"
   ]
  },
  {
   "cell_type": "code",
   "execution_count": null,
   "metadata": {
    "vscode": {
     "languageId": "sql"
    }
   },
   "outputs": [],
   "source": [
    "%%sql\n",
    "\n",
    "create or replace procedure commission_transfer(empno1 int, empno2 int, amount int) as $$\n",
    "begin\n",
    "update emp set comm=comm-commission_transfer.amount\n",
    "  where empno=commission_transfer.empno1 and comm>commission_transfer.amount;\n",
    "if not found then raise exception 'Cannot transfer % from %',amount,empno1; end if;\n",
    "update emp set comm=comm+commission_transfer.amount\n",
    "  where emp.empno=commission_transfer.empno2;\n",
    "if not found then raise exception 'Cannot transfer from %',empno2; end if;\n",
    "end;\n",
    "$$ language plpgsql;"
   ]
  },
  {
   "cell_type": "markdown",
   "metadata": {},
   "source": [
    "Step 2: Call the procedure with employee IDs and the amount to be transferred\n",
    "\n",
    "Once defined, the stored procedure is called with values for all parameters. This transfers 100 from employee 7521 to 7654"
   ]
  },
  {
   "cell_type": "code",
   "execution_count": null,
   "metadata": {
    "vscode": {
     "languageId": "sql"
    }
   },
   "outputs": [],
   "source": [
    "%%sql\n",
    "\n",
    "call commission_transfer(7521,7654,100);"
   ]
  },
  {
   "cell_type": "markdown",
   "metadata": {},
   "source": [
    "Step 3: List all employees who have received commission\n",
    "\n",
    "The following displays all employees having a commission, to verify that 100 have been transferred"
   ]
  },
  {
   "cell_type": "code",
   "execution_count": null,
   "metadata": {
    "vscode": {
     "languageId": "sql"
    }
   },
   "outputs": [],
   "source": [
    "%%sql\n",
    "\n",
    "SELECT * from emp where comm is not null;"
   ]
  },
  {
   "cell_type": "markdown",
   "metadata": {},
   "source": [
    "Step 4: Call the procedure with employee IDs and amount that is not allowed to invoke error handling\n",
    "\n",
    "The following attempts to transfer 1000000, more than what 7521 has. It raises the “Cannot transfer” error defined in the procedure and automatically reverts all intermediate changes to return to a consistent state"
   ]
  },
  {
   "cell_type": "code",
   "execution_count": null,
   "metadata": {
    "vscode": {
     "languageId": "sql"
    }
   },
   "outputs": [],
   "source": [
    "%%sql\n",
    "\n",
    "call commission_transfer(7521,7654,1000000);"
   ]
  },
  {
   "cell_type": "markdown",
   "metadata": {},
   "source": [
    "Scenario 4. Triggers\n",
    "Record the last update time of each row automatically\n",
    "\n",
    "Description\n",
    "We will add a column to hold the last update time, and declare a trigger to update it automatically, on the departments table\n",
    "\n",
    "SQL Statement\n",
    "Step 1: Add a column to store the last update time\n",
    "\n",
    "The structure of a SQL table can evolve. With the goal of recording the last update, the following adds a “last_update” column to the department table."
   ]
  },
  {
   "cell_type": "code",
   "execution_count": null,
   "metadata": {
    "vscode": {
     "languageId": "sql"
    }
   },
   "outputs": [],
   "source": [
    "%%sql\n",
    "\n",
    "alter table dept add last_update timestamptz;"
   ]
  },
  {
   "cell_type": "markdown",
   "metadata": {},
   "source": [
    "Step 2: Add a function “dept_last_update” to set the last update time. The following SQL query uses the built-in function transaction_timestamp(), which returns the current date and time at the start of the current transaction\n",
    "\n",
    "A stored function declares some procedural logic that returns a value. The following returns the “new” state for a trigger after setting the “last_update” to the current time."
   ]
  },
  {
   "cell_type": "code",
   "execution_count": null,
   "metadata": {
    "vscode": {
     "languageId": "sql"
    }
   },
   "outputs": [],
   "source": [
    "%%sql\n",
    "\n",
    "create or replace function dept_last_update() returns trigger as $$\n",
    "begin\n",
    "  new.last_update:=transaction_timestamp();\n",
    "  return new;\n",
    "end;\n",
    "$$ language plpgsql;"
   ]
  },
  {
   "cell_type": "markdown",
   "metadata": {},
   "source": [
    "Step 3: Create a trigger “dept_last_update” to call the function “dept_last_update()” on each table update\n",
    "\n",
    "The previous function can be called automatically. The following trigger executes it on each row update for the departments table."
   ]
  },
  {
   "cell_type": "code",
   "execution_count": null,
   "metadata": {
    "vscode": {
     "languageId": "sql"
    }
   },
   "outputs": [],
   "source": [
    "%%sql\n",
    "\n",
    "create trigger dept_last_update\n",
    "before update on dept\n",
    "for each row\n",
    "execute procedure dept_last_update();"
   ]
  },
  {
   "cell_type": "markdown",
   "metadata": {},
   "source": [
    "Step 4: Display the current state of the table\n",
    "\n",
    "In order to verify the automatic logging of the last update time, the following displays the current state of departments before any update"
   ]
  },
  {
   "cell_type": "code",
   "execution_count": null,
   "metadata": {
    "vscode": {
     "languageId": "sql"
    }
   },
   "outputs": [],
   "source": [
    "%%sql\n",
    "\n",
    "select deptno,dname,loc,last_update from dept;"
   ]
  },
  {
   "cell_type": "markdown",
   "metadata": {},
   "source": [
    "Scenario 5. Materialized Views\n",
    "View\n",
    "Pre-compute analytics for reporting, with a materialized view\n",
    "\n",
    "Description\n",
    "In order to get fast on-demand reports, we create a materialized view to store pre-joined and pre-aggregated data. This view will store the total salary per department, the number of employees, and the list of jobs in the department.\n",
    "\n",
    "SQL Statement\n",
    "Step 1: Create the materialized view"
   ]
  },
  {
   "cell_type": "code",
   "execution_count": null,
   "metadata": {
    "vscode": {
     "languageId": "sql"
    }
   },
   "outputs": [],
   "source": [
    "%%sql\n",
    "\n",
    "create materialized view report_sal_per_dept as\n",
    "select \n",
    "deptno,dname,\n",
    "sum(sal) sal_per_dept,\n",
    "count(*) num_of_employees,\n",
    "string_agg(distinct job,', ') distinct_jobs\n",
    "from dept join emp using(deptno)\n",
    "group by deptno,dname\n",
    "order by deptno;"
   ]
  },
  {
   "cell_type": "markdown",
   "metadata": {},
   "source": [
    "Step 2: Indexes can be created on it. This one allows fast queries on a range of total salary"
   ]
  },
  {
   "cell_type": "code",
   "execution_count": null,
   "metadata": {
    "vscode": {
     "languageId": "sql"
    }
   },
   "outputs": [],
   "source": [
    "%%sql\n",
    "\n",
    "create index report_sal_per_dept_sal on report_sal_per_dept(sal_per_dept desc);"
   ]
  },
  {
   "cell_type": "markdown",
   "metadata": {},
   "source": [
    "Step 3: A refresh can be scheduled on a daily basis to re-compute it in the background with a simple command."
   ]
  },
  {
   "cell_type": "code",
   "execution_count": null,
   "metadata": {
    "vscode": {
     "languageId": "sql"
    }
   },
   "outputs": [],
   "source": [
    "%%sql\n",
    "\n",
    "select *\n",
    "from report_sal_per_dept\n",
    "where sal_per_dept<=10000\n",
    "order by sal_per_dept;"
   ]
  },
  {
   "cell_type": "markdown",
   "metadata": {
    "deletable": false,
    "editable": false
   },
   "source": [
    "---\n",
    "# All done!\n",
    "In this lab, you completed the following:\n",
    "\n",
    "- Setup\n",
    "  - Created the `db_ybu` database with `ysqlsh`\n",
    "  - Created utils\n",
    "  - Created tables and loaded data using DDL and DML scripts\n",
    "  - Connected to the database using a PostgreSQL driver for Python\n",
    "\n",
    "Next, run the following cell to open `02_Demystifying_table_sharding_tablets_and_data_distribution.ipynb`."
   ]
  }
 ],
 "metadata": {
  "kernelspec": {
   "display_name": "Python 3.9.4 64-bit ('3.9.4': pyenv)",
   "language": "python",
   "name": "python3"
  },
  "language_info": {
   "codemirror_mode": {
    "name": "ipython",
    "version": 3
   },
   "file_extension": ".py",
   "mimetype": "text/x-python",
   "name": "python",
   "nbconvert_exporter": "python",
   "pygments_lexer": "ipython3",
   "version": "3.9.4"
  },
  "orig_nbformat": 4,
  "vscode": {
   "interpreter": {
    "hash": "0857ffcb80af2fb548f76c195b67e2e5b75e102946b97bbf401092901016b64a"
   }
  }
 },
 "nbformat": 4,
 "nbformat_minor": 2
}
