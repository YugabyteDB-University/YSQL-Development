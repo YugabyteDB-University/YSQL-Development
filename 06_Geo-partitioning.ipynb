{
 "cells": [
  {
   "attachments": {},
   "cell_type": "markdown",
   "metadata": {},
   "source": [
    "<div style=\"width:100%; background-color: #000041\"><a target=\"_blank\" href=\"http://university.yugabyte.com\"><img src=\"assets/YBU_Logo.png\" /></a></div><br>\n",
    "\n",
    "> **YugabyteDB YSQL Development**\n",
    ">\n",
    "> Enroll for free at [Yugabyte University](https://university.yugabyte.com/courses/yugabytedb-ysql-development).\n",
    ">\n",
    "<br>\n",
    "This notebook file is:\n",
    "\n",
    "`06_Geo-partitioning.ipynb`\n",
    "\n"
   ]
  },
  {
   "cell_type": "markdown",
   "metadata": {},
   "source": [
    "# Advanced language features\n",
    "In this notebook, you'll see how YSQL implements table partitioning and extends this using tablespaces so that developers can build geo-distributed applications that support row-level, geo-partitioning."
   ]
  },
  {
   "attachments": {},
   "cell_type": "markdown",
   "metadata": {},
   "source": [
    "## 🛠️ Requirements\n",
    "Here are the requirements for this notebook:\n",
    "- ✅ Create the notebook variables in `01_Lab_Setup.ipynb`, which you previously did\n",
    "- ✅ Create the `db_ybu` database, which you previously did\n",
    "- ☑️ Import the notebook variables, *which you must do next*\n",
    "- ☑️ Connect to the `db_ybu` database, *which you must do next*\n",
    "- ☑️ Complete the following sections\n",
    "  -  Table Partitioning\n",
    "  -  Tablespaces and Row-Level Geo-Partitioning\n",
    "\n",
    "\n",
    "\n",
    "### Select your notebook kernel\n",
    "- In the Notebook toolbar, click **Select Kernel**.\n",
    "<br>\n",
    "<img width=50% src=\"assets/01_01_Select_Kernel_Toolbar.png\" />\n",
    "\n",
    "- Next, in the dropdown, select **Python 3.12** or higher.\n",
    "<br>\n",
    "<img width=50% src=\"assets/01_02_Select_Kernel_Dropdown.png\" />\n",
    "\n",
    "That's it!"
   ]
  },
  {
   "attachments": {},
   "cell_type": "markdown",
   "metadata": {
    "deletable": false,
    "editable": false
   },
   "source": [
    "\n",
    "## 👣 Setup steps\n",
    "Here are the steps to setup this lab:\n",
    "- Import the notebook variables\n",
    "- Connect to `db_ybu` database\n",
    "- Load the SQL Magic extension for the connection\n",
    "- Create the prepared statements"
   ]
  },
  {
   "attachments": {},
   "cell_type": "markdown",
   "metadata": {},
   "source": [
    "### 👇 Import the notebook variables and style the notebook\n",
    "\n",
    "> 👉 **IMPORTANT!** 👈\n",
    "> \n",
    "> Do **NOT** skip running the following cells. \n",
    ">\n",
    "> The following Python cell reads the stored variables created in the `01_Lab_Setup.ipynb` notebook. To run the script, select Execute Cell (Play Arrow) in the left gutter of the cell.  The cell after that styles the notebook.\n",
    "\n",
    "👇 👇 👇 "
   ]
  },
  {
   "cell_type": "code",
   "execution_count": null,
   "metadata": {},
   "outputs": [],
   "source": [
    "# Use %store -r to read 01_Lab_Setup variables\n",
    "%store -r \n",
    "%config SqlMagic.autopandas=False\n",
    "# %config SqlMagic.named_parameters=True\n",
    "%config SqlMagic.displaylimit=30\n",
    "%config SqlMagic.displaycon=False"
   ]
  },
  {
   "cell_type": "markdown",
   "metadata": {},
   "source": [
    "**Update the styling of the notebook.**"
   ]
  },
  {
   "cell_type": "code",
   "execution_count": null,
   "metadata": {},
   "outputs": [],
   "source": [
    "from IPython.core.display import HTML\n",
    "def css_styling():\n",
    "    styles = open(\"./styles/custom.css\", \"r\").read()\n",
    "    return HTML(styles)\n",
    "css_styling()"
   ]
  },
  {
   "attachments": {},
   "cell_type": "markdown",
   "metadata": {},
   "source": [
    "## Connect to the `db_ybu` database\n",
    "Run all the cells in this section:\n",
    "- Connect using Python and PostgreSQL driver\n",
    "- Load the SQL magic extension\n",
    "- Create the prepared statements"
   ]
  },
  {
   "attachments": {},
   "cell_type": "markdown",
   "metadata": {},
   "source": [
    "### Connect using Python and PostgreSQL driver"
   ]
  },
  {
   "cell_type": "code",
   "execution_count": null,
   "metadata": {},
   "outputs": [],
   "source": [
    "# connect use Python 3.12.1\n",
    "import psycopg2\n",
    "import sqlalchemy as alc\n",
    "from sqlalchemy import create_engine\n",
    "\n",
    "db_host = NB_HOST_IPv4_01\n",
    "db_name = NB_DB_NAME\n",
    "\n",
    "connection_str = 'postgresql+psycopg2://yugabyte@'+db_host+':5433/'+db_name\n",
    "\n",
    "engine = create_engine(connection_str)"
   ]
  },
  {
   "attachments": {},
   "cell_type": "markdown",
   "metadata": {},
   "source": [
    "### Load the SQL magic extension"
   ]
  },
  {
   "cell_type": "code",
   "execution_count": null,
   "metadata": {},
   "outputs": [],
   "source": [
    "%reload_ext sql\n",
    "\n",
    "# SQL magic for python connection string\n",
    "%sql {connection_str}"
   ]
  },
  {
   "attachments": {},
   "cell_type": "markdown",
   "metadata": {},
   "source": [
    "### Create the prepared statements"
   ]
  },
  {
   "attachments": {},
   "cell_type": "markdown",
   "metadata": {},
   "source": [
    "> 👉 **IMPORTANT!** 👈\n",
    ">   \n",
    "> In order to create the prepared statements for the SQL magic connection, you must run the following cell!!!\n",
    "> \n",
    "> **Do not skip this step**.\n",
    "> "
   ]
  },
  {
   "cell_type": "code",
   "execution_count": null,
   "metadata": {},
   "outputs": [],
   "source": [
    "#%% python, but prepared statements as sql magic\n",
    "if (NB_GITPOD_WORKSPACE_URL is None):\n",
    "    stmt = %sql select fn_yb_create_stmts()\n",
    "else:\n",
    "    WORKSPACE_URL = NB_GITPOD_WORKSPACE_URL.replace('https://','https://7000-')\n",
    "    stmt = %sql select fn_yb_create_stmts(:WORKSPACE_URL)\n",
    "\n",
    "print(stmt)"
   ]
  },
  {
   "attachments": {},
   "cell_type": "markdown",
   "metadata": {},
   "source": [
    "Confirm that the following query returns a count of 3 (for three prepared statements)."
   ]
  },
  {
   "cell_type": "code",
   "execution_count": null,
   "metadata": {
    "vscode": {
     "languageId": "sql"
    }
   },
   "outputs": [],
   "source": [
    "%%sql \n",
    "select count(*) from pg_prepared_statements where 1=1 and name in ('stmt_util_metrics_snap_tablet','stmt_util_metrics_snap_table','stmt_util_metrics_snap_reset')"
   ]
  },
  {
   "attachments": {},
   "cell_type": "markdown",
   "metadata": {},
   "source": [
    "---"
   ]
  },
  {
   "attachments": {},
   "cell_type": "markdown",
   "metadata": {
    "deletable": false,
    "editable": false
   },
   "source": [
    "## Table Partitioning\n",
    "Partitioning is another term for physically dividing large tables in YugabyteDB into smaller, more manageable tables to improve performance. Typically, tables with columns containing timestamps are subject to partitioning because of the historical and predictable nature of their data.\n",
    "\n",
    "Because partitioned tables do not appear nor act differently from the original table, applications accessing the database are not always aware of table partitioning.\n",
    "\n",
    "YSQL supports the following types of partitioning:\n",
    "\n",
    "- *Range partitioning*<br> when a table is partitioned into ranges defined by one or more key columns. In this case, the ranges of values assigned to partitions do not overlap.\n",
    "\n",
    "- *List partitioning*<br> when a table is partitioned via listing key values to appear in each partition.\n",
    "\n",
    "- *Hash partitioning*<br> when a table is partitioned by specifying a modulus and remainder for each partition."
   ]
  },
  {
   "attachments": {},
   "cell_type": "markdown",
   "metadata": {},
   "source": [
    "### q1 | Table partitioning by range\n",
    "In this section of the notebook, you will:\n",
    "- Create tables with a DDL script\n",
    "- Load data with a DML script\n",
    "- Verify the creation of tables and data\n",
    "- View the DDL for `order_changes`"
   ]
  },
  {
   "attachments": {},
   "cell_type": "markdown",
   "metadata": {
    "deletable": false,
    "editable": false
   },
   "source": [
    "##### Create tables, load data, and review relations\n",
    "Run the following cell to execute the DDL and DML scripts using `ysqlsh`."
   ]
  },
  {
   "cell_type": "code",
   "execution_count": null,
   "metadata": {
    "vscode": {
     "languageId": "shellscript"
    }
   },
   "outputs": [],
   "source": [
    "%%bash -s \"$NB_YB_PATH_BIN\" \"$NB_DB_NAME\" \"$NB_NOTEBOOK_DATA_FOLDER\" \"$NB_DATA_DDL_FILE_3\" \"$NB_DATA_DML_FILE_3\"   # tbl_order_changes\n",
    "YB_PATH_BIN=${1}\n",
    "DB_NAME=${2}\n",
    "DATA_FOLDER=${3}\n",
    "DATA_DDL_FILE=${4}\n",
    "DATA_DML_FILE=${5}\n",
    "\n",
    "ORDER_DDL_PATH=${DATA_FOLDER}/${DATA_DDL_FILE}\n",
    "ORDER_DML_PATH=${DATA_FOLDER}/${DATA_DML_FILE}\n",
    "\n",
    "echo $ORDER_DDL_PATH\n",
    "echo $ORDER_DML_PATH\n",
    "\n",
    "cd $YB_PATH_BIN\n",
    "\n",
    "# DDL file\n",
    "./ysqlsh -d ${DB_NAME} -f ${ORDER_DDL_PATH} >&/dev/null\n",
    "sleep 1;\n",
    "\n",
    "# DML file\n",
    "./ysqlsh -d ${DB_NAME} -f ${ORDER_DML_PATH} >&/dev/null\n",
    "sleep 1;"
   ]
  },
  {
   "attachments": {},
   "cell_type": "markdown",
   "metadata": {},
   "source": [
    "Describe the tables."
   ]
  },
  {
   "cell_type": "code",
   "execution_count": null,
   "metadata": {
    "vscode": {
     "languageId": "shellscript"
    }
   },
   "outputs": [],
   "source": [
    "%%bash -s \"$NB_YB_PATH_BIN\" \"$NB_DB_NAME\" \"$NB_NOTEBOOK_DATA_FOLDER\" \"$NB_DATA_DDL_FILE_3\" \"$NB_DATA_DML_FILE_3\"   # tbl_order_changes\n",
    "YB_PATH_BIN=${1}\n",
    "DB_NAME=${2}\n",
    "\n",
    "cd $YB_PATH_BIN\n",
    "\n",
    "\n",
    "# Describe tables\n",
    "./ysqlsh -d ${DB_NAME} -c \"\\d public.tbl_order_*\""
   ]
  },
  {
   "cell_type": "markdown",
   "metadata": {},
   "source": [
    "There is one table that has several table partitions:\n",
    "- `tbl_order_changes`\n",
    "  - `tbl_order_changes_prtn_2023_01`\n",
    "  - `tbl_order_changes_prtn_2023_02`\n",
    "  - `tbl_order_changes_prtn_2023_03`\n",
    "  - `tbl_order_changes_prtn_2023_04`\n",
    "  - \n",
    "  The table partitions uses the following PK definition:\n",
    "  -  `PRIMARY KEY, lsm (user_id HASH, change_date DESC)`\n",
    "  \n",
    "  The partition key is user_id, and the clustering key is `change_date` in descending order. "
   ]
  },
  {
   "cell_type": "markdown",
   "metadata": {},
   "source": [
    "Experiment with the following query to see how rows exist in the table partitions. The `tableoid::regclass` column details the partition of the row. "
   ]
  },
  {
   "cell_type": "code",
   "execution_count": null,
   "metadata": {
    "vscode": {
     "languageId": "sql"
    }
   },
   "outputs": [],
   "source": [
    "%%sql\n",
    "select '' _\n",
    "  , tableoid::regclass\n",
    "  , user_id \n",
    "  , account_id\n",
    "  , change_date\n",
    "  , description\n",
    "from \n",
    "  tbl_order_changes\n",
    "-- tbl_order_changes_prtn_2023_01\n",
    "-- tbl_order_changes_prtn_2023_02\n",
    "-- tbl_order_changes_prtn_2023_03\n",
    "-- tbl_order_changes_prtn_2023_04\n",
    "-- tbl_order_changes_prtn_default\n",
    ";"
   ]
  },
  {
   "attachments": {},
   "cell_type": "markdown",
   "metadata": {},
   "source": [
    "#### View the Table details in the YB-Master web ui\n",
    "In your web browser, open the following URL."
   ]
  },
  {
   "cell_type": "code",
   "execution_count": null,
   "metadata": {},
   "outputs": [],
   "source": [
    "#%% python, but prepared statements as sql magic\n",
    "# THIS_TABLE_NAME='tbl_order_changes'\n",
    "THIS_TABLE_NAME='tbl_order_changes_prtn_2023_01'\n",
    "THIS_SCHEMA_NAME = 'public'\n",
    "DB_NAME = NB_DB_NAME\n",
    "\n",
    "## Comment out if local\n",
    "view_gitpod_url = %sql select fn_get_table_id_url(:NB_YB_MASTER_HOST_GITPOD_URL,7000,:DB_NAME,:THIS_SCHEMA_NAME,:THIS_TABLE_NAME ) as view_gitpod_url\n",
    "print (view_gitpod_url)\n",
    "\n",
    "## Uncomment if local\n",
    "# view_local_url = %sql select fn_get_table_id_url(:NB_HOST_IPv4_01,7000,:DB_NAME,:THIS_SCHEMA_NAME,:THIS_TABLE_NAME ) as view_local_url\n",
    "# print (view_local_url)"
   ]
  },
  {
   "attachments": {},
   "cell_type": "markdown",
   "metadata": {},
   "source": [
    "#### q1a | View the data distribution "
   ]
  },
  {
   "cell_type": "code",
   "execution_count": null,
   "metadata": {
    "vscode": {
     "languageId": "sql"
    }
   },
   "outputs": [],
   "source": [
    "%%sql /* explain plan */\n",
    "select '' _\n",
    "  , yb_hash_code( user_id::int, change_date::date ) as pk_hash_code\n",
    "  , fn_find_hash_code_in_partition_hex_range(yb_hash_code( user_id::int, change_date::date ),'hash_split: [0x0000, 0x5555)'::text) as col_0x0000_0x5555\n",
    "  , fn_find_hash_code_in_partition_hex_range(yb_hash_code( user_id::int, change_date::date ),'hash_split: [0x5555, 0xAAAA)'::text) as col_0x5555_0xAAAA\n",
    "  , fn_find_hash_code_in_partition_hex_range(yb_hash_code( user_id::int, change_date::date ),'hash_split: [0xAAAA, 0xFFFF)'::text) as col_0xAAAA_0xFFFF\n",
    "  , tableoid::regclass\n",
    "  , user_id \n",
    " -- , account_id\n",
    "  , change_date\n",
    " -- , description\n",
    "from \n",
    "tbl_order_changes\n",
    "-- tbl_order_changes_prtn_2023_01\n",
    "-- tbl_order_changes_prtn_2023_02\n",
    "-- tbl_order_changes_prtn_2023_03\n",
    "-- tbl_order_changes_prtn_2023_04\n",
    "-- tbl_order_changes_prtn_default\n",
    "where 1=1 \n",
    "-- and user_id=1\n",
    "-- and change_date >= '2023-01-01' and  change_date <= '2023-01-31'\n",
    "-- and change_date >= '2023-02-01' and  change_date <= '2023-02-28'\n",
    "-- and change_date >= '2023-03-01' and  change_date <= '2023-03-31'\n",
    "and change_date >= '2023-04-01' and  change_date <= '2023-04-30'\n",
    ";"
   ]
  },
  {
   "cell_type": "markdown",
   "metadata": {},
   "source": [
    "The query shows that consistent hash sharding of the data within the table partition, meaning that each table partition has tablet leaders among the three nodes in this cluster.\n",
    "\n",
    "To learn more about how this affects query performance, run the following Explain Plan."
   ]
  },
  {
   "cell_type": "code",
   "execution_count": null,
   "metadata": {
    "vscode": {
     "languageId": "sql"
    }
   },
   "outputs": [],
   "source": [
    "%%sql /* explain plan */\n",
    "execute stmt_util_metrics_snap_reset;\n",
    "explain (analyze, dist) \n",
    "select '' _\n",
    "  , yb_hash_code( user_id::int, change_date::date ) as pk_hash_code\n",
    "  , fn_find_hash_code_in_partition_hex_range(yb_hash_code( user_id::int, change_date::date ),'hash_split: [0x0000, 0x5555)'::text) as col_0x0000_0x5555\n",
    "  , fn_find_hash_code_in_partition_hex_range(yb_hash_code( user_id::int, change_date::date ),'hash_split: [0x5555, 0xAAAA)'::text) as col_0x5555_0xAAAA\n",
    "  , fn_find_hash_code_in_partition_hex_range(yb_hash_code( user_id::int, change_date::date ),'hash_split: [0xAAAA, 0xFFFF)'::text) as col_0xAAAA_0xFFFF\n",
    "  , tableoid::regclass\n",
    "  , user_id \n",
    " -- , account_id\n",
    "  , change_date\n",
    " -- , description\n",
    "from \n",
    "tbl_order_changes\n",
    "-- tbl_order_changes_prtn_2023_01\n",
    "-- tbl_order_changes_prtn_2023_02\n",
    "-- tbl_order_changes_prtn_2023_03\n",
    "-- tbl_order_changes_prtn_2023_04\n",
    "-- tbl_order_changes_prtn_default\n",
    "where 1=1 \n",
    "-- and user_id=1\n",
    "-- and change_date >= '2023-01-01' and  change_date <= '2023-01-31'\n",
    "-- and change_date >= '2023-02-01' and  change_date <= '2023-02-28'\n",
    "-- and change_date >= '2023-03-01' and  change_date <= '2023-03-31'\n",
    "and change_date >= '2023-04-01' and  change_date <= '2023-04-20'\n",
    ";"
   ]
  },
  {
   "attachments": {},
   "cell_type": "markdown",
   "metadata": {},
   "source": [
    "#### q1b | Explain Plan (above ^^)\n",
    "```\n",
    "Append (cost=0.00..870.00 rows=1000 width=144) (actual time=2.481..2.917 rows=4 loops=1)\n",
    "  -> Seq Scan on tbl_order_changes_prtn_2023_04 (cost=0.00..865.00 rows=1000 width=144) (actual time=2.481..2.916 rows=4 loops=1)\n",
    "        Remote Filter: ((change_date >= '2023-04-01'::date) AND (change_date <= '2023-04-20'::date))\n",
    "        Storage Table Read Requests: 1\n",
    "        Storage Table Read Execution Time: 1.379 ms\n",
    "Planning Time: 0.250 ms\n",
    "Execution Time: 3.025 ms\n",
    "Storage Read Requests: 1\n",
    "Storage Read Execution Time: 1.379 ms\n",
    "Storage Write Requests: 0\n",
    "Catalog Read Requests: 1\n",
    "Catalog Read Execution Time: 1.749 ms\n",
    "Catalog Write Requests: 0\n",
    "Storage Flush Requests: 0\n",
    "Storage Execution Time: 3.129 ms\n",
    "Peak Memory Usage: 24 kB\n",
    "```\n",
    "\n",
    "Some observations:\n",
    "-   `Seq Scan` is for the table partition, `tbl_order_changes_prtn_2023_04`\n",
    "-  The `Remote Filter` indicates a pushdown filter to the tablets of the table partition, which is an optimization.\n"
   ]
  },
  {
   "cell_type": "code",
   "execution_count": null,
   "metadata": {
    "vscode": {
     "languageId": "sql"
    }
   },
   "outputs": [],
   "source": [
    "%%sql\n",
    "execute stmt_util_metrics_snap_table;"
   ]
  },
  {
   "cell_type": "markdown",
   "metadata": {},
   "source": [
    "##### q1c | Metrics (above ^^)\n",
    "This query reads from the table partition tablet leaders.\n",
    "\n",
    "| row_name| \trocksdb_number_db_seek | \trocksdb_number_db_next | \n",
    "|--|--|--|\n",
    "| db_ybu tbl_order_changes_prtn_2023_04 link_table_id tablet_id_unq_1\t | 2 | \t2 |\n",
    "| db_ybu tbl_order_changes_prtn_2023_04 link_table_id tablet_id_unq_2\t| 3\t| 4 |\n",
    "| db_ybu tbl_order_changes_prtn_2023_04 link_table_id tablet_id_unq_3\t| 2\t| 2 |\n"
   ]
  },
  {
   "attachments": {},
   "cell_type": "markdown",
   "metadata": {},
   "source": [
    "### q2 | Indexed Relations\n",
    "\n",
    "When you create an index on the table with table partitions, YugabyteDB creates a matching index on the existing table partitions and any future partitions. An index or unique constraint on a partitioned table is virtual in the same way that the partitioned table is: the actual data lives in the child indexes."
   ]
  },
  {
   "attachments": {},
   "cell_type": "markdown",
   "metadata": {},
   "source": [
    "Create the index on the table for `change_date`, the predicate reference in the previous query."
   ]
  },
  {
   "cell_type": "code",
   "execution_count": null,
   "metadata": {
    "vscode": {
     "languageId": "sql"
    }
   },
   "outputs": [],
   "source": [
    "%%sql\n",
    "drop index if exists idx_order_changes_range;\n",
    "create index if not exists idx_order_changes_range on tbl_order_changes (change_date desc);"
   ]
  },
  {
   "attachments": {},
   "cell_type": "markdown",
   "metadata": {},
   "source": [
    "Now check the explain plain to see how the query planner uses the index."
   ]
  },
  {
   "cell_type": "code",
   "execution_count": null,
   "metadata": {
    "vscode": {
     "languageId": "sql"
    }
   },
   "outputs": [],
   "source": [
    "%%sql /* explain plan */\n",
    "execute stmt_util_metrics_snap_reset;\n",
    "explain (analyze, dist) \n",
    "select '' _\n",
    "  , yb_hash_code( user_id::int, change_date::date ) as pk_hash_code\n",
    "  , fn_find_hash_code_in_partition_hex_range(yb_hash_code( user_id::int, change_date::date ),'hash_split: [0x0000, 0x5555)'::text) as col_0x0000_0x5555\n",
    "  , fn_find_hash_code_in_partition_hex_range(yb_hash_code( user_id::int, change_date::date ),'hash_split: [0x5555, 0xAAAA)'::text) as col_0x5555_0xAAAA\n",
    "  , fn_find_hash_code_in_partition_hex_range(yb_hash_code( user_id::int, change_date::date ),'hash_split: [0xAAAA, 0xFFFF)'::text) as col_0xAAAA_0xFFFF\n",
    "  , tableoid::regclass\n",
    "  , user_id \n",
    " -- , account_id\n",
    "  , change_date\n",
    " -- , description\n",
    "from \n",
    "tbl_order_changes\n",
    "-- tbl_order_changes_prtn_2023_01\n",
    "-- tbl_order_changes_prtn_2023_02\n",
    "-- tbl_order_changes_prtn_2023_03\n",
    "-- tbl_order_changes_prtn_2023_04\n",
    "-- tbl_order_changes_prtn_default\n",
    "where 1=1 \n",
    "-- nd user_id=1\n",
    "-- and change_date >= '2023-01-01' and  change_date <= '2023-01-31'\n",
    "-- and change_date >= '2023-02-01' and  change_date <= '2023-02-28'\n",
    "-- and change_date >= '2023-03-01' and  change_date <= '2023-03-31'\n",
    "and change_date >= '2023-04-01' and  change_date <= '2023-04-20'\n",
    ";"
   ]
  },
  {
   "cell_type": "markdown",
   "metadata": {},
   "source": [
    "#### q2a | Explain Plan (above ^^)"
   ]
  },
  {
   "cell_type": "markdown",
   "metadata": {},
   "source": [
    "```\n",
    "Append (cost=0.00..12.90 rows=10 width=144) (actual time=9.757..10.300 rows=4 loops=1)\n",
    "  -> Index Scan using tbl_order_changes_prtn_2023_04_change_date_idx on tbl_order_changes_prtn_2023_04 (cost=0.00..12.85 rows=10 width=144) (actual time=9.756..10.298 rows=4 loops=1)\n",
    "        Index Cond: ((change_date >= '2023-04-01'::date) AND (change_date <= '2023-04-20'::date))\n",
    "        Storage Table Read Requests: 1\n",
    "        Storage Table Read Execution Time: 1.659 ms\n",
    "        Storage Index Read Requests: 1\n",
    "        Storage Index Read Execution Time: 3.815 ms\n",
    "Planning Time: 17.817 ms\n",
    "Execution Time: 10.423 ms\n",
    "Storage Read Requests: 2\n",
    "Storage Read Execution Time: 5.474 ms\n",
    "Storage Write Requests: 0\n",
    "Catalog Read Requests: 30\n",
    "Catalog Read Execution Time: 22.190 ms\n",
    "Catalog Write Requests: 0\n",
    "Storage Flush Requests: 0\n",
    "Storage Execution Time: 27.665 ms\n",
    "Peak Memory Usage: 24 kB\n",
    "```"
   ]
  },
  {
   "attachments": {},
   "cell_type": "markdown",
   "metadata": {},
   "source": [
    "Some observations about the Query Plan:\n",
    "- `Index Scan` indicates that the query utilizes and index.\n",
    "  - The index name differs from the index previously created, `idx_order_changes_range`\n",
    "  - YugabyteDB creates the table partition index using it's own naming convention, `tbl_order_changes_prtn_2023_04_change_date_idx`, where `idx` is a suffix.\n",
    "- `Index Cond` applies the filter."
   ]
  },
  {
   "cell_type": "code",
   "execution_count": null,
   "metadata": {
    "vscode": {
     "languageId": "sql"
    }
   },
   "outputs": [],
   "source": [
    "%%sql\n",
    "execute stmt_util_metrics_snap_table;"
   ]
  },
  {
   "attachments": {},
   "cell_type": "markdown",
   "metadata": {},
   "source": [
    "##### q2b | Metrics (above ^^)\n",
    "Here, the index partition is accessed once, and all three related tables partitions are then accessed.\n",
    "\n",
    "| row_name| \trocksdb_number_db_seek | \trocksdb_number_db_next | \n",
    "|--|--|--|\n",
    "| db_ybu tbl_order_changes_prtn_2023_04 link_table_id tablet_id_unq_1\t | 2 | \tnone |\n",
    "| db_ybu tbl_order_changes_prtn_2023_04 link_table_id tablet_id_unq_2\t| 1\t| none |\n",
    "| db_ybu tbl_order_changes_prtn_2023_04 link_table_id tablet_id_unq_3\t| 1\t| none |\n",
    "| db_ybu tbl_order_changes_prtn_2023_04_change_date_idx  link_table_id tablet_id_unq_4\t| 1\t| 4 |\n",
    "\n",
    "\n",
    "Question:\n",
    "- Why is there only one index partition for the partitioned table?\n",
    "\n",
    "Answer:\n",
    "- The index uses range sharding! A tablet for a user table or index with a partition key using range starts with just one tablet leader on a single node, and as it grows will split into two tablets, and so on.\n",
    "\n",
    "Take a look at the definition below:\n",
    "- `USING lsm (change_date DESC)`"
   ]
  },
  {
   "cell_type": "code",
   "execution_count": null,
   "metadata": {
    "vscode": {
     "languageId": "sql"
    }
   },
   "outputs": [],
   "source": [
    "%%sql\n",
    "select pg_get_indexdef('tbl_order_changes_prtn_2023_04_change_date_idx':: regclass);_range':: regclass);"
   ]
  },
  {
   "cell_type": "markdown",
   "metadata": {},
   "source": [
    "To see the related indexes, run the following. Note that reference to `Partition of: idx_order_changes_range `. This is the name of the range index that was created earlier."
   ]
  },
  {
   "cell_type": "code",
   "execution_count": null,
   "metadata": {
    "vscode": {
     "languageId": "shellscript"
    }
   },
   "outputs": [],
   "source": [
    "%%bash -s \"$NB_YB_PATH_BIN\" \"$NB_DB_NAME\" \"$NB_NOTEBOOK_DATA_FOLDER\" \"$NB_DATA_DDL_FILE_3\" \"$NB_DATA_DML_FILE_3\"   # tbl_order_changes\n",
    "YB_PATH_BIN=${1}\n",
    "DB_NAME=${2}\n",
    "\n",
    "cd $YB_PATH_BIN\n",
    "\n",
    "# Describe tables\n",
    "./ysqlsh -d ${DB_NAME} -c \"\\d+ public.tbl_order_changes_prtn_*_idx\""
   ]
  },
  {
   "attachments": {},
   "cell_type": "markdown",
   "metadata": {},
   "source": [
    "#### Additional considerations\n",
    "\n",
    "You can add or remove table partitions, as well as attach and detach partitions. Here are some other considerations:\n",
    "- The primary key for a partitioned table should always contain the partition key.\n",
    "- If you choose to define row triggers, you do so on individual partitions instead of the partitioned table.\n",
    "- Creating a foreign key reference on a partitioned table is not supported.\n",
    "- A partition table inherits tablespaces from its parent.\n",
    "- You cannot mix temporary and permanent relations in the same partition hierarchy.\n",
    "- If you have a default partition in the partitioning hierarchy, you can add new partitions only if there is no data in the default partition that matches the partition constraint of the new partition.\n",
    "  \n",
    "  \n",
    "To learn more about table partitioning, check out:\n",
    "\n",
    "<a href target=\"_blank\" href=\"https://docs.yugabyte.com/preview/explore/ysql-language-features/advanced-features/partitions\">Table Partitioning</a> at docs.yugabyte.com."
   ]
  },
  {
   "attachments": {},
   "cell_type": "markdown",
   "metadata": {},
   "source": [
    "---\n",
    "# Tablespaces and Row-level Geo-Partitioning\n",
    "YugabyteDB extends the concept of PostgreSQL tablespaces for a distributed database. In PostgreSQL, tablespaces allow administrators to specify specific tables and indexes should reside on disk, typically based on how users want to store and access the data. This control over data placement enables fine-grained performance tuning. You can, for example, place heavily accessed smaller tables and indexes on fast SSDs.\n",
    "\n",
    "YSQL tablespaces re-purpose this concept for a geo-distributed deployment by allowing you to:\n",
    "-  specify the number of replicas for a table or index,\n",
    "-  how to distribute across a set of clouds, regions, and zones\n",
    "\n",
    "Replicating and pinning tables in specific regions can lower read latency, improve resilience, and achieve compliance with data residency laws. \n",
    "\n",
    "For example, you can create duplicate indexes on the same column of a table and place these indexes close to users in different regions for fast access. Similarly, you can partition a master table and associate the partitions with different tablespaces to pin the data geographically.\n",
    "\n",
    "The ability to control the placement of tables in a fine-grained manner provides the following advantages:\n",
    "\n",
    "- Tables with critical information can have higher replication factor and increased fault tolerance compared to the rest of the data.\n",
    "- Based on the access pattern, a table can be constrained to the region or zone where it's accessed most frequently.\n",
    "- A table can have an index with an entirely different placement policy, thereby boosting the read performance without affecting the placement policy of the table itself.\n",
    "- Coupled with table partitioning, tablespaces can be used to implement row-level geo-partitioning. In other words,  based on the values of certain columns in a given row, you can pin the rows of a table to different geo-locations."
   ]
  },
  {
   "attachments": {},
   "cell_type": "markdown",
   "metadata": {},
   "source": [
    "## q3 | Tablespaces"
   ]
  },
  {
   "attachments": {},
   "cell_type": "markdown",
   "metadata": {},
   "source": [
    "Tablespaces are assigned repositories with assigned locations. The definition of tablespaces includes the number of replicas as well as placement blocks. Placement blocks are a cluster configuration.  Nodes in the cluster are assigned to placement blocks. Here is the configuration for this notebook\n",
    "\n",
    "` --placement_info \"cloud1.region1.zone1,cloud1.region2.zone2,cloud1.region3.zone3\" `\n",
    "\n",
    "They are arbitrarily named: cloud, region and zone.\n",
    "- `cloud1.region1.zone1`\n",
    "- `cloud1.region2.zone2`\n",
    "- `cloud1.region3.zone3`\n",
    "  \n",
    "The definition of tablespace must align with placement black names in the cluster.\n"
   ]
  },
  {
   "attachments": {},
   "cell_type": "markdown",
   "metadata": {},
   "source": [
    "You can view the placement blocks per table. You can also see the placement blocks using the YB-Master UI."
   ]
  },
  {
   "cell_type": "code",
   "execution_count": null,
   "metadata": {},
   "outputs": [],
   "source": [
    "print (NB_YB_MASTER_HOST_GITPOD_URL)"
   ]
  },
  {
   "attachments": {},
   "cell_type": "markdown",
   "metadata": {},
   "source": [
    "**Masters**\n",
    "|Server|RAFT Role|Uptime|Details|\n",
    "|-|-|-|-|\n",
    "|127.0.0.1:7000|\tLEADER|\t17:48:54|CLOUD: cloud1<br>REGION: region1<br>ZONE: zone1<br>UUID: 0d97797eb98b4327a9f0b0c8c8021dc2|\n",
    "|127.0.0.2:7000|FOLLOWER|17:48:54|CLOUD: cloud1<br>REGION: region2<br>ZONE: zone2<br>UUID: a2576e3f7f324083bb9fdc1dd05e73d6|\n",
    "|127.0.0.3:7000|\tFOLLOWER|\t17:48:54|CLOUD: cloud1<br>REGION: region3<br>ZONE: zone3<br>UUID: 24df5c170f664b5b91072b9f1f6708d9|\n"
   ]
  },
  {
   "cell_type": "code",
   "execution_count": null,
   "metadata": {
    "vscode": {
     "languageId": "sql"
    }
   },
   "outputs": [],
   "source": [
    "%%sql\n",
    "drop table if exists tbl_transactions;"
   ]
  },
  {
   "attachments": {},
   "cell_type": "markdown",
   "metadata": {},
   "source": [
    "`cloud1.region1.zone1` is for the US geographic region."
   ]
  },
  {
   "cell_type": "code",
   "execution_count": null,
   "metadata": {
    "vscode": {
     "languageId": "shellscript"
    }
   },
   "outputs": [],
   "source": [
    "%%bash -s \"$NB_YB_PATH_BIN\" \"$NB_DB_NAME\" #\\d+\n",
    "YB_PATH_BIN=${1}\n",
    "DB_NAME=${2}\n",
    "\n",
    "cd $YB_PATH_BIN\n",
    "\n",
    "#  can't do with sql magic \n",
    "# needs double quote esacpe for bash because of JSON\n",
    "#\n",
    "# create tablespace tblspace_us with (replica_placement=\n",
    "#  '{\"num_replicas\": 1, \n",
    "#    \"placement_blocks\": [{\n",
    "#       \"cloud\": \"cloud1\", \"region\": \"region1\", \"zone\": \"zone1\", \"min_num_replicas\": 1}]\n",
    "#   }'\n",
    "# );\n",
    "DDL_TABLESPACE_US=\"drop tablespace if exists tblspace_us; create tablespace tblspace_us with (replica_placement='{\"\\\"num_replicas\"\\\": 1, \"\\\"placement_blocks\"\\\": [{ \"\\\"cloud\"\\\": \"\\\"cloud1\"\\\", \"\\\"region\"\\\": \"\\\"region1\"\\\", \"\\\"zone\"\\\": \"\\\"zone1\"\\\", \"\\\"min_num_replicas\"\\\": 1}]}');\" \n",
    "\n",
    "echo $DDL_TABLESPACE_US | ./ysqlsh -d ${DB_NAME}"
   ]
  },
  {
   "attachments": {},
   "cell_type": "markdown",
   "metadata": {},
   "source": [
    "`cloud1.region2.zone2` is for the EU  geographic region."
   ]
  },
  {
   "cell_type": "code",
   "execution_count": null,
   "metadata": {
    "vscode": {
     "languageId": "shellscript"
    }
   },
   "outputs": [],
   "source": [
    "%%bash -s \"$NB_YB_PATH_BIN\" \"$NB_DB_NAME\" #\\d+\n",
    "YB_PATH_BIN=${1}\n",
    "DB_NAME=${2}\n",
    "\n",
    "cd $YB_PATH_BIN\n",
    "\n",
    "#  can't do with sql magic \n",
    "# needs double quote esacpe for bash because of JSON\n",
    "\n",
    "DDL_TABLESPACE_EU=\"drop tablespace if exists tblspace_eu; create tablespace tblspace_eu with (replica_placement='{\"\\\"num_replicas\"\\\": 1, \"\\\"placement_blocks\"\\\": [{ \"\\\"cloud\"\\\": \"\\\"cloud1\"\\\", \"\\\"region\"\\\": \"\\\"region2\"\\\", \"\\\"zone\"\\\": \"\\\"zone2\"\\\", \"\\\"min_num_replicas\"\\\": 1}]}');\" \n",
    "\n",
    "echo $DDL_TABLESPACE_EU | ./ysqlsh -d ${DB_NAME}\n",
    "\n",
    "\n"
   ]
  },
  {
   "attachments": {},
   "cell_type": "markdown",
   "metadata": {},
   "source": [
    "`cloud1.region3.zone3` is for the AP geographic region."
   ]
  },
  {
   "cell_type": "code",
   "execution_count": null,
   "metadata": {
    "vscode": {
     "languageId": "shellscript"
    }
   },
   "outputs": [],
   "source": [
    "%%bash -s \"$NB_YB_PATH_BIN\" \"$NB_DB_NAME\" #\\d+\n",
    "YB_PATH_BIN=${1}\n",
    "DB_NAME=${2}\n",
    "\n",
    "cd $YB_PATH_BIN\n",
    "\n",
    "#  can't do with sql magic \n",
    "# needs double quote esacpe for bash because of JSON\n",
    "\n",
    "DDL_TABLESPACE_AP=\"drop tablespace if exists tblspace_ap; create tablespace tblspace_ap with (replica_placement='{\"\\\"num_replicas\"\\\": 1, \"\\\"placement_blocks\"\\\": [{ \"\\\"cloud\"\\\": \"\\\"cloud1\"\\\", \"\\\"region\"\\\": \"\\\"region3\"\\\", \"\\\"zone\"\\\": \"\\\"zone3\"\\\", \"\\\"min_num_replicas\"\\\": 1}]}');\" \n",
    "\n",
    "echo $DDL_TABLESPACE_AP | ./ysqlsh -d ${DB_NAME}\n",
    "\n",
    "\n"
   ]
  },
  {
   "cell_type": "markdown",
   "metadata": {},
   "source": [
    "Review the table spaces."
   ]
  },
  {
   "cell_type": "code",
   "execution_count": null,
   "metadata": {
    "vscode": {
     "languageId": "sql"
    }
   },
   "outputs": [],
   "source": [
    "%%bash -s \"$NB_YB_PATH_BIN\" \"$NB_DB_NAME\"  \n",
    "\n",
    "YB_PATH_BIN=${1}\n",
    "DB_NAME=${2}\n",
    "\n",
    "cd $YB_PATH_BIN\n",
    "\n",
    "./ysqlsh -d ${DB_NAME} -c \"\\db+ tblspace_*\""
   ]
  },
  {
   "attachments": {},
   "cell_type": "markdown",
   "metadata": {},
   "source": [
    "#### q3a | Create Table Partitions\n",
    "\n",
    "The partitions will determine the which rows are included with the value from `geo_location`. Since the partitioned table has the Partition property by LIST, not RANGE, only rows that contain the LIST value will be assigned to a partition."
   ]
  },
  {
   "cell_type": "code",
   "execution_count": null,
   "metadata": {
    "vscode": {
     "languageId": "sql"
    }
   },
   "outputs": [],
   "source": [
    "%%sql\n",
    "drop table if exists tbl_transactions;\n",
    "create table if not exists tbl_transactions (\n",
    "  user_id       int not null,\n",
    "  account_id    int not null,\n",
    "  geo_partition text,\n",
    "  account_type  text not null,\n",
    "  amount        numeric not null,\n",
    "  created_at    timestamp default now()\n",
    ") partition by list (geo_partition)\n",
    ";\n"
   ]
  },
  {
   "attachments": {},
   "cell_type": "markdown",
   "metadata": {},
   "source": [
    "Create the partition for the US region with the assigned tablespace."
   ]
  },
  {
   "cell_type": "code",
   "execution_count": null,
   "metadata": {
    "vscode": {
     "languageId": "sql"
    }
   },
   "outputs": [],
   "source": [
    "%%sql \n",
    "drop table if exists tbl_transactions_prtn_us;\n",
    "create table tbl_transactions_prtn_us partition of tbl_transactions (\n",
    "    user_id, \n",
    "    account_id, \n",
    "    geo_partition, \n",
    "    account_type, \n",
    "    amount, \n",
    "    created_at,\n",
    "    primary key (user_id hash, account_id, geo_partition)\n",
    ") for values in ('US') \n",
    "tablespace tblspace_us;"
   ]
  },
  {
   "attachments": {},
   "cell_type": "markdown",
   "metadata": {},
   "source": [
    "Create the partition for the EU region with the assigned tablespace."
   ]
  },
  {
   "cell_type": "code",
   "execution_count": null,
   "metadata": {
    "vscode": {
     "languageId": "sql"
    }
   },
   "outputs": [],
   "source": [
    "%%sql \n",
    "drop table if exists tbl_transactions_prtn_eu;\n",
    "create table tbl_transactions_prtn_eu partition of tbl_transactions (\n",
    "    user_id, \n",
    "    account_id, \n",
    "    geo_partition, \n",
    "    account_type, \n",
    "    amount, \n",
    "    created_at,\n",
    "    primary key (user_id hash, account_id, geo_partition)\n",
    ") for values in ('EU') \n",
    "tablespace tblspace_eu;"
   ]
  },
  {
   "attachments": {},
   "cell_type": "markdown",
   "metadata": {},
   "source": [
    "Create the partition for the AP region with the assigned tablespace."
   ]
  },
  {
   "cell_type": "code",
   "execution_count": null,
   "metadata": {
    "vscode": {
     "languageId": "sql"
    }
   },
   "outputs": [],
   "source": [
    "%%sql \n",
    "drop table if exists tbl_transactions_prtn_ap;\n",
    "create table if not exists tbl_transactions_prtn_ap partition of tbl_transactions (\n",
    "    user_id, \n",
    "    account_id, \n",
    "    geo_partition, \n",
    "    account_type, \n",
    "    amount, \n",
    "    created_at,\n",
    "    primary key (user_id hash, account_id, geo_partition)\n",
    ") for values in ('AP') \n",
    "tablespace tblspace_ap;"
   ]
  },
  {
   "attachments": {},
   "cell_type": "markdown",
   "metadata": {},
   "source": [
    "View the table in the YB-Master Web Ui."
   ]
  },
  {
   "cell_type": "code",
   "execution_count": null,
   "metadata": {},
   "outputs": [],
   "source": [
    "#%% python, but prepared statements as sql magic\n",
    "THIS_TABLE_NAME = 'tbl_transactions'\n",
    "THIS_SCHEMA_NAME = 'public'\n",
    "DB_NAME = NB_DB_NAME\n",
    "\n",
    "## Comment out if local\n",
    "view_gitpod_url = %sql select fn_get_table_id_url(:NB_YB_MASTER_HOST_GITPOD_URL,7000,:DB_NAME,:THIS_SCHEMA_NAME,:THIS_TABLE_NAME ) as view_gitpod_url\n",
    "print (view_gitpod_url)\n",
    "\n",
    "## Uncomment if local\n",
    "# view_local_url = %sql select fn_get_table_id_url(:NB_HOST_IPv4_01,7000,:DB_NAME,:THIS_SCHEMA_NAME,:THIS_TABLE_NAME ) as view_local_url\n",
    "# print (view_local_url)"
   ]
  },
  {
   "attachments": {},
   "cell_type": "markdown",
   "metadata": {},
   "source": [
    "#### q3b | Add records to the transactions table\n",
    "Data localization also has a role in performance as well. Keeping the data source closer to the client will reduce network latency, improving the response time of the database. Having an understanding of what data is needed where coupled with the ability to place data in particular location is an important tool in distributed sql systems."
   ]
  },
  {
   "cell_type": "code",
   "execution_count": null,
   "metadata": {
    "vscode": {
     "languageId": "sql"
    }
   },
   "outputs": [],
   "source": [
    "%%sql\n",
    "insert into tbl_transactions select generate_series(1,65535), round(1000*random()), 'US', 'customer',  round(1000*random()), now();\n",
    "insert into tbl_transactions select generate_series(65536,100000), round(1000*random()), 'EU', 'customer',  round(1000*random()), now();\n",
    "insert into tbl_transactions select generate_series(100000, 150000), round(1000*random()), 'AP', 'customer',  round(1000*random()), now();"
   ]
  },
  {
   "attachments": {},
   "cell_type": "markdown",
   "metadata": {},
   "source": [
    "Verify the inserts for AP. Every table contains the `tableoid` system column. `tableoid` is the `oid` (object identifier) of the table to which the row belongs. While querying a partitioned table, the tableoid column returns the oid of the partition to which the row belongs. Using the `regclass` type, you can view the the name of the object."
   ]
  },
  {
   "cell_type": "code",
   "execution_count": null,
   "metadata": {
    "vscode": {
     "languageId": "sql"
    }
   },
   "outputs": [],
   "source": [
    "%%sql\n",
    "select '' _\n",
    "  , tableoid\n",
    "  , tableoid::regclass\n",
    "  , user_id\n",
    "  , account_id\n",
    "  , geo_partition\n",
    "from tbl_transactions\n",
    "where 1=1\n",
    "  and geo_partition ='AP'\n",
    "-- and geo_partition ='EU'\n",
    "--  and geo_partition ='US'\n",
    "limit 10;"
   ]
  },
  {
   "attachments": {},
   "cell_type": "markdown",
   "metadata": {},
   "source": [
    "##### View the explain plan and metrics\n",
    "\n",
    "In this example, we are using Object Identifiers to locate the partition table that is associated with the row of data."
   ]
  },
  {
   "cell_type": "code",
   "execution_count": null,
   "metadata": {
    "vscode": {
     "languageId": "sql"
    }
   },
   "outputs": [],
   "source": [
    "%%sql /* explain plan */\n",
    "execute stmt_util_metrics_snap_reset;\n",
    "explain (analyze, dist) \n",
    "select '' _\n",
    "  , tableoid::regclass\n",
    "  , user_id\n",
    "  , account_id\n",
    "  , geo_partition\n",
    "from tbl_transactions\n",
    "where 1=1 \n",
    "  -- and user_id = 1\n",
    "  and geo_partition = 'US'\n",
    "-- and user_id = 2\n",
    "-- and geo_partition = 'EU'\n",
    "-- and user_id = 3\n",
    "-- and geo_partition = 'AP'\n",
    "-- and yb_is_local_table(tableoid)\n",
    ";"
   ]
  },
  {
   "cell_type": "markdown",
   "metadata": {},
   "source": [
    "```\n",
    "Append (actual time=3.112..125.423 rows=65535 loops=1)\n",
    "  -> Seq Scan on public.tbl_transactions_prtn_us (actual time=3.112..120.394 rows=65535 loops=1)\n",
    "        Output: ''::text, (tbl_transactions_prtn_us.tableoid)::regclass, tbl_transactions_prtn_us.user_id, tbl_transactions_prtn_us.account_id, tbl_transactions_prtn_us.geo_partition\n",
    "        Remote Filter: (tbl_transactions_prtn_us.geo_partition = 'US'::text)\n",
    "Planning Time: 0.255 ms\n",
    "Execution Time: 128.625 ms\n",
    "Peak Memory Usage: 24 kB\n",
    "```"
   ]
  },
  {
   "attachments": {},
   "cell_type": "markdown",
   "metadata": {},
   "source": [
    "#### q3c | Explain Plan (above ^^)\n",
    "\n",
    "A few observation about the query plan:\n",
    "- The `Seq Scan` is for the table partition.\n",
    "- `Remote Filter` indicates a pushdown"
   ]
  },
  {
   "cell_type": "code",
   "execution_count": null,
   "metadata": {
    "vscode": {
     "languageId": "sql"
    }
   },
   "outputs": [],
   "source": [
    "%%sql\n",
    "execute stmt_util_metrics_snap_table;"
   ]
  },
  {
   "cell_type": "markdown",
   "metadata": {},
   "source": [
    "##### q3d | Metrics (above ^^)\n",
    "Here, the query reads from one table partition and returns all rows."
   ]
  },
  {
   "cell_type": "markdown",
   "metadata": {},
   "source": [
    "| row name |\trocksdb_number_db_seek\t| rocksdb_number_db_next\t| rows_inserted |\n",
    "|-|-|-|-|\n",
    "| db_ybu tbl_transactions_prtn_us https://7000-yugabytedbu-ysqldevelop-ggq7agkk4rt.ws-us107.gitpod.io/table?id=00004000000030008000000000004167 f1cb4247efe84e12a9322731b2551c9f L\t| 65599\t| 131070\t| None |"
   ]
  },
  {
   "attachments": {},
   "cell_type": "markdown",
   "metadata": {},
   "source": [
    "### q4 | Built-in Geo-partitioning helper functions\n",
    "With built-in functions for geo-partitioning, you can simplify reads and writes.\n",
    "\n",
    "|FUNCTION\t|RETURN TYPE|\tDESCRIPTION|\n",
    "|-|-|-|\n",
    "|`yb_is_local_table(oid)`|\t`boolean`|\tReturns whether the given `oid` is a table replicated only in the local region|\n",
    "|`yb_server_region()`|\t`varchar`|\tReturns the region of the currently connected node|\n",
    "|`yb_server_zone()`|\t`varchar`|\tReturns the zone of the currently connected node|\n",
    "|`yb_server_cloud()`|\t`varchar`|\tReturns the cloud provider of the currently connected node|"
   ]
  },
  {
   "cell_type": "markdown",
   "metadata": {},
   "source": [
    "The listener address shows the connection for the %%sql magic cells. By default, it is `127.0.0.1`. The YB-Master Server Web UI shows the placement association with each host."
   ]
  },
  {
   "cell_type": "code",
   "execution_count": null,
   "metadata": {
    "vscode": {
     "languageId": "sql"
    }
   },
   "outputs": [],
   "source": [
    "%%sql\n",
    "show listen_addresses;"
   ]
  },
  {
   "cell_type": "markdown",
   "metadata": {},
   "source": [
    "**Masters**\n",
    "|Server|RAFT Role|Uptime|Details|\n",
    "|-|-|-|-|\n",
    "|127.0.0.1:7000|\tLEADER|\t17:48:54|CLOUD: cloud1<br>REGION: region1<br>ZONE: zone1<br>UUID: 0d97797eb98b4327a9f0b0c8c8021dc2|\n",
    "\n"
   ]
  },
  {
   "cell_type": "code",
   "execution_count": null,
   "metadata": {},
   "outputs": [],
   "source": [
    "print (NB_YB_MASTER_HOST_GITPOD_URL)"
   ]
  },
  {
   "cell_type": "markdown",
   "metadata": {},
   "source": [
    "Since the connection for all `%%sql` magic cells in this notebook is to `127.0.0.1`, the following query can utilize this information.  The `where` clause predicate indicates how:\n",
    "- `yb_is_local_table(tableoid)`\n",
    "\n",
    "The `tableoid` is for the local connection."
   ]
  },
  {
   "cell_type": "code",
   "execution_count": null,
   "metadata": {
    "vscode": {
     "languageId": "sql"
    }
   },
   "outputs": [],
   "source": [
    "%%sql\n",
    "select '' _\n",
    "   , yb_server_cloud()\n",
    "   , yb_server_region()\n",
    "   , yb_server_zone()\n",
    "   , tableoid::regclass\n",
    "   , user_id\n",
    "   , account_id\n",
    "   , geo_partition\n",
    "from tbl_transactions\n",
    "where 1=1 \n",
    "and yb_is_local_table(tableoid)\n",
    "limit 10;"
   ]
  },
  {
   "cell_type": "markdown",
   "metadata": {},
   "source": [
    "The query show result for the `tableoid:tbl_transactions_prtn_us`.  All the rows are for the `US`. The reason for this is:\n",
    "- `tbl_transactions_prtn_us` belongs to the table_space, `tblspace_us`\n",
    "- `tblspace_us` has a placement block that is `cloud1.region1.zone1`\n",
    "- `127.0.0.1` has the same placement,  `cloud1.region1.zone1`"
   ]
  },
  {
   "attachments": {},
   "cell_type": "markdown",
   "metadata": {},
   "source": [
    "View the query plan. This will show `Filter: yb_is_local_table(tableoid)`."
   ]
  },
  {
   "cell_type": "code",
   "execution_count": null,
   "metadata": {
    "vscode": {
     "languageId": "sql"
    }
   },
   "outputs": [],
   "source": [
    "%%sql /* explain plan */\n",
    "\n",
    "explain (analyze, dist)\n",
    "select '' _\n",
    "  , yb_server_cloud()\n",
    "  , yb_server_region()\n",
    "  , yb_server_zone()\n",
    "  , tableoid::regclass\n",
    "  , user_id\n",
    "  , account_id\n",
    "  , geo_partition\n",
    "from tbl_transactions\n",
    "where 1=1 \n",
    "--  and user_id = 1\n",
    "-- and geo_partition = 'US'\n",
    "-- and user_id = 2\n",
    "-- and geo_partition = 'EU'\n",
    "-- and user_id = 3\n",
    "-- and geo_partition = 'AP'\n",
    "and yb_is_local_table(tableoid)\n",
    "limit 10\n",
    ";"
   ]
  },
  {
   "cell_type": "markdown",
   "metadata": {},
   "source": [
    "```\n",
    "Limit (cost=0.00..1.01 rows=10 width=76) (actual time=1.595..1.934 rows=10 loops=1)\n",
    "  -> Append (cost=0.00..101.50 rows=1000 width=76) (actual time=1.594..1.931 rows=10 loops=1)\n",
    "        -> Seq Scan on tbl_transactions_prtn_us (cost=0.00..96.50 rows=1000 width=76) (actual time=1.594..1.929 rows=10 loops=1)\n",
    "              Filter: yb_is_local_table(tableoid)\n",
    "              Storage Table Read Requests: 1\n",
    "              Storage Table Read Execution Time: 1.493 ms\n",
    "Planning Time: 0.228 ms\n",
    "Execution Time: 3.047 ms\n",
    "Storage Read Requests: 1\n",
    "Storage Read Execution Time: 1.493 ms\n",
    "Storage Write Requests: 0\n",
    "Catalog Read Requests: 1\n",
    "Catalog Read Execution Time: 0.853 ms\n",
    "Catalog Write Requests: 0\n",
    "Storage Flush Requests: 0\n",
    "Storage Execution Time: 2.346 ms\n",
    "Peak Memory Usage: 56 kB\n",
    "```"
   ]
  },
  {
   "attachments": {},
   "cell_type": "markdown",
   "metadata": {},
   "source": [
    "The `yb_is_local_table` built-in function. You can use this function to show all database objects associated with a tablespace. The following query shows that relations for any tablespaces related to the `local` connection."
   ]
  },
  {
   "cell_type": "code",
   "execution_count": null,
   "metadata": {
    "vscode": {
     "languageId": "sql"
    }
   },
   "outputs": [],
   "source": [
    "%%sql\n",
    "select oid, relname from pg_class where yb_is_local_table(oid);"
   ]
  },
  {
   "attachments": {},
   "cell_type": "markdown",
   "metadata": {},
   "source": [
    "To confirm the behavior of the function, change `%sql` magic connection to use another host, in this case, host `127.0.0.1`."
   ]
  },
  {
   "cell_type": "code",
   "execution_count": null,
   "metadata": {},
   "outputs": [],
   "source": [
    "# connect use Python 3.7.9+\n",
    "db_host=NB_HOST_IPv4_02\n",
    "# db_host=NB_HOST_IPv4_03\n",
    "db_name=NB_DB_NAME\n",
    "\n",
    "connection_str='postgresql+psycopg2://yugabyte@'+db_host+':5433/'+db_name"
   ]
  },
  {
   "cell_type": "markdown",
   "metadata": {},
   "source": [
    "Reload the connection for the `%%sql` magic cells."
   ]
  },
  {
   "cell_type": "code",
   "execution_count": null,
   "metadata": {},
   "outputs": [],
   "source": [
    "%reload_ext sql\n",
    "%sql {connection_str}"
   ]
  },
  {
   "cell_type": "markdown",
   "metadata": {},
   "source": [
    "Verify that there is a new host."
   ]
  },
  {
   "cell_type": "code",
   "execution_count": null,
   "metadata": {},
   "outputs": [],
   "source": [
    "NEW_HOST = %sql show listen_addresses;\n",
    "print (NEW_HOST)"
   ]
  },
  {
   "attachments": {},
   "cell_type": "markdown",
   "metadata": {},
   "source": [
    "Now, rerun the query using the new connection on `127.0.0.2`."
   ]
  },
  {
   "cell_type": "code",
   "execution_count": null,
   "metadata": {
    "vscode": {
     "languageId": "sql"
    }
   },
   "outputs": [],
   "source": [
    "%%sql\n",
    "select '' _\n",
    "  , yb_server_cloud()\n",
    "  , yb_server_region()\n",
    "  , yb_server_zone()\n",
    "  , tableoid::regclass\n",
    "  , user_id\n",
    "  , account_id\n",
    "  , geo_partition\n",
    "from tbl_transactions\n",
    "where 1=1 \n",
    "and yb_is_local_table(tableoid)\n",
    "limit 10;"
   ]
  },
  {
   "attachments": {},
   "cell_type": "markdown",
   "metadata": {},
   "source": [
    "The results are for the `EU`. Review the explain plan to verify that the table partition is `tbl_transactions_prtn_eu`."
   ]
  },
  {
   "cell_type": "code",
   "execution_count": null,
   "metadata": {
    "vscode": {
     "languageId": "sql"
    }
   },
   "outputs": [],
   "source": [
    "%%sql /* explain plan */\n",
    "\n",
    "\n",
    "explain (analyze, dist)\n",
    "select '' _\n",
    "  , yb_server_cloud()\n",
    "  , yb_server_region()\n",
    "  , yb_server_zone()\n",
    "  , tableoid::regclass\n",
    "  , user_id\n",
    "  , account_id\n",
    "  , geo_partition\n",
    "from tbl_transactions\n",
    "where 1=1 \n",
    "--  and user_id = 1\n",
    "-- and geo_partition = 'US'\n",
    "-- and user_id = 2\n",
    "-- and geo_partition = 'EU'\n",
    "-- and user_id = 3\n",
    "-- and geo_partition = 'AP'\n",
    "and yb_is_local_table(tableoid)\n",
    "limit 10\n",
    ";"
   ]
  },
  {
   "cell_type": "markdown",
   "metadata": {},
   "source": [
    "```\n",
    "Limit (cost=0.00..1.09 rows=10 width=176) (actual time=2.508..2.755 rows=10 loops=1)\n",
    "  -> Append (cost=0.00..109.00 rows=1000 width=176) (actual time=2.507..2.753 rows=10 loops=1)\n",
    "        -> Seq Scan on tbl_transactions_prtn_eu (cost=0.00..104.00 rows=1000 width=176) (actual time=2.507..2.751 rows=10 loops=1)\n",
    "              Filter: yb_is_local_table(tableoid)\n",
    "              Storage Table Read Requests: 1\n",
    "              Storage Table Read Execution Time: 2.336 ms\n",
    "Planning Time: 0.404 ms\n",
    "Execution Time: 3.927 ms\n",
    "Storage Read Requests: 1\n",
    "Storage Read Execution Time: 2.336 ms\n",
    "Storage Write Requests: 0\n",
    "Catalog Read Requests: 0\n",
    "Catalog Write Requests: 0\n",
    "Storage Flush Requests: 0\n",
    "Storage Execution Time: 2.336 ms\n",
    "Peak Memory Usage: 72 kB\n",
    "\n",
    "```"
   ]
  },
  {
   "cell_type": "markdown",
   "metadata": {},
   "source": [
    "The query plan confirms that the `127.0.0.2` connection uses the `tbl_transactions_prtn_eu` partition.\n",
    "- `tbl_transactions_prtn_eu` belongs to the table_space, `tblspace_eu`\n",
    "- `tblspace_eu` has a placement block that is `cloud1.region2.zone2`\n",
    "- `127.0.0.2` has the same placement,  `cloud1.region2.zone2`"
   ]
  },
  {
   "attachments": {},
   "cell_type": "markdown",
   "metadata": {},
   "source": [
    "To learn more about the `yb_is_local_table` built-in function, check out:\n",
    "- [Docs --> yb_is_local_table](https://docs.yugabyte.com/preview/api/ysql/exprs/geo_partitioning_helper_functions/func_yb_is_local_table/)"
   ]
  },
  {
   "attachments": {},
   "cell_type": "markdown",
   "metadata": {
    "deletable": false,
    "editable": false
   },
   "source": [
    "---\n",
    "# 🌟🌟🌟🌟🌟🌟   All  done! \n",
    "In this notebook, you completed the following:\n",
    "In this lab, you completed the following:\n",
    "- Created a partitioned table consisting of table partitions\n",
    "- Created tablespaces\n",
    "- Created table partitions assigned to the tabelspaces\n",
    "- Queried the tables using row-level geo-partitioning\n",
    "\n"
   ]
  }
 ],
 "metadata": {
  "kernelspec": {
   "display_name": "Python 3.7.9 64-bit",
   "language": "python",
   "name": "python3"
  },
  "language_info": {
   "codemirror_mode": {
    "name": "ipython",
    "version": 3
   },
   "file_extension": ".py",
   "mimetype": "text/x-python",
   "name": "python",
   "nbconvert_exporter": "python",
   "pygments_lexer": "ipython3",
   "version": "3.9.16"
  },
  "orig_nbformat": 4,
  "vscode": {
   "interpreter": {
    "hash": "aee8b7b246df8f9039afb4144a1f6fd8d2ca17a180786b69acc140d282b71a49"
   }
  }
 },
 "nbformat": 4,
 "nbformat_minor": 2
}
