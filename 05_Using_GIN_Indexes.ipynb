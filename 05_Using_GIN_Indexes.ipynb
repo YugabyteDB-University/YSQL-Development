{
 "cells": [
  {
   "attachments": {},
   "cell_type": "markdown",
   "metadata": {},
   "source": [
    "<div style=\"width:100%; background-color: #000041\"><a target=\"_blank\" href=\"http://university.yugabyte.com\"><img src=\"assets/YBU_Logo.png\" /></a></div><br>\n",
    "\n",
    "> **YugabyteDB YSQL Development**\n",
    ">\n",
    "> Enroll for free at [Yugabyte University](https://university.yugabyte.com/courses/yugabytedb-ysql-development).\n",
    ">\n",
    "<br>\n",
    "This notebook file is:\n",
    "\n",
    "`05_Using_GIN_Indexes.ipynb`\n"
   ]
  },
  {
   "attachments": {},
   "cell_type": "markdown",
   "metadata": {},
   "source": [
    "# About Generalized Inverted Indexes (YBGIN)\n",
    "\n",
    "In YugabyteDB, tables and secondary indexes exist as tablets. A tablet is customized RocksDB database that stores a key-value document. For a table, the tablet key-value store maps primary keys and columns. The key-value store of a secondary index tablet maps the index keys to the primary keys of the table (and any additional columns, such as for a covering index). In DocDB, the distributed document storage of YugabyteDB, the key-value stores for tablets exist as LSM-Trees in SST files.\n",
    "\n",
    "A regular secondary index can help improve the efficiency of a query that utilizes the index. However, for container data types such as `array`, `jsonb`, and `tsvector`, a regular index often is of limited use. Here is a basic example that explains why:\n",
    "\n",
    "`where this_int_array = '{1,2,3}'` uses an equality operator and the query optimizer will select the regular index for the `this_int_array` container column.\n",
    "\n",
    "`where  this_int_array @> '{3}'` use the contains operator and the query optimizer will not use the regular index for the `this_int_array` container column.\n",
    "\n",
    "For queries that search container data types, a **Generalized Inverted Index (GIN)** is an ideal index.  A GIN index has only one single index entry per key which stores the mapping of all key rows to the same value in the index entry. For this reason, a GIN index often best supports container data types, especially for applications that utilize these columns in search queries. \n",
    "\n",
    "YSQL supports the creation of a GIN index using the `GIN` or `YBGIN` keywords for these column data types:\n",
    "- `array`\n",
    "- `jsonb`\n",
    "- `tsvector`\n",
    "\n",
    "Here ar some examples for how a GIN index indexes the elements inside a container:\n",
    "\n",
    "|Data type|Use case| Example | GIN elements|\n",
    "|-|-|-|-|\n",
    "| `array`| element search |  `'{1,5,1}'` | 1, 5 |\n",
    "|  `jsonb` | key/value/path search |  `'{\"k\",\"v\"}'` | k, v |\n",
    "|  `tsvector` | full text search |  `to_tsvector('The quick brown fox')` | brown, fox, quick |\n",
    "\n",
    "\n",
    "Here's how you create a YBGIN index for a supported data type:\n",
    "```\n",
    "create index idx_gin_example on tbl_example using YBGIN (this_int_array);\n",
    "```\n",
    "\n",
    "A YBGIN index utilizes **range sharding**. The LSM tree sorts the specified key values for range sharding.\n",
    "\n",
    "> Note\n",
    "> \n",
    "> PostgreSQL stores the key in the index entry with the mapping details in posting tree using a B-Tree index. YugabyteDB uses a LSM tree index. \n",
    "> \n",
    "> A LSM tree is not an tree structure, but rather, a complex algorithm that converts discrete random write requests into batch sequential write requests. To improve write performance for the LSM tree, RocksDB utilizes a Write-Ahead Log (WAL) and a memtable (a skiplist that lives in memory). The sequential writes in the memtable persists to disk as a Sorted Sequence Table (SSTable or SST) files.\n",
    "\n",
    "\n",
    "\n",
    "## GIN Operator classes\n",
    "Operator classes define semantics for index columns of a particular data type and a particular index access method. An operator class specifies that a particular operator family is applicable to a particular indexable column data type. As shown in the below table, YugabyteDB supports all the GIN operator classes included in the core PostgreSQL distribution. \n",
    "\n",
    "| Name  | Indexed Data Type | Indexable Operators | \n",
    "|-|-|-|\n",
    "| array_ops | anyarray | <li>`&&`  <li>`<@`  <li>`=`  <li>`@>` |\n",
    "| jsonb_ops | jsonb |existence operators <li>`?` <li>`?&` <li>`?\\|` <br> containment operators<li>`@>` <li>`@?` <li>`@@`|\n",
    "| jsonb_path_ops | jsonb |containment operators <li>`@>` <li>`@?` <li>`@@` |\n",
    "| tsvector_ops | tsvector | <li>`@@` <li>`@@@` | \n",
    "\n",
    "In this notebook, using Explain Plans, built-in functions, and custom utilities for YB-TServer metrics, you will learn about how and when to utilize GIN Indexes in YugabyteDB."
   ]
  },
  {
   "attachments": {},
   "cell_type": "markdown",
   "metadata": {},
   "source": [
    "## 🛠️ Requirements\n",
    "Here are the requirements for this notebook:\n",
    "- ✅ Create the notebook variables in `01_Lab_Setup.ipynb`, which you previously did\n",
    "- ✅ Create the `ds_ybu` database, which you previously did\n",
    "- ☑️ Import the notebook variables, *which you must do next*\n",
    "- ☑️ Connect to the `ds_ybu` database, *which you must do next*\n",
    "- ☑️ Run through a series of DDL and DML scenarios\n",
    "  -  Basic of DDL and DML\n",
    "  -  Built-in Functions\n",
    "  -  Advanced Features\n",
    "\n",
    "\n",
    "### Select your notebook kernel\n",
    "- In the Notebook toolbar, click **Select Kernel**.\n",
    "<br>\n",
    "<img width=50% src=\"assets/01_01_Select_Kernel_Toolbar.png\" />\n",
    "\n",
    "- Next, in the dropdown, select **Python 3.12** or higher.\n",
    "<br>\n",
    "<img width=50% src=\"assets/01_02_Select_Kernel_Dropdown.png\" />\n",
    "\n",
    "That's it!"
   ]
  },
  {
   "attachments": {},
   "cell_type": "markdown",
   "metadata": {},
   "source": [
    "## ⛑️ Getting help\n",
    "The best way to get help from the Yugabyte University team is to post your question on YugabyteDB Community Slack in the #training or #yb-university channels. To sign up, visit [https://communityinviter.com/apps/yugabyte-db/register](https://communityinviter.com/apps/yugabyte-db/register)."
   ]
  },
  {
   "attachments": {},
   "cell_type": "markdown",
   "metadata": {},
   "source": [
    "# 👣 Setup steps\n",
    "Here are the steps to setup this lab:\n",
    "- Import the notebook variables\n",
    "- Connect to `db_ybu` database\n",
    "- Load the SQL Magic extension for the connection\n",
    "- Create the prepared statements\n",
    "- Load the example data"
   ]
  },
  {
   "attachments": {},
   "cell_type": "markdown",
   "metadata": {},
   "source": [
    "### 👇 Import the notebook variables and style the notebook\n",
    "\n",
    "> 👉 **IMPORTANT!** 👈\n",
    "> \n",
    "> Do **NOT** skip running the following cells. \n",
    ">\n",
    "> The following Python cell reads the stored variables created in the `01_Lab_Setup.ipynb` notebook. To run the script, select Execute Cell (Play Arrow) in the left gutter of the cell.  The cell after that styles the notebook.\n",
    "\n",
    "👇 👇 👇 "
   ]
  },
  {
   "cell_type": "code",
   "execution_count": null,
   "metadata": {},
   "outputs": [],
   "source": [
    "# Use %store -r to read 01_Lab_Setup variables\n",
    "%store -r \n",
    "%config SqlMagic.named_parameters=True"
   ]
  },
  {
   "cell_type": "markdown",
   "metadata": {},
   "source": [
    "**Update the styling of the notebook**."
   ]
  },
  {
   "cell_type": "code",
   "execution_count": null,
   "metadata": {},
   "outputs": [],
   "source": [
    "from IPython.core.display import HTML\n",
    "def css_styling():\n",
    "    styles = open(\"./styles/custom.css\", \"r\").read()\n",
    "    return HTML(styles)\n",
    "css_styling()"
   ]
  },
  {
   "attachments": {},
   "cell_type": "markdown",
   "metadata": {},
   "source": [
    "## Connect to the `db_ybu` database\n",
    "Run all the cells in this section:\n",
    "- Connect using Python and PostgreSQL driver\n",
    "- Load the SQL magic extension\n",
    "- Create the prepared statements\n"
   ]
  },
  {
   "cell_type": "code",
   "execution_count": null,
   "metadata": {},
   "outputs": [],
   "source": [
    "# connect use Python 3.12.1\n",
    "import psycopg2\n",
    "import sqlalchemy as alc\n",
    "from sqlalchemy import create_engine\n",
    "\n",
    "db_host = NB_HOST_IPv4_01\n",
    "db_name = NB_DB_NAME\n",
    "\n",
    "connection_str = 'postgresql+psycopg2://yugabyte@'+db_host+':5433/'+db_name\n",
    "\n",
    "engine = create_engine(connection_str)"
   ]
  },
  {
   "attachments": {},
   "cell_type": "markdown",
   "metadata": {},
   "source": [
    "### Load the SQL magic extension"
   ]
  },
  {
   "cell_type": "code",
   "execution_count": null,
   "metadata": {},
   "outputs": [],
   "source": [
    "%reload_ext sql\n",
    "\n",
    "# SQL magic for python connection string\n",
    "%sql engine"
   ]
  },
  {
   "attachments": {},
   "cell_type": "markdown",
   "metadata": {},
   "source": [
    "### Create the prepared statements"
   ]
  },
  {
   "attachments": {},
   "cell_type": "markdown",
   "metadata": {},
   "source": [
    "> 👉 **IMPORTANT!** 👈\n",
    ">   \n",
    "> In order to create the prepared statements for the SQL magic connection, you must run the following cell!!!\n",
    "> \n",
    "> **Do not skip this step**.\n",
    "> "
   ]
  },
  {
   "cell_type": "code",
   "execution_count": null,
   "metadata": {},
   "outputs": [],
   "source": [
    "#%% python, but prepared statements as sql magic\n",
    "if (NB_GITPOD_WORKSPACE_URL is None):\n",
    "    a = %sql select fn_yb_create_stmts()\n",
    "else:\n",
    "    WORKSPACE_URL = NB_GITPOD_WORKSPACE_URL.replace('https://','https://7000-')\n",
    "    a = %sql select fn_yb_create_stmts(:WORKSPACE_URL)\n",
    "\n",
    "print (a)"
   ]
  },
  {
   "attachments": {},
   "cell_type": "markdown",
   "metadata": {},
   "source": [
    "Confirm that the following query returns a count of 3 (for three prepared statements)."
   ]
  },
  {
   "cell_type": "code",
   "execution_count": null,
   "metadata": {
    "vscode": {
     "languageId": "sql"
    }
   },
   "outputs": [],
   "source": [
    "%%sql \n",
    "select count(*) from pg_prepared_statements where 1=1 and name in ('stmt_util_metrics_snap_tablet','stmt_util_metrics_snap_table','stmt_util_metrics_snap_reset')"
   ]
  },
  {
   "attachments": {},
   "cell_type": "markdown",
   "metadata": {
    "deletable": false,
    "editable": false
   },
   "source": [
    "### Load the example tables for GIN\n",
    "Run the following cell to execute the DDL and DML scripts using `ysqlsh`. This will create the following tables\n",
    "\n",
    "- `tbl_vectors`\n",
    "- `tbl_arrays`\n",
    "- `tbl_jsonbs`"
   ]
  },
  {
   "cell_type": "code",
   "execution_count": null,
   "metadata": {
    "vscode": {
     "languageId": "shellscript"
    }
   },
   "outputs": [],
   "source": [
    "%%bash -s \"$NB_YB_PATH_BIN\" \"$NB_DB_NAME\" \"$NB_NOTEBOOK_DATA_FOLDER\" \"$NB_GIN_EXAMPLES\"   # GIN\n",
    "YB_PATH_BIN=${1}\n",
    "DB_NAME=${2}\n",
    "DATA_FOLDER=${3}\n",
    "GIN_EXAMPLES=${4}\n",
    "\n",
    "\n",
    "#ls $DATA_FOLDER\n",
    "\n",
    "GIN_EXAMPLE_PATH=${DATA_FOLDER}/${GIN_EXAMPLES}\n",
    "\n",
    "cd $YB_PATH_BIN\n",
    "echo $GIN_EXAMPLE_PATH\n",
    "# GIN Examples file\n",
    "./ysqlsh -d ${DB_NAME} -f ${GIN_EXAMPLE_PATH} >&/dev/null\n",
    "\n",
    "sleep 1;\n",
    "\n",
    "\n",
    "# Describe relations\n",
    "./ysqlsh -d ${DB_NAME} -c \"\\d+ tbl_arrays\""
   ]
  },
  {
   "attachments": {},
   "cell_type": "markdown",
   "metadata": {},
   "source": [
    "---\n",
    "# GIN Indexes \n",
    "This begins the lab for the GIN indexes.\n",
    "## q1 | array\n",
    "\n"
   ]
  },
  {
   "cell_type": "code",
   "execution_count": null,
   "metadata": {
    "vscode": {
     "languageId": "sql"
    }
   },
   "outputs": [],
   "source": [
    "%%sql\n",
    "drop table if exists tbl_arrays;\n",
    "\n",
    "create table if not exists tbl_arrays (a int[], k serial primary key);\n",
    "\n",
    "drop index if exists idx_arrays;\n",
    "\n",
    "create index nonconcurrently idx_arrays on tbl_arrays using ybgin (a);"
   ]
  },
  {
   "attachments": {},
   "cell_type": "markdown",
   "metadata": {},
   "source": [
    "Insert multiple values."
   ]
  },
  {
   "cell_type": "code",
   "execution_count": null,
   "metadata": {
    "vscode": {
     "languageId": "sql"
    }
   },
   "outputs": [],
   "source": [
    "%%sql\n",
    "insert into tbl_arrays values\n",
    "    ('{1,1,6}'),\n",
    "    ('{1,6,1}'),\n",
    "    ('{2,3,6}'),\n",
    "    ('{2,5,8}'),\n",
    "    ('{null}'),\n",
    "    ('{}'),\n",
    "    (null);\n",
    "    \n",
    "insert into tbl_arrays select '{0}' from generate_series(1, 1000);"
   ]
  },
  {
   "attachments": {},
   "cell_type": "markdown",
   "metadata": {},
   "source": [
    "> Note:\n",
    ">\n",
    "> sql magic requires the escaping with a double character , but recent fix resolved\n",
    "> - for {6} --> {{ 6 }}\n",
    "> - and doc @> '{\"year\": 1950}'"
   ]
  },
  {
   "cell_type": "code",
   "execution_count": null,
   "metadata": {
    "vscode": {
     "languageId": "sql"
    }
   },
   "outputs": [],
   "source": [
    "%%sql\n",
    "\n",
    "select * from tbl_arrays WHERE a @> '{{ 6 }}';"
   ]
  },
  {
   "attachments": {},
   "cell_type": "markdown",
   "metadata": {},
   "source": [
    "> Note:\n",
    "> \n",
    "> There's an issue with `explain analyze` and sqlMagic that breaks connection in this Preview release, so removing `analyze`. If desired, can run in a bash cell using `ysqlsh`. If you run into this error \n",
    "> \n",
    "> `(psycopg2.OperationalError) server closed the connection unexpectedly`\n",
    "> \n",
    "> Yu will need to return backup to Setup steps, and rerun the following cells:\n",
    "> - Load the SQL magic extension\n",
    "> - Create the prepared statements\n",
    ">\n",
    "> Then, return here.\n",
    ">  "
   ]
  },
  {
   "cell_type": "code",
   "execution_count": null,
   "metadata": {
    "vscode": {
     "languageId": "sql"
    }
   },
   "outputs": [],
   "source": [
    "%%sql\n",
    "explain \n",
    "select * \n",
    "from tbl_arrays\n",
    "where 1=1\n",
    "and  a @> '{{ 6 }}';"
   ]
  },
  {
   "attachments": {},
   "cell_type": "markdown",
   "metadata": {},
   "source": [
    "Issue with sql magic, can't run `explain analyze` after prepared for this query, so separating."
   ]
  },
  {
   "cell_type": "code",
   "execution_count": null,
   "metadata": {
    "vscode": {
     "languageId": "sql"
    }
   },
   "outputs": [],
   "source": [
    "%%sql\n",
    "execute  stmt_util_metrics_snap_reset;\n",
    "select pg_sleep(5);\n",
    "select * from tbl_arrays WHERE a @> '{{ 6 }}';"
   ]
  },
  {
   "attachments": {},
   "cell_type": "markdown",
   "metadata": {},
   "source": [
    "Review the metrics snapshot."
   ]
  },
  {
   "cell_type": "code",
   "execution_count": null,
   "metadata": {
    "vscode": {
     "languageId": "sql"
    }
   },
   "outputs": [],
   "source": [
    "%%sql\n",
    "execute  stmt_util_metrics_snap_table;"
   ]
  },
  {
   "attachments": {},
   "cell_type": "markdown",
   "metadata": {},
   "source": [
    "---\n",
    "## q2 | JSONB"
   ]
  },
  {
   "cell_type": "code",
   "execution_count": null,
   "metadata": {
    "vscode": {
     "languageId": "sql"
    }
   },
   "outputs": [],
   "source": [
    "%%sql\n",
    "drop table if exists tbl_jsonbs;\n",
    "\n",
    "create table tbl_jsonbs (j jsonb, k serial PRIMARY KEY);\n",
    "\n",
    "drop index if exists idx_jsonbs;\n",
    "\n",
    "create index NONCONCURRENTLY idx_jsonbs ON tbl_jsonbs USING ybgin (j);"
   ]
  },
  {
   "cell_type": "code",
   "execution_count": null,
   "metadata": {
    "vscode": {
     "languageId": "sql"
    }
   },
   "outputs": [],
   "source": [
    "%%sql\n",
    "insert into tbl_jsonbs values ('{\"some\":\"body\"}');\n",
    "insert into tbl_jsonbs values ('{\"some\":[\"where\",\"how\"]}');\n",
    "insert into tbl_jsonbs values ('{\"some\":{\"nested\":\"jsonb\"}, \"and\":[\"another\",\"element\",\"not\",\"a\",\"number\"]}');"
   ]
  },
  {
   "attachments": {},
   "cell_type": "markdown",
   "metadata": {},
   "source": [
    "> Note\n",
    "> \n",
    "> sql magic has issue with `{ \"a\":5 }`\n",
    "> spacing resolves ... \n",
    "> also, once a cell has an \"issue\", need to make new cell with resolution as there is some type of semantic caching in effect"
   ]
  },
  {
   "cell_type": "code",
   "execution_count": null,
   "metadata": {
    "vscode": {
     "languageId": "sql"
    }
   },
   "outputs": [],
   "source": [
    "%%sql\n",
    "insert into tbl_jsonbs values ('{ \"a\" : 5 }')"
   ]
  },
  {
   "attachments": {},
   "cell_type": "markdown",
   "metadata": {},
   "source": [
    "Validate the `insert` with a `select` query."
   ]
  },
  {
   "cell_type": "code",
   "execution_count": null,
   "metadata": {
    "vscode": {
     "languageId": "sql"
    }
   },
   "outputs": [],
   "source": [
    "%%sql\n",
    "select * from tbl_jsonbs where j ? 'some';"
   ]
  },
  {
   "cell_type": "code",
   "execution_count": null,
   "metadata": {
    "vscode": {
     "languageId": "sql"
    }
   },
   "outputs": [],
   "source": [
    "%%sql\n",
    "\n",
    "explain analyze select * from tbl_jsonbs where j ? 'some';"
   ]
  },
  {
   "attachments": {},
   "cell_type": "markdown",
   "metadata": {},
   "source": [
    "Issue with sqlMagic, so separating from `explain analyze`."
   ]
  },
  {
   "cell_type": "code",
   "execution_count": null,
   "metadata": {
    "vscode": {
     "languageId": "sql"
    }
   },
   "outputs": [],
   "source": [
    "%%sql\n",
    "execute  stmt_util_metrics_snap_reset;\n",
    "select pg_sleep(2);\n",
    "select * from tbl_jsonbs where j ? 'some';"
   ]
  },
  {
   "attachments": {},
   "cell_type": "markdown",
   "metadata": {},
   "source": [
    "Review the snapshot."
   ]
  },
  {
   "cell_type": "code",
   "execution_count": null,
   "metadata": {
    "vscode": {
     "languageId": "sql"
    }
   },
   "outputs": [],
   "source": [
    "%%sql\n",
    "execute  stmt_util_metrics_snap_table;"
   ]
  },
  {
   "attachments": {},
   "cell_type": "markdown",
   "metadata": {},
   "source": [
    "--- \n",
    "## q3 | Text Search (tsvector)\n",
    "\n"
   ]
  },
  {
   "cell_type": "code",
   "execution_count": null,
   "metadata": {
    "vscode": {
     "languageId": "sql"
    }
   },
   "outputs": [],
   "source": [
    "%%sql\n",
    "\n",
    "drop table if exists tbl_vectors;\n",
    "\n",
    "create table tbl_vectors (v tsvector, k serial primary key);\n",
    "\n",
    "drop index if exists idx_vectors;\n",
    "\n",
    "create index nonconcurrently idx_vectors on tbl_vectors using ybgin (v);\n",
    "\n",
    "insert into tbl_vectors values\n",
    "    (to_tsvector('simple', 'the quick brown fox')),\n",
    "    (to_tsvector('simple', 'jumps over the')),\n",
    "    (to_tsvector('simple', 'lazy dog'));\n",
    "\n",
    "-- add some filler rows to make sequential scan more costly.\n",
    "insert into tbl_vectors select to_tsvector('simple', 'filler') from generate_series(1, 1000);"
   ]
  },
  {
   "attachments": {},
   "cell_type": "markdown",
   "metadata": {},
   "source": [
    "Validate the with a `select` query."
   ]
  },
  {
   "cell_type": "code",
   "execution_count": null,
   "metadata": {
    "vscode": {
     "languageId": "sql"
    }
   },
   "outputs": [],
   "source": [
    "%%sql\n",
    "select * from tbl_vectors where v @@ to_tsquery('simple', 'the');"
   ]
  },
  {
   "cell_type": "code",
   "execution_count": null,
   "metadata": {
    "vscode": {
     "languageId": "sql"
    }
   },
   "outputs": [],
   "source": [
    "%%sql\n",
    "explain select * from tbl_vectors where v @@ to_tsquery('simple', 'the');"
   ]
  },
  {
   "attachments": {},
   "cell_type": "markdown",
   "metadata": {},
   "source": [
    "Run the metrics separately from the explain."
   ]
  },
  {
   "cell_type": "code",
   "execution_count": null,
   "metadata": {
    "vscode": {
     "languageId": "sql"
    }
   },
   "outputs": [],
   "source": [
    "%%sql\n",
    "execute  stmt_util_metrics_snap_reset;\n",
    "select pg_sleep(2);\n",
    "select * from tbl_vectors where v @@ to_tsquery('simple', 'the');"
   ]
  },
  {
   "cell_type": "code",
   "execution_count": null,
   "metadata": {
    "vscode": {
     "languageId": "sql"
    }
   },
   "outputs": [],
   "source": [
    "%%sql\n",
    "execute  stmt_util_metrics_snap_table;"
   ]
  },
  {
   "attachments": {},
   "cell_type": "markdown",
   "metadata": {},
   "source": [
    "--- \n",
    "### Limitations\n",
    "See https://docs.yugabyte.com/preview/explore/indexes-constraints/gin/#limitations\n",
    "\n"
   ]
  },
  {
   "attachments": {},
   "cell_type": "markdown",
   "metadata": {},
   "source": [
    "---\n",
    "\n",
    "## q4 | Optimize JSONB queries with GIN indexes"
   ]
  },
  {
   "attachments": {},
   "cell_type": "markdown",
   "metadata": {},
   "source": [
    "In this exercise, you will create a table that contains information about the contributors to YugabyteDB. The data is from an API for github and is in JSON format. The goal of the exercise is to demonstrate how using a GIN index benefits query performance for searching the JSONB data type."
   ]
  },
  {
   "attachments": {},
   "cell_type": "markdown",
   "metadata": {},
   "source": [
    "### Load the github contributors list\n",
    "The following bash script loads the contributor list for YugabyteDB open source project, available at:\n",
    "\n",
    "https://github.com/yugabyte/yugabyte-db\n",
    "\n",
    "The github API that returns a JSON payload is:\n",
    "\n",
    "https://docs.github.com/en/rest/repos/repos#list-repository-contributors\n",
    "\n",
    "\n",
    "Run the following cell to create the table, `tbl_commits`, and load the data into the table. Look closely, and you will see the creation of a temporay table, too."
   ]
  },
  {
   "cell_type": "code",
   "execution_count": null,
   "metadata": {
    "vscode": {
     "languageId": "shellscript"
    }
   },
   "outputs": [],
   "source": [
    "%%bash -s \"$NB_YB_PATH_BIN\" \"$NB_DB_NAME\" \"$NB_NOTEBOOK_DATA_FOLDER\" \"$NB_GITHUB_DATA_FILE\"\n",
    "YB_PATH_BIN=${1}\n",
    "DB_NAME=${2}\n",
    "DATA_FOLDER=${3}\n",
    "GITHUB_DATA_FILE=${4}\n",
    "\n",
    "GITHUB_DATA_FILE_PATH=${DATA_FOLDER}/${GITHUB_DATA_FILE}\n",
    "\n",
    "cd $YB_PATH_BIN\n",
    "echo ${GITHUB_DATA_FILE_PATH} \n",
    "\n",
    "./ysqlsh -d ${DB_NAME} -c \"drop table if exists tmp_commits;\";\n",
    "\n",
    "./ysqlsh -d ${DB_NAME} -c \"drop table if exists tbl_commits;\";\n",
    "\n",
    "./ysqlsh -d ${DB_NAME} -c \"create table tmp_commits (j jsonb);\";\n",
    "\n",
    "./ysqlsh -d ${DB_NAME} -c \"create table tbl_commits (j jsonb);\";\n",
    "\n",
    "./ysqlsh -d ${DB_NAME} -c \"\\copy tmp_commits (j) FROM \"${GITHUB_DATA_FILE_PATH}\";\"\n",
    "\n",
    "./ysqlsh -d ${DB_NAME} -c \"insert into tbl_commits select jsonb_array_elements(j) from tmp_commits;\"\n",
    "\n",
    "#./ysqlsh -d ${DB_NAME} -c \"select jsonb_array_elements(j) from tmp_commits \""
   ]
  },
  {
   "attachments": {},
   "cell_type": "markdown",
   "metadata": {},
   "source": [
    "Verify the load."
   ]
  },
  {
   "cell_type": "code",
   "execution_count": null,
   "metadata": {
    "vscode": {
     "languageId": "sql"
    }
   },
   "outputs": [],
   "source": [
    "%%sql\n",
    "select '' _ \n",
    " , j\n",
    " , j -> 'author'\n",
    " , j -> 'author' ->> 'login'\n",
    "-- , (j -> 'author' ->> 'login') as login, j\n",
    "from tbl_commits\n",
    "where 1=1 \n",
    "-- and j ? 'author'\n",
    "and (j -> 'author' ->> 'login') = 'mbautin'\n",
    ";"
   ]
  },
  {
   "attachments": {},
   "cell_type": "markdown",
   "metadata": {},
   "source": [
    "### q4a | Query JSONB without a GIN index\n",
    "To view the Explain Plan for the query, run the following cell:"
   ]
  },
  {
   "cell_type": "code",
   "execution_count": null,
   "metadata": {
    "vscode": {
     "languageId": "sql"
    }
   },
   "outputs": [],
   "source": [
    "%%sql\n",
    "\n",
    "-- explain (costs off, analyze, verbose) \n",
    "explain \n",
    "select '' _ \n",
    " , j -> 'author'\n",
    " , j -> 'author' ->> 'login'\n",
    "from tbl_commits\n",
    "where 1=1 \n",
    "and (j -> 'author' ->> 'login') = 'mbautin'\n",
    ";"
   ]
  },
  {
   "attachments": {},
   "cell_type": "markdown",
   "metadata": {},
   "source": [
    "#### q4a | Explain Plan (above ^^)\n",
    "\n",
    "The Explain Plan shows that this query uses a sequence scan or a full table scan.\n",
    "- `Seq Scan on public.tbl_commits (actual time=1.871..4.389 rows=2 loops=1`\n",
    "\n",
    "The Filter expression functions to remove all the rows expect the one that meets the condition.\n",
    "\n",
    "- `Filter: (((tbl_commits.j -> 'author'::text) ->> 'login'::text) = 'mbautin'::text)`\n",
    "\n",
    "The query removes all but one result.\n",
    "\n",
    "- `Rows Removed by Filter: 28`\n",
    "\n",
    "To view the tablet metrics, run the following cells:"
   ]
  },
  {
   "cell_type": "code",
   "execution_count": null,
   "metadata": {
    "vscode": {
     "languageId": "sql"
    }
   },
   "outputs": [],
   "source": [
    "%%sql\n",
    "execute  stmt_util_metrics_snap_reset;\n",
    "select pg_sleep(3);\n",
    "select '' _ \n",
    " , j -> 'author'\n",
    " , j -> 'author' ->> 'login'\n",
    "from tbl_commits\n",
    "where 1=1 \n",
    "and (j -> 'author' ->> 'login') = 'mbautin'\n",
    ";"
   ]
  },
  {
   "attachments": {},
   "cell_type": "markdown",
   "metadata": {},
   "source": [
    "Review the snapshot metrics."
   ]
  },
  {
   "cell_type": "code",
   "execution_count": null,
   "metadata": {
    "vscode": {
     "languageId": "sql"
    }
   },
   "outputs": [],
   "source": [
    "%%sql\n",
    "execute  stmt_util_metrics_snap_table;"
   ]
  },
  {
   "attachments": {},
   "cell_type": "markdown",
   "metadata": {},
   "source": [
    "#### q4a | Metrics (above ^^)\n",
    "\n",
    "The metrics reveal how costly this query is without an GIN index:\n",
    "\n",
    "| row_name| \trocksdb_number_db_seek | \trocksdb_number_db_next | \n",
    "|--|--|--|\n",
    "| db_ybu tbl_commits link_table_id tablet_id_unq_1 leader\t | 1 | \t17\t|\n",
    "| db_ybu tbl_commits link_table_id tablet_id_unq_2 leader\t | 1 |  29\t|\n",
    "| db_ybu tbl_commits link_table_id tablet_id_unq_2 leader\t | 1 |  11\t|\n",
    "\n",
    "There is just one seek for an offset for each tablet, resulting in about 20 full reads for each seek.\n"
   ]
  },
  {
   "attachments": {},
   "cell_type": "markdown",
   "metadata": {},
   "source": [
    "### q4b | Search JSONB using a YBGIN index\n",
    "Of the two operator classes for type `jsonb`, `jsonb_ops` is the default in PostgreSQL. However, first implement the `jsonb_path_ops` index due to the reasons highlighted in the table below.\n",
    "\n",
    "| Operator class | How data is stored |\n",
    "| - | - |\n",
    "| `jsonb_ops` | adds every json key and value from the indexed column into the index as a key. For example, '{\"abc\": [123, true]}' maps to three GIN keys: `\\001abc`, `\\004123`, `\\003t`. The flag bytes here indicate the types key, numeric, and boolean, respectively. Since it a produces a large number of index rows, it is inefficient in terms of both time and space. |\n",
    "| `jsonb_ops_path` |  Encodes the full JSON path for every leaf value into the index key. For example, with '{\"abc\": [123, true]}, there are two paths: \"abc\" -> 123 and \"abc\" -> true. Then, there are two GIN keys based on those  paths. Since it produces significantly fewer keys, performing lookups on this is very efficient for full path queries because it's just one lookup. |\n",
    "\n"
   ]
  },
  {
   "attachments": {},
   "cell_type": "markdown",
   "metadata": {},
   "source": [
    "#### q4b | Create the GIN index with json_ops\n",
    "-- USING GIN ((j -> 'author') jsonb_ops_path);"
   ]
  },
  {
   "cell_type": "code",
   "execution_count": null,
   "metadata": {
    "vscode": {
     "languageId": "sql"
    }
   },
   "outputs": [],
   "source": [
    "%%sql\n",
    "drop index if exists idx_commits_ybgin_j;\n",
    "\n",
    "select pg_sleep(1);\n",
    "\n",
    "create index if not exists idx_commits_ybgin_j on tbl_commits using gin (j jsonb_ops);"
   ]
  },
  {
   "attachments": {},
   "cell_type": "markdown",
   "metadata": {},
   "source": [
    "> Important!\n",
    "> \n",
    "> In Data Definition Language statements, YugabyteDB will interpret the `GIN` keyword as `YBGIN`."
   ]
  },
  {
   "attachments": {},
   "cell_type": "markdown",
   "metadata": {},
   "source": [
    "Review the DDL for index in the following cell and observe `USING ybgin`:"
   ]
  },
  {
   "cell_type": "code",
   "execution_count": null,
   "metadata": {
    "vscode": {
     "languageId": "sql"
    }
   },
   "outputs": [],
   "source": [
    "%%sql\n",
    "select pg_get_indexdef('idx_commits_ybgin_j':: regclass);"
   ]
  },
  {
   "attachments": {},
   "cell_type": "markdown",
   "metadata": {},
   "source": [
    "Alternatively, use the `\\d+` command to view the definition in the table:"
   ]
  },
  {
   "cell_type": "code",
   "execution_count": null,
   "metadata": {
    "vscode": {
     "languageId": "shellscript"
    }
   },
   "outputs": [],
   "source": [
    "%%bash -s \"$NB_YB_PATH_BIN\" \"$NB_DB_NAME\"  # \\d+\n",
    "YB_PATH_BIN=${1}\n",
    "DB_NAME=${2}\n",
    "\n",
    "cd $YB_PATH_BIN\n",
    "\n",
    "./ysqlsh -d ${DB_NAME} -c \"\\d+ tbl_commits\""
   ]
  },
  {
   "attachments": {},
   "cell_type": "markdown",
   "metadata": {},
   "source": [
    "##### View the Index details in the YB-Master web ui\n",
    "You can view the details of the `idx_commits_j_path_ops` index in the YB-Master web ui. Run the cell below and open the URL in your web browser."
   ]
  },
  {
   "cell_type": "code",
   "execution_count": null,
   "metadata": {},
   "outputs": [],
   "source": [
    "#%% python, but prepared statements as sql magic\n",
    "THIS_INDEX_NAME = 'idx_commits_ybgin_j'\n",
    "THIS_SCHEMA_NAME = 'public'\n",
    "DB_NAME = NB_DB_NAME\n",
    "\n",
    "## Comment out if local\n",
    "view_gitpod_url = %sql select fn_get_table_id_url(:NB_YB_MASTER_HOST_GITPOD_URL,7000,:DB_NAME,:THIS_SCHEMA_NAME,:THIS_INDEX_NAME ) as view_gitpod_url\n",
    "print (view_gitpod_url)\n",
    "\n",
    "## Uncomment if local\n",
    "# view_local_url = %sql select fn_get_table_id_url(:NB_HOST_IPv4_01,7000,:DB_NAME,:THIS_SCHEMA_NAME,:THIS_INDEX_NAME ) as view_local_url\n",
    "# print (view_local_url)"
   ]
  },
  {
   "attachments": {},
   "cell_type": "markdown",
   "metadata": {},
   "source": [
    "##### Review the Column section\n",
    "The column section shows details about each column in the index. Here is the section for  `idx_commits_j_path_ops`:\n",
    "\n",
    "\n",
    "| Column | ID\t| Type |\n",
    "|--------|------|------|\n",
    "| j    | 0\t| string NOT NULL NOT A PARTITION KEY | \n",
    "| ybidxbasectid\t   | 1\t| binary NOT NULL NOT A PARTITION KEY | \n",
    "\n",
    "\n",
    "<br/>\n",
    "\n",
    "The index is of type `string`.\n",
    "\n",
    "> Important!\n",
    ">  \n",
    ">  YugabyteDB creates an internal, hidden column, `ybidxbasectid`, for the indexed row. `ybidxbasectid` is similar to the internal, hidden column, `ybctid`, for a row of a table. Both `ybctid` and  `ybidxbasectid` are virtual columns that represent the\n",
    ">  DocDB-encoded key for the tuple. \n",
    "> \n",
    "> Using  `\\d` or `\\d+` will not show the `ybidxbasectid` column. It is also not possible to query the `ybidxbasectid` value."
   ]
  },
  {
   "attachments": {},
   "cell_type": "markdown",
   "metadata": {},
   "source": [
    "##### Review the Tablet section\n",
    "The Tablet section shows the details for the existing tablets. Here is the section for  `idx_commits`: \n",
    "\n",
    "| Tablet ID |\tPartition\t| SplitDepth\t| State\t| Hidden\t| Message\t| RaftConfig|\n",
    "|--|--|--|--|--|--|--|\n",
    "| some_uuid_1<br>`1e2c3ef228534d3cbbf59c9fa6968d88\t` |\t`range: [<start>, <end>)` |\t0\t| Running|\tfalse| Tablet reported with an active leader\t|<li>FOLLOWER: 127.0.0.1 <li>FOLLOWER: 127.0.0.3<li>LEADER: 127.0.0.1 |\n",
    "\n",
    "YugabyteDB will automatically split this tablet based on the size of the table on disk. There are various global flags that determine this behavior."
   ]
  },
  {
   "attachments": {},
   "cell_type": "markdown",
   "metadata": {},
   "source": [
    "### q4b | Query JSONB with a GIN index\n",
    "To view the Explain Plan for the query, run the following cell:"
   ]
  },
  {
   "cell_type": "code",
   "execution_count": null,
   "metadata": {
    "vscode": {
     "languageId": "sql"
    }
   },
   "outputs": [],
   "source": [
    "%%sql\n",
    "-- SET enable_indexscan = on;\n",
    "-- SET enable_seqscan = OFF;\n",
    "\n",
    "\n",
    "-- explain (costs off, analyze, verbose) \n",
    "explain \n",
    "select '' _ \n",
    " , j -> 'author'\n",
    " , j -> 'author' ->> 'login'\n",
    "from tbl_commits\n",
    "where 1=1 \n",
    "-- uses index scan with gin and json_ops\n",
    "-- and j ? 'author'\n",
    "and j @> '{\"author\": {\"login\": \"mbautin\"}}'\n",
    ";\n"
   ]
  },
  {
   "cell_type": "code",
   "execution_count": null,
   "metadata": {
    "vscode": {
     "languageId": "sql"
    }
   },
   "outputs": [],
   "source": [
    "%%sql\n",
    "execute  stmt_util_metrics_snap_reset;\n",
    "select pg_sleep(3);\n",
    "select '' _ \n",
    " , j -> 'author'\n",
    " , j -> 'author' ->> 'login'\n",
    "from tbl_commits\n",
    "where 1=1 \n",
    "-- uses index scan with gin and json_ops\n",
    "-- and j ? 'author'\n",
    "and j @> '{\"author\": {\"login\": \"mbautin\"}}'\n",
    ";"
   ]
  },
  {
   "cell_type": "code",
   "execution_count": null,
   "metadata": {
    "vscode": {
     "languageId": "sql"
    }
   },
   "outputs": [],
   "source": [
    "%%sql\n",
    "execute  stmt_util_metrics_snap_table;"
   ]
  },
  {
   "attachments": {},
   "cell_type": "markdown",
   "metadata": {},
   "source": [
    "##### q4b | Metrics (above ^^)\n",
    "\n",
    "In the initial query, the `Index Scan` accesses the index tablet:\n",
    "\n",
    "| row_name| \trocksdb_number_db_seek | \trocksdb_number_db_next | \n",
    "|--|--|--|\n",
    "| db_ybu  idx_commits_ybgin_j  link_table_id tablet_id_unq_1 leader\t | 1| \t30 |\n",
    "\n",
    "There is one results for the predicate expression. This results in one seek of the index tablet offset. The are 30 reads from the offset because that is the total number of rows.\n",
    "\n",
    "Because the query returns all columns, the query also reads from one of the tablet leader for `tbl_commits`, a table with hash sharding.\n",
    "\n",
    "\n",
    "| row_name| \trocksdb_number_db_seek | \trocksdb_number_db_next | \n",
    "|--|--|--|\n",
    "| db_ybu tbl_commits link_table_id tablet_id_unq_1\tleader | 8 | 15 |\n",
    "| db_ybu tbl_commits link_table_id tablet_id_unq_2\tleader | 11 | 21 |\n",
    "| db_ybu tbl_commits link_table_id tablet_id_unq_1\tleader | 11 | 21 |\n",
    "\n",
    "What the Metrics report reveals is that even though the query uses the GIN index, the query must seeks offsets from all of the tablets for `tbl_commits`, e.g. 30 rows.\n",
    "\n"
   ]
  },
  {
   "attachments": {},
   "cell_type": "markdown",
   "metadata": {},
   "source": [
    "### q4c | YBGIN index for JSONB using a `jsonb_path_ops` operator\n",
    "\n",
    " In the previous exercise, the the GIN index stored values as separate string entries: field, field1, value1, value2, etc. \n",
    "\n",
    " Depending on the predicate, the GIN index will combine multiple index entries to satisfy the specific query conditions, or, not use the index at all.\n",
    "\n",
    "The `jsonb_path_ops` operator class optimizes the GIN index structure and stores index data as individual entries using an internal hash function: fn_hashf(field, value1), fn_hash(field, value2) and so on.\n",
    "\n",
    "\n",
    "The `jsonb_path_ops` class supports containment queries. To begin this excise, create the GIN index using the operator."
   ]
  },
  {
   "cell_type": "code",
   "execution_count": null,
   "metadata": {
    "vscode": {
     "languageId": "sql"
    }
   },
   "outputs": [],
   "source": [
    "%%sql\n",
    "drop index if exists idx_commits_j_path_ops;\n",
    "\n",
    "select pg_sleep(1);\n",
    "\n",
    "create index if not exists idx_commits_j_path_ops on tbl_commits using gin (j jsonb_path_ops);"
   ]
  },
  {
   "attachments": {},
   "cell_type": "markdown",
   "metadata": {},
   "source": [
    "> Important!\n",
    "> \n",
    "> In Data Definition Language statements, YugabyteDB will interpret the `GIN` keyword as `YBGIN`."
   ]
  },
  {
   "attachments": {},
   "cell_type": "markdown",
   "metadata": {},
   "source": [
    "Review the DDL for index in the following cell and observe `USING ybgin`:"
   ]
  },
  {
   "cell_type": "code",
   "execution_count": null,
   "metadata": {
    "vscode": {
     "languageId": "sql"
    }
   },
   "outputs": [],
   "source": [
    "%%sql\n",
    "select pg_get_indexdef('idx_commits_j_path_ops':: regclass);\n"
   ]
  },
  {
   "attachments": {},
   "cell_type": "markdown",
   "metadata": {},
   "source": [
    "Alternatively, use the `\\d+` command to view the definition in the table:"
   ]
  },
  {
   "cell_type": "code",
   "execution_count": null,
   "metadata": {
    "vscode": {
     "languageId": "shellscript"
    }
   },
   "outputs": [],
   "source": [
    "%%bash -s \"$NB_YB_PATH_BIN\" \"$NB_DB_NAME\"  # \\d+\n",
    "YB_PATH_BIN=${1}\n",
    "DB_NAME=${2}\n",
    "\n",
    "cd $YB_PATH_BIN\n",
    "\n",
    "./ysqlsh -d ${DB_NAME} -c \"\\d+ tbl_commits\""
   ]
  },
  {
   "attachments": {},
   "cell_type": "markdown",
   "metadata": {},
   "source": [
    "#### View the Index details in the YB-Master web ui\n",
    "You can view the details of the `idx_commits_j_path_ops` index in the YB-Master web ui. Run the cell below and open the URL in your web browser."
   ]
  },
  {
   "cell_type": "code",
   "execution_count": null,
   "metadata": {},
   "outputs": [],
   "source": [
    "#%% python, but prepared statements as sql magic\n",
    "THIS_INDEX_NAME = 'idx_commits_j_path_ops'\n",
    "THIS_SCHEMA_NAME = 'public'\n",
    "DB_NAME = NB_DB_NAME\n",
    "\n",
    "## Comment out if local\n",
    "view_gitpod_url = %sql select fn_get_table_id_url(:NB_YB_MASTER_HOST_GITPOD_URL,7000,:DB_NAME,:THIS_SCHEMA_NAME,:THIS_INDEX_NAME ) as view_gitpod_url\n",
    "print (view_gitpod_url)\n",
    "\n",
    "## Uncomment if local\n",
    "# view_local_url = %sql select fn_get_table_id_url(:NB_HOST_IPv4_01,7000,:DB_NAME,:THIS_SCHEMA_NAME,:THIS_INDEX_NAME ) as view_local_url\n",
    "# print (view_local_url)"
   ]
  },
  {
   "attachments": {},
   "cell_type": "markdown",
   "metadata": {},
   "source": [
    "#### Review the Column section\n",
    "The column section shows details about each column in the index. Here is the section for  `idx_commits_j_path_ops`:\n",
    "\n",
    "\n",
    "| Column | ID\t| Type |\n",
    "|--------|------|------|\n",
    "| j    | 0\t| int32 NOT NULL NOT A PARTITION KEY | \n",
    "| ybidxbasectid\t   | 1\t| binary NOT NULL NOT A PARTITION KEY | \n",
    "\n",
    "\n",
    "<br/>\n",
    "\n",
    "The index is of type `int32`. The internal hash function for json_ops_path returns an integer value.\n",
    "\n",
    "> Important!\n",
    ">  \n",
    ">  YugabyteDB creates an internal, hidden column, `ybidxbasectid`, for the indexed row. `ybidxbasectid` is similar to the internal, hidden column, `ybctid`, for a row of a table. Both `ybctid` and  `ybidxbasectid` are virtual columns that represent the\n",
    ">  DocDB-encoded key for the tuple. \n",
    "> \n",
    "> Using  `\\d` or `\\d+` will not show the `ybidxbasectid` column. It is also not possible to query the `ybidxbasectid` value."
   ]
  },
  {
   "attachments": {},
   "cell_type": "markdown",
   "metadata": {},
   "source": [
    "#### Review the Tablet section\n",
    "The Tablet section shows the details for the existing tablets. Here is the section for  `idx_commits_j_path_ops`: \n",
    "\n",
    "| Tablet ID |\tPartition\t| SplitDepth\t| State\t| Hidden\t| Message\t| RaftConfig|\n",
    "|--|--|--|--|--|--|--|\n",
    "| some_uuid_1<br>`1e2c3ef228534d3cbbf59c9fa6968d88\t` |\t`range: [<start>, <end>)` |\t0\t| Running|\tfalse| Tablet reported with an active leader\t|<li>FOLLOWER: 127.0.0.1 <li>FOLLOWER: 127.0.0.3<li>LEADER: 127.0.0.1 |\n",
    "\n",
    "YugabyteDB will automatically split this tablet based on the size of the table on disk. There are various global flags that determine this behavior."
   ]
  },
  {
   "attachments": {},
   "cell_type": "markdown",
   "metadata": {},
   "source": [
    "### q4c | Query JSONB with a GIN index using `jsonb_path_ops`\n",
    "To view the Explain Plan for the query, run the following cell:"
   ]
  },
  {
   "cell_type": "code",
   "execution_count": null,
   "metadata": {
    "vscode": {
     "languageId": "sql"
    }
   },
   "outputs": [],
   "source": [
    "%%sql\n",
    "\n",
    "explain \n",
    "select '' _ \n",
    " , j -> 'author'\n",
    " , j -> 'author' ->> 'login'\n",
    "from tbl_commits\n",
    "where 1=1 \n",
    "-- uses index scan with gin and json_path_ops\n",
    "and j @> '{\"author\": {\"login\": \"mbautin\"}}'\n",
    ";"
   ]
  },
  {
   "cell_type": "code",
   "execution_count": null,
   "metadata": {
    "vscode": {
     "languageId": "sql"
    }
   },
   "outputs": [],
   "source": [
    "%%sql\n",
    "execute  stmt_util_metrics_snap_reset;\n",
    "select pg_sleep(3);\n",
    "select '' _ \n",
    " , j -> 'author'\n",
    " , j -> 'author' ->> 'login'\n",
    "from tbl_commits\n",
    "where 1=1 \n",
    "-- uses index scan with gin and json_path_ops\n",
    "and j @> '{\"author\": {\"login\": \"mbautin\"}}'\n",
    ";"
   ]
  },
  {
   "attachments": {},
   "cell_type": "markdown",
   "metadata": {},
   "source": [
    "Review the metrics."
   ]
  },
  {
   "cell_type": "code",
   "execution_count": null,
   "metadata": {
    "vscode": {
     "languageId": "sql"
    }
   },
   "outputs": [],
   "source": [
    "%%sql\n",
    "execute  stmt_util_metrics_snap_table;"
   ]
  },
  {
   "attachments": {},
   "cell_type": "markdown",
   "metadata": {},
   "source": [
    "##### q4b | Metrics (above ^^)\n",
    "\n",
    "In the initial query, the `Index Scan` accesses the index tablet:\n",
    "\n",
    "| row_name| \trocksdb_number_db_seek | \trocksdb_number_db_next | \n",
    "|--|--|--|\n",
    "| db_ybu  idx_commits_j_path_ops   link_table_id tablet_id_unq_1 leader\t | 1| \t2 |\n",
    "\n",
    "There is one results for the predicate expression. This results in one seek of the index tablet offset. The are 2 reads from the offset because that is the total number of rows.\n",
    "\n",
    "The query also reads from two rows, one from each tablet leader for `tbl_commits`, a table with hash sharding.\n",
    "\n",
    "\n",
    "| row_name| \trocksdb_number_db_seek | \trocksdb_number_db_next | \n",
    "|--|--|--|\n",
    "| db_ybu tbl_commits link_table_id tablet_id_unq_1\tleader | 2 | 2 |\n",
    "| db_ybu tbl_commits link_table_id tablet_id_unq_2\tleader | 2 | 2|\n",
    "\n",
    "This for the two columns in the query expression.\n",
    "```\n",
    " , j -> 'author'\n",
    " , j -> 'author' ->> 'login'\n",
    " ```\n"
   ]
  },
  {
   "attachments": {},
   "cell_type": "markdown",
   "metadata": {},
   "source": [
    "--- "
   ]
  },
  {
   "attachments": {},
   "cell_type": "markdown",
   "metadata": {},
   "source": [
    "### Optional | Books"
   ]
  },
  {
   "cell_type": "code",
   "execution_count": null,
   "metadata": {
    "vscode": {
     "languageId": "sql"
    }
   },
   "outputs": [],
   "source": [
    "%%sql\n",
    "drop table books;\n",
    "create table tbl_books(k serial primary key, doc jsonb not null);\n",
    "\n",
    "insert into tbl_books(doc) values\n",
    "  ('\n",
    "    { \"ISBN\"    : 4582546494267,\n",
    "      \"title\"   : \"Macbeth\", \n",
    "      \"author\"  : {\"given_name\": \"William\", \"family_name\": \"Shakespeare\"},\n",
    "      \"year\"    : 1623\n",
    "    }\n",
    "  '), ('\n",
    "    { \"ISBN\"    : 8760835734528,\n",
    "      \"title\"   : \"Hamlet\",\n",
    "      \"author\"  : {\"given_name\": \"William\", \"family_name\": \"Shakespeare\"},\n",
    "      \"year\"    : 1603,\n",
    "      \"editors\" : [\"Lysa\", \"Elizabeth\"]\n",
    "    }\n",
    "  '), ('\n",
    "    { \"ISBN\"    : 7658956876542,\n",
    "      \"title\"   : \"Oliver Twist\",\n",
    "      \"author\"  : {\"given_name\": \"Charles\", \"family_name\": \"Dickens\"},\n",
    "      \"year\"    : 1838,\n",
    "      \"genre\"   : \"novel\",\n",
    "      \"editors\" : [\"Mark\", \"Tony\", \"Britney\"]\n",
    "    }\n",
    "  '), ('\n",
    "    { \"ISBN\"    : 9874563896457,\n",
    "      \"title\"   : \"Great Expectations\",\n",
    "      \"author\"  : {\"family_name\": \"Dickens\"},\n",
    "      \"year\"    : 1950,\n",
    "      \"genre\"   : \"novel\",\n",
    "      \"editors\" : [\"Robert\", \"John\", \"Melisa\", \"Elizabeth\"]\n",
    "    }\n",
    "  '), ('\n",
    "    { \"ISBN\"    : 8647295405123,\n",
    "      \"title\"   : \"A Brief History of Time\",\n",
    "      \"author\"  : {\"given_name\": \"Stephen\", \"family_name\": \"Hawking\"},\n",
    "      \"year\"    : 1988,\n",
    "      \"genre\"   : \"science\",\n",
    "      \"editors\" : [\"Melisa\", \"Mark\", \"John\", \"Fred\", \"Jane\"]\n",
    "    }\n",
    "  '), ('\n",
    "    { \"ISBN\"     : 6563973589123,\n",
    "      \"year\"     : 1989,\n",
    "      \"genre\"    : \"novel\",\n",
    "      \"title\"    : \"Joy Luck Club\",\n",
    "      \"author\"   : {\"given_name\": \"Amy\", \"family_name\": \"Tan\"},\n",
    "      \"editors\"  : [\"Ruilin\", \"Aiping\"]\n",
    "    }\n",
    "');"
   ]
  },
  {
   "cell_type": "code",
   "execution_count": null,
   "metadata": {
    "vscode": {
     "languageId": "sql"
    }
   },
   "outputs": [],
   "source": [
    "%%sql\n",
    "create index idx_books_gin_json_ops on tbl_books using gin(doc);\n"
   ]
  },
  {
   "cell_type": "code",
   "execution_count": null,
   "metadata": {
    "vscode": {
     "languageId": "sql"
    }
   },
   "outputs": [],
   "source": [
    "%%sql\n",
    "create index idx_books_gin_json_path_ops on tbl_books using gin(doc jsonb_path_ops);"
   ]
  },
  {
   "attachments": {},
   "cell_type": "markdown",
   "metadata": {},
   "source": [
    "See \n",
    "https://docs.yugabyte.com/preview/api/ysql/datatypes/type_json/functions-operators/key-or-value-existence-operators/\n",
    "\n",
    "\n",
    " `?`   operator\n",
    "\n",
    "If the left-hand JSON value is an object , test if it has a key-value pair with a key whose name is given by the right-hand scalar text value.\n",
    "\n",
    "If the left-hand JSON value is an array test if it has a string value given by the right-hand scalar text value.\n",
    "\n",
    "\n",
    "`?|`   operator\n",
    "Purpose: If the left-hand JSON value is an object, test if it has at least one key-value pair where the key name is present in the right-hand list of scalar text values. If the left-hand JSON value is an array, test if it has at least one string value that is present in the right-hand list of scalar text values.\n",
    "\n",
    "\n",
    "\n",
    "`?&`   operator \n",
    "\n",
    "Purpose: If the left-hand JSON value is an object, test if every value in the right-hand list of scalar text values is present as the name of the key of a key-value pair. If the left-hand JSON value is an array, test if every value in the right-hand list of scalar text values is present as a string value in the array.\n",
    "\n",
    "`@>` and `<@` operators\n",
    "Purpose: the @> operator tests if the left-hand JSON value contains the right-hand JSON value. The <@ operator tests if the right-hand JSON value contains the left-hand JSON value."
   ]
  },
  {
   "cell_type": "code",
   "execution_count": null,
   "metadata": {
    "vscode": {
     "languageId": "sql"
    }
   },
   "outputs": [],
   "source": [
    "%%sql\n",
    "\n",
    "set enable_indexscan = on;\n",
    "-- set enable_seqscan = OFF;\n",
    "\n",
    "execute  stmt_util_metrics_snap_reset;\n",
    "\n",
    "explain (costs off, analyze,verbose) \n",
    "select\n",
    "  ((doc->>'ISBN')::bigint)   as isbn,\n",
    "  ((doc->>'editors')::text)  as editors\n",
    "from tbl_books\n",
    "where 1=1 \n",
    "-- and doc ? 'Melisa'\n",
    " and doc @> '{\"year\": 1950}'\n",
    " order by 1;"
   ]
  },
  {
   "attachments": {},
   "cell_type": "markdown",
   "metadata": {},
   "source": [
    "---\n",
    "\n",
    "<div style=\"width:100%; background-color: #000041\"><a target=\"_blank\" href=\"http://university.yugabyte.com\"><img src=\"assets/jeop_logo_large.webp\" /></a></div>\n",
    "\n",
    "\n",
    "## q5 | Text Search for Jeopardy\n",
    "\n",
    "In this exercise, you will create a table and load data into a table for 38 seasons of Jeopardy questions and answers. The table uses a container data type column, `tsvector`. The `tsvector` data type supports text search.\n",
    "\n",
    "Jeopardy is a game where contestants see the answer to a question, and need to provide an answer that is in a form of a question. For this reason, the `tsvector` data type is for the `answer_vec` column.\n",
    "\n",
    "After creating the table and loading the data, you will then run a baseline query to view the query explain plan and the associated metrics.\n",
    "\n",
    "Next, you will create a GIN index for the table. After creating the GIN index, you will run the same baseline query, review the explain plan, and the associated metrics.\n"
   ]
  },
  {
   "cell_type": "code",
   "execution_count": null,
   "metadata": {
    "vscode": {
     "languageId": "sql"
    }
   },
   "outputs": [],
   "source": [
    "%%sql \n",
    "drop function if exists fn_trig_answer_vec CASCADE;\n",
    "drop trigger if exists trig_answer_vec ON tbl_jeopardy CASCADE;\n",
    "drop index if exists idx_ygbin_jeopardy;\n",
    "drop table if exists tbl_jeopardy;"
   ]
  },
  {
   "attachments": {},
   "cell_type": "markdown",
   "metadata": {},
   "source": [
    "### Create the table, `tbl_jeopardy`\n",
    "Run the following cell to create the table for the Jeopardy. The is a `rowid` as the primary key."
   ]
  },
  {
   "cell_type": "code",
   "execution_count": null,
   "metadata": {
    "vscode": {
     "languageId": "sql"
    }
   },
   "outputs": [],
   "source": [
    "%%sql\n",
    "\n",
    "create table tbl_jeopardy (\n",
    "  rowid serial primary key,\n",
    "  round int,\n",
    "  value int,\n",
    "  daily_double bool,\n",
    "  category text,\n",
    "  comments text,\n",
    "  answer text,\n",
    "  answer_vec tsvector,\n",
    "  question text,\n",
    "  air_date date,\n",
    "  notes text) ;\n"
   ]
  },
  {
   "attachments": {},
   "cell_type": "markdown",
   "metadata": {},
   "source": [
    "To help load the data into the table, run the following cell to create a trigger function and a trigger for the table."
   ]
  },
  {
   "cell_type": "code",
   "execution_count": null,
   "metadata": {
    "vscode": {
     "languageId": "sql"
    }
   },
   "outputs": [],
   "source": [
    "%%sql\n",
    "\n",
    "create or replace function fn_trig_answer_vec()\n",
    "returns trigger \n",
    "language plpgsql \n",
    "AS $$\n",
    "begin\n",
    "    new.answer_vec = to_tsvector('english', new.answer);\n",
    "    RETURN new;\n",
    "end$$;\n",
    "\n",
    "create trigger trig_answer_vec\n",
    "  before insert or update on tbl_jeopardy\n",
    "  for each row execute function fn_trig_answer_vec();"
   ]
  },
  {
   "attachments": {},
   "cell_type": "markdown",
   "metadata": {},
   "source": [
    "### Load the Jeopardy data set\n",
    "The following bash script loads the Jeopardy data file. The file contains the answers (you must form the question) from 38 seasons of Jeopardy.\n",
    "\n",
    "> Note:\n",
    ">\n",
    "> The following data load will take about 5 minutes or so. It is 38 seasons of Jeopardy and over 200K items.\n",
    "> \n",
    "> So, what's the question for this answer:\n",
    ">\n",
    "> Debuting in 1996, this database gets its name from being a developmental successor to the Ingres database from the University of California, Berkeley."
   ]
  },
  {
   "cell_type": "code",
   "execution_count": null,
   "metadata": {
    "vscode": {
     "languageId": "shellscript"
    }
   },
   "outputs": [],
   "source": [
    "%%bash -s \"$NB_YB_PATH_BIN\" \"$NB_DB_NAME\" \"$NB_NOTEBOOK_DATA_FOLDER\" \"$NB_JEOPARDY_DATA_FILE\"\n",
    "YB_PATH_BIN=${1}\n",
    "DB_NAME=${2}\n",
    "DATA_FOLDER=${3}\n",
    "JEOPARDY_DATA_FILE=${4}\n",
    "\n",
    "JEOPARDY_DATA_FILE_PATH=${DATA_FOLDER}/${JEOPARDY_DATA_FILE}\n",
    "\n",
    "cd $YB_PATH_BIN\n",
    "echo ${JEOPARDY_DATA_FILE_PATH} \n",
    "\n",
    "./ysqlsh -d ${DB_NAME} -c \"SET yb_index_state_flags_update_delay TO '0s'\";\n",
    "\n",
    "./ysqlsh -d ${DB_NAME} -c \"\\copy tbl_jeopardy (round, value, daily_double, category, comments, answer, question, air_date, notes) FROM \"${JEOPARDY_DATA_FILE_PATH}\" WITH DELIMITER E'\\t' CSV HEADER;\"\n"
   ]
  },
  {
   "attachments": {},
   "cell_type": "markdown",
   "metadata": {},
   "source": [
    "You can review the table definition by running the following cell:"
   ]
  },
  {
   "cell_type": "code",
   "execution_count": null,
   "metadata": {
    "vscode": {
     "languageId": "sql"
    }
   },
   "outputs": [],
   "source": [
    "%%bash -s \"$NB_YB_PATH_BIN\" \"$NB_DB_NAME\"  # \\d+\n",
    "YB_PATH_BIN=${1}\n",
    "DB_NAME=${2}\n",
    "\n",
    "cd $YB_PATH_BIN\n",
    "\n",
    "./ysqlsh -d ${DB_NAME} -c \"\\d+ tbl_jeopardy\""
   ]
  },
  {
   "attachments": {},
   "cell_type": "markdown",
   "metadata": {},
   "source": [
    "### Review the a few rows of the table"
   ]
  },
  {
   "cell_type": "code",
   "execution_count": null,
   "metadata": {
    "vscode": {
     "languageId": "sql"
    }
   },
   "outputs": [],
   "source": [
    "%%sql\n",
    "select * from tbl_jeopardy limit 10;"
   ]
  },
  {
   "attachments": {},
   "cell_type": "markdown",
   "metadata": {},
   "source": [
    "#### Create a helper function to query the table\n",
    "YugabyteDB supports several built-in functions to use with the `tsvector` data type. In the following cell, you will these related functions:\n",
    "\n",
    "- `to_tsquery`\n",
    "- `ts_headline`\n",
    "- `ts_rank`"
   ]
  },
  {
   "cell_type": "code",
   "execution_count": null,
   "metadata": {
    "vscode": {
     "languageId": "sql"
    }
   },
   "outputs": [],
   "source": [
    "%%sql\n",
    "drop function if exists fn_sel;\n",
    "\n",
    "create or replace function fn_sel(filter text) returns SETOF record language plpgsql AS $$\n",
    "declare rec record;\n",
    "declare query tsquery = to_tsquery(filter);\n",
    "begin\n",
    "    for rec in (select question as q, ts_headline(answer, query, 'StartSel=<, StopSel=>') as a\n",
    "        from tbl_jeopardy\n",
    "        where 1=1 \n",
    "        and answer_vec @@ query\n",
    "        order by ts_rank(answer_vec, query) desc) loop\n",
    "        return next rec;\n",
    "    end loop;\n",
    "    return;\n",
    "end$$\n",
    ";"
   ]
  },
  {
   "attachments": {},
   "cell_type": "markdown",
   "metadata": {},
   "source": [
    "#### Get rows using the helper function\n",
    "Run the following example to use the helper function."
   ]
  },
  {
   "cell_type": "code",
   "execution_count": null,
   "metadata": {
    "vscode": {
     "languageId": "sql"
    }
   },
   "outputs": [],
   "source": [
    "%%sql\n",
    "\n",
    "select * \n",
    "from fn_sel('databases') AS (q text, a text);    "
   ]
  },
  {
   "attachments": {},
   "cell_type": "markdown",
   "metadata": {},
   "source": [
    "### q5a | Query using text search without a GIN index\n",
    "to_tsquery() is a system function for converting text to a tsquery.\n",
    "See https://www.postgresql.org/docs/11/functions-textsearch.html"
   ]
  },
  {
   "cell_type": "code",
   "execution_count": null,
   "metadata": {
    "vscode": {
     "languageId": "sql"
    }
   },
   "outputs": [],
   "source": [
    "%%sql\n",
    "execute  stmt_util_metrics_snap_reset;\n",
    "select pg_sleep(1);"
   ]
  },
  {
   "cell_type": "code",
   "execution_count": null,
   "metadata": {
    "vscode": {
     "languageId": "sql"
    }
   },
   "outputs": [],
   "source": [
    "%%sql\n",
    "explain (costs off, analyze, verbose) \n",
    "-- select * from tbl_jeopardy where 1=1 and answer_vec @@ to_tsquery ('databases')\n",
    "select * from tbl_jeopardy where 1=1 and answer_vec @@ to_tsquery ('!data & !database & data:*')  \n",
    "; "
   ]
  },
  {
   "attachments": {},
   "cell_type": "markdown",
   "metadata": {},
   "source": [
    "#### q5a | Explain Plan (above ^^)\n",
    "\n",
    "The Explain Plan shows that this query uses a sequence scan or a full table scan.\n",
    "- `Seq Scan on public.tbl_jeopardy (actual time=601.915..7022.337 rows=1 loops=1`\n",
    "\n",
    "The Filter expression functions to remove all the rows expect the one that meets the condition.\n",
    "\n",
    "- `Filter: (tbl_jeopardy.answer_vec @@ to_tsquery('!data & !database & data:*'::text))`\n",
    "\n",
    "The query removes all but one result.\n",
    "\n",
    "- ` Rows Removed by Filter: 402415`\n",
    "\n",
    "To view the tablet metrics, run the following cell:"
   ]
  },
  {
   "cell_type": "code",
   "execution_count": null,
   "metadata": {
    "vscode": {
     "languageId": "sql"
    }
   },
   "outputs": [],
   "source": [
    "%%sql\n",
    "execute  stmt_util_metrics_snap_table;"
   ]
  },
  {
   "attachments": {},
   "cell_type": "markdown",
   "metadata": {},
   "source": [
    "#### q5a | Metrics (above ^^)\n",
    "\n",
    "The metrics reveal how costly this query is without an GIN index:\n",
    "\n",
    "| row_name| \trocksdb_number_db_seek | \trocksdb_number_db_next | \n",
    "|--|--|--|\n",
    "| db_ybu tbl_jeopardy link_table_id tablet_id_unq_1 leader\t | 131 | \t1476914\t|\n",
    "| db_ybu tbl_jeopardy link_table_id tablet_id_unq_2 leader\t | 132 | \t1480357\t|\n",
    "| db_ybu tbl_jeopardy link_table_id tablet_id_unq_3 leader\t | 131 | \t1473603\t|\n",
    "\n",
    "There are hundreds of seeks for offset for each tablet, resulting in full reads for each seek.\n"
   ]
  },
  {
   "attachments": {},
   "cell_type": "markdown",
   "metadata": {},
   "source": [
    "### q5b | Text search using a YBGIN index\n",
    "First, you will need to create the index itself. You can use either the `USING GIN` or `USING YBGIN` keywords. The following cell uses the `GIN` keyword so as to illustrate PostgreSQL compatibility. This wil take about 1 minute or so."
   ]
  },
  {
   "cell_type": "code",
   "execution_count": null,
   "metadata": {
    "vscode": {
     "languageId": "sql"
    }
   },
   "outputs": [],
   "source": [
    "%%sql\n",
    "drop index if exists idx_jeopardy_ybgin_answer_vec;\n",
    "\n",
    "select pg_sleep(1);\n",
    "\n",
    "create index if not exists idx_jeopardy_ybgin_answer_vec on tbl_jeopardy using gin (answer_vec);"
   ]
  },
  {
   "attachments": {},
   "cell_type": "markdown",
   "metadata": {},
   "source": [
    "Review the DDL for index in the following cell and observe `USING ybgin`:"
   ]
  },
  {
   "cell_type": "code",
   "execution_count": null,
   "metadata": {
    "vscode": {
     "languageId": "sql"
    }
   },
   "outputs": [],
   "source": [
    "%%sql\n",
    "select pg_get_indexdef('idx_jeopardy_ybgin_answer_vec'::regclass);"
   ]
  },
  {
   "attachments": {},
   "cell_type": "markdown",
   "metadata": {},
   "source": [
    "Alternatively, use the `\\d+` command to view the definition in the table:"
   ]
  },
  {
   "cell_type": "code",
   "execution_count": null,
   "metadata": {
    "vscode": {
     "languageId": "shellscript"
    }
   },
   "outputs": [],
   "source": [
    "%%bash -s \"$NB_YB_PATH_BIN\" \"$NB_DB_NAME\"  # \\d+\n",
    "YB_PATH_BIN=${1}\n",
    "DB_NAME=${2}\n",
    "\n",
    "cd $YB_PATH_BIN\n",
    "\n",
    "./ysqlsh -d ${DB_NAME} -c \"\\d+ tbl_jeopardy\""
   ]
  },
  {
   "attachments": {},
   "cell_type": "markdown",
   "metadata": {},
   "source": [
    "> Important!\n",
    "> \n",
    "> In Data Definition Language statements, YugabyteDB will interpret the `GIN` keyword as `YBGIN`."
   ]
  },
  {
   "attachments": {},
   "cell_type": "markdown",
   "metadata": {},
   "source": [
    "#### View the Index details in the YB-Master web ui\n",
    "You can view the details of the `idx_jeopardy_ybgin_answer_vec` index in the YB-Master web ui. Run the cell below and open the URL in your web browser."
   ]
  },
  {
   "cell_type": "code",
   "execution_count": null,
   "metadata": {},
   "outputs": [],
   "source": [
    "#%% python, but prepared statements as sql magic\n",
    "THIS_INDEX_NAME = 'idx_jeopardy_ybgin_answer_vec'\n",
    "THIS_SCHEMA_NAME = 'public'\n",
    "DB_NAME = NB_DB_NAME\n",
    "\n",
    "## Comment out if local\n",
    "view_gitpod_url = %sql select fn_get_table_id_url(:NB_YB_MASTER_HOST_GITPOD_URL,7000,:DB_NAME,:THIS_SCHEMA_NAME,:THIS_INDEX_NAME ) as view_gitpod_url\n",
    "print (view_gitpod_url)\n",
    "\n",
    "## Uncomment if local\n",
    "# view_local_url = %sql select fn_get_table_id_url(:NB_HOST_IPv4_01,7000,:DB_NAME,:THIS_SCHEMA_NAME,:THIS_INDEX_NAME ) as view_local_url\n",
    "# print (view_local_url)"
   ]
  },
  {
   "attachments": {},
   "cell_type": "markdown",
   "metadata": {},
   "source": [
    "#### Review the Column section\n",
    "The column section shows details about each column in the index. Here is the section for  `idx_jeopardy_ybgin_answer_vec`:\n",
    "\n",
    "\n",
    "| Column | ID\t| Type |\n",
    "|--------|------|------|\n",
    "| answer_vec    | 0\t| string NOT NULL NOT A PARTITION KEY | \n",
    "| ybidxbasectid\t   | 1\t| binary NOT NULL NOT A PARTITION KEY | \n",
    "\n",
    "\n",
    "<br/>\n",
    "\n",
    "> Important!\n",
    ">  \n",
    ">  YugabyteDB creates an internal, hidden column, `ybidxbasectid`, for the indexed row. `ybidxbasectid` is similar to the internal, hidden colum, `ybctid`, for a row of a table. Both `ybctid` and  `ybidxbasectid` are virtual columns that represent the\n",
    ">  DocDB-encoded key for the tuple. \n",
    "> \n",
    "> Using  `\\d` or `\\d+` will not show the `ybidxbasectid` column. It is also not possible to query the `ybidxbasectid` value."
   ]
  },
  {
   "attachments": {},
   "cell_type": "markdown",
   "metadata": {},
   "source": [
    "#### Review the Tablet section\n",
    "The Tablet section shows the details for the existing tablets. Here is the section for  `idx_jeopardy_ybgin_answer_vec`: \n",
    "\n",
    "| Tablet ID |\tPartition\t| SplitDepth\t| State\t| Hidden\t| Message\t| RaftConfig|\n",
    "|--|--|--|--|--|--|--|\n",
    "| some_uuid_1<br>`1e2c3ef228534d3cbbf59c9fa6968d88\t` |\t`range: [<start>, <end>)` |\t0\t| Running|\tfalse| Tablet reported with an active leader\t|<li>FOLLOWER: 127.0.0.1 <li>FOLLOWER: 127.0.0.3<li>LEADER: 127.0.0.1 |\n",
    "\n",
    "YugabyteDB will automatically split this tablet based on the size of the table on disk. The following global flags determine this behavior:\n",
    "\n",
    "```\n",
    "\n",
    "--tablet_force_split_threshold_bytes=107374182400 --> 10240 MB\n",
    "--tablet_split_high_phase_shard_count_per_node=24\n",
    "--tablet_split_high_phase_size_threshold_bytes=10737418240 --> 10240 MB\n",
    "--tablet_split_low_phase_shard_count_per_node=8\n",
    "--tablet_split_low_phase_size_threshold_bytes=536870912 --> 512 MB\n",
    "--tablet_split_size_threshold_bytes=0\n",
    "```\n",
    "\n",
    "The low phase indicates the threshold for the initial splits of the tablet. With more data volume, the threshold increases from 512 MB to over 10 GBs."
   ]
  },
  {
   "attachments": {},
   "cell_type": "markdown",
   "metadata": {},
   "source": [
    "#### q5b | Query using the GIN index\n"
   ]
  },
  {
   "attachments": {},
   "cell_type": "markdown",
   "metadata": {},
   "source": [
    "Just going to run explain first and then the query."
   ]
  },
  {
   "cell_type": "code",
   "execution_count": null,
   "metadata": {
    "vscode": {
     "languageId": "sql"
    }
   },
   "outputs": [],
   "source": [
    "%%sql\n",
    "\n",
    "explain select * from tbl_jeopardy \n",
    "where 1=1 \n",
    "and answer_vec @@ to_tsquery ('!data & !database & data:*')  \n",
    "; "
   ]
  },
  {
   "cell_type": "code",
   "execution_count": null,
   "metadata": {
    "vscode": {
     "languageId": "sql"
    }
   },
   "outputs": [],
   "source": [
    "%%sql\n",
    "execute  stmt_util_metrics_snap_reset;\n",
    "select pg_sleep(1);"
   ]
  },
  {
   "attachments": {},
   "cell_type": "markdown",
   "metadata": {},
   "source": [
    "##### q5b | Explain Plan (above ^^)\n",
    "\n",
    "The Explain Plan shows that this query uses the index and reads 1 rows\n",
    "- `Index Scan using idx_jeopardy_ybgin_answer_vec on public.tbl_jeopardy (actual time=9.587..9.589 rows=1 loops=1)`\n",
    "\n",
    "The Index Condition reflects the query predicate.\n",
    "\n",
    "- ` Index Cond: (tbl_jeopardy.answer_vec @@ to_tsquery('!data & !database & data:*'::text))`\n",
    "\n",
    "Notice the Index Recheck:\n",
    "- `Rows Removed by Index Recheck: 169`\n",
    "\n",
    "Unlike PostgreSQL, YugabyteDB does not use a Bitmap Index Scan and Heap Tables for GIN related queries. In PostgreSQL, `Index Recheck` typically indicates that the working memory of heap table has hit a limit because of the size of bitmap index. In YugabyteDB, `Index Recheck` simply indicates that the YB-TServer processing the query rechecks the rows retrieved from DocDB and removes any rows that do not meet the query condition, e.g., `Index Condition`."
   ]
  },
  {
   "attachments": {},
   "cell_type": "markdown",
   "metadata": {},
   "source": [
    "To view the tablet metrics, first run the query and then  prepared statement."
   ]
  },
  {
   "cell_type": "code",
   "execution_count": null,
   "metadata": {
    "vscode": {
     "languageId": "sql"
    }
   },
   "outputs": [],
   "source": [
    "%%sql\n",
    "select * from tbl_jeopardy \n",
    "where 1=1 \n",
    "and answer_vec @@ to_tsquery ('!data & !database & data:*') ;"
   ]
  },
  {
   "cell_type": "code",
   "execution_count": null,
   "metadata": {
    "vscode": {
     "languageId": "sql"
    }
   },
   "outputs": [],
   "source": [
    "%%sql\n",
    "execute  stmt_util_metrics_snap_table;"
   ]
  },
  {
   "attachments": {},
   "cell_type": "markdown",
   "metadata": {},
   "source": [
    "##### q5b | Metrics (above ^^)\n",
    "\n",
    "In the initial query, the `Index Scan` accesses the index tablet:\n",
    "\n",
    "| row_name| \trocksdb_number_db_seek | \trocksdb_number_db_next | \n",
    "|--|--|--|\n",
    "| db_ybu  idx_jeopardy_ybgin_answer_vec link_table_id tablet_id_unq_1 leader\t | 1| \t170 |\n",
    "\n",
    "There is one results for the predicate expression. This results in one seek of the index tablet offset. The are 170 reads from the offset, notably because of the condition `'data:*`.\n",
    "\n",
    "Because the query returns all columns, the query also reads from one of the tablet leader for `tbl_jeopardy`, a table with hash sharding.\n",
    "\n",
    "\n",
    "| row_name| \trocksdb_number_db_seek | \trocksdb_number_db_next | \n",
    "|--|--|--|\n",
    "| db_ybu tbl_jeopardy link_table_id tablet_id_unq_1\tleader | 58 | 638 |\n",
    "| db_ybu tbl_jeopardy link_table_id tablet_id_unq_2\tleader | 51 | 561 |\n",
    "| db_ybu tbl_jeopardy link_table_id tablet_id_unq_1\tleader | 61 | 671 |\n",
    "\n",
    "What the Metrics report reveals is that even though the query uses the GIN index, the query must seeks offsets from all of the tablets for `tbl_jeopardy`. \n",
    "\n",
    "The YB-TServer for the client connection (this notebook connection) performs the removal of the rows that do not meet the index condition. In other words, since all tablet server return results, e.g, 170 rows.\n",
    "\n"
   ]
  },
  {
   "attachments": {},
   "cell_type": "markdown",
   "metadata": {},
   "source": [
    "---\n",
    "\n",
    "## q6 | PG_TRGM extension\n",
    "\n",
    "  A trigram is a group of three consecutive characters taken from a string. For example, the set of trigrams in the string \"cat\" is:\n",
    " - c\n",
    " - ca\n",
    " - cat\n",
    " - at\n",
    "\n",
    "\n",
    "The set of trigrams in the string “foo|bar” is:\n",
    "- f\n",
    "- fo\n",
    "- foo\n",
    "- oo\n",
    "- b\n",
    "- ba\n",
    "- bar\n",
    "- ar\n",
    "  \n",
    "With trigrams, you can measure the similarity of two strings by counting the number of trigrams they share. This simple idea turns out to be very effective for measuring the similarity of words in many natural languages.\n",
    "\n",
    "> Note:\n",
    "> \n",
    "> `pg_trgm` ignores non-alphanumerical characters when extracting trigrams from a string. Each word is considered to have two spaces prefixed and one space suffixed when determining the set of trigrams contained in the string.e"
   ]
  },
  {
   "attachments": {},
   "cell_type": "markdown",
   "metadata": {},
   "source": [
    "The `pg_trgm` extension for PostgreSQL has several functions. With the `pg_trgm` extension, YugabyteDB supports the following functions:\n",
    "\n",
    "| Function | Returns | Description |\n",
    "|-|-|-|\n",
    "| `similarity ( text, text )` |  `real` |  Returns a number that indicates how similar the two arguments are. The range of the result is zero (indicating that the two strings are completely dissimilar) to one (indicating that the two strings are identical). |\n",
    "| `show_trgm ( text ) ` | `text[]` | Returns an array of all the trigrams in the given string. (In practice this is seldom useful except for debugging.) |\n",
    "| `word_similarity ( text, text )` | ` real ` |  Returns a number that indicates the greatest similarity between the set of trigrams in the first string and any continuous extent of an ordered set of trigrams in the second string. For details, see the explanation below. |\n",
    "| `strict_word_similarity ( text, text ) `| ` real `  | Same as word_similarity, but forces extent boundaries to match word boundaries. Since we don't have cross-word trigrams, this function actually returns greatest similarity between first string and any continuous extent of words of the second string. |\n",
    "| `show_limit () `| ` real `  |  Returns the current similarity threshold used by the % operator. This sets the minimum similarity between two words for them to be considered similar enough to be misspellings of each other, for example. (Deprecated; instead use SHOW pg_trgm.similarity_threshold.) |\n"
   ]
  },
  {
   "attachments": {},
   "cell_type": "markdown",
   "metadata": {},
   "source": [
    "To install the extension, run the following:"
   ]
  },
  {
   "cell_type": "code",
   "execution_count": null,
   "metadata": {
    "vscode": {
     "languageId": "sql"
    }
   },
   "outputs": [],
   "source": [
    "%%sql \n",
    "create extension if not exists pg_trgm;"
   ]
  },
  {
   "attachments": {},
   "cell_type": "markdown",
   "metadata": {},
   "source": [
    "Now that you've installed the `pg_trgm` extension,  consider the following example:"
   ]
  },
  {
   "cell_type": "code",
   "execution_count": null,
   "metadata": {
    "vscode": {
     "languageId": "sql"
    }
   },
   "outputs": [],
   "source": [
    "%%sql\n",
    "select show_trgm('help'), show_trgm('helpers'),  similarity('help', 'helpers'), word_similarity('help', 'helpers');"
   ]
  },
  {
   "attachments": {},
   "cell_type": "markdown",
   "metadata": {},
   "source": [
    "The most similar extent of an ordered set of trigrams in the second string is [' h', ' he', 'elp',' hel']. As a result, the similarity is 0.8.\n",
    "\n",
    "The `word_similarity()` function returns a value that can be approximately understood as the greatest similarity between the first string and any substring of the second string. However, this function does not add padding to the boundaries of the extent. Thus, the number of additional characters present in the second string is not considered, except for the mismatched word boundaries.\n",
    "\n",
    "The `strict_word_similarity(text, text`) function selects an extent of words in the second string."
   ]
  },
  {
   "cell_type": "code",
   "execution_count": null,
   "metadata": {
    "vscode": {
     "languageId": "sql"
    }
   },
   "outputs": [],
   "source": [
    "%%sql\n",
    "select '' _\n",
    ", similarity('she helps', 'she is helping') as similarity\n",
    ", word_similarity('she helps', 'she is helping') as word_similarity\n",
    ", strict_word_similarity('she helps', 'she is helping') as strict_word_similarity\n",
    ";"
   ]
  },
  {
   "attachments": {},
   "cell_type": "markdown",
   "metadata": {},
   "source": [
    "The `strict_word_similarity()` function is useful for finding the similarity to whole words, while `word_similarity()` is more suitable for finding the similarity for parts of words."
   ]
  },
  {
   "attachments": {},
   "cell_type": "markdown",
   "metadata": {},
   "source": [
    "The `pg_trgm` extension for PostgreSQL has several GIN operators which YugabyteDB supports in the `SELECT` command, but not in the `WHERE` clause.\n",
    "\n",
    "| Operator\t| Returns\t| Description |\n",
    "|-|-|-|\n",
    "|`text % text`|\tboolean|\tReturns true if its arguments have a similarity that is greater than the current similarity threshold set by `pg_trgm.similarity_threshold`.|\n",
    "|`text <% text`| boolean |\tReturns true if the similarity between the trigram set in the first argument and a continuous extent of an ordered trigram set in the second argument is greater than the current word similarity threshold set by p`g_trgm.word_similarity_threshold` parameter.\n",
    "|`text %> text`| boolean |\tCommutator of the `<%` operator.\n",
    "|`text <<% text`|\tboolean |\tReturns true if its second argument has a continuous extent of an ordered trigram set that matches word boundaries, and its similarity to the trigram set of the first argument is greater than the current strict word similarity threshold set by the `pg_trgm.strict_word_similarity_threshold` parameter.\n",
    "|`text %>> text`|\tboolean\t|Commutator of the `<<%` operator.\n",
    "|`text <-> text`|\treal |\tReturns the “distance” between the arguments, that is one minus the `similarity()` value. |\n",
    "|`text <<-> text`|\treal |\tReturns the “distance” between the arguments, that is one minus the `word_similarity()`value. |\n",
    "|`text <->> text`|\treal |\tCommutator of the `<<->` operator. |\n",
    "|`text <<<-> text`|\treal |\tReturns the “distance” between the arguments, that is one minus the `strict_word_similarity()` value. |\n",
    "|` text <->>> text`| real | Commutator of the `<<<->` operator. |\n"
   ]
  },
  {
   "cell_type": "code",
   "execution_count": null,
   "metadata": {
    "vscode": {
     "languageId": "sql"
    }
   },
   "outputs": [],
   "source": [
    "%%sql\n",
    "select '' _\n",
    ", 'she helps' <-> 'she is helping' as similarity\n",
    ", 'she helps' <->> 'she is helping' as word_similarity\n",
    ", 'she helps' <->>> 'she is helping' as strcit_word_similarity\n",
    ";"
   ]
  },
  {
   "attachments": {},
   "cell_type": "markdown",
   "metadata": {},
   "source": [
    "### q6a | gin_trgm_ops\n",
    "In PostgreSQL, the `pg_trgm` module provides GiST and GIN index operator classes. YugabyteDB currently only supports the **GIN** index operator class.\n",
    "\n",
    "> Note\n",
    ">\n",
    "> GiST is currently not a supported operator class in YugabyteDB.\n",
    "> \n",
    "\n",
    "With the `pg_trgm` module in YugabyteDB, you can use the GIN index operator class to create an index over a text column. The GIN index operator class supports the related similarity functions as well as the trigram-based index queries that use:\n",
    "-  `LIKE` (like as case sensitive)\n",
    "-  `ILIKE` (like as case insensitive)\n",
    "-  `~` (regular expression matches)\n",
    "-   `~*` (regular expression matches)\n"
   ]
  },
  {
   "cell_type": "code",
   "execution_count": null,
   "metadata": {
    "vscode": {
     "languageId": "sql"
    }
   },
   "outputs": [],
   "source": [
    "%%sql\n",
    "select answer, show_trgm(answer) from tbl_jeopardy limit 10;"
   ]
  },
  {
   "cell_type": "code",
   "execution_count": null,
   "metadata": {
    "vscode": {
     "languageId": "sql"
    }
   },
   "outputs": [],
   "source": [
    "%%sql\n",
    "drop index if exists idx_jeopardy_ybgin_trgm_ops;\n",
    "select pg_sleep(1);\n",
    "create index idx_jeopardy_ybgin_trgm_ops on tbl_jeopardy USING gin (question gin_trgm_ops);"
   ]
  },
  {
   "cell_type": "code",
   "execution_count": null,
   "metadata": {
    "vscode": {
     "languageId": "sql"
    }
   },
   "outputs": [],
   "source": [
    "%%sql\n",
    "select pg_get_indexdef('idx_jeopardy_ybgin_trgm_ops'::regclass);"
   ]
  },
  {
   "cell_type": "code",
   "execution_count": null,
   "metadata": {
    "vscode": {
     "languageId": "shellscript"
    }
   },
   "outputs": [],
   "source": [
    "%%bash -s \"$NB_YB_PATH_BIN\" \"$NB_DB_NAME\"  # \\d+\n",
    "YB_PATH_BIN=${1}\n",
    "DB_NAME=${2}\n",
    "\n",
    "cd $YB_PATH_BIN\n",
    "\n",
    "./ysqlsh -d ${DB_NAME} -c \"\\d+ tbl_jeopardy\""
   ]
  },
  {
   "cell_type": "code",
   "execution_count": null,
   "metadata": {
    "vscode": {
     "languageId": "sql"
    }
   },
   "outputs": [],
   "source": [
    "%%sql\n",
    "execute  stmt_util_metrics_snap_reset;\n",
    "select pg_sleep(1);"
   ]
  },
  {
   "cell_type": "code",
   "execution_count": null,
   "metadata": {
    "vscode": {
     "languageId": "sql"
    }
   },
   "outputs": [],
   "source": [
    "%%sql\n",
    "-- explain (costs off, analyze, verbose) \n",
    "explain\n",
    "select '' _\n",
    ",  question as val\n",
    "  , category\n",
    "  , answer\n",
    "  , question \n",
    "from tbl_jeopardy\n",
    "where 1=1\n",
    "-- and  question LIKE '%Data'\n",
    "-- and  question ILIKE '%Data'\n",
    "-- and question ~ 'data'\n",
    "and question ~* 'data'\n",
    "; "
   ]
  },
  {
   "attachments": {},
   "cell_type": "markdown",
   "metadata": {},
   "source": [
    "##### q6a | Explain Plan (above ^^)\n",
    "\n",
    "The Explain Plan shows that this query uses the index and reads 1 rows\n",
    "- `idx_jeopardy_ybgin_trgm_ops`\n",
    "\n",
    "The Index Condition reflects the query predicate.\n",
    "\n",
    "- `(question ~* 'data'::text)`\n",
    "\n",
    "Notice the Index Recheck (not visible without analyze):\n",
    "- `Rows Removed by Index Recheck: 169`\n",
    "\n",
    "Unlike PostgreSQL, YugabyteDB does not use a Bitmap Index Scan and Heap Tables for GIN related queries. In PostgreSQL, `Index Recheck` typically indicates that working memory has hit a limit because of the size of bitmap index. In YugabyteDB, `Index Recheck` simply indicates the removal of the 169 of the rows that do no meet the Index Condition.\n",
    "\n",
    "To view the tablet metrics, run the following cell:"
   ]
  },
  {
   "cell_type": "code",
   "execution_count": null,
   "metadata": {
    "vscode": {
     "languageId": "sql"
    }
   },
   "outputs": [],
   "source": [
    "%%sql\n",
    "select '' _\n",
    ",  question as val\n",
    "  , category\n",
    "  , answer\n",
    "  , question \n",
    "from tbl_jeopardy\n",
    "where 1=1\n",
    "-- and  question LIKE '%Data'\n",
    "-- and  question ILIKE '%Data'\n",
    "-- and question ~ 'data'\n",
    "and question ~* 'data'"
   ]
  },
  {
   "cell_type": "code",
   "execution_count": null,
   "metadata": {
    "vscode": {
     "languageId": "sql"
    }
   },
   "outputs": [],
   "source": [
    "%%sql\n",
    "execute  stmt_util_metrics_snap_table;"
   ]
  },
  {
   "attachments": {},
   "cell_type": "markdown",
   "metadata": {},
   "source": [
    "##### q3b | Metrics (above ^^)\n",
    "\n",
    "In the initial query, the `Index Scan` accesses the index tablet:\n",
    "\n",
    "| row_name| \trocksdb_number_db_seek | \trocksdb_number_db_next | \n",
    "|--|--|--|\n",
    "| db_ybu  idx_jeopardy_ybgin_trgm_ops link_table_id tablet_id_unq_1 leader\t | 1| \t292 |\n",
    "\n",
    "There is one results for the predicate expression. This results in one seek of the index tablet offset. The are 170 reads from the offset, notably because of the condition `'data:*`.\n",
    "\n",
    "Because the query returns all columns, the query also reads from one of the tablet leader for `tbl_jeopardy`, a table with hash sharding.\n",
    "\n",
    "\n",
    "| row_name| \trocksdb_number_db_seek | \trocksdb_number_db_next | \n",
    "|--|--|--|\n",
    "| db_ybu tbl_jeopardy link_table_id tablet_id_unq_1\tleader | 91 | 1168 |\n",
    "| db_ybu tbl_jeopardy link_table_id tablet_id_unq_2\tleader | 102 | 1311 |\n",
    "| db_ybu tbl_jeopardy link_table_id tablet_id_unq_1\tleader | 102 | 1311 |\n",
    "\n"
   ]
  },
  {
   "attachments": {},
   "cell_type": "markdown",
   "metadata": {},
   "source": [
    "No support for similarity operator `%`?\n",
    "\n",
    "ybgin index method cannot use more than one required scan entry: got 3"
   ]
  },
  {
   "cell_type": "code",
   "execution_count": null,
   "metadata": {
    "vscode": {
     "languageId": "sql"
    }
   },
   "outputs": [],
   "source": [
    "%%sql\n",
    "execute  stmt_util_metrics_snap_reset;"
   ]
  },
  {
   "cell_type": "code",
   "execution_count": null,
   "metadata": {
    "vscode": {
     "languageId": "sql"
    }
   },
   "outputs": [],
   "source": [
    "%%sql\n",
    "\n",
    "-- explain (costs off, analyze, verbose) \n",
    "select '' _\n",
    ",  question <-> 'data' as val\n",
    "  , category\n",
    "  , answer\n",
    "  , question \n",
    "from tbl_jeopardy\n",
    "where 1=1\n",
    "and question % 'dat'\n",
    "; "
   ]
  },
  {
   "cell_type": "code",
   "execution_count": null,
   "metadata": {
    "vscode": {
     "languageId": "sql"
    }
   },
   "outputs": [],
   "source": [
    "%%sql\n",
    "execute  stmt_util_metrics_snap_table;"
   ]
  },
  {
   "attachments": {},
   "cell_type": "markdown",
   "metadata": {},
   "source": [
    "---\n",
    "#### unaccent\n",
    "`unaccent` is a text search dictionary that removes accents (diacritic signs) from lexemes. It's a filtering dictionary, which means its output is always passed to the next dictionary (if any), unlike the normal behavior of dictionaries. This allows accent-insensitive processing for full text search."
   ]
  },
  {
   "cell_type": "code",
   "execution_count": null,
   "metadata": {
    "vscode": {
     "languageId": "sql"
    }
   },
   "outputs": [],
   "source": [
    "%%sql\n",
    "create extension unaccent;\n"
   ]
  },
  {
   "cell_type": "code",
   "execution_count": null,
   "metadata": {
    "vscode": {
     "languageId": "sql"
    }
   },
   "outputs": [],
   "source": [
    "%%sql\n",
    "create text search configuration fr (copy=french);"
   ]
  },
  {
   "attachments": {},
   "cell_type": "markdown",
   "metadata": {},
   "source": [
    "ALTER TEXT not supported\n",
    "https://www.postgresql.org/docs/11/sql-altertsconfig.html"
   ]
  },
  {
   "cell_type": "code",
   "execution_count": null,
   "metadata": {
    "vscode": {
     "languageId": "sql"
    }
   },
   "outputs": [],
   "source": [
    "%%sql \n",
    "alter text search configuration fr alter mapping for hword, hword_part, word with unaccent, french_stem;"
   ]
  },
  {
   "cell_type": "code",
   "execution_count": null,
   "metadata": {
    "vscode": {
     "languageId": "shellscript"
    }
   },
   "outputs": [],
   "source": [
    "%%bash -s \"$NB_YB_PATH_BIN\" \"$NB_DB_NAME\" \"$NB_NOTEBOOK_DATA_FOLDER\" \"$NB_GIN_EXAMPLES\"   # GIN\n",
    "YB_PATH_BIN=${1}\n",
    "DB_NAME=${2}\n",
    "DATA_FOLDER=${3}\n",
    "GIN_EXAMPLES=${4}\n",
    "\n",
    "\n",
    "#ls $DATA_FOLDER\n",
    "\n",
    "DDL_1=\"alter text search configuration fr alter mapping for hword, hword_part, word with unaccent,french_stem;\"\n",
    "\n",
    "cd $YB_PATH_BIN\n",
    "echo $DDL_1\n",
    "# GIN Examples file\n",
    "./ysqlsh -d ${DB_NAME} -c ${DDL_1} \n",
    "\n",
    "sleep 1;"
   ]
  },
  {
   "attachments": {},
   "cell_type": "markdown",
   "metadata": {},
   "source": [
    "GIN index removes the `stop words`:\n",
    "- `de`\n",
    "- `la`\n",
    "- `en`\n",
    "\n",
    "This is `stop word` pruning. To demonstrate, create a table of with a column of the type, `tsvector`. Then, create a GIN index. Insert a few rows, and review the results."
   ]
  },
  {
   "cell_type": "code",
   "execution_count": null,
   "metadata": {
    "vscode": {
     "languageId": "sql"
    }
   },
   "outputs": [],
   "source": [
    "%%sql3\n",
    "create table tbl_fr (v tsvector);\n",
    "\n",
    "create index on tbl_fr using gin (v);\n",
    "insert into tbl_fr values (to_tsvector (' fr','Café de la Presse')) ;\n",
    "insert into tbl_fr values (to_tsvector (' fr',  'Hôtel en bord de mer!')) ;"
   ]
  },
  {
   "cell_type": "markdown",
   "metadata": {},
   "source": [
    "View the results."
   ]
  },
  {
   "cell_type": "code",
   "execution_count": null,
   "metadata": {
    "vscode": {
     "languageId": "sql"
    }
   },
   "outputs": [],
   "source": [
    "%%sql\n",
    "select * from tbl_fr;"
   ]
  },
  {
   "cell_type": "code",
   "execution_count": null,
   "metadata": {
    "vscode": {
     "languageId": "sql"
    }
   },
   "outputs": [],
   "source": [
    "%%sql\n",
    "--execute  stmt_util_metrics_snap_reset;\n",
    "\n",
    "-- explain (costs off, analyze, verbose) \n",
    "select * from tbl_fr \n",
    "where 1=1 \n",
    "and v @@ to_tsquery('fr','cafe')\n",
    ";"
   ]
  },
  {
   "cell_type": "code",
   "execution_count": null,
   "metadata": {
    "vscode": {
     "languageId": "sql"
    }
   },
   "outputs": [],
   "source": [
    "%%sql\n",
    "\n",
    "explain select * from tbl_fr \n",
    "where 1=1 \n",
    "and v @@ to_tsquery('fr','hotel')\n",
    ";"
   ]
  },
  {
   "attachments": {},
   "cell_type": "markdown",
   "metadata": {},
   "source": [
    "### q7 | Cleanup\n",
    "Drop index"
   ]
  },
  {
   "cell_type": "code",
   "execution_count": null,
   "metadata": {
    "vscode": {
     "languageId": "sql"
    }
   },
   "outputs": [],
   "source": [
    "%%sql\n",
    "drop index if exists idx_cities_city_name_hash;\n",
    "drop index if exists idx_cities_city_name_range;"
   ]
  },
  {
   "attachments": {},
   "cell_type": "markdown",
   "metadata": {},
   "source": [
    "---\n",
    "# 🌟🌟🌟🌟🌟  All  done! \n",
    "In this notebook, you completed the following:\n",
    "\n",
    "- Created GIN indexes\n",
    "- Viewed Explain Plans and metrics reports for various queries to see how a GIN index benefits container queries\n"
   ]
  },
  {
   "attachments": {},
   "cell_type": "markdown",
   "metadata": {},
   "source": [
    "## 😊 Next up!\n",
    "Continue your learning by opening the next notebook, `06_YSQL_Development_Advanced.ipynb'`. \n",
    "\n",
    "Or, to open the notebook from GitPod, run the following:"
   ]
  },
  {
   "cell_type": "code",
   "execution_count": null,
   "metadata": {
    "vscode": {
     "languageId": "sql"
    }
   },
   "outputs": [],
   "source": [
    "%%bash\n",
    "gp open '06_YSQL_Development_Advanced.ipynb'"
   ]
  }
 ],
 "metadata": {
  "kernelspec": {
   "display_name": "Python 3.7.9 64-bit",
   "language": "python",
   "name": "python3"
  },
  "language_info": {
   "codemirror_mode": {
    "name": "ipython",
    "version": 3
   },
   "file_extension": ".py",
   "mimetype": "text/x-python",
   "name": "python",
   "nbconvert_exporter": "python",
   "pygments_lexer": "ipython3",
   "version": "3.9.16"
  },
  "orig_nbformat": 4,
  "vscode": {
   "interpreter": {
    "hash": "aee8b7b246df8f9039afb4144a1f6fd8d2ca17a180786b69acc140d282b71a49"
   }
  }
 },
 "nbformat": 4,
 "nbformat_minor": 2
}
