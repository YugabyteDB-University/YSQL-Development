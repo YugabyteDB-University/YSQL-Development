{
 "cells": [
  {
   "attachments": {},
   "cell_type": "markdown",
   "metadata": {},
   "source": [
    "# IMPORTANT!!!\n",
    "> Move out of bak, otherwise can't read the env_vars.env file as is.\n",
    ">\n",
    "> \n",
    "\n",
    "Notebook requirements and how start YugabyteDB locally (mac/linux) with yb-ctl"
   ]
  },
  {
   "cell_type": "markdown",
   "metadata": {},
   "source": [
    "### Create the notebook variables \n",
    "\n",
    "> IMPORTANT!\n",
    "> \n",
    "> Do NOT skip editing and running this cell. \n",
    "> \n",
    "\n",
    "\n",
    "The following Python cell creates and stores the Jupyter notebook variables.\n",
    "- First, edit the script to select how to assign a value to `MY_SUDO`.\n",
    "- To run the script, select Execute Cell (Play Arrow in the cell side bar).\n",
    "- Verify the accuracy of the output values"
   ]
  },
  {
   "cell_type": "code",
   "execution_count": null,
   "metadata": {},
   "outputs": [],
   "source": [
    "!pip install --upgrade pip\n",
    "!pip install ipython-sql~=0.5 --upgrade\n",
    "!pip install psycopg2-binary\n",
    "!pip install SQLAlchemy --upgrade \n",
    "!pip install sqlparse\n",
    "!pip install html2text\n",
    "!pip install jq"
   ]
  },
  {
   "cell_type": "code",
   "execution_count": 1,
   "metadata": {},
   "outputs": [
    {
     "name": "stdout",
     "output_type": "stream",
     "text": [
      "Stored 'MY_SUDO' (str)\n",
      "Stored 'MY_DB_NAME' (str)\n",
      "Stored 'MY_YB_PATH' (str)\n",
      "Stored 'MY_HOST_IPv4_01' (str)\n",
      "Stored 'MY_HOST_IPv4_02' (str)\n",
      "Stored 'MY_HOST_IPv4_03' (str)\n",
      "Stored 'MY_NOTEBOOK_DIR' (str)\n",
      "Stored 'MY_TSERVER_WEBSERVER_PORT' (str)\n",
      "Stored 'MY_NOTEBOOK_DATA_FOLDER' (str)\n",
      "Stored 'MY_NOTEBOOK_UTILS_FOLDER' (str)\n",
      "Stored 'MY_DATA_DDL_FILE_1' (str)\n",
      "Stored 'MY_DATA_DML_FILE_1' (str)\n",
      "Stored 'MY_UTIL_FUNCTIONS_FILE' (str)\n",
      "Stored 'MY_UTIL_YBTSERVER_METRICS_FILE' (str)\n"
     ]
    }
   ],
   "source": [
    "# Env variables for Notebook\n",
    "import os\n",
    "\n",
    "env_vars = !cat env_vars.env\n",
    "for var in env_vars:\n",
    "    key, value = var.split('=')\n",
    "    os.environ[key] = value\n",
    " \n",
    "### BEGIN: Edit your MY_SUDO\n",
    "\n",
    "# Leave it blank forcing a strategy for notebook execution\n",
    "# MY_SUDO=''\n",
    "\n",
    "# Specify your sudo password in the cell\n",
    "#MY_SUDO='password'\n",
    "\n",
    "# env_vars defines ENV_SUDO='psswrd'\n",
    "MY_SUDO=os.environ.get('MY_SUDO')\n",
    "\n",
    "\n",
    "# bash_profSile exports the variable, e.g., export GLOBAL_SUDO='psswrd' \n",
    "MY_SUDO=os.environ.get('GLOBAL_SUDO')\n",
    "\n",
    "### END: MY_SUDO\n",
    "\n",
    "\n",
    "# Create and assign notebook variables\n",
    "# env_vars defines the following\n",
    "MY_DB_NAME=os.environ.get('MY_DB_NAME')\n",
    "# MY_YB_PATH=os.environ.get('MY_YB_PATH')\n",
    "MY_YB_PATH=os.environ.get('MY_YB_PATH_LOCAL')\n",
    "MY_GITPOD_WORKSPACE_URL=os.environ.get('MY_GITPOD_WORKSPACE_URL_LOCAL')\n",
    "\n",
    "MY_HOST_IPv4_01=os.environ.get('MY_HOST_IPv4_01')\n",
    "MY_HOST_IPv4_02=os.environ.get('MY_HOST_IPv4_02')\n",
    "MY_HOST_IPv4_03=os.environ.get('MY_HOST_IPv4_03')\n",
    "MY_TSERVER_WEBSERVER_PORT=os.environ.get('MY_TSERVER_WEBSERVER_PORT')\n",
    "MY_DATA_DDL_FILE_1=os.environ.get(\"MY_DATA_DDL_FILE_1\")\n",
    "MY_DATA_DML_FILE_1=os.environ.get(\"MY_DATA_DML_FILE_1\")\n",
    "MY_UTIL_FUNCTIONS_FILE=os.environ.get(\"MY_UTIL_FUNCTIONS_FILE\")\n",
    "MY_UTIL_YBTSERVER_METRICS_FILE=os.environ.get(\"MY_UTIL_YBTSERVER_METRICS_FILE\")\n",
    "# Current directory of project and related child folders\n",
    "\n",
    "MY_NOTEBOOK_DIR=os.getcwd()\n",
    "MY_NOTEBOOK_DATA_FOLDER=MY_NOTEBOOK_DIR +'/data'\n",
    "\n",
    "MY_NOTEBOOK_UTILS_FOLDER=MY_NOTEBOOK_DIR + '/utils'\n",
    "\n",
    "# Store the note book values for other notebooks to use\n",
    "%store MY_SUDO\n",
    "%store MY_DB_NAME\n",
    "%store MY_YB_PATH\n",
    "%store MY_HOST_IPv4_01\n",
    "%store MY_HOST_IPv4_02\n",
    "%store MY_HOST_IPv4_03\n",
    "%store MY_NOTEBOOK_DIR\n",
    "%store MY_TSERVER_WEBSERVER_PORT\n",
    "%store MY_NOTEBOOK_DATA_FOLDER\n",
    "%store MY_NOTEBOOK_UTILS_FOLDER\n",
    "%store MY_DATA_DDL_FILE_1\n",
    "%store MY_DATA_DML_FILE_1\n",
    "%store MY_UTIL_FUNCTIONS_FILE\n",
    "%store MY_UTIL_YBTSERVER_METRICS_FILE"
   ]
  },
  {
   "cell_type": "markdown",
   "metadata": {},
   "source": [
    "### Create the loopback host aliases\n",
    "> Important!\n",
    "> \n",
    "> The script requires the password for `sudo`.\n",
    "> \n",
    "> The bash cell utilizes the notebook variable, `MY_SUDO`.\n",
    "> \n",
    "> If you did not define the `MY_SUDO` notebook variable using one of the suggested options, you can copy this script into the terminal, which is interactive, and manually supply the password.\n",
    "\n",
    "The YugabyteDB local cluster for this lab requires that your create loop back aliases for your local host (127.0.0.1). The bash cell does the following:\n",
    "- Deletes existing aliases\n",
    "- Creates the loopback aliases from `127.0.0.2` to `127.0.0.7`"
   ]
  },
  {
   "cell_type": "code",
   "execution_count": 2,
   "metadata": {
    "vscode": {
     "languageId": "shellscript"
    }
   },
   "outputs": [
    {
     "name": "stdout",
     "output_type": "stream",
     "text": [
      "lo0: flags=8049<UP,LOOPBACK,RUNNING,MULTICAST> mtu 16384\n",
      "\toptions=1203<RXCSUM,TXCSUM,TXSTATUS,SW_TIMESTAMP>\n",
      "\tinet 127.0.0.1 netmask 0xff000000 \n",
      "\tinet6 ::1 prefixlen 128 \n",
      "\tinet6 fe80::1%lo0 prefixlen 64 scopeid 0x1 \n",
      "\tinet 127.0.0.2 netmask 0xff000000 \n",
      "\tinet 127.0.0.3 netmask 0xff000000 \n",
      "\tinet 127.0.0.4 netmask 0xff000000 \n",
      "\tinet 127.0.0.5 netmask 0xff000000 \n",
      "\tinet 127.0.0.6 netmask 0xff000000 \n",
      "\tinet 127.0.0.7 netmask 0xff000000 \n",
      "\tnd6 options=201<PERFORMNUD,DAD>\n"
     ]
    },
    {
     "name": "stderr",
     "output_type": "stream",
     "text": [
      "Password:"
     ]
    }
   ],
   "source": [
    "%%bash -s \"$MY_SUDO\"  # ifconfig aliases\n",
    "MY_SUDO=${1}\n",
    "\n",
    "if ifconfig lo0 | grep 127.0.0.[2-7] > /dev/null\n",
    "then\n",
    "    echo ${MY_SUDO} | sudo -S ifconfig lo0 delete 127.0.0.2\n",
    "    echo ${MY_SUDO} | sudo -S ifconfig lo0 delete 127.0.0.3\n",
    "    echo ${MY_SUDO} | sudo -S ifconfig lo0 delete 127.0.0.4\n",
    "    echo ${MY_SUDO} | sudo -S ifconfig lo0 delete 127.0.0.5\n",
    "    echo ${MY_SUDO} | sudo -S ifconfig lo0 delete 127.0.0.6\n",
    "    echo ${MY_SUDO} | sudo -S ifconfig lo0 delete 127.0.0.7\n",
    "fi\n",
    "\n",
    "echo ${MY_SUDO} | sudo -S ifconfig lo0 alias 127.0.0.2\n",
    "echo ${MY_SUDO} | sudo -S ifconfig lo0 alias 127.0.0.3\n",
    "echo ${MY_SUDO} | sudo -S ifconfig lo0 alias 127.0.0.4\n",
    "echo ${MY_SUDO} | sudo -S ifconfig lo0 alias 127.0.0.5\n",
    "echo ${MY_SUDO} | sudo -S ifconfig lo0 alias 127.0.0.6\n",
    "echo ${MY_SUDO} | sudo -S ifconfig lo0 alias 127.0.0.7\n",
    "\n",
    "echo ${MY_SUDO} | sudo ifconfig lo0"
   ]
  },
  {
   "cell_type": "markdown",
   "metadata": {},
   "source": [
    "### Create a YugabyteDB local cluster\n",
    "- If a YugabyteDB local cluster is running, it will be stopped and destroyed using `yb-ctl`\n",
    "- To avoid the port 9000 conflict, specifies port `TSERVER_WEBSERVER_PORT` as `8200`"
   ]
  },
  {
   "cell_type": "code",
   "execution_count": 3,
   "metadata": {
    "vscode": {
     "languageId": "shellscript"
    }
   },
   "outputs": [
    {
     "name": "stdout",
     "output_type": "stream",
     "text": [
      "Destroying cluster.\n",
      "Creating cluster.\n",
      "Waiting for cluster to be ready.\n",
      "----------------------------------------------------------------------------------------------------\n",
      "| Node Count: 3 | Replication Factor: 3                                                            |\n",
      "----------------------------------------------------------------------------------------------------\n",
      "| JDBC                : jdbc:postgresql://127.0.0.1:5433/yugabyte                                  |\n",
      "| YSQL Shell          : bin/ysqlsh                                                                 |\n",
      "| YCQL Shell          : bin/ycqlsh                                                                 |\n",
      "| YEDIS Shell         : bin/redis-cli                                                              |\n",
      "| Web UI              : http://127.0.0.1:7000/                                                     |\n",
      "| Cluster Data        : /Users/seth/yugabyte-data                                                  |\n",
      "----------------------------------------------------------------------------------------------------\n",
      "\n",
      "For more info, please use: yb-ctl status\n",
      "----------------------------------------------------------------------------------------------------\n",
      "| Node Count: 3 | Replication Factor: 3                                                            |\n",
      "----------------------------------------------------------------------------------------------------\n",
      "| JDBC                : jdbc:postgresql://127.0.0.1:5433/yugabyte                                  |\n",
      "| YSQL Shell          : bin/ysqlsh                                                                 |\n",
      "| YCQL Shell          : bin/ycqlsh                                                                 |\n",
      "| YEDIS Shell         : bin/redis-cli                                                              |\n",
      "| Web UI              : http://127.0.0.1:7000/                                                     |\n",
      "| Cluster Data        : /Users/seth/yugabyte-data                                                  |\n",
      "----------------------------------------------------------------------------------------------------\n",
      "----------------------------------------------------------------------------------------------------\n",
      "| Node 1: yb-tserver (pid 50598), yb-master (pid 50589)                                            |\n",
      "----------------------------------------------------------------------------------------------------\n",
      "| JDBC                : jdbc:postgresql://127.0.0.1:5433/yugabyte                                  |\n",
      "| YSQL Shell          : bin/ysqlsh                                                                 |\n",
      "| YCQL Shell          : bin/ycqlsh                                                                 |\n",
      "| YEDIS Shell         : bin/redis-cli                                                              |\n",
      "| data-dir[0]         : /Users/seth/yugabyte-data/node-1/disk-1/yb-data                            |\n",
      "| yb-tserver Logs     : /Users/seth/yugabyte-data/node-1/disk-1/yb-data/tserver/logs               |\n",
      "| yb-master Logs      : /Users/seth/yugabyte-data/node-1/disk-1/yb-data/master/logs                |\n",
      "----------------------------------------------------------------------------------------------------\n",
      "----------------------------------------------------------------------------------------------------\n",
      "| Node 2: yb-tserver (pid 50601), yb-master (pid 50592)                                            |\n",
      "----------------------------------------------------------------------------------------------------\n",
      "| JDBC                : jdbc:postgresql://127.0.0.2:5433/yugabyte                                  |\n",
      "| YSQL Shell          : bin/ysqlsh -h 127.0.0.2                                                    |\n",
      "| YCQL Shell          : bin/ycqlsh 127.0.0.2                                                       |\n",
      "| YEDIS Shell         : bin/redis-cli -h 127.0.0.2                                                 |\n",
      "| data-dir[0]         : /Users/seth/yugabyte-data/node-2/disk-1/yb-data                            |\n",
      "| yb-tserver Logs     : /Users/seth/yugabyte-data/node-2/disk-1/yb-data/tserver/logs               |\n",
      "| yb-master Logs      : /Users/seth/yugabyte-data/node-2/disk-1/yb-data/master/logs                |\n",
      "----------------------------------------------------------------------------------------------------\n",
      "----------------------------------------------------------------------------------------------------\n",
      "| Node 3: yb-tserver (pid 50604), yb-master (pid 50595)                                            |\n",
      "----------------------------------------------------------------------------------------------------\n",
      "| JDBC                : jdbc:postgresql://127.0.0.3:5433/yugabyte                                  |\n",
      "| YSQL Shell          : bin/ysqlsh -h 127.0.0.3                                                    |\n",
      "| YCQL Shell          : bin/ycqlsh 127.0.0.3                                                       |\n",
      "| YEDIS Shell         : bin/redis-cli -h 127.0.0.3                                                 |\n",
      "| data-dir[0]         : /Users/seth/yugabyte-data/node-3/disk-1/yb-data                            |\n",
      "| yb-tserver Logs     : /Users/seth/yugabyte-data/node-3/disk-1/yb-data/tserver/logs               |\n",
      "| yb-master Logs      : /Users/seth/yugabyte-data/node-3/disk-1/yb-data/master/logs                |\n",
      "----------------------------------------------------------------------------------------------------\n"
     ]
    }
   ],
   "source": [
    "%%bash -s \"$MY_YB_PATH\" \"$MY_TSERVER_WEBSERVER_PORT\"  # yb-ctl create\n",
    "YB_PATH=${1}\n",
    "TSERVER_WEBSERVER_PORT=${2}\n",
    "\n",
    "cd $YB_PATH\n",
    "\n",
    "### Grep port 9000 for conflict\n",
    "# lsof -nP -iTCP -sTCP:LISTEN | grep 9000\n",
    "\n",
    "# Stop running cluster\n",
    "if  pgrep -x \"yb-tserver\" > /dev/null \n",
    "then\n",
    "    ./bin/yb-ctl stop\n",
    "    sleep 1\n",
    "fi\n",
    "\n",
    "# Destroy cluster\n",
    "if echo `./bin/yb-ctl status` | grep \"Node Count\"  > /dev/null \n",
    "then\n",
    "    ./bin/yb-ctl destroy\n",
    "    sleep 1\n",
    "fi\n",
    "\n",
    "# Create cluster\n",
    "./bin/yb-ctl --rf 3 create  \\\n",
    "--tserver_flags \"yb_num_shards_per_tserver=1,ysql_num_shards_per_tserver=1,ysql_beta_features=true,webserver_port=\"${TSERVER_WEBSERVER_PORT}  \\\n",
    "--master_flags \"yb_num_shards_per_tserver=1,ysql_num_shards_per_tserver=1\" \\\n",
    "--num_shards_per_tserver=1  \\\n",
    "--placement_info \"cloud1.region1.zone1,cloud2.region2.zone2,cloud3.region3.zone3\" \n",
    "\n",
    "## add node\n",
    "## ./bin/yb-ctl add_node --placement_info \"cloud1.region1.zone1\" \n",
    "\n",
    "# Output status\n",
    "./bin/yb-ctl status"
   ]
  },
  {
   "cell_type": "code",
   "execution_count": null,
   "metadata": {
    "vscode": {
     "languageId": "shellscript"
    }
   },
   "outputs": [],
   "source": [
    "%%bash -s \"$MY_YB_PATH\" \"$MY_TSERVER_WEBSERVER_PORT\"  # yb-ctl create\n",
    "YB_PATH=${1}\n",
    "TSERVER_WEBSERVER_PORT=${2}\n",
    "\n",
    "cd $YB_PATH\n",
    "\n",
    "\n",
    "# Output status\n",
    "./bin/yb-ctl status"
   ]
  },
  {
   "attachments": {},
   "cell_type": "markdown",
   "metadata": {},
   "source": [
    "### YCQL API"
   ]
  },
  {
   "cell_type": "code",
   "execution_count": null,
   "metadata": {
    "vscode": {
     "languageId": "shellscript"
    }
   },
   "outputs": [],
   "source": [
    "%%bash -s \"$MY_YB_PATH\" \"$MY_TSERVER_WEBSERVER_PORT\"  # yb-ctl create\n",
    "YB_PATH=${1}\n",
    "TSERVER_WEBSERVER_PORT=${2}\n",
    "\n",
    "cd $YB_PATH\n",
    "\n",
    "\n",
    "# Output status\n",
    "./bin/ycqlsh -e \"\n",
    "  select cql_version from system.local;\n",
    "\"  "
   ]
  },
  {
   "attachments": {},
   "cell_type": "markdown",
   "metadata": {},
   "source": [
    "### YSQL API"
   ]
  },
  {
   "cell_type": "code",
   "execution_count": 8,
   "metadata": {
    "vscode": {
     "languageId": "shellscript"
    }
   },
   "outputs": [
    {
     "name": "stdout",
     "output_type": "stream",
     "text": [
      "                                   List of databases\n",
      "      Name       |  Owner   | Encoding | Collate |    Ctype    |   Access privileges   \n",
      "-----------------+----------+----------+---------+-------------+-----------------------\n",
      " db_ybu          | yugabyte | UTF8     | C       | en_US.UTF-8 | \n",
      " postgres        | postgres | UTF8     | C       | en_US.UTF-8 | \n",
      " system_platform | postgres | UTF8     | C       | en_US.UTF-8 | \n",
      " template0       | postgres | UTF8     | C       | en_US.UTF-8 | =c/postgres          +\n",
      "                 |          |          |         |             | postgres=CTc/postgres\n",
      " template1       | postgres | UTF8     | C       | en_US.UTF-8 | =c/postgres          +\n",
      "                 |          |          |         |             | postgres=CTc/postgres\n",
      " yugabyte        | postgres | UTF8     | C       | en_US.UTF-8 | \n",
      "(6 rows)\n",
      "\n"
     ]
    },
    {
     "name": "stderr",
     "output_type": "stream",
     "text": [
      "ERROR:  database \"db_ybu\" is being accessed by other users\n",
      "DETAIL:  There are 2 other sessions using the database.\n",
      "ERROR:  database \"db_ybu\" already exists\n"
     ]
    }
   ],
   "source": [
    "%%bash -s \"$MY_YB_PATH\" \"$MY_DB_NAME\"  # create database\n",
    "YB_PATH=${1}\n",
    "DB_NAME=${2}\n",
    "\n",
    "cd $YB_PATH\n",
    "\n",
    "# drop and create\n",
    "./bin/ysqlsh -d yugabyte -c \"drop database if exists \"${DB_NAME}\";\"  \n",
    "./bin/ysqlsh -d yugabyte -c \"create database \"${DB_NAME}\";\" \n",
    "\n",
    "# list dbs\n",
    "./bin/ysqlsh -d yugabyte -c \"\\l\""
   ]
  }
 ],
 "metadata": {
  "kernelspec": {
   "display_name": "Python 3.7.9 64-bit",
   "language": "python",
   "name": "python3"
  },
  "language_info": {
   "codemirror_mode": {
    "name": "ipython",
    "version": 3
   },
   "file_extension": ".py",
   "mimetype": "text/x-python",
   "name": "python",
   "nbconvert_exporter": "python",
   "pygments_lexer": "ipython3",
   "version": "3.7.16"
  },
  "orig_nbformat": 4,
  "vscode": {
   "interpreter": {
    "hash": "aee8b7b246df8f9039afb4144a1f6fd8d2ca17a180786b69acc140d282b71a49"
   }
  }
 },
 "nbformat": 4,
 "nbformat_minor": 2
}
