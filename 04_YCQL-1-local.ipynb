{
 "cells": [
  {
   "cell_type": "markdown",
   "metadata": {
    "deletable": false,
    "editable": false
   },
   "source": [
    "# Lab Requirements and Setup\n",
    "\n",
    "This lab consists of several Jupyter notebooks and runs in Gitpod using VS Code.  Follow the instructions for requirements and setup.\n",
    "\n",
    "## About Jupyter notebooks\n",
    "A notebook consists of one or more cells. In VS Code, notebooks cells are editable. \n",
    "\n",
    "There are two types of cells: markdown and code. This is a markdown cell.\n",
    "\n",
    "You run a code cell by simply selecting the play icon in the cell's left gutter. For code cells, you can modify the code for execution. Certain labs contain challenges or experiments that require you to do just that - modify a code cell and re-run it!\n",
    "\n",
    "### Requirements\n",
    "Here are the requirements for this lab:\n",
    "- Launch using a gitpod workspace\n",
    "- Run a three node, YugabyteDB cluster using `yb-ctl`\n",
    "\n",
    "> Note\n",
    ">  \n",
    "> Although a three node cluster is up and running, Gitpod does not support visiting loopback addresses over a web ui, even if exposed on a different port.\n",
    "> 127.0.0.1 is the only web user interfaces. To see all available ports in Gitpod, in the terminal, run `gp ports list`."
   ]
  },
  {
   "cell_type": "markdown",
   "metadata": {
    "deletable": false,
    "editable": false
   },
   "source": [
    "#### Notebook keyboard shortcuts\n",
    "The Jupyter extension for Gitpod supports the following keyboard shortcuts:\n",
    "| Keystroke | Description |\n",
    "|--|--|\n",
    "| ESC | Change the cell mode |\n",
    "| A | Add a cell above |\n",
    "| B | Add a cell below |\n",
    "| J or down arrow key |  Change a cell to below | \n",
    "| K or up arrow key | Change a cell to above | \n",
    "| Ctrl+Enter | Run the currently selected cell |\n",
    "| Shift+Enter | Run the currently selected cell and insert a new cell immediately below (focus moves to new cell) |\n",
    "| Alt+Enter | Run the currently selected cell and insert a new cell immediately below (focus remains on current cell) |\n",
    "| dd | Delete a selected cell |\n",
    "| z | Undo the last change | \n",
    "| M | switch the cell type to Markdown | \n",
    "| Y | switch the cell type to code |\n",
    "| L | Enable/Disable line numbers |\n",
    "```\n"
   ]
  },
  {
   "cell_type": "markdown",
   "metadata": {
    "deletable": false,
    "editable": false
   },
   "source": [
    "## Setup steps\n",
    "Here are the steps to setup this lab:\n",
    "- Install missing dependencies and restart the notebook\n",
    "- Create the notebook variables\n",
    "- Create the `db_ybu` database"
   ]
  },
  {
   "cell_type": "markdown",
   "metadata": {},
   "source": [
    "### Install missing dependencies and restart the notebook\n",
    "Run the following cell to ensure that the notebook dependencies are available to the notebook. "
   ]
  },
  {
   "cell_type": "markdown",
   "metadata": {},
   "source": [
    "> Important!\n",
    "> \n",
    "> Restart the Notebook.\n",
    "> \n",
    "> Do NOT skip this step.\n",
    "> \n",
    "> After restarting the notebook, you can continue running notebook cells below, at **Create the notebook variables**.\n"
   ]
  },
  {
   "cell_type": "markdown",
   "metadata": {
    "deletable": false,
    "editable": false
   },
   "source": [
    "### Create the notebook variables \n",
    "\n",
    "> IMPORTANT!\n",
    "> \n",
    "> Do NOT skip running this cell. \n",
    "> \n",
    "\n",
    "The following Python cell creates and stores variables that all the notebooks in this lab will use. You can view these variables in the Jupyter tab.\n",
    "\n",
    "- To run the script, select Execute Cell (Play Arrow) in the left gutter of the cell.\n",
    "- Verify the accuracy of the output values"
   ]
  },
  {
   "cell_type": "markdown",
   "metadata": {
    "deletable": false,
    "editable": false
   },
   "source": [
    "### Create the `db_ybu` database with `ycqlsh`\n",
    "Run the following cell to connect to the local host using `ycqlsh`, create the `db_ybu` database, and then list the databases."
   ]
  },
  {
   "cell_type": "code",
   "execution_count": 2,
   "metadata": {
    "vscode": {
     "languageId": "shellscript"
    }
   },
   "outputs": [
    {
     "name": "stdout",
     "output_type": "stream",
     "text": [
      "wishlist_ddl.sql wishlist_dml.sql\n",
      "/Users/markkim/Documents/YBU_repos/jupyter/YCQL-01/data /Users/markkim/Documents/YBU_repos/jupyter/YCQL-01/utils\n",
      "Stored 'MY_DB_NAME' (str)\n",
      "Stored 'MY_YB_PATH' (str)\n",
      "Stored 'MY_GITPOD_WORKSPACE_URL' (str)\n",
      "Stored 'MY_HOST_IPv4_01' (str)\n",
      "Stored 'MY_HOST_IPv4_02' (str)\n",
      "Stored 'MY_HOST_IPv4_03' (str)\n",
      "Stored 'MY_NOTEBOOK_DIR' (str)\n",
      "Stored 'MY_TSERVER_WEBSERVER_PORT' (str)\n",
      "Stored 'MY_NOTEBOOK_DATA_FOLDER' (str)\n",
      "Stored 'MY_NOTEBOOK_UTILS_FOLDER' (str)\n",
      "Stored 'MY_DATA_DDL_FILE' (str)\n",
      "Stored 'MY_DATA_DML_FILE' (str)\n",
      "Stored 'MY_UTIL_FUNCTIONS_FILE' (str)\n",
      "Stored 'MY_UTIL_YBTSERVER_METRICS_FILE' (str)\n",
      "Stored 'MY_SUDO' (str)\n"
     ]
    }
   ],
   "source": [
    "# Env variables for Notebook\n",
    "import os\n",
    "\n",
    "# read env_vars.env\n",
    "env_vars = !cat env_vars.env\n",
    "for var in env_vars:\n",
    "    key, value = var.split('=')\n",
    "    os.environ[key] = value\n",
    " \n",
    "\n",
    "# Comment out Local\n",
    "MY_YB_PATH=os.environ.get('MY_YB_PATH_LOCAL')\n",
    "MY_GITPOD_WORKSPACE_URL=os.environ.get('MY_GITPOD_WORKSPACE_URL_LOCAL')\n",
    "MY_SUDO=os.environ.get('MY_SUDO')\n",
    "\n",
    "# Gitpod specific\n",
    "# MY_YB_PATH=os.environ.get('MY_YB_PATH')\n",
    "# MY_GITPOD_WORKSPACE_URL=os.environ.get('GITPOD_WORKSPACE_URL')\n",
    "\n",
    "# env_vars defines the following\n",
    "MY_DB_NAME=os.environ.get('MY_DB_NAME')\n",
    "MY_HOST_IPv4_01=os.environ.get('MY_HOST_IPv4_01')\n",
    "MY_HOST_IPv4_02=os.environ.get('MY_HOST_IPv4_02')\n",
    "MY_HOST_IPv4_03=os.environ.get('MY_HOST_IPv4_03')\n",
    "MY_TSERVER_WEBSERVER_PORT=os.environ.get('MY_TSERVER_WEBSERVER_PORT')\n",
    "MY_DATA_DDL_FILE=os.environ.get(\"MY_DATA_DDL_FILE\")\n",
    "MY_DATA_DML_FILE=os.environ.get(\"MY_DATA_DML_FILE\")\n",
    "print(MY_DATA_DDL_FILE, MY_DATA_DML_FILE)\n",
    "MY_UTIL_FUNCTIONS_FILE=os.environ.get(\"MY_UTIL_FUNCTIONS_FILE\")\n",
    "MY_UTIL_YBTSERVER_METRICS_FILE=os.environ.get(\"MY_UTIL_YBTSERVER_METRICS_FILE\")\n",
    "\n",
    "# Current directory of project and related child folders\n",
    "MY_NOTEBOOK_DIR=os.getcwd()\n",
    "MY_NOTEBOOK_DATA_FOLDER=MY_NOTEBOOK_DIR +'/data'\n",
    "MY_NOTEBOOK_UTILS_FOLDER=MY_NOTEBOOK_DIR + '/utils'\n",
    "\n",
    "print(MY_NOTEBOOK_DATA_FOLDER, MY_NOTEBOOK_UTILS_FOLDER)\n",
    "# Store the note book values for other notebooks to use\n",
    "\n",
    "%store MY_DB_NAME\n",
    "%store MY_YB_PATH\n",
    "%store MY_GITPOD_WORKSPACE_URL\n",
    "%store MY_HOST_IPv4_01\n",
    "%store MY_HOST_IPv4_02\n",
    "%store MY_HOST_IPv4_03\n",
    "%store MY_NOTEBOOK_DIR\n",
    "%store MY_TSERVER_WEBSERVER_PORT\n",
    "%store MY_NOTEBOOK_DATA_FOLDER\n",
    "%store MY_NOTEBOOK_UTILS_FOLDER\n",
    "%store MY_DATA_DDL_FILE\n",
    "%store MY_DATA_DML_FILE\n",
    "%store MY_UTIL_FUNCTIONS_FILE\n",
    "%store MY_UTIL_YBTSERVER_METRICS_FILE\n",
    "%store MY_SUDO"
   ]
  },
  {
   "cell_type": "code",
   "execution_count": 3,
   "metadata": {
    "vscode": {
     "languageId": "shellscript"
    }
   },
   "outputs": [
    {
     "name": "stdout",
     "output_type": "stream",
     "text": [
      "lo0: flags=8049<UP,LOOPBACK,RUNNING,MULTICAST> mtu 16384\n",
      "\toptions=1203<RXCSUM,TXCSUM,TXSTATUS,SW_TIMESTAMP>\n",
      "\tinet 127.0.0.1 netmask 0xff000000 \n",
      "\tinet6 ::1 prefixlen 128 \n",
      "\tinet6 fe80::1%lo0 prefixlen 64 scopeid 0x1 \n",
      "\tinet 127.0.0.2 netmask 0xff000000 \n",
      "\tinet 127.0.0.3 netmask 0xff000000 \n",
      "\tinet 127.0.0.4 netmask 0xff000000 \n",
      "\tinet 127.0.0.5 netmask 0xff000000 \n",
      "\tinet 127.0.0.6 netmask 0xff000000 \n",
      "\tinet 127.0.0.7 netmask 0xff000000 \n",
      "\tnd6 options=201<PERFORMNUD,DAD>\n"
     ]
    },
    {
     "name": "stderr",
     "output_type": "stream",
     "text": [
      "Password:"
     ]
    }
   ],
   "source": [
    "%%bash -s \"$MY_SUDO\"  # ifconfig aliases\n",
    "MY_SUDO=${1}\n",
    "\n",
    "if ifconfig lo0 | grep 127.0.0.[2-7] > /dev/null\n",
    "then\n",
    "    echo ${MY_SUDO} | sudo -S ifconfig lo0 delete 127.0.0.2\n",
    "    echo ${MY_SUDO} | sudo -S ifconfig lo0 delete 127.0.0.3\n",
    "    echo ${MY_SUDO} | sudo -S ifconfig lo0 delete 127.0.0.4\n",
    "    echo ${MY_SUDO} | sudo -S ifconfig lo0 delete 127.0.0.5\n",
    "    echo ${MY_SUDO} | sudo -S ifconfig lo0 delete 127.0.0.6\n",
    "    echo ${MY_SUDO} | sudo -S ifconfig lo0 delete 127.0.0.7\n",
    "fi\n",
    "\n",
    "echo ${MY_SUDO} | sudo -S ifconfig lo0 alias 127.0.0.2\n",
    "echo ${MY_SUDO} | sudo -S ifconfig lo0 alias 127.0.0.3\n",
    "echo ${MY_SUDO} | sudo -S ifconfig lo0 alias 127.0.0.4\n",
    "echo ${MY_SUDO} | sudo -S ifconfig lo0 alias 127.0.0.5\n",
    "echo ${MY_SUDO} | sudo -S ifconfig lo0 alias 127.0.0.6\n",
    "echo ${MY_SUDO} | sudo -S ifconfig lo0 alias 127.0.0.7\n",
    "\n",
    "echo ${MY_SUDO} | sudo ifconfig lo0"
   ]
  },
  {
   "cell_type": "markdown",
   "metadata": {},
   "source": [
    "## Spin up cluster"
   ]
  },
  {
   "cell_type": "code",
   "execution_count": 4,
   "metadata": {
    "vscode": {
     "languageId": "shellscript"
    }
   },
   "outputs": [
    {
     "name": "stdout",
     "output_type": "stream",
     "text": [
      "Stopping cluster.\n",
      "Destroying cluster.\n",
      "Creating cluster.\n",
      "Waiting for cluster to be ready.\n",
      "...\n",
      "----------------------------------------------------------------------------------------------------\n",
      "| Node Count: 3 | Replication Factor: 3                                                            |\n",
      "----------------------------------------------------------------------------------------------------\n",
      "| JDBC                : jdbc:postgresql://127.0.0.1:5433/yugabyte                                  |\n",
      "| YSQL Shell          : bin/ysqlsh                                                                 |\n",
      "| YCQL Shell          : bin/ycqlsh                                                                 |\n",
      "| YEDIS Shell         : bin/redis-cli                                                              |\n",
      "| Web UI              : http://127.0.0.1:7000/                                                     |\n",
      "| Cluster Data        : /Users/markkim/yugabyte-data                                               |\n",
      "----------------------------------------------------------------------------------------------------\n",
      "\n",
      "For more info, please use: yb-ctl status\n",
      "----------------------------------------------------------------------------------------------------\n",
      "| Node Count: 3 | Replication Factor: 3                                                            |\n",
      "----------------------------------------------------------------------------------------------------\n",
      "| JDBC                : jdbc:postgresql://127.0.0.1:5433/yugabyte                                  |\n",
      "| YSQL Shell          : bin/ysqlsh                                                                 |\n",
      "| YCQL Shell          : bin/ycqlsh                                                                 |\n",
      "| YEDIS Shell         : bin/redis-cli                                                              |\n",
      "| Web UI              : http://127.0.0.1:7000/                                                     |\n",
      "| Cluster Data        : /Users/markkim/yugabyte-data                                               |\n",
      "----------------------------------------------------------------------------------------------------\n",
      "----------------------------------------------------------------------------------------------------\n",
      "| Node 1: yb-tserver (pid 80839), yb-master (pid 80830)                                            |\n",
      "----------------------------------------------------------------------------------------------------\n",
      "| JDBC                : jdbc:postgresql://127.0.0.1:5433/yugabyte                                  |\n",
      "| YSQL Shell          : bin/ysqlsh                                                                 |\n",
      "| YCQL Shell          : bin/ycqlsh                                                                 |\n",
      "| YEDIS Shell         : bin/redis-cli                                                              |\n",
      "| data-dir[0]         : /Users/markkim/yugabyte-data/node-1/disk-1/yb-data                         |\n",
      "| yb-tserver Logs     : /Users/markkim/yugabyte-data/node-1/disk-1/yb-data/tserver/logs            |\n",
      "| yb-master Logs      : /Users/markkim/yugabyte-data/node-1/disk-1/yb-data/master/logs             |\n",
      "----------------------------------------------------------------------------------------------------\n",
      "----------------------------------------------------------------------------------------------------\n",
      "| Node 2: yb-tserver (pid 80842), yb-master (pid 80833)                                            |\n",
      "----------------------------------------------------------------------------------------------------\n",
      "| JDBC                : jdbc:postgresql://127.0.0.2:5433/yugabyte                                  |\n",
      "| YSQL Shell          : bin/ysqlsh -h 127.0.0.2                                                    |\n",
      "| YCQL Shell          : bin/ycqlsh 127.0.0.2                                                       |\n",
      "| YEDIS Shell         : bin/redis-cli -h 127.0.0.2                                                 |\n",
      "| data-dir[0]         : /Users/markkim/yugabyte-data/node-2/disk-1/yb-data                         |\n",
      "| yb-tserver Logs     : /Users/markkim/yugabyte-data/node-2/disk-1/yb-data/tserver/logs            |\n",
      "| yb-master Logs      : /Users/markkim/yugabyte-data/node-2/disk-1/yb-data/master/logs             |\n",
      "----------------------------------------------------------------------------------------------------\n",
      "----------------------------------------------------------------------------------------------------\n",
      "| Node 3: yb-tserver (pid 80845), yb-master (pid 80836)                                            |\n",
      "----------------------------------------------------------------------------------------------------\n",
      "| JDBC                : jdbc:postgresql://127.0.0.3:5433/yugabyte                                  |\n",
      "| YSQL Shell          : bin/ysqlsh -h 127.0.0.3                                                    |\n",
      "| YCQL Shell          : bin/ycqlsh 127.0.0.3                                                       |\n",
      "| YEDIS Shell         : bin/redis-cli -h 127.0.0.3                                                 |\n",
      "| data-dir[0]         : /Users/markkim/yugabyte-data/node-3/disk-1/yb-data                         |\n",
      "| yb-tserver Logs     : /Users/markkim/yugabyte-data/node-3/disk-1/yb-data/tserver/logs            |\n",
      "| yb-master Logs      : /Users/markkim/yugabyte-data/node-3/disk-1/yb-data/master/logs             |\n",
      "----------------------------------------------------------------------------------------------------\n"
     ]
    }
   ],
   "source": [
    "%%bash -s \"$MY_YB_PATH\" \"$MY_TSERVER_WEBSERVER_PORT\"  # yb-ctl create\n",
    "YB_PATH=${1}\n",
    "TSERVER_WEBSERVER_PORT=${2}\n",
    "\n",
    "cd $YB_PATH\n",
    "\n",
    "### Grep port 9000 for conflict\n",
    "# lsof -nP -iTCP -sTCP:LISTEN | grep 9000\n",
    "\n",
    "# Stop running cluster\n",
    "if  pgrep -x \"yb-tserver\" > /dev/null \n",
    "then\n",
    "    ./bin/yb-ctl stop\n",
    "    sleep 1\n",
    "fi\n",
    "\n",
    "# Destroy cluster\n",
    "if echo `./bin/yb-ctl status` | grep \"Node Count\"  > /dev/null \n",
    "then\n",
    "    ./bin/yb-ctl destroy\n",
    "    sleep 1\n",
    "fi\n",
    "\n",
    "# Create cluster\n",
    "./bin/yb-ctl --rf 3 create  \\\n",
    "--tserver_flags \"yb_num_shards_per_tserver=1,ysql_num_shards_per_tserver=1,ysql_beta_features=true,webserver_port=\"${TSERVER_WEBSERVER_PORT}  \\\n",
    "--master_flags \"yb_num_shards_per_tserver=1,ysql_num_shards_per_tserver=1\" \\\n",
    "--num_shards_per_tserver=1  \\\n",
    "--placement_info \"azure.region1.zone1,azure.region1.zone2,azure.region1.zone3\" \n",
    "\n",
    "# Output status\n",
    "./bin/yb-ctl status"
   ]
  },
  {
   "cell_type": "markdown",
   "metadata": {},
   "source": [
    "## Create Keyspace"
   ]
  },
  {
   "cell_type": "markdown",
   "metadata": {},
   "source": [
    "#### YCQL Shell Commands\n",
    "The following commands are YCQL shell commands that use the YCQLSH to connect to the keyspace.\\"
   ]
  },
  {
   "cell_type": "code",
   "execution_count": 5,
   "metadata": {
    "vscode": {
     "languageId": "shellscript"
    }
   },
   "outputs": [
    {
     "name": "stdout",
     "output_type": "stream",
     "text": [
      "\n",
      "        SHOW [ycqlsh only]\n",
      "\n",
      "          Displays information about the current ycqlsh session. Can be called in\n",
      "          the following ways:\n",
      "\n",
      "        SHOW VERSION\n",
      "\n",
      "          Shows the version and build of the connected Cassandra instance, as\n",
      "          well as the versions of the CQL spec and the Thrift protocol that\n",
      "          the connected Cassandra instance understands.\n",
      "\n",
      "        SHOW HOST\n",
      "\n",
      "          Shows where ycqlsh is currently connected.\n",
      "\n",
      "        SHOW SESSION <sessionid>\n",
      "\n",
      "          Pretty-prints the requested tracing session.\n",
      "        \n"
     ]
    }
   ],
   "source": [
    "%%bash -s \"$MY_YB_PATH\"   # READ TABLES\n",
    "YB_PATH=${1}\n",
    "cd $YB_PATH\n",
    "\n",
    "# YCQL Commands\n",
    "./bin/ycqlsh --execute \"HELP SHOW\"  \n",
    "# ./bin/ycqlsh --execute \"SHOW VERSION\"  \n",
    "# ./bin/ycqlsh --execute \"SHOW HOST\"\n",
    "# ./bin/ycqlsh --execute \"HELP DESCRIBE\"\n",
    "# ./bin/ycqlsh --execute \"DESC KEYSPACES\"\n",
    "# ./bin/ycqlsh --execute \"DESC TABLES\"\n",
    "# ./bin/ycqlsh --execute \"HELP LOGIN\"\n",
    "# ./bin/ycqlsh --execute \"LOGIN cassandra\"\n",
    "# ./bin/ycqlsh --execute \"./bin/ycqlsh -u cassandra -p cassandra\"\n",
    "# ./bin/ycqlsh --execute \"EXIT\"\n",
    "# ./bin/ycqlsh --execute \"SELECT * FROM system_auth.roles;\"  "
   ]
  },
  {
   "cell_type": "markdown",
   "metadata": {},
   "source": [
    "#### Data Definition Language\n",
    "Using the YCQL Shell prompt, you can connect to the YugabyteDB instance by creating a keyspace and tables."
   ]
  },
  {
   "cell_type": "code",
   "execution_count": 11,
   "metadata": {
    "vscode": {
     "languageId": "shellscript"
    }
   },
   "outputs": [
    {
     "name": "stdout",
     "output_type": "stream",
     "text": [
      "\n",
      "system_auth  mydemo  system_schema  system\n",
      "\n"
     ]
    }
   ],
   "source": [
    "%%bash -s \"$MY_YB_PATH\"   # READ TABLES\n",
    "YB_PATH=${1}\n",
    "cd $YB_PATH\n",
    "\n",
    "\n",
    "./bin/ycqlsh --execute \"CREATE KEYSPACE IF NOT EXISTS mydemo;\"  \n",
    "# ./bin/ycqlsh --execute \"CREATE TABLE mydemo.employees (\n",
    "#     id INT,\n",
    "#     name TEXT,\n",
    "#     email TEXT,\n",
    "#     PRIMARY KEY (id)\n",
    "# );\"\n",
    "# ./bin/ycqlsh --execute \"DESC keyspaces\"\n"
   ]
  },
  {
   "cell_type": "markdown",
   "metadata": {},
   "source": [
    "#### Write to the table employees\n",
    "Seed the employees table with employee data."
   ]
  },
  {
   "cell_type": "code",
   "execution_count": 7,
   "metadata": {
    "vscode": {
     "languageId": "shellscript"
    }
   },
   "outputs": [],
   "source": [
    "%%bash -s \"$MY_YB_PATH\"   # READ TABLES\n",
    "YB_PATH=${1}\n",
    "cd $YB_PATH\n",
    "\n",
    "./bin/ycqlsh --execute \"\n",
    "  INSERT INTO mydemo.employees (id, name, email) VALUES \n",
    "    (1, 'Bruce Wayne', 'batman@yb.com');\n",
    " \"\n",
    "\n",
    "./bin/ycqlsh --execute \"\n",
    "INSERT INTO mydemo.employees (id, name, email) VALUES \n",
    "    (2, 'Clark Kent', 'superman@yb.com');\n",
    "\"\n",
    "\n",
    "./bin/ycqlsh --execute \"\n",
    "INSERT INTO mydemo.employees (id, name, email) VALUES \n",
    "    (3, 'Peter Parker', 'spiderman@yb.com');\n",
    "\"\n"
   ]
  },
  {
   "cell_type": "markdown",
   "metadata": {},
   "source": [
    "#### Read from Table \n",
    "Verify the tables were seeded with data."
   ]
  },
  {
   "cell_type": "code",
   "execution_count": 39,
   "metadata": {
    "vscode": {
     "languageId": "shellscript"
    }
   },
   "outputs": [
    {
     "name": "stdout",
     "output_type": "stream",
     "text": [
      "\n",
      " company_id | full_name\n",
      "------------+--------------\n",
      "          3 | Peter Parker\n",
      "\n",
      "(1 rows)\n"
     ]
    }
   ],
   "source": [
    "%%bash -s \"$MY_YB_PATH\"   # READ TABLES\n",
    "YB_PATH=${1}\n",
    "cd $YB_PATH\n",
    "\n",
    "# # Read\n",
    "./bin/ycqlsh --execute \"SELECT * FROM mydemo.employees;\"\n",
    "# ./bin/ycqlsh --execute \"SELECT id as company_id, name as full_name FROM mydemo.employees WHERE id=3;\"\n",
    "# ./bin/ycqlsh --execute \"SELECT * FROM mydemo.employees WHERE name >= 'B' AND name < 'D';\""
   ]
  },
  {
   "cell_type": "markdown",
   "metadata": {},
   "source": []
  },
  {
   "cell_type": "markdown",
   "metadata": {},
   "source": [
    "#### Data Load\n",
    "In this section, you will populate a database using sql shell scripts. First you will create a new keyspace, then load the DDL and DML sql files into YugabyteDB."
   ]
  },
  {
   "cell_type": "code",
   "execution_count": 12,
   "metadata": {
    "vscode": {
     "languageId": "shellscript"
    }
   },
   "outputs": [
    {
     "name": "stdout",
     "output_type": "stream",
     "text": [
      "\n",
      "Keyspace db_ybu\n",
      "---------------\n",
      "<empty>\n",
      "\n",
      "Keyspace system_auth\n",
      "--------------------\n",
      "roles  role_permissions  resource_role_permissions_index\n",
      "\n",
      "Keyspace mydemo\n",
      "---------------\n",
      "employees\n",
      "\n",
      "Keyspace system_schema\n",
      "----------------------\n",
      "aggregates  types  columns  functions  keyspaces\n",
      "indexes     views  tables   triggers \n",
      "\n",
      "Keyspace system\n",
      "---------------\n",
      "local  size_estimates  peers  partitions\n",
      "\n"
     ]
    }
   ],
   "source": [
    "%%bash -s \"$MY_YB_PATH\" \"$MY_DB_NAME\"  # create database\n",
    "YB_PATH=${1}\n",
    "DB_NAME=${2}\n",
    "\n",
    "cd $YB_PATH\n",
    "\n",
    "# drop and create\n",
    "./bin/ycqlsh --execute \"DROP KEYSPACE IF EXISTS \"${DB_NAME}\";\"\n",
    "# 127.0.0.1\n",
    " \n",
    "./bin/ycqlsh --execute \"CREATE KEYSPACE \"${DB_NAME}\" \n",
    "  WITH REPLICATION = \n",
    "  { 'class': 'SimpleStrategy', 'replication_factor': 1 };\" \n",
    "# 127.0.0.1\n",
    "\n",
    "# Connect to Keyspace\n",
    "./bin/ycqlsh --execute \"USE \"${DB_NAME}\";\"\n",
    "\n",
    "# List keyspaces, validate keyspace creation\n",
    "./bin/ycqlsh --execute \"DESCRIBE TABLES\""
   ]
  },
  {
   "cell_type": "markdown",
   "metadata": {},
   "source": [
    "## Load DDL and Data from File\n",
    "Load SQL statements from a script\n",
    "This will load "
   ]
  },
  {
   "cell_type": "code",
   "execution_count": 16,
   "metadata": {
    "vscode": {
     "languageId": "shellscript"
    }
   },
   "outputs": [
    {
     "name": "stdout",
     "output_type": "stream",
     "text": [
      "\n",
      "Keyspace db_ybu\n",
      "---------------\n",
      "tbl_products_by_category  tbl_products_by_wishlist  tbl_wishlists_by_user\n",
      "\n",
      "Keyspace system_auth\n",
      "--------------------\n",
      "roles  role_permissions  resource_role_permissions_index\n",
      "\n",
      "Keyspace mydemo\n",
      "---------------\n",
      "employees\n",
      "\n",
      "Keyspace system_schema\n",
      "----------------------\n",
      "aggregates  types  columns  functions  keyspaces\n",
      "indexes     views  tables   triggers \n",
      "\n",
      "Keyspace system\n",
      "---------------\n",
      "local  size_estimates  peers  partitions\n",
      "\n"
     ]
    }
   ],
   "source": [
    "%%bash -s \"$MY_YB_PATH\" \"$MY_DB_NAME\" \"$MY_NOTEBOOK_DATA_FOLDER\" \"$MY_DATA_DDL_FILE\" \"$MY_DATA_DML_FILE\"   \n",
    "# Wishlist\n",
    "YB_PATH=${1}\n",
    "DB_NAME=${2}\n",
    "DATA_FOLDER=${3}\n",
    "DATA_DDL_FILE=${4}\n",
    "DATA_DML_FILE=${5}\n",
    "\n",
    "# ls $DATA_FOLDER\n",
    "\n",
    "WISHLIST_DDL_PATH=${DATA_FOLDER}/${DATA_DDL_FILE}\n",
    "WISHLIST_DML_PATH=${DATA_FOLDER}/${DATA_DML_FILE}\n",
    "\n",
    "cd $YB_PATH\n",
    "\n",
    "# DDL file\n",
    "./bin/ycqlsh -k ${DB_NAME} -f ${WISHLIST_DDL_PATH} \n",
    "sleep 1;\n",
    "\n",
    "# # DML file\n",
    "./bin/ycqlsh -k ${DB_NAME} -f ${WISHLIST_DML_PATH} \n",
    "sleep 1;\n",
    "\n",
    "# # Describe relations\n",
    "./bin/ycqlsh --execute \"DESCRIBE TABLES\""
   ]
  },
  {
   "cell_type": "code",
   "execution_count": 27,
   "metadata": {
    "vscode": {
     "languageId": "shellscript"
    }
   },
   "outputs": [
    {
     "name": "stdout",
     "output_type": "stream",
     "text": [
      "\n",
      " wishlist_id | product_name | wishlist_name | quantity | price | description\n",
      "-------------+--------------+---------------+----------+-------+-------------\n",
      "\n",
      "(0 rows)\n"
     ]
    }
   ],
   "source": [
    "%%bash -s \"$MY_YB_PATH\"   # READ TABLES\n",
    "YB_PATH=${1}\n",
    "cd $YB_PATH\n",
    "\n",
    "# drop and create\n",
    "# ./bin/ycqlsh --execute \"SELECT * FROM db_ybu.tbl_products_by_category;\"  \n",
    "# ./bin/ycqlsh --execute \"SELECT * FROM db_ybu.tbl_wishlists_by_user;\"  \n",
    "./bin/ycqlsh --execute \"SELECT * FROM db_ybu.tbl_products_by_wishlist;\"  \n",
    "\n",
    "# list dbs\n",
    "# ./bin/ycqlsh --execute \"DESCRIBE db_ybu.tbl_products_by_wishlist\""
   ]
  },
  {
   "cell_type": "code",
   "execution_count": 21,
   "metadata": {
    "vscode": {
     "languageId": "shellscript"
    }
   },
   "outputs": [
    {
     "name": "stdout",
     "output_type": "stream",
     "text": [
      "\n",
      " user_id    | name             | wishlist_id                          | is_public\n",
      "------------+------------------+--------------------------------------+-----------\n",
      "         10 |        Christmas | 436962dd-3f90-4c93-8f61-eabfa4a803e2 |      True\n",
      " jack-12345 |           Easter | 992962dd-3f90-4c93-8f61-eabfa4a803e2 |      True\n",
      "   jo-12345 | Jo's Anniversary | bc6c17aa-14ee-11ed-861d-0242ac120002 |     False\n",
      " seth-12345 | Chloe's Birthday | ffe2fdce-d177-11ec-9d64-0242ac120002 |      True\n",
      " seth-12345 | Chloe\"s Birthday | ffe2fdce-d177-11ec-9d64-0242ac120002 |      True\n",
      " seth-12345 |         Birthday | 646962dd-3f90-4c93-8f61-eabfa4a803e2 |      True\n",
      "\n",
      "(6 rows)\n"
     ]
    }
   ],
   "source": [
    "%%bash -s \"$MY_YB_PATH\"   # READ TABLES\n",
    "YB_PATH=${1}\n",
    "cd $YB_PATH\n",
    "\n",
    "# drop and create\n",
    "./bin/ycqlsh --execute \"SELECT * FROM db_ybu.tbl_products_by_category;\"  \n",
    "# ./bin/ycqlsh --execute \"SELECT * FROM db_ybu.tbl_wishlists_by_user;\"  \n",
    "# ./bin/ycqlsh --execute \"SELECT * FROM db_ybu.tbl_products_by_wishlist;\"  \n",
    "\n",
    "# list dbs\n",
    "# ./bin/ycqlsh --execute \"DESCRIBE db_ybu.tbl_products_by_wishlist\""
   ]
  },
  {
   "cell_type": "markdown",
   "metadata": {},
   "source": [
    "## Load tables and data from files"
   ]
  },
  {
   "cell_type": "markdown",
   "metadata": {},
   "source": [
    "## Run Queries"
   ]
  },
  {
   "cell_type": "markdown",
   "metadata": {},
   "source": [
    "## Commands"
   ]
  },
  {
   "cell_type": "markdown",
   "metadata": {},
   "source": [
    "Old Stuff"
   ]
  },
  {
   "cell_type": "markdown",
   "metadata": {
    "deletable": false,
    "editable": false
   },
   "source": [
    "---\n",
    "# All done!\n",
    "In this lab, you completed the following:\n",
    "\n",
    "- Setup\n",
    "  - Created the `db_ybu` database with `ycqlsh`\n",
    "  - Created tables and loaded data using DDL and DML scripts\n",
    "  - Connected to the database using a Cassandra driver for Python\n",
    "\n",
    "Next, run the following cell to open `02_Demystifying_table_sharding_tablets_and_data_distribution.ipynb`."
   ]
  }
 ],
 "metadata": {
  "kernelspec": {
   "display_name": "Python 3.9.4 64-bit ('3.9.4': pyenv)",
   "language": "python",
   "name": "python3"
  },
  "language_info": {
   "codemirror_mode": {
    "name": "ipython",
    "version": 3
   },
   "file_extension": ".py",
   "mimetype": "text/x-python",
   "name": "python",
   "nbconvert_exporter": "python",
   "pygments_lexer": "ipython3",
   "version": "3.9.4"
  },
  "orig_nbformat": 4,
  "vscode": {
   "interpreter": {
    "hash": "0857ffcb80af2fb548f76c195b67e2e5b75e102946b97bbf401092901016b64a"
   }
  }
 },
 "nbformat": 4,
 "nbformat_minor": 2
}
