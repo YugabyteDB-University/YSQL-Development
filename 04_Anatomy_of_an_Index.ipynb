{
 "cells": [
  {
   "attachments": {},
   "cell_type": "markdown",
   "metadata": {},
   "source": [
    "<div style=\"width:100%; background-color: #000041\"><a target=\"_blank\" href=\"http://university.yugabyte.com\"><img src=\"assets/YBU_Logo.png\" /></a></div><br>\n",
    "\n",
    "> **YugabyteDB YSQL Development**\n",
    ">\n",
    "> Enroll for free at [Yugabyte University](https://university.yugabyte.com/courses/yugabytedb-ysql-development).\n",
    ">\n",
    "<br>\n",
    "This notebook file is:\n",
    "\n",
    "`04_Anatomy_of_an_Index.ipynb`\n"
   ]
  },
  {
   "cell_type": "markdown",
   "metadata": {},
   "source": [
    "# Anatomy of an Index\n",
    "In the `03_Demystifying_table_sharding_tablets_and_data_distribution.ipynb` notebook, you discovered how YugabyteDB stores data in tablets. You also learned that YugabyteDB and YSQL support two sharding strategies for tables: hash and range sharding.\n",
    "\n",
    "An index in YugabyteDB is also distributed. Just like a table, YugabyteDB stores and distributes the data for an index stores in one or more tablets.  An index can employ either a hash or range sharding strategy. \n",
    "\n",
    "> Note\n",
    "> \n",
    "> In this regard, a tablet represents a shard of data which contains a set of rows for a logical entity. Each tablet is a customized RocksDB instance. A tablet leader has a peer group known as tablet followers, and this group of tablet peers exists as a Raft consensus group. YugabyteDB calls this distributed document store, DocDB.\n",
    "\n",
    "In this notebook, using Explain Plans, built-in functions, and custom utilities for YB-TServer metrics, you will learn how YugabyteDB stores data for an index in one or more tablets. You will also learn how YugabyteDB reads tablet data for an index during query execution.\n"
   ]
  },
  {
   "attachments": {},
   "cell_type": "markdown",
   "metadata": {},
   "source": [
    "## 🛠️ Requirements\n",
    "Here are the requirements for this notebook:\n",
    "- ✅ Create the notebook variables in `01_Lab_Setup.ipynb`, which you previously did\n",
    "- ✅ Create the `db_ybu` database, which you previously did\n",
    "- ☑️ Import the notebook variables, *which you must do next*\n",
    "- ☑️ Connect to the `db_ybu` database, *which you must do next*\n",
    "- ☑️ Complete the following sections\n",
    "  -  Create a secondary index using range sharding\n",
    "  -  Create a secondary index using hash sharding\n",
    "  -  Review of secondary index sharding\n",
    "  -  Expression index\n",
    "  -  Expression with include index\n",
    "  -  Partial index\n",
    "  -  Hints and other features\n",
    "\n",
    "\n",
    "\n",
    "### Select your notebook kernel\n",
    "- In the Notebook toolbar, click **Select Kernel**.\n",
    "<br>\n",
    "<img width=50% src=\"assets/01_01_Select_Kernel_Toolbar.png\" />\n",
    "\n",
    "- Next, in the dropdown, select **Python 3.12** or higher.\n",
    "<br>\n",
    "<img width=50% src=\"assets/01_02_Select_Kernel_Dropdown.png\" />\n",
    "\n",
    "That's it!"
   ]
  },
  {
   "attachments": {},
   "cell_type": "markdown",
   "metadata": {},
   "source": [
    "## ⛑️ Getting help\n",
    "The best way to get help from the Yugabyte University team is to post your question on YugabyteDB Community Slack in the #training or #yb-university channels. To sign up, visit [https://communityinviter.com/apps/yugabyte-db/register](https://communityinviter.com/apps/yugabyte-db/register).\n"
   ]
  },
  {
   "attachments": {},
   "cell_type": "markdown",
   "metadata": {},
   "source": [
    "## 👣 Setup steps\n",
    "Here are the steps to setup this lab:\n",
    "- Import the notebook variables\n",
    "- Connect to `db_ybu` database\n",
    "- Load the SQL Magic extension for the connection\n",
    "- Create the prepared statements"
   ]
  },
  {
   "attachments": {},
   "cell_type": "markdown",
   "metadata": {},
   "source": [
    "### 👇 Import the notebook variables and style the notebook\n",
    "\n",
    "> 👉 **IMPORTANT!** 👈\n",
    "> \n",
    "> Do **NOT** skip running the following cells. \n",
    ">\n",
    "> The following Python cell reads the stored variables created in the `01_Lab_Setup.ipynb` notebook. To run the script, select Execute Cell (Play Arrow) in the left gutter of the cell.  The cell after that styles the notebook.\n",
    "\n",
    "👇 👇 👇 "
   ]
  },
  {
   "cell_type": "code",
   "execution_count": null,
   "metadata": {},
   "outputs": [],
   "source": [
    "# Use %store -r to read 01_Lab_Setup variables\n",
    "%store -r\n",
    "%config SqlMagic.autopandas=False\n",
    "# %config SqlMagic.named_parameters=True\n",
    "%config SqlMagic.displaylimit=30\n",
    "%config SqlMagic.displaycon=False"
   ]
  },
  {
   "cell_type": "markdown",
   "metadata": {},
   "source": [
    "**Update the styling of the notebook**."
   ]
  },
  {
   "cell_type": "code",
   "execution_count": null,
   "metadata": {},
   "outputs": [],
   "source": [
    "from IPython.core.display import HTML\n",
    "def css_styling():\n",
    "    styles = open(\"./styles/custom.css\", \"r\").read()\n",
    "    return HTML(styles)\n",
    "css_styling()"
   ]
  },
  {
   "attachments": {},
   "cell_type": "markdown",
   "metadata": {},
   "source": [
    "## Connect to the `db_ybu` database\n",
    "Run all the cells in this section:\n",
    "- Connect using Python and PostgreSQL driver\n",
    "- Load the SQL magic extension\n",
    "- Create the prepared statements\n",
    "- View the listener\n",
    "- View the DDL for tbl_cities"
   ]
  },
  {
   "cell_type": "code",
   "execution_count": null,
   "metadata": {},
   "outputs": [],
   "source": [
    "# connect use Python 3.12.1+\n",
    "import psycopg2\n",
    "import sqlalchemy as alc\n",
    "from sqlalchemy import create_engine\n",
    "\n",
    "db_host = NB_HOST_IPv4_01\n",
    "db_name = NB_DB_NAME\n",
    "\n",
    "connection_str = 'postgresql+psycopg2://yugabyte@'+db_host+':5433/'+db_name\n",
    "\n",
    "engine = create_engine(connection_str)"
   ]
  },
  {
   "attachments": {},
   "cell_type": "markdown",
   "metadata": {},
   "source": [
    "### Load the SQL magic extension"
   ]
  },
  {
   "cell_type": "code",
   "execution_count": null,
   "metadata": {},
   "outputs": [],
   "source": [
    "%reload_ext sql\n",
    "\n",
    "# SQL magic for python connection string\n",
    "%sql {connection_str}"
   ]
  },
  {
   "attachments": {},
   "cell_type": "markdown",
   "metadata": {},
   "source": [
    "### Create the prepared statements"
   ]
  },
  {
   "attachments": {},
   "cell_type": "markdown",
   "metadata": {},
   "source": [
    "> 👉 **IMPORTANT!** 👈\n",
    "> \n",
    ">   \n",
    "> In order to create the prepared statements for the SQL magic connection, you must run the following cell!!!\n",
    "> \n",
    "> Do not skip this step.\n",
    "> "
   ]
  },
  {
   "cell_type": "code",
   "execution_count": null,
   "metadata": {},
   "outputs": [],
   "source": [
    "#%% python, but prepared statements as sql magic\n",
    "\n",
    "if (NB_YB_MASTER_HOST_GITPOD_URL is None):\n",
    "    stmt = %sql select fn_yb_create_stmts()\n",
    "else:\n",
    "    stmt = %sql select fn_yb_create_stmts(:NB_YB_MASTER_HOST_GITPOD_URL )\n",
    "print(stmt)"
   ]
  },
  {
   "attachments": {},
   "cell_type": "markdown",
   "metadata": {},
   "source": [
    "Confirm that the following query returns a count of 3 (for three prepared statements)."
   ]
  },
  {
   "cell_type": "code",
   "execution_count": null,
   "metadata": {
    "vscode": {
     "languageId": "sql"
    }
   },
   "outputs": [],
   "source": [
    "%%sql \n",
    "select count(*) from pg_prepared_statements where 1=1 and name in ('stmt_util_metrics_snap_tablet','stmt_util_metrics_snap_table','stmt_util_metrics_snap_reset')"
   ]
  },
  {
   "attachments": {},
   "cell_type": "markdown",
   "metadata": {},
   "source": [
    "### View the listener address\n",
    "Run the following cell to view the host for your client connection"
   ]
  },
  {
   "cell_type": "code",
   "execution_count": null,
   "metadata": {
    "vscode": {
     "languageId": "sql"
    }
   },
   "outputs": [],
   "source": [
    "%%sql /* confirm listener */\n",
    "show listen_addresses;"
   ]
  },
  {
   "attachments": {},
   "cell_type": "markdown",
   "metadata": {},
   "source": [
    "### View DDL for tbl_cities\n",
    "\n",
    "Run the following cell to execute the describe table command, `\\d`."
   ]
  },
  {
   "cell_type": "code",
   "execution_count": null,
   "metadata": {
    "vscode": {
     "languageId": "shellscript"
    }
   },
   "outputs": [],
   "source": [
    "%%bash -s \"$NB_YB_PATH_BIN\" \"$NB_DB_NAME\"  # \\d+\n",
    "YB_PATH_BIN=${1}\n",
    "DB_NAME=${2}\n",
    "\n",
    "cd $YB_PATH_BIN\n",
    "\n",
    "./ysqlsh -d ${DB_NAME} -c \"\\d+ tbl_cities\"\n",
    "\n",
    "# ./ysqlsh -d ${DB_NAME} -c \"\\d+ idx_cities_city_name_range\""
   ]
  },
  {
   "attachments": {},
   "cell_type": "markdown",
   "metadata": {},
   "source": [
    "> Need help?\n",
    "> \n",
    "> If you can't find tbl_cities, please go back to `01_Lab_Setup.ipynb`."
   ]
  },
  {
   "attachments": {},
   "cell_type": "markdown",
   "metadata": {},
   "source": [
    "---\n",
    "## q1 | Create a secondary index using range sharding\n",
    "When you create an index for a table with a sort order (`asc` or `desc`), YugabyteDB will create the index using a range sharding strategy.\n",
    "  "
   ]
  },
  {
   "cell_type": "code",
   "execution_count": null,
   "metadata": {
    "vscode": {
     "languageId": "sql"
    }
   },
   "outputs": [],
   "source": [
    "%%sql\n",
    "drop index if exists idx_cities_city_name_range;\n",
    "drop index if exists idx_cities_city_name_hash;\n",
    "\n",
    "select pg_sleep(1);\n",
    "\n",
    "create index idx_cities_city_name_range on tbl_cities (city_name asc);"
   ]
  },
  {
   "attachments": {},
   "cell_type": "markdown",
   "metadata": {},
   "source": [
    "Review the DDL for index in the following cell:"
   ]
  },
  {
   "cell_type": "code",
   "execution_count": null,
   "metadata": {
    "vscode": {
     "languageId": "sql"
    }
   },
   "outputs": [],
   "source": [
    "%%sql\n",
    "select pg_get_indexdef('idx_cities_city_name_range':: regclass);\n"
   ]
  },
  {
   "attachments": {},
   "cell_type": "markdown",
   "metadata": {},
   "source": [
    "Alternatively, use the `\\d+` command:"
   ]
  },
  {
   "cell_type": "code",
   "execution_count": null,
   "metadata": {
    "vscode": {
     "languageId": "sql"
    }
   },
   "outputs": [],
   "source": [
    "%%bash -s \"$NB_YB_PATH_BIN\" \"$NB_DB_NAME\"  # \\d+\n",
    "YB_PATH_BIN=${1}\n",
    "DB_NAME=${2}\n",
    "\n",
    "cd $YB_PATH_BIN\n",
    "\n",
    "./ysqlsh -d ${DB_NAME} -c \"\\d+ idx_cities_city_name_range\""
   ]
  },
  {
   "attachments": {},
   "cell_type": "markdown",
   "metadata": {},
   "source": [
    "`USING lsm` indicates that the index is of the type Log-Structured Merge tree (LSM) and employs range sharding. A LSM tree is not an tree structure, but rather, a complex algorithm that converts discrete random write requests into batch sequential write requests. To improve write performance for the LSM tree, RocksDB utilizes a Write-Ahead Log (WAL) and a memtable (a skiplist that lives in memory). The sequential writes in the memtable persists to disk as a Sorted Sequence Table (SSTable or SST) files.\n",
    "\n",
    "Both hash sharding and range sharding use LSM. The difference of course is that the LSM tree sorts the hash coded values for hash sharding and the specified key values for range sharding.\n",
    "\n",
    "> Important!\n",
    "> \n",
    "> In Data Definition Language statements, YugabyteDB will interpret the `BTREE` keyword as `LSM`. YugabyteDB does not support `BTREE` indexes."
   ]
  },
  {
   "attachments": {},
   "cell_type": "markdown",
   "metadata": {},
   "source": [
    "### View the Index details in the YB-Master web ui\n",
    "You can view the details of the `idx_cities_city_name_range` index in the YB-Master web ui. Run the cell below and open the URL in your web browser."
   ]
  },
  {
   "cell_type": "code",
   "execution_count": null,
   "metadata": {},
   "outputs": [],
   "source": [
    "#%% python, but prepared statements as sql magic\n",
    "THIS_INDEX_NAME = 'idx_cities_city_name_range'\n",
    "THIS_SCHEMA_NAME = 'public'\n",
    "DB_NAME = NB_DB_NAME\n",
    "\n",
    "## Comment out if local\n",
    "view_url = %sql select fn_get_table_id_url(:NB_YB_MASTER_HOST_GITPOD_URL,7000,:DB_NAME,:THIS_SCHEMA_NAME,:THIS_INDEX_NAME ) as view_url \n",
    "\n",
    "## Uncomment if local\n",
    "# view_url = %sql select fn_get_table_id_url(:NB_HOST_IPv4_01,7000,:DB_NAME,:THIS_SCHEMA_NAME,:THIS_INDEX_NAME ) as view_url =\n",
    "\n",
    "# get for ResultSet dict the key value as a string\n",
    "s = str(view_url.dict().get('view_url'))\n",
    "url = s.replace(\"('\", \"\").replace(\"',)\", \"\")\n",
    "print(url)"
   ]
  },
  {
   "attachments": {},
   "cell_type": "markdown",
   "metadata": {},
   "source": [
    "#### Review the Column section\n",
    "The column section shows details about each column in the index. Here is the section for  `idx_cities_city_name_range`:\n",
    "\n",
    "\n",
    "| Column | ID\t| Type |\n",
    "|--------|------|------|\n",
    "| city_name    | 0\t| string NOT NULL NOT A PARTITION KEY | \n",
    "| ybidxbasectid\t   | 1\t| binary NOT NULL NOT A PARTITION KEY | \n",
    "\n",
    "\n",
    "<br/>\n",
    "\n",
    "> Important!\n",
    ">  \n",
    ">  YugabyteDB creates an internal, hidden column, `ybidxbasectid`, for the indexed row. `ybidxbasectid` is similar to the internal, hidden colum, `ybctid`, for a row of a table. Both `ybctid` and  `ybidxbasectid` are virtual columns that represent the\n",
    ">  DocDB-encoded key for the tuple. \n",
    "> \n",
    "> Using  `\\d` or `\\d+` will not show the `ybidxbasectid` column. It is also not possible to query the `ybidxbasectid` value."
   ]
  },
  {
   "attachments": {},
   "cell_type": "markdown",
   "metadata": {},
   "source": [
    "#### Review the Tablet section\n",
    "The Tablet section shows the details for the existing tablets. Here is the section for  `idx_cities_city_name_range`: \n",
    "\n",
    "| Tablet ID |\tPartition\t| SplitDepth\t| State\t| Hidden\t| Message\t| RaftConfig|\n",
    "|--|--|--|--|--|--|--|\n",
    "| some_uuid_1<br>`1e2c3ef228534d3cbbf59c9fa6968d88\t` |\t`range: [<start>, <end>)` |\t0\t| Running|\tfalse| Tablet reported with an active leader\t|<li>FOLLOWER: 127.0.0.1 <li>FOLLOWER: 127.0.0.3<li>LEADER: 127.0.0.1 |\n",
    "\n",
    "YugabyteDB will automatically split this tablet based on the size of the table on disk. The following global flags determine this behavior:\n",
    "\n",
    "```\n",
    "\n",
    "--tablet_force_split_threshold_bytes=107374182400 --> 10240 MB\n",
    "--tablet_split_high_phase_shard_count_per_node=24\n",
    "--tablet_split_high_phase_size_threshold_bytes=10737418240 --> 10240 MB\n",
    "--tablet_split_low_phase_shard_count_per_node=8\n",
    "--tablet_split_low_phase_size_threshold_bytes=536870912 --> 512 MB\n",
    "--tablet_split_size_threshold_bytes=0\n",
    "```\n",
    "\n",
    "The low phase indicates the threshold for the initial splits of the tablet. With more data volume, the threshold increases from 512 MB to over 10 GBs."
   ]
  },
  {
   "attachments": {},
   "cell_type": "markdown",
   "metadata": {},
   "source": [
    "### q1a | Range index in equality predicate\n",
    "To generate an Explain Plan, run the following cell:"
   ]
  },
  {
   "cell_type": "code",
   "execution_count": null,
   "metadata": {
    "vscode": {
     "languageId": "sql"
    }
   },
   "outputs": [],
   "source": [
    "%%sql\n",
    "execute  stmt_util_metrics_snap_reset;\n",
    "\n",
    "explain (analyze, dist) \n",
    "select '' _\n",
    " , *\n",
    " --, city_id\n",
    " --, city_name\n",
    "from tbl_cities \n",
    "where 1=1 \n",
    " -- and country_id = 233\n",
    " -- and country_code = 'US'\n",
    " -- and state_id = 1416\n",
    " -- and state_coude = 'CA'\n",
    "and city_name = 'Alameda'\n",
    " -- and city_id = 111088\n",
    " -- and yb_hash_code(city_id) = yb_hash_code(111088)\n",
    " -- and yb_hash_code(city_name) = yb_hash_code('Alameda'::text)\n",
    "-- limit 100\n",
    ";"
   ]
  },
  {
   "attachments": {},
   "cell_type": "markdown",
   "metadata": {},
   "source": [
    "#### q1a | Explain Plan (above ^^)\n",
    "\n",
    "<details>\n",
    "      <summary>\n",
    "      View Example Output\n",
    "      </summary>\n",
    "\n",
    "```sql\n",
    "Index Scan using idx_cities_city_name_range on tbl_cities (cost=0.00..5.22 rows=10 width=2170) (actual time=3.611..3.615 rows=2 loops=1)\n",
    "  Index Cond: ((city_name)::text = 'Alameda'::text)\n",
    "  Storage Table Read Requests: 1\n",
    "  Storage Table Read Execution Time: 1.756 ms\n",
    "  Storage Index Read Requests: 1\n",
    "  Storage Index Read Execution Time: 1.706 ms\n",
    "Planning Time: 0.109 ms\n",
    "Execution Time: 3.659 ms\n",
    "Storage Read Requests: 2\n",
    "Storage Read Execution Time: 3.462 ms\n",
    "Storage Write Requests: 0\n",
    "Catalog Read Requests: 1\n",
    "Catalog Read Execution Time: 0.782 ms\n",
    "Catalog Write Requests: 0\n",
    "Storage Flush Requests: 0\n",
    "Storage Execution Time: 4.244 ms\n",
    "Peak Memory Usage: 8 kB\n",
    "```\n",
    "</details>\n",
    "The Explain Plan shows that this query uses the index and reads 2 rows\n",
    "- `Index Scan using idx_cities_city_name_range on public.tbl_cities (actual time=6.392..6.397 rows=2 loops=1)`\n",
    "\n",
    "The Index Condition reflects the query predicate.\n",
    "\n",
    "- `Index Cond: ((tbl_cities.city_name)::text = 'Alameda'::text)`\n",
    "\n",
    "To view the tablet metrics, run the following cell:"
   ]
  },
  {
   "cell_type": "code",
   "execution_count": null,
   "metadata": {
    "vscode": {
     "languageId": "sql"
    }
   },
   "outputs": [],
   "source": [
    "%%sql\n",
    "execute  stmt_util_metrics_snap_table;"
   ]
  },
  {
   "attachments": {},
   "cell_type": "markdown",
   "metadata": {},
   "source": [
    "#### q1a | Metrics (above ^^)\n",
    "\n",
    "\n",
    "In the initial query, the `Index Scan` accesses the index tablet:\n",
    "\n",
    "| row_name| \trocksdb_number_db_seek | \trocksdb_number_db_next | \n",
    "|--|--|--|\n",
    "| db_ybu idx_cities_city_name_range link_table_id tablet_id_unq_1 leader\t | 1| \t2 |\n",
    "\n",
    "There are two results for the predicate expression, resulting in one seek of the index tablet offset, and then two reads.\n",
    "Because the query returns all columns, the query also reads from one of the tablet leader for `tbl_cities`, a table with hash sharding.\n",
    "\n",
    "\n",
    "| row_name| \trocksdb_number_db_seek | \trocksdb_number_db_next | \n",
    "|--|--|--|\n",
    "| db_ybu tbl_cities link_table_id tablet_id_unq_1\t| 2 | 30 |\n",
    "\n",
    "\n",
    "What the Metrics report reveals is that even though the query uses the range index, the query must still seek 4 offsets from one of the tablets for `tbl_cities`.\n",
    "\n"
   ]
  },
  {
   "attachments": {},
   "cell_type": "markdown",
   "metadata": {},
   "source": [
    "###  q1b | Covering index with an equality predicate\n",
    "When the query results include all the columns in the index, the index \"covers the query\" and is known as a \"covering index\".\n",
    "\n",
    "To view the Explain Plan, run the following cell: "
   ]
  },
  {
   "cell_type": "code",
   "execution_count": null,
   "metadata": {
    "vscode": {
     "languageId": "sql"
    }
   },
   "outputs": [],
   "source": [
    "%%sql\n",
    "execute  stmt_util_metrics_snap_reset;\n",
    "\n",
    "explain (analyze, dist) \n",
    "select '' _\n",
    " --, *\n",
    "-- , city_id\n",
    " , city_name\n",
    "from tbl_cities \n",
    "where 1=1 \n",
    " -- and country_id = 233\n",
    " -- and country_code = 'US'\n",
    " -- and state_id = 1416\n",
    " -- and state_coude = 'CA'\n",
    "and city_name = 'Alameda'\n",
    "-- and city_id = 111088\n",
    " -- and yb_hash_code(city_id) = yb_hash_code(111088)\n",
    " -- and yb_hash_code(city_name) = yb_hash_code('Alameda'::text)\n",
    "-- limit 100\n",
    ";"
   ]
  },
  {
   "attachments": {},
   "cell_type": "markdown",
   "metadata": {},
   "source": [
    "#### q1b | Explain plan (above ^^)\n",
    "<details>\n",
    "      <summary>\n",
    "      View Example Output\n",
    "      </summary>\n",
    "\n",
    "```sql\n",
    "Index Only Scan using idx_cities_city_name_range on tbl_cities (cost=0.00..5.12 rows=10 width=548) (actual time=3.043..3.046 rows=2 loops=1)\n",
    "  Index Cond: (city_name = 'Alameda'::text)\n",
    "  Heap Fetches: 0\n",
    "  Storage Index Read Requests: 1\n",
    "  Storage Index Read Execution Time: 2.956 ms\n",
    "Planning Time: 0.105 ms\n",
    "Execution Time: 3.077 ms\n",
    "Storage Read Requests: 1\n",
    "Storage Read Execution Time: 2.956 ms\n",
    "Storage Write Requests: 0\n",
    "Catalog Read Requests: 1\n",
    "Catalog Read Execution Time: 0.864 ms\n",
    "Catalog Write Requests: 0\n",
    "Storage Flush Requests: 0\n",
    "Storage Execution Time: 3.820 ms\n",
    "Peak Memory Usage: 8 kB\n",
    "```\n",
    "</details>\n",
    "\n",
    "The Explain Plan shows that this query uses the index only `Index Only Scan` and reads 2 rows.\n",
    "- `Index Only Scan using idx_cities_city_name_range on public.tbl_cities (actual time=4.964..4.968 rows=2 loops=1)`\n",
    "\n",
    "The Index Condition reflects the query predicate.\n",
    "\n",
    "- `Index Cond: ((tbl_cities.city_name)::text = 'Alameda'::text)`\n",
    "\n",
    "To view the tablet metrics, run the following cell:"
   ]
  },
  {
   "cell_type": "code",
   "execution_count": null,
   "metadata": {
    "vscode": {
     "languageId": "sql"
    }
   },
   "outputs": [],
   "source": [
    "%%sql\n",
    "execute  stmt_util_metrics_snap_table;"
   ]
  },
  {
   "attachments": {},
   "cell_type": "markdown",
   "metadata": {},
   "source": [
    "#### q1b | Metrics (above ^^)\n",
    "\n",
    "In the initial query, the `Index Scan` accesses the index tablet:\n",
    "\n",
    "| row_name| \trocksdb_number_db_seek | \trocksdb_number_db_next | \n",
    "|--|--|--|\n",
    "| db_ybu idx_cities_city_name_range link_table_id tablet_id_unq_1 leader\t | 1| \t2 |\n",
    "\n",
    "There are two results for the predicate expression, resulting in one seek of the index tablet offset, and then two reads.\n",
    "Because the query only returns the city name, the index \"covers\" the query and is a \"coverign index\". There is no need for the query to access the tablets for `tbl_cities`.\n"
   ]
  },
  {
   "attachments": {},
   "cell_type": "markdown",
   "metadata": {},
   "source": [
    "#### q1b | Experiment\n",
    "\n",
    "Question: What happens when the query includes the PK column, `city_id`,  in the select command? \n",
    "\n",
    "Answer:\n",
    "  - The Explain Plan becomes an `Index Scan`\n",
    "  - The query eads from a tablet for `tbl_cities`\n",
    "  - The reason? The tuple for the index, `ybidxbasectid`, encodes the PK pointer. YugabyteDB at this time is unable to use this PK encoding in results. This is a known issue.\n",
    "\n",
    "Question: What happens the query includes a PK equality clause in the predicate?\n",
    "\n",
    "Answer:\n",
    "- The query will use the PK index, `tbl_cities_pkey`, and not the secondary index.\n",
    "\n"
   ]
  },
  {
   "attachments": {},
   "cell_type": "markdown",
   "metadata": {},
   "source": [
    "### q1c | Range index with a range predicate\n",
    "Run the following cell to view the query results:"
   ]
  },
  {
   "cell_type": "code",
   "execution_count": null,
   "metadata": {
    "vscode": {
     "languageId": "sql"
    }
   },
   "outputs": [],
   "source": [
    "%%sql\n",
    "-- to see results\n",
    "select '' _\n",
    "   , *\n",
    "-- , city_name\n",
    "from tbl_cities \n",
    "where 1=1 \n",
    " -- and country_id = 233\n",
    " -- and country_code = 'US'\n",
    " -- and state_id = 1416\n",
    " -- and state_coude = 'CA'\n",
    " and city_name BETWEEN 'Alameda' AND  'Alamo'\n",
    "-- and city_id = 111088\n",
    " -- and yb_hash_code(city_id) = yb_hash_code(111088)\n",
    "-- and yb_hash_code(city_name) = yb_hash_code(city_name::text)\n",
    "limit 30\n",
    ";"
   ]
  },
  {
   "attachments": {},
   "cell_type": "markdown",
   "metadata": {},
   "source": [
    "To view the Explain Plan, run the following cell:"
   ]
  },
  {
   "cell_type": "code",
   "execution_count": null,
   "metadata": {
    "vscode": {
     "languageId": "sql"
    }
   },
   "outputs": [],
   "source": [
    "%%sql\n",
    "\n",
    "execute  stmt_util_metrics_snap_reset;\n",
    "\n",
    "explain (analyze, dist) \n",
    "select ''_ \n",
    "    , *\n",
    " -- , city_name\n",
    "from tbl_cities \n",
    "where 1=1 \n",
    " -- and country_id = 233\n",
    " -- and country_code = 'US'\n",
    " -- and state_id = 1416\n",
    " -- and state_coude = 'CA'\n",
    " and city_name BETWEEN 'Alameda' AND  'Alamo'\n",
    " -- and city_id = 111088\n",
    " -- and yb_hash_code(city_id) = yb_hash_code(111088)\n",
    "-- and yb_hash_code(city_name) = yb_hash_code(city_name::text)\n",
    "-- limit 100\n",
    ";"
   ]
  },
  {
   "attachments": {},
   "cell_type": "markdown",
   "metadata": {},
   "source": [
    "#### q1c | Explain plan (above ^^)\n",
    "<details>\n",
    "      <summary>\n",
    "      View Example Output\n",
    "      </summary>\n",
    "\n",
    "```sql\n",
    "Index Scan using idx_cities_city_name_range on tbl_cities (cost=0.00..5.25 rows=10 width=2170) (actual time=19.205..19.257 rows=16 loops=1)\n",
    "  Index Cond: (((city_name)::text >= 'Alameda'::text) AND ((city_name)::text <= 'Alamo'::text))\n",
    "  Storage Table Read Requests: 1\n",
    "  Storage Table Read Execution Time: 5.441 ms\n",
    "  Storage Index Read Requests: 1\n",
    "  Storage Index Read Execution Time: 12.614 ms\n",
    "Planning Time: 0.127 ms\n",
    "Execution Time: 19.333 ms\n",
    "Storage Read Requests: 2\n",
    "Storage Read Execution Time: 18.055 ms\n",
    "Storage Write Requests: 0\n",
    "Catalog Read Requests: 1\n",
    "Catalog Read Execution Time: 0.801 ms\n",
    "Catalog Write Requests: 0\n",
    "Storage Flush Requests: 0\n",
    "Storage Execution Time: 18.856 ms\n",
    "Peak Memory Usage: 8 kB\n",
    "```\n",
    "</details>\n",
    "\n",
    "The Explain Plan shows that this query uses the index only `Index Scan` and reads 16 rows.\n",
    "- `Index Scan using idx_cities_city_name_range on public.tbl_cities (actual time=3.192..3.239 rows=16 loops=1`\n",
    "\n",
    "The Index Condition reflects the query predicate range.\n",
    "\n",
    "- `  Index Cond: (((tbl_cities.city_name)::text >= 'Alameda'::text) AND ((tbl_cities.city_name)::text <= 'Alamo'::text))`\n",
    "\n",
    "To view the tablet metrics, run the following cell:"
   ]
  },
  {
   "cell_type": "code",
   "execution_count": null,
   "metadata": {
    "vscode": {
     "languageId": "sql"
    }
   },
   "outputs": [],
   "source": [
    "%%sql\n",
    "execute  stmt_util_metrics_snap_table;"
   ]
  },
  {
   "attachments": {},
   "cell_type": "markdown",
   "metadata": {},
   "source": [
    "#### q1c | Metrics (above ^^)\n",
    "\n",
    "In the initial query, the `Index Scan` accesses the index tablet:\n",
    "\n",
    "| row_name| \trocksdb_number_db_seek | \trocksdb_number_db_next | \n",
    "|--|--|--|\n",
    "| db_ybu idx_cities_city_name_range link_table_id tablet_id_unq_1 leader\t | 1 | \t0 |\n",
    "\n",
    "Because the query returns all the columns, the query accesses data on the the three tablet leaders for `tbl_cities`. Retrieving the column data for the query requires additional seeks and reads on each tablet.\n"
   ]
  },
  {
   "attachments": {},
   "cell_type": "markdown",
   "metadata": {},
   "source": [
    "### q1d | Covering index with a range predicate\n",
    "To view the Explain Plan, run the following cell:"
   ]
  },
  {
   "cell_type": "code",
   "execution_count": null,
   "metadata": {
    "vscode": {
     "languageId": "sql"
    }
   },
   "outputs": [],
   "source": [
    "%%sql\n",
    "execute  stmt_util_metrics_snap_reset;\n",
    "\n",
    "explain (analyze, dist) \n",
    "select '' _\n",
    " --, *\n",
    " -- , city_id\n",
    " , city_name\n",
    "from tbl_cities \n",
    "where 1=1 \n",
    " -- and country_id = 233\n",
    " -- and country_code = 'US'\n",
    " -- and state_id = 1416\n",
    " -- and state_code = 'CA'\n",
    "and city_name between 'alameda' and 'alamo'\n",
    "-- and city_id = 111088\n",
    " -- and yb_hash_code(city_id) = yb_hash_code(111088)\n",
    " -- and yb_hash_code(city_name) = yb_hash_code('Alameda'::text)\n",
    "-- limit 100\n",
    ";"
   ]
  },
  {
   "attachments": {},
   "cell_type": "markdown",
   "metadata": {},
   "source": [
    "#### q1d | Explain Plan (above ^^)\n",
    "<details>\n",
    "      <summary>\n",
    "      View Example Output\n",
    "      </summary>\n",
    "\n",
    "```sql\n",
    "Index Only Scan using idx_cities_city_name_range on tbl_cities (cost=0.00..5.15 rows=10 width=548) (actual time=1.777..1.777 rows=0 loops=1)\n",
    "  Index Cond: ((city_name >= 'alameda'::text) AND (city_name <= 'alamo'::text))\n",
    "  Heap Fetches: 0\n",
    "  Storage Index Read Requests: 1\n",
    "  Storage Index Read Execution Time: 1.685 ms\n",
    "Planning Time: 0.105 ms\n",
    "Execution Time: 1.823 ms\n",
    "Storage Read Requests: 1\n",
    "Storage Read Execution Time: 1.685 ms\n",
    "Storage Write Requests: 0\n",
    "Catalog Read Requests: 1\n",
    "Catalog Read Execution Time: 0.956 ms\n",
    "Catalog Write Requests: 0\n",
    "Storage Flush Requests: 0\n",
    "Storage Execution Time: 2.641 ms\n",
    "Peak Memory Usage: 8 kB\n",
    "```\n",
    "</details>\n",
    "\n",
    "The Explain Plan shows that this query only uses the range index and in doing so, retrieves 16 rows.\n",
    "- `Index Only Scan using idx_cities_city_name_range on public.tbl_cities (actual time=0.883..0.891 rows=16 loops=1)`\n",
    "\n",
    "The Index Condition reflects the query predicate.\n",
    "\n",
    "- `Index Cond: ((tbl_cities.city_name >= 'Alameda'::text) AND (tbl_cities.city_name <= 'Alamo'::text))`\n",
    "\n",
    "To view the tablet metrics, run the following cell:"
   ]
  },
  {
   "cell_type": "code",
   "execution_count": null,
   "metadata": {
    "vscode": {
     "languageId": "sql"
    }
   },
   "outputs": [],
   "source": [
    "%%sql\n",
    "\n",
    "execute  stmt_util_metrics_snap_table;"
   ]
  },
  {
   "attachments": {},
   "cell_type": "markdown",
   "metadata": {},
   "source": [
    "#### q1d | Metrics (above ^^)\n",
    "\n",
    "The range index covers the query and serves as a covering index. A covering index is indicative of a Index Only Scan query.\n",
    "\n",
    "| row_name| \trocksdb_number_db_seek | \trocksdb_number_db_next | \n",
    "|--|--|--|\n",
    "| db_ybu idx_cities_city_name_range link_table_id tablet_id_unq_1 leader\t | 1 | \t2 |\n",
    "\n"
   ]
  },
  {
   "attachments": {},
   "cell_type": "markdown",
   "metadata": {},
   "source": [
    "---\n",
    "## q2 | Create a secondary index using hash sharding\n",
    "In this series of queries, you will explore using a hash index. \n",
    "\n",
    "To begin, create an index with hash sharding. In the DLL for the index, specify the `hash` keyword as follows:"
   ]
  },
  {
   "cell_type": "code",
   "execution_count": null,
   "metadata": {
    "vscode": {
     "languageId": "sql"
    }
   },
   "outputs": [],
   "source": [
    "%%sql \n",
    "drop index if exists idx_cities_city_name_range;\n",
    "\n",
    "drop index if exists idx_cities_city_name_hash;\n",
    "\n",
    "select pg_sleep(1);\n",
    "\n",
    "create index idx_cities_city_name_hash on tbl_cities (city_name hash);"
   ]
  },
  {
   "attachments": {},
   "cell_type": "markdown",
   "metadata": {},
   "source": [
    "To view the DDL, run the following cell:"
   ]
  },
  {
   "cell_type": "code",
   "execution_count": null,
   "metadata": {
    "vscode": {
     "languageId": "sql"
    }
   },
   "outputs": [],
   "source": [
    "%%sql\n",
    "select pg_get_indexdef('idx_cities_city_name_hash':: regclass);"
   ]
  },
  {
   "attachments": {},
   "cell_type": "markdown",
   "metadata": {},
   "source": [
    "### View the Index details in the YB-Master web ui\n",
    "You can view the details of the `idx_cities_city_name_hash` index in the YB-Master web ui. Run cell below and open the URL in your web browser."
   ]
  },
  {
   "cell_type": "code",
   "execution_count": null,
   "metadata": {},
   "outputs": [],
   "source": [
    "#%% python, but prepared statements as sql magic\n",
    "THIS_INDEX_NAME = 'idx_cities_city_name_hash'\n",
    "THIS_SCHEMA_NAME = 'public'\n",
    "DB_NAME = NB_DB_NAME\n",
    "\n",
    "## Comment out if local\n",
    "view_url = %sql select fn_get_table_id_url(:NB_YB_MASTER_HOST_GITPOD_URL,7000,:DB_NAME,:THIS_SCHEMA_NAME,:THIS_INDEX_NAME ) as view_url \n",
    "\n",
    "## Uncomment if local\n",
    "# view_url = %sql select fn_get_table_id_url(:NB_HOST_IPv4_01,7000,:DB_NAME,:THIS_SCHEMA_NAME,:THIS_INDEX_NAME ) as view_url =\n",
    "\n",
    "# get for ResultSet dict the key value as a string\n",
    "s = str(view_url.dict().get('view_url'))\n",
    "url = s.replace(\"('\", \"\").replace(\"',)\", \"\")\n",
    "print(url)"
   ]
  },
  {
   "attachments": {},
   "cell_type": "markdown",
   "metadata": {},
   "source": [
    "#### Review the Column section\n",
    "The column section shows details about each column in the index. Here is the section for  `idx_cities_city_name_hash`:\n",
    "\n",
    "\n",
    "| Column | ID\t| Type |\n",
    "|--------|------|------|\n",
    "| city_name    | 0\t| string NOT NULL PARTITION KEY| \n",
    "| ybidxbasectid\t   | 1\t| binary NOT NULL NOT A PARTITION KEY | \n",
    "\n",
    "\n",
    "<br/>\n",
    "\n",
    "> Important!\n",
    ">  \n",
    ">  YugabyteDB creates an internal, hidden column, `ybidxbasectid`, for the indexed row. `ybidxbasectid` is similar to the internal, hidden colum, `ybctid`, for a row of a table. Both `ybctid` and  `ybidxbasectid` are virtual columns that represent the\n",
    ">  DocDB-encoded key for the tuple. \n",
    "> \n",
    "> Using  `\\d` or `\\d+` will not show the `ybidxbasectid` column. It is also not possible to query the `ybidxbasectid` value."
   ]
  },
  {
   "attachments": {},
   "cell_type": "markdown",
   "metadata": {},
   "source": [
    "##### Partition Key\n",
    "YugabyteDB uses the shard key (shown as `PARTITION KEY`) to distribute the data among the tablet leaders for the index. \n",
    "\n",
    "With consistent hash sharding, a partitioning algorithm distributes data evenly and randomly across shards. By computing a consistent hash on the partition key (or keys) of a given row, YugabyteDB knows where to insert the row among the tablet leaders.\n",
    "\n"
   ]
  },
  {
   "attachments": {},
   "cell_type": "markdown",
   "metadata": {},
   "source": [
    "#### Review the Tablet section\n",
    "For the given index, the Tablet section shows the details for the existing tablets. Of particular interest are the number of tablet leaders and the partition strategy. Here is an example of the Tablet section for `idx_cities_city_name_hash`:\n",
    "\n",
    "| Tablet ID |\tPartition\t| SplitDepth\t| State\t| Hidden\t| Message\t| RaftConfig|\n",
    "|--|--|--|--|--|--|--|\n",
    "| some_uuid_1 |\t`hash_split: [0x5555, 0xAAAA)` |\t0\t| Running|\tfalse| Tablet reported with an active leader\t|<li>FOLLOWER: 127.0.0.1 <li>FOLLOWER: 127.0.0.3<li>LEADER: 127.0.0.2  |\n",
    "| some_uuid_2\t| `hash_split: [0xAAAA, 0xFFFF)`\t| 0 |  Running |false |\tTablet reported with an active leader |<li>FOLLOWER: 127.0.0.1 <li>LEADER: 127.0.0.3 <li>FOLLOWER: 127.0.0.2 |\n",
    "| some_uuid_3 <br>(tablet leader where the row lives) |\t`hash_split: [0x0000, 0x5555)` |\t0 |\tRunning | \tfalse\t| Tablet reported with an active leader |\t<li>LEADER: 127.0.0.1<li>FOLLOWER: 127.0.0.3<li>FOLLOWER: 127.0.0.2 |"
   ]
  },
  {
   "attachments": {},
   "cell_type": "markdown",
   "metadata": {},
   "source": [
    "### q2a | Hash index with an equality predicate\n",
    "To view the Explain Plan for the query, run the following cell:"
   ]
  },
  {
   "cell_type": "code",
   "execution_count": null,
   "metadata": {
    "vscode": {
     "languageId": "sql"
    }
   },
   "outputs": [],
   "source": [
    "%%sql\n",
    "execute  stmt_util_metrics_snap_reset;\n",
    "\n",
    "explain (analyze, dist) \n",
    "select 0\n",
    " , *\n",
    " -- , city_id\n",
    " -- , city_name\n",
    "from tbl_cities \n",
    "where 1=1 \n",
    " -- and country_id = 233\n",
    " -- and country_code = 'US'\n",
    " -- and state_id = 1416\n",
    " -- and state_coude = 'CA'\n",
    "and city_name = 'Alameda'\n",
    " -- and city_id = 111088\n",
    " -- and yb_hash_code(city_id) = yb_hash_code(111088)\n",
    " -- and yb_hash_code(city_name) = yb_hash_code('Alameda'::text)\n",
    "-- limit 100\n",
    ";"
   ]
  },
  {
   "attachments": {},
   "cell_type": "markdown",
   "metadata": {},
   "source": [
    "#### q2a | Explain Plan (above ^^)\n",
    "\n",
    "<details>\n",
    "      <summary>\n",
    "      View Example Output\n",
    "      </summary>\n",
    "\n",
    "```sql\n",
    "Index Scan using idx_cities_city_name_hash on tbl_cities (cost=0.00..5.22 rows=10 width=2142) (actual time=2.517..2.522 rows=2 loops=1)\n",
    "  Index Cond: ((city_name)::text = 'Alameda'::text)\n",
    "  Storage Table Read Requests: 1\n",
    "  Storage Table Read Execution Time: 0.726 ms\n",
    "  Storage Index Read Requests: 1\n",
    "  Storage Index Read Execution Time: 0.447 ms\n",
    "Planning Time: 2.953 ms\n",
    "Execution Time: 2.570 ms\n",
    "Storage Read Requests: 2\n",
    "Storage Read Execution Time: 1.173 ms\n",
    "Storage Write Requests: 0\n",
    "Catalog Read Requests: 2\n",
    "Catalog Read Execution Time: 2.314 ms\n",
    "Catalog Write Requests: 0\n",
    "Storage Flush Requests: 0\n",
    "Storage Execution Time: 3.487 ms\n",
    "Peak Memory Usage: 8 kB\n",
    "```\n",
    "</details>\n",
    "\n",
    "The Explain Plan shows that this query uses the hash index and reads 2 rows.\n",
    "- `Index Scan using idx_cities_city_name_hash on public.tbl_cities (actual time=3.539..3.552 rows=2 loops=1`\n",
    "\n",
    "The Index Condition reflects the query predicate.\n",
    "\n",
    "- `Index Cond: ((tbl_cities.city_name)::text = 'Alameda'::text)`\n",
    "\n",
    "To view the tablet metrics, run the following cell:"
   ]
  },
  {
   "cell_type": "code",
   "execution_count": null,
   "metadata": {
    "vscode": {
     "languageId": "sql"
    }
   },
   "outputs": [],
   "source": [
    "%%sql\n",
    "execute  stmt_util_metrics_snap_table;"
   ]
  },
  {
   "attachments": {},
   "cell_type": "markdown",
   "metadata": {},
   "source": [
    "#### q2a | Metrics (above ^^)\n",
    "\n",
    "The query uses the hash index and accesses one of the tablet leaders for `idx_cities_city_name_hash`.\n",
    "\n",
    "| row_name| \trocksdb_number_db_seek | \trocksdb_number_db_next | \n",
    "|--|--|--|\n",
    "| db_ybu idx_cities_city_name_hash link_table_id tablet_id_unq_1 leader\t | 1 | \t2 |\n",
    "\n",
    "Because the query requires more than the columns in the index, the query accesses one of the tablet leaders for `tbl_cities`.\n",
    "\n",
    "| row_name| \trocksdb_number_db_seek | \trocksdb_number_db_next | \n",
    "|--|--|--|\n",
    "| db_ybu tbl_cities link_table_id tablet_id_unq_1 leader\t | 2 | \t30 |\n",
    "\n",
    "There's a 33% chance that the tablet leaders for the index and the table are on different hosts. If you are running this notebook locally or in Gitpod, the host is the same machine with the YB-TServer processes running on different ports using host aliases for localhost (127.0.0.1) such as 127.0.0.2 and 127.0.0.3.\n"
   ]
  },
  {
   "attachments": {},
   "cell_type": "markdown",
   "metadata": {},
   "source": [
    "### q2b | Covering index with a hash index and equality predicate\n",
    "Run the following cell to generate an Explain Plan:"
   ]
  },
  {
   "cell_type": "code",
   "execution_count": null,
   "metadata": {
    "vscode": {
     "languageId": "sql"
    }
   },
   "outputs": [],
   "source": [
    "%%sql\n",
    "execute  stmt_util_metrics_snap_reset;\n",
    "\n",
    "explain (analyze, dist) \n",
    "select '' _\n",
    " -- , *\n",
    " --, city_id\n",
    ", city_name\n",
    "from tbl_cities \n",
    "where 1=1 \n",
    " -- and country_id = 233\n",
    " -- and country_code = 'US'\n",
    " -- and state_id = 1416\n",
    " -- and state_coude = 'CA'\n",
    "and city_name = 'Alameda'\n",
    " -- and city_name BETWEEN 'Alameda' AND 'Alamo'\n",
    " -- and city_id = 111088\n",
    " -- and yb_hash_code(city_id) = yb_hash_code(111088)\n",
    " -- and yb_hash_code(city_name) = yb_hash_code('Alameda'::text)\n",
    "-- limit 100\n",
    ";"
   ]
  },
  {
   "attachments": {},
   "cell_type": "markdown",
   "metadata": {},
   "source": [
    "#### q2b | Explain Plan (above ^^)\n",
    "\n",
    "<details>\n",
    "      <summary>\n",
    "      View Example Output\n",
    "      </summary>\n",
    "\n",
    "```sql\n",
    "Index Only Scan using idx_cities_city_name_hash on tbl_cities (cost=0.00..5.12 rows=10 width=548) (actual time=1.340..1.344 rows=2 loops=1)\n",
    "  Index Cond: (city_name = 'Alameda'::text)\n",
    "  Heap Fetches: 0\n",
    "  Storage Index Read Requests: 1\n",
    "  Storage Index Read Execution Time: 1.267 ms\n",
    "Planning Time: 0.078 ms\n",
    "Execution Time: 1.371 ms\n",
    "Storage Read Requests: 1\n",
    "Storage Read Execution Time: 1.267 ms\n",
    "Storage Write Requests: 0\n",
    "Catalog Read Requests: 1\n",
    "Catalog Read Execution Time: 0.810 ms\n",
    "Catalog Write Requests: 0\n",
    "Storage Flush Requests: 0\n",
    "Storage Execution Time: 2.077 ms\n",
    "Peak Memory Usage: 8 kB\n",
    "```\n",
    "</details>\n",
    "\n",
    "The Explain Plan shows that the index is a covering index and returns 2 rows.\n",
    "- `Index Only Scan using idx_cities_city_name_hash on public.tbl_cities (actual time=0.805..0.808 rows=2 loops=1)`\n",
    "\n",
    "The Index Condition reflects the query predicate.\n",
    "\n",
    "- `Index Cond: (tbl_cities.city_name = 'Alameda'::text)`\n",
    "\n",
    "To view the tablet metrics, run the following cell:"
   ]
  },
  {
   "cell_type": "code",
   "execution_count": null,
   "metadata": {
    "vscode": {
     "languageId": "sql"
    }
   },
   "outputs": [],
   "source": [
    "%%sql\n",
    "execute  stmt_util_metrics_snap_table;"
   ]
  },
  {
   "attachments": {},
   "cell_type": "markdown",
   "metadata": {},
   "source": [
    "#### q2b | Metrics (above ^^)\n",
    "\n",
    "As an Index Only Scan query, the query uses the hash index and accesses one of the tablet leaders for `idx_cities_city_name_hash` and reads 2 rows.\n",
    "\n",
    "| row_name| \trocksdb_number_db_seek | \trocksdb_number_db_next | \n",
    "|--|--|--|\n",
    "| db_ybu idx_cities_city_name_hash link_table_id tablet_id_unq_1 leader\t | 1 | \t2 |\n"
   ]
  },
  {
   "attachments": {},
   "cell_type": "markdown",
   "metadata": {},
   "source": [
    "### q2c | Hash index with a range predicate\n",
    "To view the Explain Plan, run the following:"
   ]
  },
  {
   "cell_type": "code",
   "execution_count": null,
   "metadata": {
    "vscode": {
     "languageId": "sql"
    }
   },
   "outputs": [],
   "source": [
    "%%sql\n",
    "%%sql\n",
    "SET yb_enable_expression_pushdown=off;\n",
    "SHOW yb_enable_expression_pushdown;\n",
    "\n",
    "execute  stmt_util_metrics_snap_reset;\n",
    "\n",
    "explain (analyze, dist) \n",
    "select '' _\n",
    "    , *\n",
    "-- , city_id\n",
    " --, city_name\n",
    "from tbl_cities \n",
    "where 1=1 \n",
    " -- and country_id = 233\n",
    " -- and country_code = 'US'\n",
    " -- and state_id = 1416\n",
    " -- and state_coude = 'CA'\n",
    "and city_name BETWEEN 'Alameda' AND 'Alamo'\n",
    " -- and city_id = 111088\n",
    " -- and yb_hash_code(city_id) = yb_hash_code(111088)\n",
    " -- and yb_hash_code(city_name) = yb_hash_code('Alameda'::text)\n",
    "-- limit 100\n",
    ";"
   ]
  },
  {
   "attachments": {},
   "cell_type": "markdown",
   "metadata": {},
   "source": [
    "#### q2c | Explain plan (above ^^)\n",
    "\n",
    "<details>\n",
    "      <summary>\n",
    "      View Example Output\n",
    "      </summary>\n",
    "\n",
    "```sql\n",
    "Seq Scan on tbl_cities (cost=0.00..105.00 rows=1000 width=2170) (actual time=57.441..543.533 rows=16 loops=1)\n",
    "  Filter: (((city_name)::text >= 'Alameda'::text) AND ((city_name)::text <= 'Alamo'::text))\n",
    "  Rows Removed by Filter: 148250\n",
    "  Storage Table Read Requests: 146\n",
    "  Storage Table Read Execution Time: 361.278 ms\n",
    "Planning Time: 0.071 ms\n",
    "Execution Time: 543.596 ms\n",
    "Storage Read Requests: 146\n",
    "Storage Read Execution Time: 361.278 ms\n",
    "Storage Write Requests: 0\n",
    "Catalog Read Requests: 1\n",
    "Catalog Read Execution Time: 0.709 ms\n",
    "Catalog Write Requests: 0\n",
    "Storage Flush Requests: 0\n",
    "Storage Execution Time: 361.987 ms\n",
    "Peak Memory Usage: 8 kB\n",
    "```\n",
    "</details>\n",
    "\n",
    "\n",
    "As expected, the optimizer generates an Explain Plan that does not use the hash index. Instead, the Explain Plan shows a full table scan of the table itself.\n",
    "- `Seq Scan on tbl_cities (cost=0.00..105.00 rows=1000 width=2170) (actual time=57.441..543.533 rows=16 loops=1)`\n",
    "\n",
    "The YB-TServer that serves the client connection removes the rows:\n",
    "  - `Filter: (((tbl_cities.city_name)::text >= 'Alameda'::text) AND ((tbl_cities.city_name)::text <= 'Alamo'::text))`\n",
    "  - `Rows Removed by Filter: 148250`\n",
    "\n",
    "To view the Metrics report for the query, run the following cell:\n"
   ]
  },
  {
   "cell_type": "code",
   "execution_count": null,
   "metadata": {
    "vscode": {
     "languageId": "sql"
    }
   },
   "outputs": [],
   "source": [
    "%%sql\n",
    "\n",
    "execute  stmt_util_metrics_snap_table;"
   ]
  },
  {
   "attachments": {},
   "cell_type": "markdown",
   "metadata": {},
   "source": [
    "#### q2c | Metrics (above ^^)\n",
    "The `Seq Scan` requires that the query access all three tablets for `tbl_cities`, requiring 50 offset seeks and 60OK reads per tablet. \n",
    "\n",
    "However, this query does not use a recent **pushdown** optimization. A pushdown is to the tablet. The tablet (RocksDB) applies the filter, known as a `Remote Filter`, and then returns the results. \n",
    "\n",
    "To see how the improvement, run the same query with the pushdown optimization."
   ]
  },
  {
   "cell_type": "markdown",
   "metadata": {},
   "source": [
    "### q2d | Hash index with a range predicate with pushdown\n",
    "To view the Explain Plan, run the following:"
   ]
  },
  {
   "cell_type": "code",
   "execution_count": null,
   "metadata": {
    "vscode": {
     "languageId": "sql"
    }
   },
   "outputs": [],
   "source": [
    "%%sql\n",
    "SET yb_enable_expression_pushdown=on;\n",
    "SHOW yb_enable_expression_pushdown;\n",
    "\n",
    "execute  stmt_util_metrics_snap_reset;\n",
    "\n",
    "explain (analyze, dist) \n",
    "select '' _\n",
    "    , *\n",
    "-- , city_id\n",
    " --, city_name\n",
    "from tbl_cities \n",
    "where 1=1 \n",
    " -- and country_id = 233\n",
    " -- and country_code = 'US'\n",
    " -- and state_id = 1416\n",
    " -- and state_coude = 'CA'\n",
    "and city_name BETWEEN 'Alameda' AND 'Alamo'\n",
    " -- and city_id = 111088\n",
    " -- and yb_hash_code(city_id) = yb_hash_code(111088)\n",
    " -- and yb_hash_code(city_name) = yb_hash_code('Alameda'::text)\n",
    "-- limit 100\n",
    ";"
   ]
  },
  {
   "cell_type": "markdown",
   "metadata": {},
   "source": [
    "#### q2d | Explain plan (above ^^)\n",
    "\n",
    "<details>\n",
    "      <summary>\n",
    "      View Example Output\n",
    "      </summary>\n",
    "\n",
    "```sql\n",
    "Seq Scan on tbl_cities (cost=0.00..105.00 rows=1000 width=2170) (actual time=270.262..270.312 rows=16 loops=1)\n",
    "  Remote Filter: (((city_name)::text >= 'Alameda'::text) AND ((city_name)::text <= 'Alamo'::text))\n",
    "  Storage Table Read Requests: 1\n",
    "  Storage Table Read Execution Time: 270.131 ms\n",
    "Planning Time: 0.070 ms\n",
    "Execution Time: 270.371 ms\n",
    "Storage Read Requests: 1\n",
    "Storage Read Execution Time: 270.131 ms\n",
    "Storage Write Requests: 0\n",
    "Catalog Read Requests: 1\n",
    "Catalog Read Execution Time: 0.783 ms\n",
    "Catalog Write Requests: 0\n",
    "Storage Flush Requests: 0\n",
    "Storage Execution Time: 270.914 ms\n",
    "Peak Memory Usage: 8 kB\n",
    "```\n",
    "\n",
    "</details>\n",
    "\n",
    "With the pushdown enabled, the filter of the rows occurs at the tablet level. This is the `Remote Filter`.\n",
    "  - `Remote Filter: (((city_name)::text >= 'Alameda'::text) AND ((city_name)::text <= 'Alamo'::text))`\n",
    "  - This results in about 100ms improvement over the non-pushdown query.\n",
    "\n",
    "\n",
    "To view the Metrics report for the query, run the following cell:\n"
   ]
  },
  {
   "cell_type": "code",
   "execution_count": null,
   "metadata": {
    "vscode": {
     "languageId": "sql"
    }
   },
   "outputs": [],
   "source": [
    "%%sql\n",
    "\n",
    "execute  stmt_util_metrics_snap_table;"
   ]
  },
  {
   "cell_type": "markdown",
   "metadata": {},
   "source": [
    "#### q2d | Metrics (above ^^)\n",
    "The `Seq Scan` requires that the query access all three tablets for `tbl_cities`, requiring 1 offset seek per tablet and over 600K reads per tablet. \n",
    "\n"
   ]
  },
  {
   "attachments": {},
   "cell_type": "markdown",
   "metadata": {},
   "source": [
    "---\n",
    "## Review of secondary index sharding\n",
    "\n",
    "PK in predicate will take precedence and result in index NOT being used...\n",
    "- Can't drop or alter PK, need to rename, create new table (or similar), and select into to make change.\n",
    "- PK can be composite (hash, and range order), and this behavior can be different if that is the case [not covered here]\n",
    "\n",
    "Secondary index as Range \n",
    "- Equality is performant, but when range index tablets split, may not be as great as hash index for equality\n",
    "- Ideal for range and comparison predicates\n",
    "- For both Equality and Comparison predicate...\n",
    "  - When the index column is the sole column in the select command and the sole column in the predicate (no PK), the range index is the covering index, and results in Index Only Scan\n",
    " \n",
    "Secondary index as Hash\n",
    "- Equality is ideal\n",
    "  -  When the index column is the sole column in the select command and the sole column in the predicate (no PK), the range index is the covering index, and results in Index Only Scan\n",
    "- A range or comparison predicate ignores the hash index and results in a costly Seq Scan\n",
    "\n",
    "YugabyteDB vs PostgreSQL\n",
    "- YugabyteDB only updates the indexes of columns where there are key-values and subkey values changes.\n",
    "- A Index Only Scan reads from the index tablet."
   ]
  },
  {
   "attachments": {},
   "cell_type": "markdown",
   "metadata": {},
   "source": [
    "---\n",
    "## q3 | Expression index\n",
    "Uses for an expression for index."
   ]
  },
  {
   "cell_type": "code",
   "execution_count": null,
   "metadata": {
    "vscode": {
     "languageId": "sql"
    }
   },
   "outputs": [],
   "source": [
    "%%sql\n",
    "drop index if exists idx_cities_city_name_exp;\n",
    "\n",
    "create index idx_cities_city_name_exp on tbl_cities (UPPER (COALESCE(city_name, city_name_alt) ) asc);"
   ]
  },
  {
   "attachments": {},
   "cell_type": "markdown",
   "metadata": {},
   "source": [
    "### q3a | Expression query"
   ]
  },
  {
   "cell_type": "code",
   "execution_count": null,
   "metadata": {
    "vscode": {
     "languageId": "sql"
    }
   },
   "outputs": [],
   "source": [
    "%%sql\n",
    "execute  stmt_util_metrics_snap_reset;\n",
    "\n",
    "explain (analyze, dist) \n",
    "select '' _\n",
    " -- , *\n",
    ", city_id\n",
    ", city_name\n",
    ", city_name_alt\n",
    "from tbl_cities \n",
    "where 1=1 \n",
    " -- and country_id = 233\n",
    " -- and country_code = 'US'\n",
    " -- and state_id = 1416\n",
    " -- and state_coue = 'CA'\n",
    " and UPPER (COALESCE(city_name, city_name_alt) ) like 'A%'\n",
    " -- and city_name = 'Alameda'\n",
    " -- and city_name BETWEEN 'Alameda' AND 'Alamo'\n",
    " -- and city_id = 111088\n",
    " -- and yb_hash_code(city_id) = yb_hash_code(111088)\n",
    " -- and yb_hash_code(city_name) = yb_hash_code('Alameda'::text)\n",
    "limit 100\n",
    ";"
   ]
  },
  {
   "attachments": {},
   "cell_type": "markdown",
   "metadata": {},
   "source": [
    "#### q3a | Explain plan (above ^^)\n",
    "\n",
    "<details>\n",
    "      <summary>\n",
    "      View Example Output\n",
    "      </summary>\n",
    "\n",
    "```sql\n",
    "Limit (cost=0.00..5.30 rows=10 width=1068) (actual time=7.750..7.970 rows=100 loops=1)\n",
    "  -> Index Scan using idx_cities_city_name_exp on tbl_cities (cost=0.00..5.30 rows=10 width=1068) (actual time=7.748..7.960 rows=100 loops=1)\n",
    "        Index Cond: ((upper((COALESCE(city_name, city_name_alt))::text) >= 'A'::text) AND (upper((COALESCE(city_name, city_name_alt))::text) < 'B'::text))\n",
    "        Filter: (upper((COALESCE(city_name, city_name_alt))::text) ~~ 'A%'::text)\n",
    "        Storage Table Read Requests: 1\n",
    "        Storage Table Read Execution Time: 4.327 ms\n",
    "        Storage Index Read Requests: 1\n",
    "        Storage Index Read Execution Time: 1.533 ms\n",
    "Planning Time: 10.659 ms\n",
    "Execution Time: 8.055 ms\n",
    "Storage Read Requests: 2\n",
    "Storage Read Execution Time: 5.860 ms\n",
    "Storage Write Requests: 0\n",
    "Catalog Read Requests: 16\n",
    "Catalog Read Execution Time: 12.911 ms\n",
    "Catalog Write Requests: 0\n",
    "Storage Flush Requests: 0\n",
    "Storage Execution Time: 18.770 ms\n",
    "Peak Memory Usage: 24 kB\n",
    "```\n",
    "\n",
    "</details>\n",
    "\n",
    "A couple of observations about this query plan:\n",
    "- By using an index, there is no table sequence scan.\n",
    "- The index utilizes range sharding\n",
    "- The index condition shows a range boundary for the `like` predicate, `>= 'A' AND < 'B'`\n",
    "- The Filter is not showing a row result which indicates it is most likely semantic and duplicates the condition.\n",
    "\n",
    "\n"
   ]
  },
  {
   "cell_type": "code",
   "execution_count": null,
   "metadata": {
    "vscode": {
     "languageId": "sql"
    }
   },
   "outputs": [],
   "source": [
    "%%sql\n",
    "\n",
    "execute  stmt_util_metrics_snap_table;"
   ]
  },
  {
   "attachments": {},
   "cell_type": "markdown",
   "metadata": {},
   "source": [
    "####  q3a | Metrics (above ^^)\n",
    "\n",
    "A couple of observations about the metrics snapshot:\n",
    "- There are two offset seeks into the index tablet, with about 2K reads \n",
    "- All other tablets are read, as expected, due to the fact that the index does not contain the table columns."
   ]
  },
  {
   "attachments": {},
   "cell_type": "markdown",
   "metadata": {},
   "source": [
    "---\n",
    "## q4 | Expression with include index\n",
    "How to use an expression and include."
   ]
  },
  {
   "cell_type": "code",
   "execution_count": null,
   "metadata": {
    "vscode": {
     "languageId": "sql"
    }
   },
   "outputs": [],
   "source": [
    "%%sql\n",
    "drop index if exists idx_cities_city_name_exp_covering;\n",
    "\n",
    "create index idx_cities_city_name_covering on tbl_cities (UPPER (COALESCE(city_name, city_name_alt) ) asc) include (city_id, city_name, city_name_alt);"
   ]
  },
  {
   "attachments": {},
   "cell_type": "markdown",
   "metadata": {},
   "source": [
    "### q4a | Query using expression and include columns"
   ]
  },
  {
   "cell_type": "code",
   "execution_count": null,
   "metadata": {
    "vscode": {
     "languageId": "sql"
    }
   },
   "outputs": [],
   "source": [
    "%%sql\n",
    "execute  stmt_util_metrics_snap_reset;\n",
    "\n",
    "explain (analyze, dist) \n",
    "select '' _\n",
    " -- , *\n",
    ", city_id\n",
    ", city_name\n",
    ", city_name_alt\n",
    "-- , state_id\n",
    "from tbl_cities \n",
    "where 1=1 \n",
    " -- and country_id = 233\n",
    " -- and country_code = 'US'\n",
    " -- and state_id = 1416\n",
    " -- and state_coude = 'CA'\n",
    " and UPPER (COALESCE(city_name, city_name_alt) ) like 'A%'\n",
    " -- and city_name = 'Alameda'\n",
    " -- and city_name BETWEEN 'Alameda' AND 'Alamo'\n",
    " -- and city_id = 111088\n",
    " -- and yb_hash_code(city_id) = yb_hash_code(111088)\n",
    " -- and yb_hash_code(city_name) = yb_hash_code('Alameda'::text)\n",
    "limit 100\n",
    ";"
   ]
  },
  {
   "attachments": {},
   "cell_type": "markdown",
   "metadata": {},
   "source": [
    "#### q4a | Explain plan (above ^^)\n",
    "\n",
    "<details>\n",
    "      <summary>\n",
    "      View Example Output\n",
    "      </summary>\n",
    "\n",
    "```sql\n",
    "Limit (cost=0.00..5.20 rows=10 width=1068) (actual time=2.682..2.733 rows=100 loops=1)\n",
    "  -> Index Only Scan using idx_cities_city_name_covering on tbl_cities (cost=0.00..5.20 rows=10 width=1068) (actual time=2.681..2.725 rows=100 loops=1)\n",
    "        Index Cond: (((upper((COALESCE(city_name, city_name_alt))::text)) >= 'A'::text) AND ((upper((COALESCE(city_name, city_name_alt))::text)) < 'B'::text))\n",
    "        Filter: ((upper((COALESCE(city_name, city_name_alt))::text)) ~~ 'A%'::text)\n",
    "        Heap Fetches: 0\n",
    "        Storage Index Read Requests: 1\n",
    "        Storage Index Read Execution Time: 2.558 ms\n",
    "Planning Time: 3.608 ms\n",
    "Execution Time: 4.732 ms\n",
    "Storage Read Requests: 1\n",
    "Storage Read Execution Time: 2.558 ms\n",
    "Storage Write Requests: 0\n",
    "Catalog Read Requests: 6\n",
    "Catalog Read Execution Time: 5.345 ms\n",
    "Catalog Write Requests: 0\n",
    "Storage Flush Requests: 0\n",
    "Storage Execution Time: 7.903 ms\n",
    "Peak Memory Usage: 24 kB\n",
    "```\n",
    "\n",
    "</details>\n",
    "\n",
    "A couple of observations about this query plan:\n",
    "- The index utilizes range sharding\n",
    "- The plan utilizes a covering index as `Index Only Scan` indicates\n",
    "- The `Index Cond` shows a range boundary for the `like` predicate, `>= 'A' AND < 'B'`\n",
    "- The Filter is not showing a row result which indicates it is most likely semantic and duplicates the condition.\n",
    "\n",
    "\n"
   ]
  },
  {
   "cell_type": "code",
   "execution_count": null,
   "metadata": {
    "vscode": {
     "languageId": "sql"
    }
   },
   "outputs": [],
   "source": [
    "%%sql\n",
    "\n",
    "execute  stmt_util_metrics_snap_table;"
   ]
  },
  {
   "attachments": {},
   "cell_type": "markdown",
   "metadata": {},
   "source": [
    "#### q4a | Metrics (above ^^)\n",
    "A couple of observations about the metrics snapshot:\n",
    "- Only the index tablet is accessed\n",
    "- There are two offset seeks into the index tablet, with about 8K reads, the additional reads being for the additional columns in the index\n",
    "\n",
    "There are some considerations for covering indexes:\n",
    "- Non-DQL access patterns, such as DML statements - `insert, update, and delete`, can impact performance for write heavy workloads\n",
    "- Additional indexes mean more resource consumption as indexes are tablets\n"
   ]
  },
  {
   "attachments": {},
   "cell_type": "markdown",
   "metadata": {},
   "source": [
    "---\n",
    "## q5 | Partial index\n",
    "A partial index uses a where a clause in it's definition. This is helpful for creating an index that does not contain out rows that are irrelevant for most queries, such as a soft-deleted row, archived row, or historical row. For example, suppose you need only country_codes that are equal to `US`.\n"
   ]
  },
  {
   "attachments": {},
   "cell_type": "markdown",
   "metadata": {},
   "source": [
    "### q5a | Create secondary index using expression and include and where"
   ]
  },
  {
   "cell_type": "code",
   "execution_count": null,
   "metadata": {
    "vscode": {
     "languageId": "sql"
    }
   },
   "outputs": [],
   "source": [
    "%%sql\n",
    "drop index if exists idx_cities_city_name_covering_US;\n",
    "\n",
    "create index idx_cities_city_name_covering_US\n",
    "on tbl_cities (UPPER (COALESCE(city_name, city_name_alt) ) asc) \n",
    "include (city_id, city_name, city_name_alt) \n",
    "where country_code='US';"
   ]
  },
  {
   "attachments": {},
   "cell_type": "markdown",
   "metadata": {},
   "source": [
    "View the explain plan."
   ]
  },
  {
   "cell_type": "code",
   "execution_count": null,
   "metadata": {
    "vscode": {
     "languageId": "sql"
    }
   },
   "outputs": [],
   "source": [
    "%%sql\n",
    "execute  stmt_util_metrics_snap_reset;\n",
    "\n",
    "explain (analyze, dist) \n",
    "select '' _\n",
    " -- , *\n",
    ", city_id\n",
    ", city_name\n",
    ", city_name_alt\n",
    "from tbl_cities \n",
    "where 1=1 \n",
    " -- and country_id = 233\n",
    " and country_code = 'US'\n",
    " --  and country_code = 'UK'\n",
    " -- and state_id = 1416\n",
    " -- and state_coude = 'CA'\n",
    " and UPPER (COALESCE(city_name, city_name_alt) ) like 'A%'\n",
    " -- and city_name = 'Alameda'\n",
    " -- and city_name BETWEEN 'Alameda' AND 'Alamo'\n",
    " -- and city_id = 111088\n",
    " -- and yb_hash_code(city_id) = yb_hash_code(111088)\n",
    " -- and yb_hash_code(city_name) = yb_hash_code('Alameda'::text)\n",
    "limit 100\n",
    ";"
   ]
  },
  {
   "attachments": {},
   "cell_type": "markdown",
   "metadata": {},
   "source": [
    "#### q5 | Explain plan (above ^^)\n",
    "\n",
    "<details>\n",
    "      <summary>\n",
    "      View Example Output\n",
    "      </summary>\n",
    "\n",
    "```sql\n",
    "Limit (cost=0.00..4.98 rows=10 width=1068) (actual time=2.454..2.504 rows=100 loops=1)\n",
    "  -> Index Only Scan using idx_cities_city_name_covering_us on tbl_cities (cost=0.00..4.98 rows=10 width=1068) (actual time=2.453..2.496 rows=100 loops=1)\n",
    "        Index Cond: (((upper((COALESCE(city_name, city_name_alt))::text)) >= 'A'::text) AND ((upper((COALESCE(city_name, city_name_alt))::text)) < 'B'::text))\n",
    "        Filter: ((upper((COALESCE(city_name, city_name_alt))::text)) ~~ 'A%'::text)\n",
    "        Heap Fetches: 0\n",
    "        Storage Index Read Requests: 1\n",
    "        Storage Index Read Execution Time: 1.374 ms\n",
    "Planning Time: 10.972 ms\n",
    "Execution Time: 2.551 ms\n",
    "Storage Read Requests: 1\n",
    "Storage Read Execution Time: 1.374 ms\n",
    "Storage Write Requests: 0\n",
    "Catalog Read Requests: 16\n",
    "Catalog Read Execution Time: 13.286 ms\n",
    "Catalog Write Requests: 0\n",
    "Storage Flush Requests: 0\n",
    "Storage Execution Time: 14.660 ms\n",
    "Peak Memory Usage: 24 kB\n",
    "```\n",
    "</details>\n",
    "\n",
    "A couple of observations about this query plan:\n",
    "- The index is for `idx_cities_city_name_covering_us` and utilizes range sharding\n",
    "- The plan utilizes a covering index as `Index Only Scan` indicates\n",
    "- The `Index Cond` shows a range boundary for the `like` predicate, `>= 'A' AND < 'B'`\n",
    "- The Filter is not showing a row result which indicates it is most likely semantic and duplicates the condition.\n",
    "- The query `where` predicate is not shown in the explain plan. \n",
    "\n",
    "What happens if you change the predicate to not use the filter expression? You can change the country code from `US` to `UK` in the query above and rerun it.\n",
    "- The index is for `idx_cities_city_name_covering`, so the `idx_cities_city_name_covering_us` is not used\n",
    "- A  `Remote Filter` indicates a pushdown for the predicate, `country_code = 'UK'`"
   ]
  },
  {
   "cell_type": "code",
   "execution_count": null,
   "metadata": {
    "vscode": {
     "languageId": "sql"
    }
   },
   "outputs": [],
   "source": [
    "%%sql\n",
    "\n",
    "execute  stmt_util_metrics_snap_table;"
   ]
  },
  {
   "attachments": {},
   "cell_type": "markdown",
   "metadata": {},
   "source": [
    "#### q5 | Metrics (above ^^)\n",
    "A couple of observations about the metrics snapshot:\n",
    "- Only the index tablet is accessed\n",
    "- There is just 1 offset seeks into the index tablet, with about 3K reads"
   ]
  },
  {
   "cell_type": "markdown",
   "metadata": {},
   "source": [
    "---\n",
    "## Review of secondary indexes and sharding\n",
    "\n",
    "PK in predicate will take precedence and result in index NOT being used...\n",
    "- Can't drop or alter PK, need to rename, create new table (or similar), and select into to make change.\n",
    "- PK can be composite (hash, and range order), and this behavior can be different if that is the case [TODO, need to cover]\n",
    "\n",
    "Secondary index as Range \n",
    "- Equality is performant, but when range index tablets split, may not be as great as hash index for equality\n",
    "- Ideal for range and comparison predicates\n",
    "- For both Equality and Comparison predicate...\n",
    "  - When the index column is the sole column in the select command and the sole column in the predicate (no PK), the range index is the covering index, and results in Index Only Scan\n",
    " \n",
    "Secondary index as Hash\n",
    "- Equality is ideal\n",
    "  -  When the index column is the sole column in the select command and the sole column in the predicate (no PK), the range index is the covering index, and results in Index Only Scan\n",
    "- A range or comparison predicate ignores the hash index and results in a costly Seq Scan\n",
    "\n",
    "YugabyteDB vs PostgreSQL\n",
    "- YugabyteDB only updates the indexes of columns where there are key-values and subkey values changes.\n",
    "- A Index Only Scan reads from the index tablet."
   ]
  },
  {
   "attachments": {},
   "cell_type": "markdown",
   "metadata": {},
   "source": [
    "---\n",
    "# 🌟🌟🌟🌟  All  done! \n",
    "In this notebook, you completed the following:\n",
    "\n",
    "- Created indexes using both hash and range sharding\n",
    "- Viewed Explain Plans and metrics reports for various queries\n"
   ]
  },
  {
   "attachments": {},
   "cell_type": "markdown",
   "metadata": {},
   "source": [
    "## 😊 Next up!\n",
    "Continue your learning by opening the next notebook, `05_Using_GIN_Indexes.ipynb`. \n",
    "\n",
    "Or, to open the notebook from GitPod, run the following:"
   ]
  },
  {
   "cell_type": "code",
   "execution_count": null,
   "metadata": {
    "vscode": {
     "languageId": "sql"
    }
   },
   "outputs": [],
   "source": [
    "%%bash\n",
    "gp open '05_Using_GIN_Indexes.ipynb'"
   ]
  }
 ],
 "metadata": {
  "kernelspec": {
   "display_name": "Python 3.7.9 64-bit",
   "language": "python",
   "name": "python3"
  },
  "language_info": {
   "codemirror_mode": {
    "name": "ipython",
    "version": 3
   },
   "file_extension": ".py",
   "mimetype": "text/x-python",
   "name": "python",
   "nbconvert_exporter": "python",
   "pygments_lexer": "ipython3",
   "version": "3.9.16"
  },
  "orig_nbformat": 4,
  "vscode": {
   "interpreter": {
    "hash": "aee8b7b246df8f9039afb4144a1f6fd8d2ca17a180786b69acc140d282b71a49"
   }
  }
 },
 "nbformat": 4,
 "nbformat_minor": 2
}
