{
 "cells": [
  {
   "attachments": {},
   "cell_type": "markdown",
   "metadata": {},
   "source": [
    "<div style=\"width:100%; background-color: #000041\"><a target=\"_blank\" href=\"http://university.yugabyte.com\"><img src=\"assets/YBU_Logo.png\" /></a></div><br>\n",
    "\n",
    "> **YugabyteDB YSQL Development**\n",
    ">\n",
    "> Enroll for free at [Yugabyte University](https://university.yugabyte.com/courses/yugabytedb-ysql-development).\n",
    ">\n",
    "<br>\n",
    "This notebook file is:\n",
    "\n",
    "`04_Anatomy_of_an_Index.ipynb`\n"
   ]
  },
  {
   "cell_type": "markdown",
   "metadata": {},
   "source": [
    "# Anatomy of an Index\n",
    "In the `03_Demystifying_table_sharding_tablets_and_data_distribution.ipynb` notebook, you discovered how YugabyteDB stores data in tablets. You also learned that YugabyteDB and YSQL support two sharding strategies for tables: hash and range sharding.\n",
    "\n",
    "An index in YugabyteDB is also distributed. Just like a table, YugabyteDB stores and distributes the data for an index stores in one or more tablets.  An index can employ either a hash or range sharding strategy. \n",
    "\n",
    "> Note\n",
    "> \n",
    "> In this regard, a tablet represents a shard of data which contains a set of rows for a logical entity. Each tablet is a customized RocksDB instance. A tablet leader has a peer group known as tablet followers, and this group of tablet peers exists as a Raft consensus group. YugabyteDB calls this distributed document store, DocDB.\n",
    "\n",
    "In this notebook, using Explain Plans, built-in functions, and custom utilities for YB-TServer metrics, you will learn how YugabyteDB stores data for an index in one or more tablets. You will also learn how YugabyteDB reads tablet data for an index during query execution.\n"
   ]
  },
  {
   "attachments": {},
   "cell_type": "markdown",
   "metadata": {},
   "source": [
    "## 🛠️ Requirements\n",
    "Here are the requirements for this notebook:\n",
    "- ✅ Create the notebook variables in `01_Lab_Setup.ipynb`, which you previously did\n",
    "- ✅ Create the `ds_ybu` database, which you previously did\n",
    "- ☑️ Import the notebook variables, *which you must do next*\n",
    "- ☑️ Connect to the `ds_ybu` database, *which you must do next*\n",
    "- ☑️ Complete the following sections\n",
    "  -  Create a secondary index using range sharding\n",
    "  -  Create a secondary index using hash sharding\n",
    "  -  Review of secondary index sharding\n",
    "  -  Expression index\n",
    "  -  Expression with include index\n",
    "  -  Partial index\n",
    "  -  Hints and other features\n",
    "\n",
    "\n",
    "\n",
    "### Select your notebook kernel\n",
    "- In the Notebook toolbar, click **Select Kernel**.\n",
    "<br>\n",
    "<img width=50% src=\"assets/01_01_Select_Kernel_Toolbar.png\" />\n",
    "\n",
    "- Next, in the dropdown, select **Python 3.12** or higher.\n",
    "<br>\n",
    "<img width=50% src=\"assets/01_02_Select_Kernel_Dropdown.png\" />\n",
    "\n",
    "That's it!"
   ]
  },
  {
   "attachments": {},
   "cell_type": "markdown",
   "metadata": {},
   "source": [
    "## ⛑️ Getting help\n",
    "The best way to get help from the Yugabyte University team is to post your question on YugabyteDB Community Slack in the #training or #yb-university channels. To sign up, visit [https://communityinviter.com/apps/yugabyte-db/register](https://communityinviter.com/apps/yugabyte-db/register).\n"
   ]
  },
  {
   "attachments": {},
   "cell_type": "markdown",
   "metadata": {},
   "source": [
    "## 👣 Setup steps\n",
    "Here are the steps to setup this lab:\n",
    "- Import the notebook variables\n",
    "- Connect to `db_ybu` database\n",
    "- Load the SQL Magic extension for the connection\n",
    "- Create the prepared statements"
   ]
  },
  {
   "attachments": {},
   "cell_type": "markdown",
   "metadata": {},
   "source": [
    "### 👇 Import the notebook variables\n",
    "\n",
    "> 👉 IMPORTANT! 👈\n",
    "> \n",
    "> Do **NOT** skip running the following cell. \n",
    "> \n",
    "\n",
    "The following Python cell reads the stored variables created in the `01_Lab_Setup.ipynb` notebook. To run the script, select Execute Cell (Play Arrow) in the left gutter of the cell. \n",
    "\n",
    "👇 👇 👇 "
   ]
  },
  {
   "cell_type": "code",
   "execution_count": 1,
   "metadata": {},
   "outputs": [],
   "source": [
    "# Use %store -r to read 01_Lab_Setup variables\n",
    "\n",
    "%store -r MY_YB_PATH\n",
    "%store -r MY_YB_PATH_DATA\n",
    "%store -r MY_GITPOD_WORKSPACE_URL\n",
    "\n",
    "%store -r MY_DB_NAME\n",
    "%store -r MY_DB_PORT\n",
    "\n",
    "%store -r MY_HOST_IPv4_01\n",
    "%store -r MY_HOST_IPv4_02\n",
    "%store -r MY_HOST_IPv4_03\n",
    "\n",
    "%store -r MY_MASTER_WEB_PORT\n",
    "%store -r MY_TSERVER_WEBSERVER_PORT\n",
    "%store -r MY_YUGABYTED_WEB_UI_PORT\n",
    "\n",
    "%store -r MY_YB_MASTER_HOST_GITPOD_URL\n",
    "%store -r MY_YB_TSERVER_HOST_GITPOD_URL\n",
    "%store -r MY_YUGABYTED_UI_HOST_GITPOD_URL\n",
    "\n",
    "%store -r MY_NOTEBOOK_DIR\n",
    "%store -r MY_NOTEBOOK_DATA_FOLDER\n",
    "%store -r MY_NOTEBOOK_UTILS_FOLDER\n",
    "\n",
    "%store -r MY_DATA_DDL_FILE_0\n",
    "%store -r MY_DATA_DML_FILE_0\n",
    "%store -r MY_DATA_DDL_FILE_1\n",
    "%store -r MY_DATA_DML_FILE_1\n",
    "%store -r MY_DATA_DDL_FILE_2\n",
    "%store -r MY_DATA_DML_FILE_2\n",
    "%store -r MY_DATA_DDL_FILE_3\n",
    "%store -r MY_DATA_DML_FILE_3\n",
    "\n",
    "%store -r MY_JEOPARDY_DATA_FILE\n",
    "%store -r MY_GIN_EXAMPLES\n",
    "%store -r MY_GITHUB_DATA_FILE\n",
    "\n",
    "%store -r MY_UTIL_FUNCTIONS_FILE\n",
    "%store -r MY_UTIL_YBTSERVER_METRICS_FILE"
   ]
  },
  {
   "attachments": {},
   "cell_type": "markdown",
   "metadata": {},
   "source": [
    "## Connect to the `db_ybu` database\n",
    "Run all the cells in this section:\n",
    "- Connect using Python and PostgreSQL driver\n",
    "- Load the SQL magic extension\n",
    "- Create the prepared statements\n",
    "- View the listener\n",
    "- View the DDL for tbl_cities"
   ]
  },
  {
   "cell_type": "code",
   "execution_count": 2,
   "metadata": {},
   "outputs": [],
   "source": [
    "# connect use Python 3.7.9+\n",
    "import psycopg2\n",
    "import sqlalchemy as alc\n",
    "from sqlalchemy import create_engine\n",
    "\n",
    "db_host=MY_HOST_IPv4_01\n",
    "db_name=MY_DB_NAME\n",
    "\n",
    "connection_str='postgresql+psycopg2://yugabyte@'+db_host+':5433/'+db_name\n",
    "\n",
    "# engine = create_engine(connection_str)"
   ]
  },
  {
   "attachments": {},
   "cell_type": "markdown",
   "metadata": {},
   "source": [
    "### Load the SQL magic extension"
   ]
  },
  {
   "cell_type": "code",
   "execution_count": 3,
   "metadata": {},
   "outputs": [],
   "source": [
    "%reload_ext sql\n",
    "\n",
    "# SQL magic for python connection string\n",
    "%sql {connection_str}"
   ]
  },
  {
   "attachments": {},
   "cell_type": "markdown",
   "metadata": {},
   "source": [
    "### Create the prepared statements"
   ]
  },
  {
   "attachments": {},
   "cell_type": "markdown",
   "metadata": {},
   "source": [
    "> IMPORTANT!\n",
    ">   \n",
    "> In order to create the prepared statements for the SQL magic connection, you must run the following cell!!!\n",
    "> \n",
    "> Do not skip this step.\n",
    "> "
   ]
  },
  {
   "cell_type": "code",
   "execution_count": 4,
   "metadata": {},
   "outputs": [
    {
     "name": "stdout",
     "output_type": "stream",
     "text": [
      " * postgresql+psycopg2://yugabyte@127.0.0.1:5433/db_ybu\n",
      "1 rows affected.\n",
      "+----------------------------------+\n",
      "|        fn_yb_create_stmts        |\n",
      "+----------------------------------+\n",
      "| 2023-05-24 10:55:23.343679-07:00 |\n",
      "+----------------------------------+\n"
     ]
    }
   ],
   "source": [
    "#%% python, but prepared statements as sql magic\n",
    "\n",
    "if (MY_YB_MASTER_HOST_GITPOD_URL is None):\n",
    "    a = %sql select fn_yb_create_stmts()\n",
    "else:\n",
    "    a = %sql select fn_yb_create_stmts(:MY_YB_MASTER_HOST_GITPOD_URL )\n",
    "print (a)"
   ]
  },
  {
   "attachments": {},
   "cell_type": "markdown",
   "metadata": {},
   "source": [
    "Confirm that the following query returns a count of 3 (for three prepared statements)."
   ]
  },
  {
   "cell_type": "code",
   "execution_count": 5,
   "metadata": {
    "vscode": {
     "languageId": "sql"
    }
   },
   "outputs": [
    {
     "name": "stdout",
     "output_type": "stream",
     "text": [
      " * postgresql+psycopg2://yugabyte@127.0.0.1:5433/db_ybu\n",
      "1 rows affected.\n"
     ]
    },
    {
     "data": {
      "text/html": [
       "<table>\n",
       "    <thead>\n",
       "        <tr>\n",
       "            <th>count</th>\n",
       "        </tr>\n",
       "    </thead>\n",
       "    <tbody>\n",
       "        <tr>\n",
       "            <td>3</td>\n",
       "        </tr>\n",
       "    </tbody>\n",
       "</table>"
      ],
      "text/plain": [
       "[(3,)]"
      ]
     },
     "execution_count": 5,
     "metadata": {},
     "output_type": "execute_result"
    }
   ],
   "source": [
    "%%sql \n",
    "select count(*) from pg_prepared_statements where 1=1 and name in ('stmt_util_metrics_snap_tablet','stmt_util_metrics_snap_table','stmt_util_metrics_snap_reset')"
   ]
  },
  {
   "attachments": {},
   "cell_type": "markdown",
   "metadata": {},
   "source": [
    "### View the listener address\n",
    "Run the following cell to view the host for your client connection"
   ]
  },
  {
   "cell_type": "code",
   "execution_count": null,
   "metadata": {
    "vscode": {
     "languageId": "sql"
    }
   },
   "outputs": [],
   "source": [
    "%%sql /* confirm listener */\n",
    "show listen_addresses;"
   ]
  },
  {
   "attachments": {},
   "cell_type": "markdown",
   "metadata": {},
   "source": [
    "### View DDL for tbl_cities\n",
    "\n",
    "Run the following cell to execute the describe table command, `\\d`."
   ]
  },
  {
   "cell_type": "code",
   "execution_count": null,
   "metadata": {
    "vscode": {
     "languageId": "shellscript"
    }
   },
   "outputs": [],
   "source": [
    "%%bash -s \"$MY_YB_PATH\" \"$MY_DB_NAME\"  # \\d+\n",
    "YB_PATH=${1}\n",
    "DB_NAME=${2}\n",
    "\n",
    "cd $YB_PATH\n",
    "\n",
    "./bin/ysqlsh -d ${DB_NAME} -c \"\\d+ tbl_cities\"\n",
    "\n",
    "# ./bin/ysqlsh -d ${DB_NAME} -c \"\\d+ idx_cities_city_name_range\""
   ]
  },
  {
   "attachments": {},
   "cell_type": "markdown",
   "metadata": {},
   "source": [
    "> Need help?\n",
    "> \n",
    "> If you can't find tbl_cities, please go back to `01_Lab_Setup.ipynb`."
   ]
  },
  {
   "attachments": {},
   "cell_type": "markdown",
   "metadata": {},
   "source": [
    "---\n",
    "## q1 | Create a secondary index using range sharding\n",
    "When you create an index for a table with a sort order (`asc` or `desc`), YugabyteDB will create the index using a range sharding strategy.\n",
    "  "
   ]
  },
  {
   "cell_type": "code",
   "execution_count": null,
   "metadata": {
    "vscode": {
     "languageId": "sql"
    }
   },
   "outputs": [],
   "source": [
    "%%sql\n",
    "drop index if exists idx_cities_city_name_range;\n",
    "drop index if exists idx_cities_city_name_hash;\n",
    "\n",
    "select pg_sleep(1);\n",
    "\n",
    "create index idx_cities_city_name_range on tbl_cities (city_name asc);"
   ]
  },
  {
   "attachments": {},
   "cell_type": "markdown",
   "metadata": {},
   "source": [
    "Review the DDL for index in the following cell:"
   ]
  },
  {
   "cell_type": "code",
   "execution_count": null,
   "metadata": {
    "vscode": {
     "languageId": "sql"
    }
   },
   "outputs": [],
   "source": [
    "%%sql\n",
    "select pg_get_indexdef('idx_cities_city_name_range':: regclass);\n"
   ]
  },
  {
   "attachments": {},
   "cell_type": "markdown",
   "metadata": {},
   "source": [
    "Alternatively, use the `\\d+` command:"
   ]
  },
  {
   "cell_type": "code",
   "execution_count": null,
   "metadata": {
    "vscode": {
     "languageId": "sql"
    }
   },
   "outputs": [],
   "source": [
    "%%bash -s \"$MY_YB_PATH\" \"$MY_DB_NAME\"  # \\d+\n",
    "YB_PATH=${1}\n",
    "DB_NAME=${2}\n",
    "\n",
    "cd $YB_PATH\n",
    "\n",
    "./bin/ysqlsh -d ${DB_NAME} -c \"\\d+ idx_cities_city_name_range\""
   ]
  },
  {
   "attachments": {},
   "cell_type": "markdown",
   "metadata": {},
   "source": [
    "`USING lsm` indicates that the index is of the type Log-Structured Merge tree (LSM) and employs range sharding. A LSM tree is not an tree structure, but rather, a complex algorithm that converts discrete random write requests into batch sequential write requests. To improve write performance for the LSM tree, RocksDB utilizes a Write-Ahead Log (WAL) and a memtable (a skiplist that lives in memory). The sequential writes in the memtable persists to disk as a Sorted Sequence Table (SSTable or SST) files.\n",
    "\n",
    "Both hash sharding and range sharding use LSM. The difference of course is that the LSM tree sorts the hash coded values for hash sharding and the specified key values for range sharding.\n",
    "\n",
    "> Important!\n",
    "> \n",
    "> In Data Definition Language statements, YugabyteDB will interpret the `BTREE` keyword as `LSM`. YugabyteDB does not support `BTREE` indexes."
   ]
  },
  {
   "attachments": {},
   "cell_type": "markdown",
   "metadata": {},
   "source": [
    "### View the Index details in the YB-Master web ui\n",
    "You can view the details of the `idx_cities_city_name_range` index in the YB-Master web ui. Run the cell below and open the URL in your web browser."
   ]
  },
  {
   "cell_type": "code",
   "execution_count": null,
   "metadata": {},
   "outputs": [],
   "source": [
    "#%% python, but prepared statements as sql magic\n",
    "THIS_INDEX_NAME = 'idx_cities_city_name_range'\n",
    "THIS_SCHEMA_NAME = 'public'\n",
    "DB_NAME = MY_DB_NAME\n",
    "\n",
    "## Comment out if local\n",
    "view_gitpod_url = %sql select fn_get_table_id_url(:MY_YB_MASTER_HOST_GITPOD_URL,7000,:DB_NAME,:THIS_SCHEMA_NAME,:THIS_INDEX_NAME ) as view_gitpod_url\n",
    "print (view_gitpod_url)\n",
    "\n",
    "## Uncomment if local\n",
    "# view_local_url = %sql select fn_get_table_id_url(:MY_HOST_IPv4_01,7000,:DB_NAME,:THIS_SCHEMA_NAME,:THIS_INDEX_NAME ) as view_local_url\n",
    "# print (view_local_url)"
   ]
  },
  {
   "attachments": {},
   "cell_type": "markdown",
   "metadata": {},
   "source": [
    "#### Review the Column section\n",
    "The column section shows details about each column in the index. Here is the section for  `idx_cities_city_name_range`:\n",
    "\n",
    "\n",
    "| Column | ID\t| Type |\n",
    "|--------|------|------|\n",
    "| city_name    | 0\t| string NOT NULL NOT A PARTITION KEY | \n",
    "| ybidxbasectid\t   | 1\t| binary NOT NULL NOT A PARTITION KEY | \n",
    "\n",
    "\n",
    "<br/>\n",
    "\n",
    "> Important!\n",
    ">  \n",
    ">  YugabyteDB creates an internal, hidden column, `ybidxbasectid`, for the indexed row. `ybidxbasectid` is similar to the internal, hidden colum, `ybctid`, for a row of a table. Both `ybctid` and  `ybidxbasectid` are virtual columns that represent the\n",
    ">  DocDB-encoded key for the tuple. \n",
    "> \n",
    "> Using  `\\d` or `\\d+` will not show the `ybidxbasectid` column. It is also not possible to query the `ybidxbasectid` value."
   ]
  },
  {
   "attachments": {},
   "cell_type": "markdown",
   "metadata": {},
   "source": [
    "#### Review the Tablet section\n",
    "The Tablet section shows the details for the existing tablets. Here is the section for  `idx_cities_city_name_range`: \n",
    "\n",
    "| Tablet ID |\tPartition\t| SplitDepth\t| State\t| Hidden\t| Message\t| RaftConfig|\n",
    "|--|--|--|--|--|--|--|\n",
    "| some_uuid_1<br>`1e2c3ef228534d3cbbf59c9fa6968d88\t` |\t`range: [<start>, <end>)` |\t0\t| Running|\tfalse| Tablet reported with an active leader\t|<li>FOLLOWER: 127.0.0.1 <li>FOLLOWER: 127.0.0.3<li>LEADER: 127.0.0.1 |\n",
    "\n",
    "YugabyteDB will automatically split this tablet based on the size of the table on disk. The following global flags determine this behavior:\n",
    "\n",
    "```\n",
    "--tablet_force_split_threshold_bytes=107374182400 --> 10240 MB\n",
    "--tablet_split_high_phase_shard_count_per_node=24\n",
    "--tablet_split_high_phase_size_threshold_bytes=10737418240 --> 10240 MB\n",
    "--tablet_split_low_phase_shard_count_per_node=8\n",
    "--tablet_split_low_phase_size_threshold_bytes=536870912 --> 512 MB\n",
    "--tablet_split_size_threshold_bytes=0\n",
    "```\n",
    "\n",
    "The low phase indicates the threshold for the initial splits of the tablet. With more data volume, the threshold increases from 512 MB to over 10 GBs."
   ]
  },
  {
   "attachments": {},
   "cell_type": "markdown",
   "metadata": {},
   "source": [
    "### q1a | Range index in equality predicate\n",
    "To generate an Explain Plan, run the following cell:"
   ]
  },
  {
   "cell_type": "code",
   "execution_count": null,
   "metadata": {
    "vscode": {
     "languageId": "sql"
    }
   },
   "outputs": [],
   "source": [
    "%%sql\n",
    "execute  stmt_util_metrics_snap_reset;\n",
    "\n",
    "explain (costs off, analyze,verbose) \n",
    "select '' _\n",
    " , *\n",
    " --, city_id\n",
    " --, city_name\n",
    "from tbl_cities \n",
    "where 1=1 \n",
    " -- and country_id = 233\n",
    " -- and country_code = 'US'\n",
    " -- and state_id = 1416\n",
    " -- and state_coude = 'CA'\n",
    "and city_name = 'Alameda'\n",
    " -- and city_id = 111088\n",
    " -- and yb_hash_code(city_id) = yb_hash_code(111088)\n",
    " -- and yb_hash_code(city_name) = yb_hash_code('Alameda'::text)\n",
    "-- limit 100\n",
    ";"
   ]
  },
  {
   "attachments": {},
   "cell_type": "markdown",
   "metadata": {},
   "source": [
    "#### q1a | Explain Plan (above ^^)\n",
    "\n",
    "The Explain Plan shows that this query uses the index and reads 2 rows\n",
    "- `Index Scan using idx_cities_city_name_range on public.tbl_cities (actual time=6.392..6.397 rows=2 loops=1)`\n",
    "\n",
    "The Index Condition reflects the query predicate.\n",
    "\n",
    "- `Index Cond: ((tbl_cities.city_name)::text = 'Alameda'::text)`\n",
    "\n",
    "To view the tablet metrics, run the following cell:"
   ]
  },
  {
   "cell_type": "code",
   "execution_count": null,
   "metadata": {
    "vscode": {
     "languageId": "sql"
    }
   },
   "outputs": [],
   "source": [
    "%%sql\n",
    "execute  stmt_util_metrics_snap_table;"
   ]
  },
  {
   "attachments": {},
   "cell_type": "markdown",
   "metadata": {},
   "source": [
    "#### q1a | Metrics (above ^^)\n",
    "\n",
    "In the initial query, the `Index Scan` accesses the index tablet:\n",
    "\n",
    "| row_name| \trocksdb_number_db_seek | \trocksdb_number_db_next | \n",
    "|--|--|--|\n",
    "| db_ybu idx_cities_city_name_range link_table_id tablet_id_unq_1 leader\t | 1| \t2 |\n",
    "\n",
    "There are two results for the predicate expression, resulting in one seek of the index tablet offset, and then two reads.\n",
    "Because the query returns all columns, the query also reads from one of the tablet leader for `tbl_cities`, a table with hash sharding.\n",
    "\n",
    "\n",
    "| row_name| \trocksdb_number_db_seek | \trocksdb_number_db_next | \n",
    "|--|--|--|\n",
    "| db_ybu tbl_cities link_table_id tablet_id_unq_1\t| 4 | 28 |\n",
    "\n",
    "\n",
    "What the Metrics report reveals is that even though the query uses the range index, the query must still seek 4 offsets from one of the tablets for `tbl_cities`.\n",
    "\n"
   ]
  },
  {
   "attachments": {},
   "cell_type": "markdown",
   "metadata": {},
   "source": [
    "###  q1b | Covering index with an equality predicate\n",
    "When the query results include all the columns in the index, the index \"covers the query\" and is known as a \"covering index\".\n",
    "\n",
    "To view the Explain Plan, run the following cell: "
   ]
  },
  {
   "cell_type": "code",
   "execution_count": null,
   "metadata": {
    "vscode": {
     "languageId": "sql"
    }
   },
   "outputs": [],
   "source": [
    "%%sql\n",
    "execute  stmt_util_metrics_snap_reset;\n",
    "\n",
    "explain (costs off, analyze, verbose) \n",
    "select '' _\n",
    " --, *\n",
    "-- , city_id\n",
    " , city_name\n",
    "from tbl_cities \n",
    "where 1=1 \n",
    " -- and country_id = 233\n",
    " -- and country_code = 'US'\n",
    " -- and state_id = 1416\n",
    " -- and state_coude = 'CA'\n",
    "and city_name = 'Alameda'\n",
    "-- and city_id = 111088\n",
    " -- and yb_hash_code(city_id) = yb_hash_code(111088)\n",
    " -- and yb_hash_code(city_name) = yb_hash_code('Alameda'::text)\n",
    "-- limit 100\n",
    ";"
   ]
  },
  {
   "attachments": {},
   "cell_type": "markdown",
   "metadata": {},
   "source": [
    "#### q1b | Explain plan (above ^^)\n",
    "The Explain Plan shows that this query uses the index only `Index Only Scan` and reads 2 rows.\n",
    "- `Index Only Scan using idx_cities_city_name_range on public.tbl_cities (actual time=4.964..4.968 rows=2 loops=1)`\n",
    "\n",
    "The Index Condition reflects the query predicate.\n",
    "\n",
    "- `Index Cond: ((tbl_cities.city_name)::text = 'Alameda'::text)`\n",
    "\n",
    "To view the tablet metrics, run the following cell:"
   ]
  },
  {
   "cell_type": "code",
   "execution_count": null,
   "metadata": {
    "vscode": {
     "languageId": "sql"
    }
   },
   "outputs": [],
   "source": [
    "%%sql\n",
    "execute  stmt_util_metrics_snap_table;"
   ]
  },
  {
   "attachments": {},
   "cell_type": "markdown",
   "metadata": {},
   "source": [
    "#### q1b | Metrics (above ^^)\n",
    "\n",
    "In the initial query, the `Index Scan` accesses the index tablet:\n",
    "\n",
    "| row_name| \trocksdb_number_db_seek | \trocksdb_number_db_next | \n",
    "|--|--|--|\n",
    "| db_ybu idx_cities_city_name_range link_table_id tablet_id_unq_1 leader\t | 1| \t2 |\n",
    "\n",
    "There are two results for the predicate expression, resulting in one seek of the index tablet offset, and then two reads.\n",
    "Because the query only returns the city name, the index \"covers\" the query and is a \"coverign index\". There is no need for the query to access the tablets for `tbl_cities`.\n"
   ]
  },
  {
   "attachments": {},
   "cell_type": "markdown",
   "metadata": {},
   "source": [
    "#### q1b | Experiment\n",
    "\n",
    "Question: What happens when the query includes the PK column, `city_id`,  in the select command? \n",
    "\n",
    "Answer:\n",
    "  - The Explain Plan becomes an `Index Scan`\n",
    "  - The query eads from a tablet for `tbl_cities`\n",
    "  - The reason? The tuple for the index, `ybidxbasectid`, encodes the PK pointer. YugabyteDB at this time is unable to use this PK encoding in results. This is a known issue.\n",
    "\n",
    "Question: What happens the query includes a PK equality clause in the predicate?\n",
    "\n",
    "Answer:\n",
    "- The query will use the PK index, `tbl_cities_pkey`, and not the secondary index.\n",
    "\n"
   ]
  },
  {
   "attachments": {},
   "cell_type": "markdown",
   "metadata": {},
   "source": [
    "### q1c | Range index with a range predicate\n",
    "Run the following cell to view the query results:"
   ]
  },
  {
   "cell_type": "code",
   "execution_count": null,
   "metadata": {
    "vscode": {
     "languageId": "sql"
    }
   },
   "outputs": [],
   "source": [
    "%%sql\n",
    "-- to see results\n",
    "select '' _\n",
    "   , *\n",
    "-- , city_name\n",
    "from tbl_cities \n",
    "where 1=1 \n",
    " -- and country_id = 233\n",
    " -- and country_code = 'US'\n",
    " -- and state_id = 1416\n",
    " -- and state_coude = 'CA'\n",
    " and city_name BETWEEN 'Alameda' AND  'Alamo'\n",
    "-- and city_id = 111088\n",
    " -- and yb_hash_code(city_id) = yb_hash_code(111088)\n",
    "-- and yb_hash_code(city_name) = yb_hash_code(city_name::text)\n",
    "limit 30\n",
    ";"
   ]
  },
  {
   "attachments": {},
   "cell_type": "markdown",
   "metadata": {},
   "source": [
    "To view the Explain Plan, run the following cell:"
   ]
  },
  {
   "cell_type": "code",
   "execution_count": null,
   "metadata": {
    "vscode": {
     "languageId": "sql"
    }
   },
   "outputs": [],
   "source": [
    "%%sql\n",
    "\n",
    "execute  stmt_util_metrics_snap_reset;\n",
    "\n",
    "explain (costs off, analyze, verbose) \n",
    "select ''_ \n",
    "    , *\n",
    " -- , city_name\n",
    "from tbl_cities \n",
    "where 1=1 \n",
    " -- and country_id = 233\n",
    " -- and country_code = 'US'\n",
    " -- and state_id = 1416\n",
    " -- and state_coude = 'CA'\n",
    " and city_name BETWEEN 'Alameda' AND  'Alamo'\n",
    " -- and city_id = 111088\n",
    " -- and yb_hash_code(city_id) = yb_hash_code(111088)\n",
    "-- and yb_hash_code(city_name) = yb_hash_code(city_name::text)\n",
    "-- limit 100\n",
    ";"
   ]
  },
  {
   "attachments": {},
   "cell_type": "markdown",
   "metadata": {},
   "source": [
    "#### q1c | Explain plan (above ^^)\n",
    "The Explain Plan shows that this query uses the index only `Index Scan` and reads 16 rows.\n",
    "- `Index Scan using idx_cities_city_name_range on public.tbl_cities (actual time=3.192..3.239 rows=16 loops=1`\n",
    "\n",
    "The Index Condition reflects the query predicate range.\n",
    "\n",
    "- `  Index Cond: (((tbl_cities.city_name)::text >= 'Alameda'::text) AND ((tbl_cities.city_name)::text <= 'Alamo'::text))`\n",
    "\n",
    "To view the tablet metrics, run the following cell:"
   ]
  },
  {
   "cell_type": "code",
   "execution_count": null,
   "metadata": {
    "vscode": {
     "languageId": "sql"
    }
   },
   "outputs": [],
   "source": [
    "%%sql\n",
    "execute  stmt_util_metrics_snap_table;"
   ]
  },
  {
   "attachments": {},
   "cell_type": "markdown",
   "metadata": {},
   "source": [
    "#### q1c | Metrics (above ^^)\n",
    "\n",
    "In the initial query, the `Index Scan` accesses the index tablet:\n",
    "\n",
    "| row_name| \trocksdb_number_db_seek | \trocksdb_number_db_next | \n",
    "|--|--|--|\n",
    "| db_ybu idx_cities_city_name_range link_table_id tablet_id_unq_1 leader\t | 1 | \t16 |\n",
    "\n",
    "Because the query returns all the columns, the query accesses data on the the three tablet leaders for `tbl_cities`. Retrieving the column data for the query requires additional seeks and reads on each tablet.\n"
   ]
  },
  {
   "attachments": {},
   "cell_type": "markdown",
   "metadata": {},
   "source": [
    "### q1d | Covering index with a range predicate\n",
    "To view the Explain Plan, run the following cell:"
   ]
  },
  {
   "cell_type": "code",
   "execution_count": null,
   "metadata": {
    "vscode": {
     "languageId": "sql"
    }
   },
   "outputs": [],
   "source": [
    "%%sql\n",
    "execute  stmt_util_metrics_snap_reset;\n",
    "\n",
    "explain (costs off, analyze,verbose) \n",
    "select '' _\n",
    " --, *\n",
    " -- , city_id\n",
    " , city_name\n",
    "from tbl_cities \n",
    "where 1=1 \n",
    " -- and country_id = 233\n",
    " -- and country_code = 'US'\n",
    " -- and state_id = 1416\n",
    " -- and state_code = 'CA'\n",
    "and city_name between 'alameda' and 'alamo'\n",
    "-- and city_id = 111088\n",
    " -- and yb_hash_code(city_id) = yb_hash_code(111088)\n",
    " -- and yb_hash_code(city_name) = yb_hash_code('Alameda'::text)\n",
    "-- limit 100\n",
    ";"
   ]
  },
  {
   "attachments": {},
   "cell_type": "markdown",
   "metadata": {},
   "source": [
    "#### q1d | Explain Plan (above ^^)\n",
    "\n",
    "The Explain Plan shows that this query only uses the range index and in doing so, retrieves 16 rows.\n",
    "- `Index Only Scan using idx_cities_city_name_range on public.tbl_cities (actual time=0.883..0.891 rows=16 loops=1)`\n",
    "\n",
    "The Index Condition reflects the query predicate.\n",
    "\n",
    "- `Index Cond: ((tbl_cities.city_name >= 'Alameda'::text) AND (tbl_cities.city_name <= 'Alamo'::text))`\n",
    "\n",
    "To view the tablet metrics, run the following cell:"
   ]
  },
  {
   "cell_type": "code",
   "execution_count": null,
   "metadata": {
    "vscode": {
     "languageId": "sql"
    }
   },
   "outputs": [],
   "source": [
    "%%sql\n",
    "\n",
    "execute  stmt_util_metrics_snap_table;"
   ]
  },
  {
   "attachments": {},
   "cell_type": "markdown",
   "metadata": {},
   "source": [
    "#### q1d | Metrics (above ^^)\n",
    "\n",
    "The range index covers the query and serves as a covering index. A covering index is indicative of a Index Only Scan query.\n",
    "\n",
    "| row_name| \trocksdb_number_db_seek | \trocksdb_number_db_next | \n",
    "|--|--|--|\n",
    "| db_ybu idx_cities_city_name_range link_table_id tablet_id_unq_1 leader\t | 1 | \t16 |\n",
    "\n"
   ]
  },
  {
   "attachments": {},
   "cell_type": "markdown",
   "metadata": {},
   "source": [
    "---\n",
    "## q2 | Create a secondary index using hash sharding\n",
    "In this series of queries, you will explore using a hash index. \n",
    "\n",
    "To begin, create an index with hash sharding. In the DLL for the index, specify the `hash` keyword as follows:"
   ]
  },
  {
   "cell_type": "code",
   "execution_count": null,
   "metadata": {
    "vscode": {
     "languageId": "sql"
    }
   },
   "outputs": [],
   "source": [
    "%%sql \n",
    "drop index if exists idx_cities_city_name_range;\n",
    "\n",
    "drop index if exists idx_cities_city_name_hash;\n",
    "\n",
    "select pg_sleep(1);\n",
    "\n",
    "create index idx_cities_city_name_hash on tbl_cities (city_name hash);"
   ]
  },
  {
   "attachments": {},
   "cell_type": "markdown",
   "metadata": {},
   "source": [
    "To view the DDL, run the following cell:"
   ]
  },
  {
   "cell_type": "code",
   "execution_count": null,
   "metadata": {
    "vscode": {
     "languageId": "sql"
    }
   },
   "outputs": [],
   "source": [
    "%%sql\n",
    "select pg_get_indexdef('idx_cities_city_name_hash':: regclass);"
   ]
  },
  {
   "attachments": {},
   "cell_type": "markdown",
   "metadata": {},
   "source": [
    "### View the Index details in the YB-Master web ui\n",
    "You can view the details of the `idx_cities_city_name_hash` index in the YB-Master web ui. Run cell below and open the URL in your web browser."
   ]
  },
  {
   "cell_type": "code",
   "execution_count": null,
   "metadata": {},
   "outputs": [],
   "source": [
    "#%% python, but prepared statements as sql magic\n",
    "THIS_INDEX_NAME = 'idx_cities_city_name_hash'\n",
    "THIS_SCHEMA_NAME = 'public'\n",
    "DB_NAME = MY_DB_NAME\n",
    "\n",
    "## Comment out if local\n",
    "view_gitpod_url = %sql select fn_get_table_id_url(:MY_YB_MASTER_HOST_GITPOD_URL,7000,:DB_NAME,:THIS_SCHEMA_NAME,:THIS_INDEX_NAME ) as view_gitpod_url\n",
    "print (view_gitpod_url)\n",
    "\n",
    "## Uncomment if local\n",
    "# view_local_url = %sql select fn_get_table_id_url(:MY_HOST_IPv4_01,7000,:DB_NAME,:THIS_SCHEMA_NAME,:THIS_INDEX_NAME ) as view_local_url\n",
    "# print (view_local_url)"
   ]
  },
  {
   "attachments": {},
   "cell_type": "markdown",
   "metadata": {},
   "source": [
    "#### Review the Column section\n",
    "The column section shows details about each column in the index. Here is the section for  `idx_cities_city_name_hash`:\n",
    "\n",
    "\n",
    "| Column | ID\t| Type |\n",
    "|--------|------|------|\n",
    "| city_name    | 0\t| string NOT NULL PARTITION KEY| \n",
    "| ybidxbasectid\t   | 1\t| binary NOT NULL NOT A PARTITION KEY | \n",
    "\n",
    "\n",
    "<br/>\n",
    "\n",
    "> Important!\n",
    ">  \n",
    ">  YugabyteDB creates an internal, hidden column, `ybidxbasectid`, for the indexed row. `ybidxbasectid` is similar to the internal, hidden colum, `ybctid`, for a row of a table. Both `ybctid` and  `ybidxbasectid` are virtual columns that represent the\n",
    ">  DocDB-encoded key for the tuple. \n",
    "> \n",
    "> Using  `\\d` or `\\d+` will not show the `ybidxbasectid` column. It is also not possible to query the `ybidxbasectid` value."
   ]
  },
  {
   "attachments": {},
   "cell_type": "markdown",
   "metadata": {},
   "source": [
    "##### Partition Key\n",
    "YugabyteDB uses the shard key (shown as `PARTITION KEY`) to distribute the data among the tablet leaders for the index. \n",
    "\n",
    "With consistent hash sharding, a partitioning algorithm distributes data evenly and randomly across shards. By computing a consistent hash on the partition key (or keys) of a given row, YugabyteDB knows where to insert the row among the tablet leaders.\n",
    "\n"
   ]
  },
  {
   "attachments": {},
   "cell_type": "markdown",
   "metadata": {},
   "source": [
    "#### Review the Tablet section\n",
    "For the given index, the Tablet section shows the details for the existing tablets. Of particular interest are the number of tablet leaders and the partition strategy. Here is an example of the Tablet section for `idx_cities_city_name_hash`:\n",
    "\n",
    "| Tablet ID |\tPartition\t| SplitDepth\t| State\t| Hidden\t| Message\t| RaftConfig|\n",
    "|--|--|--|--|--|--|--|\n",
    "| some_uuid_1 |\t`hash_split: [0x5555, 0xAAAA)` |\t0\t| Running|\tfalse| Tablet reported with an active leader\t|<li>FOLLOWER: 127.0.0.1 <li>FOLLOWER: 127.0.0.3<li>LEADER: 127.0.0.2  |\n",
    "| some_uuid_2\t| `hash_split: [0xAAAA, 0xFFFF)`\t| 0 |  Running |false |\tTablet reported with an active leader |<li>FOLLOWER: 127.0.0.1 <li>LEADER: 127.0.0.3 <li>FOLLOWER: 127.0.0.2 |\n",
    "| some_uuid_3 <br>(tablet leader where the row lives) |\t`hash_split: [0x0000, 0x5555)` |\t0 |\tRunning | \tfalse\t| Tablet reported with an active leader |\t<li>LEADER: 127.0.0.1<li>FOLLOWER: 127.0.0.3<li>FOLLOWER: 127.0.0.2 |"
   ]
  },
  {
   "attachments": {},
   "cell_type": "markdown",
   "metadata": {},
   "source": [
    "### q2a | Hash index with an equality predicate\n",
    "To view the Explain Plan for the query, run the following cell:"
   ]
  },
  {
   "cell_type": "code",
   "execution_count": null,
   "metadata": {
    "vscode": {
     "languageId": "sql"
    }
   },
   "outputs": [],
   "source": [
    "%%sql\n",
    "execute  stmt_util_metrics_snap_reset;\n",
    "\n",
    "explain (costs off, analyze,verbose) \n",
    "select 0\n",
    " , *\n",
    " -- , city_id\n",
    " -- , city_name\n",
    "from tbl_cities \n",
    "where 1=1 \n",
    " -- and country_id = 233\n",
    " -- and country_code = 'US'\n",
    " -- and state_id = 1416\n",
    " -- and state_coude = 'CA'\n",
    "and city_name = 'Alameda'\n",
    " -- and city_id = 111088\n",
    " -- and yb_hash_code(city_id) = yb_hash_code(111088)\n",
    " -- and yb_hash_code(city_name) = yb_hash_code('Alameda'::text)\n",
    "-- limit 100\n",
    ";"
   ]
  },
  {
   "attachments": {},
   "cell_type": "markdown",
   "metadata": {},
   "source": [
    "#### q2a | Explain Plan (above ^^)\n",
    "\n",
    "The Explain Plan shows that this query uses the hash index and reads 2 rows.\n",
    "- `Index Scan using idx_cities_city_name_hash on public.tbl_cities (actual time=3.539..3.552 rows=2 loops=1`\n",
    "\n",
    "The Index Condition reflects the query predicate.\n",
    "\n",
    "- `Index Cond: ((tbl_cities.city_name)::text = 'Alameda'::text)`\n",
    "\n",
    "To view the tablet metrics, run the following cell:"
   ]
  },
  {
   "cell_type": "code",
   "execution_count": null,
   "metadata": {
    "vscode": {
     "languageId": "sql"
    }
   },
   "outputs": [],
   "source": [
    "%%sql\n",
    "execute  stmt_util_metrics_snap_table;"
   ]
  },
  {
   "attachments": {},
   "cell_type": "markdown",
   "metadata": {},
   "source": [
    "#### q2a | Metrics (above ^^)\n",
    "\n",
    "The query uses the hash index and accesses one of the tablet leaders for `idx_cities_city_name_hash`.\n",
    "\n",
    "| row_name| \trocksdb_number_db_seek | \trocksdb_number_db_next | \n",
    "|--|--|--|\n",
    "| db_ybu idx_cities_city_name_hash link_table_id tablet_id_unq_1 leader\t | 1 | \t2 |\n",
    "\n",
    "Because the query requires more than the columns in the index, the query accesses one of the tablet leaders for `tbl_cities`.\n",
    "\n",
    "| row_name| \trocksdb_number_db_seek | \trocksdb_number_db_next | \n",
    "|--|--|--|\n",
    "| db_ybu tbl_cities link_table_id tablet_id_unq_1 leader\t | 4 | \t28 |\n",
    "\n",
    "There's a 33% chance that the tablet leaders for the index and the table are on different hosts. If you are running this notebook locally or in Gitpod, the host is the same machine with the YB-TServer processes running on different ports using host aliases for localhost (127.0.0.1) such as 127.0.0.2 and 127.0.0.3.\n"
   ]
  },
  {
   "attachments": {},
   "cell_type": "markdown",
   "metadata": {},
   "source": [
    "### q2b | Covering index with a hash index and equality predicate\n",
    "Run the following cell to generate an Explain Plan:"
   ]
  },
  {
   "cell_type": "code",
   "execution_count": null,
   "metadata": {
    "vscode": {
     "languageId": "sql"
    }
   },
   "outputs": [],
   "source": [
    "%%sql\n",
    "execute  stmt_util_metrics_snap_reset;\n",
    "\n",
    "explain (costs off, analyze,verbose) \n",
    "select '' _\n",
    " -- , *\n",
    " --, city_id\n",
    ", city_name\n",
    "from tbl_cities \n",
    "where 1=1 \n",
    " -- and country_id = 233\n",
    " -- and country_code = 'US'\n",
    " -- and state_id = 1416\n",
    " -- and state_coude = 'CA'\n",
    "and city_name = 'Alameda'\n",
    " -- and city_name BETWEEN 'Alameda' AND 'Alamo'\n",
    " -- and city_id = 111088\n",
    " -- and yb_hash_code(city_id) = yb_hash_code(111088)\n",
    " -- and yb_hash_code(city_name) = yb_hash_code('Alameda'::text)\n",
    "-- limit 100\n",
    ";"
   ]
  },
  {
   "attachments": {},
   "cell_type": "markdown",
   "metadata": {},
   "source": [
    "#### q2a | Explain Plan (above ^^)\n",
    "\n",
    "The Explain Plan shows that the index is a covering index and returns 2 rows.\n",
    "- `Index Only Scan using idx_cities_city_name_hash on public.tbl_cities (actual time=0.805..0.808 rows=2 loops=1)`\n",
    "\n",
    "The Index Condition reflects the query predicate.\n",
    "\n",
    "- `Index Cond: (tbl_cities.city_name = 'Alameda'::text)`\n",
    "\n",
    "To view the tablet metrics, run the following cell:"
   ]
  },
  {
   "cell_type": "code",
   "execution_count": null,
   "metadata": {
    "vscode": {
     "languageId": "sql"
    }
   },
   "outputs": [],
   "source": [
    "%%sql\n",
    "execute  stmt_util_metrics_snap_table;"
   ]
  },
  {
   "attachments": {},
   "cell_type": "markdown",
   "metadata": {},
   "source": [
    "#### q2b | Metrics (above ^^)\n",
    "\n",
    "As an Index Only Scan query, the query uses the hash index and accesses one of the tablet leaders for `idx_cities_city_name_hash` and reads 2 rows.\n",
    "\n",
    "| row_name| \trocksdb_number_db_seek | \trocksdb_number_db_next | \n",
    "|--|--|--|\n",
    "| db_ybu idx_cities_city_name_hash link_table_id tablet_id_unq_1 leader\t | 1 | \t2 |\n"
   ]
  },
  {
   "attachments": {},
   "cell_type": "markdown",
   "metadata": {},
   "source": [
    "### q2c | Hash index with a range predicate\n",
    "To view the Explain Plan, run the following:"
   ]
  },
  {
   "cell_type": "code",
   "execution_count": null,
   "metadata": {
    "vscode": {
     "languageId": "sql"
    }
   },
   "outputs": [],
   "source": [
    "%%sql\n",
    "execute  stmt_util_metrics_snap_reset;\n",
    "\n",
    "explain (costs off, analyze,verbose) \n",
    "select '' _\n",
    "    , *\n",
    "-- , city_id\n",
    " --, city_name\n",
    "from tbl_cities \n",
    "where 1=1 \n",
    " -- and country_id = 233\n",
    " -- and country_code = 'US'\n",
    " -- and state_id = 1416\n",
    " -- and state_coude = 'CA'\n",
    "and city_name BETWEEN 'Alameda' AND 'Alamo'\n",
    " -- and city_id = 111088\n",
    " -- and yb_hash_code(city_id) = yb_hash_code(111088)\n",
    " -- and yb_hash_code(city_name) = yb_hash_code('Alameda'::text)\n",
    "-- limit 100\n",
    ";"
   ]
  },
  {
   "attachments": {},
   "cell_type": "markdown",
   "metadata": {},
   "source": [
    "#### q2c | Explain plan (above ^^)\n",
    "As expected, the optimizer generates an Explain Plan that does not use the hash index. Instead, the Explain Plan shows a full table scan of the table itself.\n",
    "- `Seq Scan on public.tbl_cities (actual time=366.921..2929.900 rows=16 loops=1`\n",
    "\n",
    "The YB-TServer that serves the client connection removes the rows:\n",
    "  - `Filter: (((tbl_cities.city_name)::text >= 'Alameda'::text) AND ((tbl_cities.city_name)::text <= 'Alamo'::text))`\n",
    "  - `Rows Removed by Filter: 148250`\n",
    "\n",
    "To view the Metrics report for the query, run the following cell:\n"
   ]
  },
  {
   "cell_type": "code",
   "execution_count": null,
   "metadata": {
    "vscode": {
     "languageId": "sql"
    }
   },
   "outputs": [],
   "source": [
    "%%sql\n",
    "\n",
    "execute  stmt_util_metrics_snap_table;"
   ]
  },
  {
   "attachments": {},
   "cell_type": "markdown",
   "metadata": {},
   "source": [
    "#### q2b | Metrics (above ^^)\n",
    "The `Seq Scan` requires that the query access all three tablets for `tbl_cities`, requiring 30K+ seeks and 60OK reads per tablet. "
   ]
  },
  {
   "attachments": {},
   "cell_type": "markdown",
   "metadata": {},
   "source": [
    "---\n",
    "## Review of secondary index sharding\n",
    "\n",
    "PK in predicate will take precedence and result in index NOT being used...\n",
    "- Can't drop or alter PK, need to rename, create new table (or similar), and select into to make change.\n",
    "- PK can be composite (hash, and range order), and this behavior can be different if that is the case [not covered here]\n",
    "\n",
    "Secondary index as Range \n",
    "- Equality is performant, but when range index tablets split, may not be as great as hash index for equality\n",
    "- Ideal for range and comparison predicates\n",
    "- For both Equality and Comparison predicate...\n",
    "  - When the index column is the sole column in the select command and the sole column in the predicate (no PK), the range index is the covering index, and results in Index Only Scan\n",
    " \n",
    "Secondary index as Hash\n",
    "- Equality is ideal\n",
    "  -  When the index column is the sole column in the select command and the sole column in the predicate (no PK), the range index is the covering index, and results in Index Only Scan\n",
    "- A range or comparison predicate ignores the hash index and results in a costly Seq Scan\n",
    "\n",
    "YugabyteDB vs PostgreSQL\n",
    "- YugabyteDB only updates the indexes of columns where there are key-values and subkey values changes.\n",
    "- A Index Only Scan reads from the index tablet."
   ]
  },
  {
   "attachments": {},
   "cell_type": "markdown",
   "metadata": {},
   "source": [
    "---\n",
    "## q3 | Expression index\n",
    "Uses for an expression for index."
   ]
  },
  {
   "cell_type": "code",
   "execution_count": null,
   "metadata": {
    "vscode": {
     "languageId": "sql"
    }
   },
   "outputs": [],
   "source": [
    "%%sql\n",
    "drop index if exists idx_cities_city_name_exp;\n",
    "\n",
    "create index idx_cities_city_name_exp on tbl_cities (UPPER (COALESCE(city_name, city_name_alt) ) asc);"
   ]
  },
  {
   "attachments": {},
   "cell_type": "markdown",
   "metadata": {},
   "source": [
    "### q3a | Expression query"
   ]
  },
  {
   "cell_type": "code",
   "execution_count": null,
   "metadata": {
    "vscode": {
     "languageId": "sql"
    }
   },
   "outputs": [],
   "source": [
    "%%sql\n",
    "execute  stmt_util_metrics_snap_reset;\n",
    "\n",
    "explain (costs off, analyze,verbose) \n",
    "select '' _\n",
    " -- , *\n",
    ", city_id\n",
    ", city_name\n",
    ", city_name_alt\n",
    "from tbl_cities \n",
    "where 1=1 \n",
    " -- and country_id = 233\n",
    " -- and country_code = 'US'\n",
    " -- and state_id = 1416\n",
    " -- and state_coue = 'CA'\n",
    " and UPPER (COALESCE(city_name, city_name_alt) ) like 'A%'\n",
    " -- and city_name = 'Alameda'\n",
    " -- and city_name BETWEEN 'Alameda' AND 'Alamo'\n",
    " -- and city_id = 111088\n",
    " -- and yb_hash_code(city_id) = yb_hash_code(111088)\n",
    " -- and yb_hash_code(city_name) = yb_hash_code('Alameda'::text)\n",
    "limit 100\n",
    ";"
   ]
  },
  {
   "attachments": {},
   "cell_type": "markdown",
   "metadata": {},
   "source": [
    "#### q3a | Explain plan (above ^^)\n",
    "- Index is Range\n",
    "- Index Scan\n",
    "- Expression in Index Cond --> This shows the boundary >='A' <'B'\n",
    "- Filter not doing anything\n",
    "\n"
   ]
  },
  {
   "cell_type": "code",
   "execution_count": null,
   "metadata": {
    "vscode": {
     "languageId": "sql"
    }
   },
   "outputs": [],
   "source": [
    "%%sql\n",
    "\n",
    "execute  stmt_util_metrics_snap_table;"
   ]
  },
  {
   "attachments": {},
   "cell_type": "markdown",
   "metadata": {},
   "source": [
    "####  | Metrics (above ^^)\n",
    "- Only index tablet, which is range\n",
    "- Accesses the other table tablets"
   ]
  },
  {
   "attachments": {},
   "cell_type": "markdown",
   "metadata": {},
   "source": [
    "---\n",
    "## q4 | Expression with include index\n",
    "How to use an expression and include."
   ]
  },
  {
   "cell_type": "code",
   "execution_count": null,
   "metadata": {
    "vscode": {
     "languageId": "sql"
    }
   },
   "outputs": [],
   "source": [
    "%%sql\n",
    "drop index if exists idx_cities_city_name_exp_covering;\n",
    "\n",
    "create index idx_cities_city_name_covering on tbl_cities (UPPER (COALESCE(city_name, city_name_alt) ) asc) include (city_id, city_name, city_name_alt);"
   ]
  },
  {
   "attachments": {},
   "cell_type": "markdown",
   "metadata": {},
   "source": [
    "### q4a | Query using expression and include columns"
   ]
  },
  {
   "cell_type": "code",
   "execution_count": null,
   "metadata": {
    "vscode": {
     "languageId": "sql"
    }
   },
   "outputs": [],
   "source": [
    "%%sql\n",
    "execute  stmt_util_metrics_snap_reset;\n",
    "\n",
    "explain (costs off, analyze,verbose) \n",
    "select '' _\n",
    " -- , *\n",
    ", city_id\n",
    ", city_name\n",
    ", city_name_alt\n",
    "-- , state_id\n",
    "from tbl_cities \n",
    "where 1=1 \n",
    " -- and country_id = 233\n",
    " -- and country_code = 'US'\n",
    " -- and state_id = 1416\n",
    " -- and state_coude = 'CA'\n",
    " and UPPER (COALESCE(city_name, city_name_alt) ) like 'A%'\n",
    " -- and city_name = 'Alameda'\n",
    " -- and city_name BETWEEN 'Alameda' AND 'Alamo'\n",
    " -- and city_id = 111088\n",
    " -- and yb_hash_code(city_id) = yb_hash_code(111088)\n",
    " -- and yb_hash_code(city_name) = yb_hash_code('Alameda'::text)\n",
    "limit 100\n",
    ";"
   ]
  },
  {
   "attachments": {},
   "cell_type": "markdown",
   "metadata": {},
   "source": [
    "#### q4a | Explain plan (above ^^)\n",
    "- Index is Range\n",
    "- Index Only Scan\n",
    "- Expression in Index Cond --> This shows the boundary >='A' <'B'\n",
    "- Filter not doing anything\n",
    "\n"
   ]
  },
  {
   "cell_type": "code",
   "execution_count": null,
   "metadata": {
    "vscode": {
     "languageId": "sql"
    }
   },
   "outputs": [],
   "source": [
    "%%sql\n",
    "\n",
    "execute  stmt_util_metrics_snap_table;"
   ]
  },
  {
   "attachments": {},
   "cell_type": "markdown",
   "metadata": {},
   "source": [
    "#### q4a | Metrics (above ^^)\n",
    "- Only index tablet means 1 rpc\n",
    "- Trade off is data storage\n",
    "- Non-DQL access patterns, such as DML [insert, update, delete]... Impact comes if source table is highly touched\n"
   ]
  },
  {
   "attachments": {},
   "cell_type": "markdown",
   "metadata": {},
   "source": [
    "---\n",
    "## q5 | Partial index\n",
    "A partial index uses a where a clause in it's definition. This is helpful for creating an index that does not contain out rows that are irrelevant for most queries, such as a soft-deleted row, archived row, or historical row. For example, suppose you need only country_codes that are equal to `US`.\n"
   ]
  },
  {
   "attachments": {},
   "cell_type": "markdown",
   "metadata": {},
   "source": [
    "### q5a | Create secondary index using expression and include and where"
   ]
  },
  {
   "cell_type": "code",
   "execution_count": null,
   "metadata": {
    "vscode": {
     "languageId": "sql"
    }
   },
   "outputs": [],
   "source": [
    "%%sql\n",
    "drop index if exists idx_cities_city_name_covering_US;\n",
    "\n",
    "create index idx_cities_city_name_covering_US\n",
    "on tbl_cities (UPPER (COALESCE(city_name, city_name_alt) ) asc) \n",
    "include (city_id, city_name, city_name_alt) \n",
    "where country_code='US';"
   ]
  },
  {
   "attachments": {},
   "cell_type": "markdown",
   "metadata": {},
   "source": [
    "View the explain plan."
   ]
  },
  {
   "cell_type": "code",
   "execution_count": null,
   "metadata": {
    "vscode": {
     "languageId": "sql"
    }
   },
   "outputs": [],
   "source": [
    "%%sql\n",
    "execute  stmt_util_metrics_snap_reset;\n",
    "\n",
    "explain (costs off, analyze,verbose) \n",
    "select '' _\n",
    " -- , *\n",
    ", city_id\n",
    ", city_name\n",
    ", city_name_alt\n",
    "from tbl_cities \n",
    "where 1=1 \n",
    " -- and country_id = 233\n",
    " and country_code = 'US'\n",
    "-- and country_code = 'US'\n",
    " -- and state_id = 1416\n",
    " -- and state_coude = 'CA'\n",
    " and UPPER (COALESCE(city_name, city_name_alt) ) like 'A%'\n",
    " -- and city_name = 'Alameda'\n",
    " -- and city_name BETWEEN 'Alameda' AND 'Alamo'\n",
    " -- and city_id = 111088\n",
    " -- and yb_hash_code(city_id) = yb_hash_code(111088)\n",
    " -- and yb_hash_code(city_name) = yb_hash_code('Alameda'::text)\n",
    "limit 100\n",
    ";"
   ]
  },
  {
   "attachments": {},
   "cell_type": "markdown",
   "metadata": {},
   "source": [
    "#### q5 | Explain plan (above ^^)\n",
    "- Index is Range\n",
    "- Index Only Scan\n",
    "- Expression in Index Cond\n",
    "  - boundary >='A' <'B'\n",
    "  - where is not shown\n",
    "- Filter not doing anything, as index cond handles\n"
   ]
  },
  {
   "cell_type": "code",
   "execution_count": null,
   "metadata": {
    "vscode": {
     "languageId": "sql"
    }
   },
   "outputs": [],
   "source": [
    "%%sql\n",
    "\n",
    "execute  stmt_util_metrics_snap_table;"
   ]
  },
  {
   "attachments": {},
   "cell_type": "markdown",
   "metadata": {},
   "source": [
    "#### q5 | Metrics (above ^^)\n",
    "- Only index tablet means 1 rpc\n",
    "- Trade off is data storage\n",
    "- Non-DQL access patterns, such as DML [insert, update, delete]... Impact comes if source table is highly touched\n"
   ]
  },
  {
   "attachments": {},
   "cell_type": "markdown",
   "metadata": {},
   "source": [
    "---\n",
    "## q6 | Hints and other features"
   ]
  },
  {
   "attachments": {},
   "cell_type": "markdown",
   "metadata": {},
   "source": [
    "### q6a | hints"
   ]
  },
  {
   "attachments": {},
   "cell_type": "markdown",
   "metadata": {},
   "source": [
    "`/*+ SeqScan(tbl_cities) */`"
   ]
  },
  {
   "cell_type": "code",
   "execution_count": null,
   "metadata": {
    "vscode": {
     "languageId": "sql"
    }
   },
   "outputs": [],
   "source": [
    "%%sql\n",
    "execute  stmt_util_metrics_snap_reset;\n",
    "explain (costs off, analyze, verbose) \n",
    "/*+ SeqScan(tbl_cities) */\n",
    "select '' _\n",
    "    , *\n",
    "from tbl_cities \n",
    "where 1=1 \n",
    " -- and country_id = 233\n",
    " -- and country_code = 'US'\n",
    " -- and state_id = 1416\n",
    " -- and state_coude = 'CA'\n",
    "and city_name = 'Alameda'\n",
    "-- and city_id = 111088\n",
    " -- and yb_hash_code(city_id) = yb_hash_code(111088)\n",
    "-- limit 100\n",
    ";"
   ]
  },
  {
   "attachments": {},
   "cell_type": "markdown",
   "metadata": {},
   "source": [
    "Explain plan (above ^^)\n",
    "- Seq Scan is the same as Full Scan of the table\n",
    "- Filter remove Y rows out of X, `Rows Removed by Filter: 148264`\n"
   ]
  },
  {
   "cell_type": "code",
   "execution_count": null,
   "metadata": {
    "vscode": {
     "languageId": "sql"
    }
   },
   "outputs": [],
   "source": [
    "%%sql\n",
    "execute  stmt_util_metrics_snap_table;"
   ]
  },
  {
   "attachments": {},
   "cell_type": "markdown",
   "metadata": {},
   "source": [
    "Metrics (above ^^)\n",
    "- All tablet leaders\n",
    "- Seek in all tablet offsets\n",
    "  - Next to read values after seek\n",
    "  - Seek again for another value\n",
    "  - Seek/next ratio is around 1:19+ (can reduce by narrow columns)"
   ]
  },
  {
   "attachments": {},
   "cell_type": "markdown",
   "metadata": {},
   "source": [
    "### q6b | No PK or IDX, but New Distributed Features\n",
    "- Seq Scan\n",
    "- Enable Pushdown\n",
    "- Follower reads\n",
    "- Combo"
   ]
  },
  {
   "cell_type": "code",
   "execution_count": null,
   "metadata": {
    "vscode": {
     "languageId": "sql"
    }
   },
   "outputs": [],
   "source": [
    "%%sql\n",
    "drop index if exists idx_cities_city_name;\n",
    "drop index if exists idx_cities_city_name_range;\n",
    "drop index if exists idx_cities_city_name_hash;\n",
    "drop index if exists idx_cities_city_name_covering_US;\n",
    "drop index if exists idx_cities_city_name_exp;"
   ]
  },
  {
   "attachments": {},
   "cell_type": "markdown",
   "metadata": {},
   "source": [
    "#### Enable Pushdown\n",
    "```\n",
    "name        | yb_enable_expression_pushdown\n",
    "setting     | off\n",
    "description | Push supported expressions down to DocDB for evaluation.\n",
    "```\n",
    "Set to true = on, set to false = off."
   ]
  },
  {
   "cell_type": "code",
   "execution_count": null,
   "metadata": {
    "vscode": {
     "languageId": "sql"
    }
   },
   "outputs": [],
   "source": [
    "%%sql\n",
    "SET yb_enable_expression_pushdown=on;\n",
    "SHOW yb_enable_expression_pushdown;"
   ]
  },
  {
   "cell_type": "code",
   "execution_count": null,
   "metadata": {
    "vscode": {
     "languageId": "sql"
    }
   },
   "outputs": [],
   "source": [
    "%%sql\n",
    "execute  stmt_util_metrics_snap_reset;\n",
    "explain (costs off, analyze, verbose) \n",
    "select '' _\n",
    "    , *\n",
    "from tbl_cities \n",
    "where 1=1 \n",
    " -- and country_id = 233\n",
    " -- and country_code = 'US'\n",
    " -- and state_id = 1416\n",
    " -- and state_coude = 'CA'\n",
    " and city_name = 'Alameda' \n",
    " -- and city_id = 111088\n",
    " -- and yb_hash_code(city_id) = yb_hash_code(111088)\n",
    "-- limit 100\n",
    ";"
   ]
  },
  {
   "attachments": {},
   "cell_type": "markdown",
   "metadata": {},
   "source": [
    "##### Pushdown | Explain plan (above ^^)\n",
    "- `Remote Filter: ((tbl_cities.city_name)::text = 'Alameda'::text)` is pushdown\n",
    "- Pushdown filter is in DocDB (Remember, each tablet is a running rocksdb/docdb, and tablets are part of raft consensus group, e.g. tablet peers)\n",
    "- Pushdown is faster because non-pushdown (YSQl/PostgreSQL Query Layer reuses) needs to remove rows from all results\n",
    "- Stats are better\n",
    "  - Planning Time: 0.062 ms\n",
    "  - Execution Time: 966.344 ms\n",
    "  - Peak Memory Usage: 8 kB\n",
    "  "
   ]
  },
  {
   "cell_type": "code",
   "execution_count": null,
   "metadata": {
    "vscode": {
     "languageId": "sql"
    }
   },
   "outputs": [],
   "source": [
    "%%sql\n",
    "execute  stmt_util_metrics_snap_table;"
   ]
  },
  {
   "attachments": {},
   "cell_type": "markdown",
   "metadata": {},
   "source": [
    "##### Pushdown | Metrics (above ^^)\n",
    "- All tablet leaders\n",
    "- Seek in all tablet offsets\n",
    "  - Next to read values after seek\n",
    "  - Seek again for another value\n",
    "  - Seek/next ratio is around 1:19+\n",
    "- Performance of pushdown of filter revealed in explain plan stats"
   ]
  },
  {
   "attachments": {},
   "cell_type": "markdown",
   "metadata": {},
   "source": [
    "##### Pushdown | Cleanup"
   ]
  },
  {
   "cell_type": "code",
   "execution_count": null,
   "metadata": {
    "vscode": {
     "languageId": "sql"
    }
   },
   "outputs": [],
   "source": [
    "%%sql\n",
    "SET yb_enable_expression_pushdown=off;\n",
    "SHOW yb_enable_expression_pushdown;"
   ]
  },
  {
   "attachments": {},
   "cell_type": "markdown",
   "metadata": {},
   "source": [
    "#### Enable Follower Reads\n",
    "```\n",
    "name        | yb_read_from_followers\n",
    "setting     | off\n",
    "description | Allow any statement that generates a read request to go to any node.\n",
    "\n",
    "name        | yb_follower_read_staleness_ms\n",
    "setting     | 30000\n",
    "description | Sets the staleness (in ms) to be used for performing follower reads.\n",
    "```\n",
    "Set to true = on, set to false = off.\n",
    "\n",
    "Also, other configurations such as:\n",
    "- `set session characteristics as transaction read write;`\n",
    "- hint, `/*+ Set(transaction_read_only on) */`\n",
    "\n",
    "For more details about this feature, review:\n",
    "\n",
    "https://docs.yugabyte.com/preview/explore/ysql-language-features/going-beyond-sql/follower-reads-ysql/#examples\n"
   ]
  },
  {
   "cell_type": "code",
   "execution_count": null,
   "metadata": {
    "vscode": {
     "languageId": "sql"
    }
   },
   "outputs": [],
   "source": [
    "%%sql\n",
    "set session characteristics as transaction read write;\n",
    "set yb_read_from_followers=true;\n",
    "SHOW yb_read_from_followers;"
   ]
  },
  {
   "cell_type": "code",
   "execution_count": null,
   "metadata": {
    "vscode": {
     "languageId": "sql"
    }
   },
   "outputs": [],
   "source": [
    "%%sql\n",
    "execute  stmt_util_metrics_snap_reset;\n",
    "explain (costs off, analyze, verbose) \n",
    "/*+ Set(transaction_read_only on) */\n",
    "select '' _\n",
    "    , *\n",
    "from tbl_cities \n",
    "where 1=1 \n",
    " -- and country_id = 233\n",
    " -- and country_code = 'US'\n",
    " -- and state_id = 1416\n",
    " -- and state_coude = 'CA'\n",
    " and city_name = 'Alameda'\n",
    " -- and city_id = 111088\n",
    " -- and yb_hash_code(city_id) = yb_hash_code(111088)\n",
    "-- limit 100\n",
    ";\n"
   ]
  },
  {
   "attachments": {},
   "cell_type": "markdown",
   "metadata": {},
   "source": [
    "##### Follower-reads | Explain plan (above ^^)\n",
    "- Execution time would be better in \"real world\" (no host aliases)\n",
    "  - Planning Time: 0.110 ms\n",
    "  - Execution Time: 2613.345 ms\n",
    "  - Peak Memory Usage: 8 kB"
   ]
  },
  {
   "cell_type": "code",
   "execution_count": null,
   "metadata": {
    "vscode": {
     "languageId": "sql"
    }
   },
   "outputs": [],
   "source": [
    "%%sql\n",
    "\n",
    "execute  stmt_util_metrics_snap_table;"
   ]
  },
  {
   "attachments": {},
   "cell_type": "markdown",
   "metadata": {},
   "source": [
    "##### Follower-reads | Metrics (above ^^)\n",
    "- Only from session host, 127.0.0.1 (can confirm by re-running connection to different) \n",
    "- Uses tablet leader and followers on host (this works for RF=3 with a 3 node cluster)\n",
    "- Seek in all tablet offsets\n",
    "  - Next to read values after seek\n",
    "  - Seek again for another value\n",
    "  - Seek/next ratio is around 1:19+\n",
    "- Performance of follower reads in explain plan stats"
   ]
  },
  {
   "attachments": {},
   "cell_type": "markdown",
   "metadata": {},
   "source": [
    "#####  Rerun\n",
    "- Restart notebook\n",
    "- Clear output\n",
    "- Change db_host from `127.0.0.1` to other, e.g. `127.0.0.3`\n",
    "- Confirm session host\n",
    "- Rerun all of q3c and review\n",
    "- Restart notebook\n",
    "- Clear output\n",
    "- Change db_host from `127.0.0.3` to other, e.g. `127.0.0.1`"
   ]
  },
  {
   "attachments": {},
   "cell_type": "markdown",
   "metadata": {},
   "source": [
    "##### Follower-reads | Plan and Metrics\n",
    "- First pass is high cost\n",
    "- Second is faster?"
   ]
  },
  {
   "attachments": {},
   "cell_type": "markdown",
   "metadata": {},
   "source": [
    "##### Follower-reads | Cleanup"
   ]
  },
  {
   "cell_type": "code",
   "execution_count": null,
   "metadata": {
    "vscode": {
     "languageId": "sql"
    }
   },
   "outputs": [],
   "source": [
    "%%sql\n",
    "set yb_read_from_followers=false;\n",
    "SHOW yb_read_from_followers;"
   ]
  },
  {
   "attachments": {},
   "cell_type": "markdown",
   "metadata": {},
   "source": [
    "### Pushdown + Follower"
   ]
  },
  {
   "cell_type": "code",
   "execution_count": null,
   "metadata": {
    "vscode": {
     "languageId": "sql"
    }
   },
   "outputs": [],
   "source": [
    "%%sql\n",
    "SET yb_enable_expression_pushdown=true;\n",
    "SHOW yb_enable_expression_pushdown;"
   ]
  },
  {
   "cell_type": "code",
   "execution_count": null,
   "metadata": {
    "vscode": {
     "languageId": "sql"
    }
   },
   "outputs": [],
   "source": [
    "%%sql\n",
    "SET session characteristics as transaction read write;\n",
    "SET yb_read_from_followers=true;\n",
    "SHOW yb_read_from_followers;"
   ]
  },
  {
   "cell_type": "code",
   "execution_count": null,
   "metadata": {
    "vscode": {
     "languageId": "sql"
    }
   },
   "outputs": [],
   "source": [
    "%%sql\n",
    "execute  stmt_util_metrics_snap_reset;\n",
    "explain (costs off, analyze, verbose) \n",
    "/*+ Set(transaction_read_only on) */\n",
    "select *\n",
    "from tbl_cities \n",
    "where 1=1 \n",
    " -- and country_id = 233\n",
    " -- and country_code = 'US'\n",
    " -- and state_id = 1416\n",
    " -- and state_coude = 'CA'\n",
    " and city_name = 'Alameda'\n",
    " -- and city_id = 111088\n",
    " -- and yb_hash_code(city_id) = yb_hash_code(111088)\n",
    "-- limit 100\n",
    ";\n"
   ]
  },
  {
   "attachments": {},
   "cell_type": "markdown",
   "metadata": {},
   "source": [
    "##### Pushdown + Follower | Explain plan (above ^^)\n",
    "- Pushdown benefit, `  Remote Filter: ((tbl_cities.city_name)::text = 'Alameda'::text)`\n",
    "- A little faster than just pushdown alone"
   ]
  },
  {
   "cell_type": "code",
   "execution_count": null,
   "metadata": {
    "vscode": {
     "languageId": "sql"
    }
   },
   "outputs": [],
   "source": [
    "%%sql\n",
    "\n",
    "execute  stmt_util_metrics_snap_table;"
   ]
  },
  {
   "attachments": {},
   "cell_type": "markdown",
   "metadata": {},
   "source": [
    "##### Pushdown + Follower | Metrics (above ^^)\n",
    "- Only node host, same seeks and reads as above"
   ]
  },
  {
   "attachments": {},
   "cell_type": "markdown",
   "metadata": {},
   "source": [
    "##### Pushdown + Follower | Cleanup"
   ]
  },
  {
   "cell_type": "code",
   "execution_count": null,
   "metadata": {
    "vscode": {
     "languageId": "sql"
    }
   },
   "outputs": [],
   "source": [
    "%%sql\n",
    "SET yb_enable_expression_pushdown=off;\n",
    "SHOW yb_enable_expression_pushdown;"
   ]
  },
  {
   "cell_type": "code",
   "execution_count": null,
   "metadata": {
    "vscode": {
     "languageId": "sql"
    }
   },
   "outputs": [],
   "source": [
    "%%sql\n",
    "SET session characteristics as transaction read write;\n",
    "SET yb_read_from_followers=off;\n",
    "SHOW yb_read_from_followers;"
   ]
  },
  {
   "attachments": {},
   "cell_type": "markdown",
   "metadata": {},
   "source": [
    "---\n",
    "# 🌟🌟🌟🌟  All  done! \n",
    "In this notebook, you completed the following:\n",
    "\n",
    "- Created indexes using both hash and range sharding\n",
    "- Viewed Explain Plans and metrics reports for various queries\n"
   ]
  },
  {
   "attachments": {},
   "cell_type": "markdown",
   "metadata": {},
   "source": [
    "## 😊 Next up!\n",
    "Continue your learning by opening the next notebook, `05_Using_GIN_Indexes.ipynb`. \n",
    "\n",
    "Or, to open the notebook from GitPod, run the following:"
   ]
  },
  {
   "cell_type": "code",
   "execution_count": null,
   "metadata": {
    "vscode": {
     "languageId": "sql"
    }
   },
   "outputs": [],
   "source": [
    "%%bash\n",
    "gp open '05_Using_GIN_Indexes.ipynb'"
   ]
  }
 ],
 "metadata": {
  "kernelspec": {
   "display_name": "Python 3.7.9 64-bit",
   "language": "python",
   "name": "python3"
  },
  "language_info": {
   "codemirror_mode": {
    "name": "ipython",
    "version": 3
   },
   "file_extension": ".py",
   "mimetype": "text/x-python",
   "name": "python",
   "nbconvert_exporter": "python",
   "pygments_lexer": "ipython3",
   "version": "3.9.16"
  },
  "orig_nbformat": 4,
  "vscode": {
   "interpreter": {
    "hash": "aee8b7b246df8f9039afb4144a1f6fd8d2ca17a180786b69acc140d282b71a49"
   }
  }
 },
 "nbformat": 4,
 "nbformat_minor": 2
}
