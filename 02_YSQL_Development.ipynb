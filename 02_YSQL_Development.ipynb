{
 "cells": [
  {
   "attachments": {},
   "cell_type": "markdown",
   "metadata": {},
   "source": [
    "<div style=\"width:100%; background-color: #000041\"><a target=\"_blank\" href=\"http://university.yugabyte.com\"><img src=\"assets/YBU_Logo.png\" /></a></div>\n",
    "\n",
    "> **YugabyteDB YSQL Development**\n",
    ">\n",
    "> Enroll for free at [Yugabyte University](https://university.yugabyte.com/).\n",
    ">\n",
    "\n",
    "# Language fundamentals\n",
    "This notebook showcases various Data Definition Language (DDL) and Data Manipulation Language (DML) statements for Yugabyte Structure Query Language (YSQL)."
   ]
  },
  {
   "attachments": {},
   "cell_type": "markdown",
   "metadata": {},
   "source": [
    "## 🛠️ Requirements\n",
    "Here are the requirements for this notebook:\n",
    "- ✅ Create the notebook variables in `01_Lab_Setup.ipynb`, which you previously did\n",
    "- ✅ Create the `ds_ybu` database, which you previously did\n",
    "- ☑️ Import the notebook variables, *which you must do next*\n",
    "- ☑️ Connect to the `ds_ybu` database, *which you must do next*\n",
    "- ☑️ Run through a series of DDL and DML scenarios\n",
    "  -  Basic of DDL and DML\n",
    "  -  Built-in Functions\n",
    "  -  Advanced Features"
   ]
  },
  {
   "attachments": {},
   "cell_type": "markdown",
   "metadata": {},
   "source": [
    "---\n",
    "## 👣 Setup steps\n",
    "Here are the steps to setup this lab:\n",
    "- Import the notebook variables\n",
    "- Connect to `db_ybu` database\n",
    "- Load the SQL Magic extension for the connection\n",
    "- Create the prepared statements"
   ]
  },
  {
   "attachments": {},
   "cell_type": "markdown",
   "metadata": {},
   "source": [
    "### Import the notebook variables \n",
    "\n",
    "> ‼️ Important\n",
    "> \n",
    "> Do **NOT** skip running the following cell. \n",
    "> \n",
    "\n",
    "The following Python cell reads the stored variables created in the `01_Lab_Setup.ipynb` notebook. To run the script, select Execute Cell (Play Arrow) in the left gutter of the cell."
   ]
  },
  {
   "cell_type": "code",
   "execution_count": 1,
   "metadata": {},
   "outputs": [],
   "source": [
    "# Inspiration from https://medium.com/analytics-vidhya/postgresql-integration-with-jupyter-notebook-deb97579a38d\n",
    "# Use %store -r to read 01_Lab_Setup variables\n",
    "%store -r MY_DB_NAME\n",
    "%store -r MY_YB_PATH\n",
    "%store -r MY_HOST_IPv4_01\n",
    "%store -r MY_HOST_IPv4_02\n",
    "%store -r MY_HOST_IPv4_03\n",
    "%store -r MY_GITPOD_WORKSPACE_URL\n",
    "\n",
    "%store -r MY_NOTEBOOK_DATA_FOLDER\n",
    "%store -r MY_NOTEBOOK_UTILS_FOLDER\n",
    "\n",
    "%store -r MY_DATA_DDL_FILE_1\n",
    "%store -r MY_DATA_DML_FILE_1\n",
    "%store -r MY_DATA_DDL_FILE_2\n",
    "%store -r MY_DATA_DML_FILE_2\n",
    "%store -r MY_DATA_DDL_FILE_3\n",
    "%store -r MY_DATA_DML_FILE_3"
   ]
  },
  {
   "attachments": {},
   "cell_type": "markdown",
   "metadata": {},
   "source": [
    "## Connect to the `db_ybu` database\n",
    "Run all the cells in this section:\n",
    "- Connect using Python and PostgreSQL driver\n",
    "- Load the SQL magic extension\n",
    "- Create the prepared statements\n"
   ]
  },
  {
   "cell_type": "code",
   "execution_count": 2,
   "metadata": {},
   "outputs": [],
   "source": [
    "# connect use Python 3.7.9+\n",
    "import psycopg2\n",
    "import sqlalchemy as alc\n",
    "from sqlalchemy import create_engine\n",
    "\n",
    "\n",
    "db_host=MY_HOST_IPv4_01\n",
    "db_name=MY_DB_NAME\n",
    "\n",
    "connection_str='postgresql://yugabyte@'+db_host+':5433/'+db_name\n",
    "\n",
    "engine = create_engine(connection_str)"
   ]
  },
  {
   "cell_type": "markdown",
   "metadata": {},
   "source": [
    "### Load the SQL magic extension"
   ]
  },
  {
   "cell_type": "code",
   "execution_count": 3,
   "metadata": {},
   "outputs": [],
   "source": [
    "%reload_ext sql\n",
    "\n",
    "# SQL magic for python connection string\n",
    "%sql {connection_str}"
   ]
  },
  {
   "cell_type": "markdown",
   "metadata": {},
   "source": [
    "### Create the prepared statements"
   ]
  },
  {
   "cell_type": "markdown",
   "metadata": {},
   "source": [
    "> IMPORTANT!\n",
    ">   \n",
    "> In order to create the prepared statements for the SQL magic connection, you must run the following cell!!!\n",
    "> \n",
    "> Do not skip this step.\n",
    "> "
   ]
  },
  {
   "cell_type": "code",
   "execution_count": 4,
   "metadata": {},
   "outputs": [
    {
     "name": "stdout",
     "output_type": "stream",
     "text": [
      " * postgresql://yugabyte@127.0.0.1:5433/db_ybu\n",
      "1 rows affected.\n",
      "+----------------------------------+\n",
      "|        fn_yb_create_stmts        |\n",
      "+----------------------------------+\n",
      "| 2023-04-20 16:23:53.147778-07:00 |\n",
      "+----------------------------------+\n"
     ]
    }
   ],
   "source": [
    "#%% python, but prepared statements as sql magic\n",
    "if (MY_GITPOD_WORKSPACE_URL is None):\n",
    "    a = %sql select fn_yb_create_stmts()\n",
    "else:\n",
    "    WORKSPACE_URL = MY_GITPOD_WORKSPACE_URL.replace('https://','https://7000-')\n",
    "    a = %sql select fn_yb_create_stmts(:WORKSPACE_URL)\n",
    "\n",
    "print (a)"
   ]
  },
  {
   "cell_type": "markdown",
   "metadata": {},
   "source": [
    "Confirm that the following query returns a count of 3 (for three prepared statements)."
   ]
  },
  {
   "cell_type": "code",
   "execution_count": 5,
   "metadata": {
    "vscode": {
     "languageId": "sql"
    }
   },
   "outputs": [
    {
     "name": "stdout",
     "output_type": "stream",
     "text": [
      " * postgresql://yugabyte@127.0.0.1:5433/db_ybu\n",
      "1 rows affected.\n"
     ]
    },
    {
     "data": {
      "text/html": [
       "<table>\n",
       "    <thead>\n",
       "        <tr>\n",
       "            <th>count</th>\n",
       "        </tr>\n",
       "    </thead>\n",
       "    <tbody>\n",
       "        <tr>\n",
       "            <td>3</td>\n",
       "        </tr>\n",
       "    </tbody>\n",
       "</table>"
      ],
      "text/plain": [
       "[(3,)]"
      ]
     },
     "execution_count": 5,
     "metadata": {},
     "output_type": "execute_result"
    }
   ],
   "source": [
    "%%sql \n",
    "select count(*) from pg_prepared_statements where 1=1 and name in ('stmt_util_metrics_snap_tablet','stmt_util_metrics_snap_table','stmt_util_metrics_snap_reset')"
   ]
  },
  {
   "cell_type": "markdown",
   "metadata": {},
   "source": [
    "---\n"
   ]
  },
  {
   "cell_type": "markdown",
   "metadata": {},
   "source": [
    "## q1 | Basics of Data Definition Language (DDL) and Data Manipulation Language (DML)\n",
    "\n",
    "<!--\n",
    "\n",
    "insert into tbl_employees (empno, ename, job, mgr, hiredate, sal, comm, deptno, email, other_info) VALUES (7369, 'SMITH', 'CLERK', 7902, '1980-12-17', 800, NULL, 20,'SMITH@acme.com', '{\"skills\":[\"accounting\"]}'), (7499, 'ALLEN', 'SALESMAN', 7698, '1981-02-20', 1600, 300, 30,'ALLEN@acme.com', null), (7521, 'WARD', 'SALESMAN', 7698, '1981-02-22', 1250, 500, 30,'WARD@compuserve.com', null), (7566, 'JONES', 'MANAGER', 7839, '1981-04-02', 2975, NULL, 20,'JONES@gmail.com', null), (7654, 'MARTIN', 'SALESMAN', 7698, '1981-09-28', 1250, 1400, 30,'MARTIN@acme.com', null), (7698, 'BLAKE', 'MANAGER', 7839, '1981-05-01', 2850, NULL, 30,'BLAKE@hotmail.com', null), (7782, 'CLARK', 'MANAGER', 7839, '1981-06-09', 2450, NULL, 10,'CLARK@acme.com', '{\"skills\":[\"C\",\"C++\",\"SQL\"]}'), (7788, 'SCOTT', 'ANALYST', 7566, '1982-12-09', 3000, NULL, 20,'SCOTT@acme.com', '{\"cat\":\"tiger\"}'), (7839, 'KING', 'PRESIDENT', NULL, '1981-11-17', 5000, NULL, 10,'KING@aol.com', null), (7844, 'TURNER', 'SALESMAN', 7698, '1981-09-08', 1500, 0, 30,'TURNER@acme.com', null), (7876, 'ADAMS', 'CLERK', 7788, '1983-01-12', 1100, NULL, 20,'ADAMS@acme.org', null), (7900, 'JAMES', 'CLERK', 7698, '1981-12-03', 950, NULL, 30,'JAMES@acme.org', null), (7902, 'FORD', 'ANALYST', 7566, '1981-12-03', 3000, NULL, 20,'FORD@acme.com', '{\"skills\":[\"YSQL\",\"YCQL\",\"SQL\",\"CQL\"]}'), (7934, 'MILLER', 'CLERK', 7782, '1982-01-23', 1300, NULL, 10,'MILLER@acme.com', null);\n",
    ">\n",
    "\n"
   ]
  },
  {
   "cell_type": "markdown",
   "metadata": {},
   "source": [
    "### Scenario 1: Create a table and insert rows\n",
    "\n",
    "Create two related tables, `tbl_departments` and `tbl_employees`:"
   ]
  },
  {
   "cell_type": "code",
   "execution_count": 6,
   "metadata": {
    "vscode": {
     "languageId": "sql"
    }
   },
   "outputs": [
    {
     "name": "stdout",
     "output_type": "stream",
     "text": [
      " * postgresql://yugabyte@127.0.0.1:5433/db_ybu\n",
      "Done.\n",
      "Done.\n",
      "Done.\n",
      "Done.\n"
     ]
    },
    {
     "data": {
      "text/plain": [
       "[]"
      ]
     },
     "execution_count": 6,
     "metadata": {},
     "output_type": "execute_result"
    }
   ],
   "source": [
    "%%sql\n",
    "\n",
    "drop table if exists tbl_departments;\n",
    "\n",
    "create table if not exists tbl_departments (\n",
    "  deptno integer NOT NULL,\n",
    "  dname text,\n",
    "  loc text,\n",
    "  description text,\n",
    "  CONSTRAINT pk_dept PRIMARY KEY (deptno asc)\n",
    ");\n",
    "\n",
    "drop table if exists tbl_employees;\n",
    "\n",
    "create table if not exists tbl_employees (\n",
    "  empno integer generated by default as identity (start with 10000) NOT NULL,\n",
    "  ename text NOT NULL,\n",
    "  job text,\n",
    "  mgr integer,\n",
    "  hiredate date,\n",
    "  sal integer,\n",
    "  comm integer,\n",
    "  deptno integer NOT NULL,\n",
    "  email text,\n",
    "  other_info jsonb,\n",
    "  CONSTRAINT pk_emp PRIMARY KEY (empno hash),\n",
    "  CONSTRAINT emp_email_uk UNIQUE (email),\n",
    "  CONSTRAINT emp_email_check CHECK ((email ~ '^[a-zA-Z0-9.!#$%&''*+/=?^_`{|}~-]+@[a-zA-Z0-9](?:[a-zA-Z0-9-]{0,61}[a-zA-Z0-9])?(?:\\.[a-zA-Z0-9](?:[a-zA-Z0-9-]{0,61}[a-zA-Z0-9])?)*$'::text))\n",
    ");\n"
   ]
  },
  {
   "cell_type": "markdown",
   "metadata": {},
   "source": [
    "Insert data into `tbl_departments`:"
   ]
  },
  {
   "cell_type": "code",
   "execution_count": 7,
   "metadata": {
    "vscode": {
     "languageId": "sql"
    }
   },
   "outputs": [
    {
     "name": "stdout",
     "output_type": "stream",
     "text": [
      " * postgresql://yugabyte@127.0.0.1:5433/db_ybu\n",
      "4 rows affected.\n"
     ]
    },
    {
     "data": {
      "text/plain": [
       "[]"
      ]
     },
     "execution_count": 7,
     "metadata": {},
     "output_type": "execute_result"
    }
   ],
   "source": [
    "%%sql\n",
    "insert into tbl_departments (deptno, dname, loc, description)\n",
    "values (10, 'ACCOUNTING', 'NEW YORK','preparation of financial statements, maintenance of general ledger, payment of bills, preparation of customer bills, payroll, and more.'), (20, 'RESEARCH', 'DALLAS','responsible for preparing the substance of a research report or security recommendation.'), (30, 'SALES', 'CHICAGO','division of a business that is responsible for selling products or services'), (40, 'OPERATIONS', 'BOSTON','administration of business practices to create the highest level of efficiency possible within an organization');"
   ]
  },
  {
   "cell_type": "markdown",
   "metadata": {},
   "source": [
    "Insert data into `tbl_employees`:"
   ]
  },
  {
   "cell_type": "code",
   "execution_count": 8,
   "metadata": {
    "vscode": {
     "languageId": "sql"
    }
   },
   "outputs": [
    {
     "name": "stdout",
     "output_type": "stream",
     "text": [
      " * postgresql://yugabyte@127.0.0.1:5433/db_ybu\n",
      "1 rows affected.\n",
      "1 rows affected.\n",
      "1 rows affected.\n",
      "1 rows affected.\n",
      "1 rows affected.\n",
      "1 rows affected.\n",
      "1 rows affected.\n",
      "1 rows affected.\n",
      "1 rows affected.\n",
      "1 rows affected.\n",
      "1 rows affected.\n",
      "1 rows affected.\n",
      "1 rows affected.\n",
      "1 rows affected.\n"
     ]
    },
    {
     "data": {
      "text/plain": [
       "[]"
      ]
     },
     "execution_count": 8,
     "metadata": {},
     "output_type": "execute_result"
    }
   ],
   "source": [
    "%%sql\n",
    "\n",
    "insert into tbl_employees (empno, ename, job, mgr, hiredate, sal, comm, deptno, email, other_info) VALUES (7369, 'SMITH', 'CLERK', 7902, '1980-12-17', 800, NULL, 20,'SMITH@acme.com', '{\"skills\":[\"accounting\"]}');\n",
    "insert into tbl_employees (empno, ename, job, mgr, hiredate, sal, comm, deptno, email, other_info) VALUES (7499, 'ALLEN', 'SALESMAN', 7698, '1981-02-20', 1600, 300, 30,'ALLEN@acme.com', null);\n",
    "insert into tbl_employees (empno, ename, job, mgr, hiredate, sal, comm, deptno, email, other_info) VALUES (7521, 'WARD', 'SALESMAN', 7698, '1981-02-22', 1250, 500, 30,'WARD@compuserve.com', null);\n",
    "insert into tbl_employees (empno, ename, job, mgr, hiredate, sal, comm, deptno, email, other_info) VALUES (7566, 'JONES', 'MANAGER', 7839, '1981-04-02', 2975, NULL, 20,'JONES@gmail.com', null);\n",
    "insert into tbl_employees (empno, ename, job, mgr, hiredate, sal, comm, deptno, email, other_info) VALUES (7654, 'MARTIN', 'SALESMAN', 7698, '1981-09-28', 1250, 1400, 30,'MARTIN@acme.com', null);\n",
    "insert into tbl_employees (empno, ename, job, mgr, hiredate, sal, comm, deptno, email, other_info) VALUES (7698, 'BLAKE', 'MANAGER', 7839, '1981-05-01', 2850, NULL, 30,'BLAKE@hotmail.com', null);\n",
    "insert into tbl_employees (empno, ename, job, mgr, hiredate, sal, comm, deptno, email, other_info) VALUES (7782, 'CLARK', 'MANAGER', 7839, '1981-06-09', 2450, NULL, 10,'CLARK@acme.com', '{\"skills\": [\"C\",\"C++\",\"SQL\"] }');\n",
    "insert into tbl_employees (empno, ename, job, mgr, hiredate, sal, comm, deptno, email, other_info) VALUES (7788, 'SCOTT', 'ANALYST', 7566, '1982-12-09', 3000, NULL, 20,'SCOTT@acme.com', '{\"cat\":\"tiger\"}');\n",
    "insert into tbl_employees (empno, ename, job, mgr, hiredate, sal, comm, deptno, email, other_info) VALUES  (7839, 'KING', 'PRESIDENT', NULL, '1981-11-17', 5000, NULL, 10,'KING@aol.com', null); \n",
    "insert into tbl_employees (empno, ename, job, mgr, hiredate, sal, comm, deptno, email, other_info) VALUES (7844, 'TURNER', 'SALESMAN', 7698, '1981-09-08', 1500, 0, 30,'TURNER@acme.com', null);\n",
    "insert into tbl_employees (empno, ename, job, mgr, hiredate, sal, comm, deptno, email, other_info) VALUES (7876, 'ADAMS', 'CLERK', 7788, '1983-01-12', 1100, NULL, 20,'ADAMS@acme.org', null); \n",
    "insert into tbl_employees (empno, ename, job, mgr, hiredate, sal, comm, deptno, email, other_info) VALUES (7900, 'JAMES', 'CLERK', 7698, '1981-12-03', 950, NULL, 30,'JAMES@acme.org', null);\n",
    "insert into tbl_employees (empno, ename, job, mgr, hiredate, sal, comm, deptno, email, other_info) VALUES (7902, 'FORD', 'DEVELOPER', 7566, '1981-12-03', 3000, NULL, 20,'FORD@acme.com', '{\"skills\":[\"YSQL\",\"YCQL\",\"SQL\",\"CQL\"]}'); \n",
    "insert into tbl_employees (empno, ename, job, mgr, hiredate, sal, comm, deptno, email, other_info) VALUES (7934, 'MILLER', 'CLERK', 7782, '1982-01-23', 1300, NULL, 10,'MILLER@acme.com', null);"
   ]
  },
  {
   "cell_type": "markdown",
   "metadata": {},
   "source": [
    "\n",
    "Learn to use YSQL to update, access, and analyze the data stored in a database.\n",
    "\n",
    "### Scenario 2: SQL Updates\n",
    "\n",
    "Update salary for all employees who are not managers\n",
    "\n",
    "Description:\n",
    "A SQL update can compute the new value and return it without the need to query again. The following adds 100 to the salaries of all employees who are not managers and show the new value"
   ]
  },
  {
   "cell_type": "code",
   "execution_count": 9,
   "metadata": {
    "vscode": {
     "languageId": "sql"
    }
   },
   "outputs": [
    {
     "name": "stdout",
     "output_type": "stream",
     "text": [
      " * postgresql://yugabyte@127.0.0.1:5433/db_ybu\n",
      "11 rows affected.\n"
     ]
    },
    {
     "data": {
      "text/html": [
       "<table>\n",
       "    <thead>\n",
       "        <tr>\n",
       "            <th>ename</th>\n",
       "            <th>new_salary</th>\n",
       "        </tr>\n",
       "    </thead>\n",
       "    <tbody>\n",
       "        <tr>\n",
       "            <td>SMITH</td>\n",
       "            <td>900</td>\n",
       "        </tr>\n",
       "        <tr>\n",
       "            <td>ADAMS</td>\n",
       "            <td>1200</td>\n",
       "        </tr>\n",
       "        <tr>\n",
       "            <td>WARD</td>\n",
       "            <td>1350</td>\n",
       "        </tr>\n",
       "        <tr>\n",
       "            <td>KING</td>\n",
       "            <td>5100</td>\n",
       "        </tr>\n",
       "        <tr>\n",
       "            <td>FORD</td>\n",
       "            <td>3100</td>\n",
       "        </tr>\n",
       "        <tr>\n",
       "            <td>MARTIN</td>\n",
       "            <td>1350</td>\n",
       "        </tr>\n",
       "        <tr>\n",
       "            <td>JAMES</td>\n",
       "            <td>1050</td>\n",
       "        </tr>\n",
       "        <tr>\n",
       "            <td>ALLEN</td>\n",
       "            <td>1700</td>\n",
       "        </tr>\n",
       "        <tr>\n",
       "            <td>MILLER</td>\n",
       "            <td>1400</td>\n",
       "        </tr>\n",
       "        <tr>\n",
       "            <td>SCOTT</td>\n",
       "            <td>3100</td>\n",
       "        </tr>\n",
       "        <tr>\n",
       "            <td>TURNER</td>\n",
       "            <td>1600</td>\n",
       "        </tr>\n",
       "    </tbody>\n",
       "</table>"
      ],
      "text/plain": [
       "[('SMITH', 900),\n",
       " ('ADAMS', 1200),\n",
       " ('WARD', 1350),\n",
       " ('KING', 5100),\n",
       " ('FORD', 3100),\n",
       " ('MARTIN', 1350),\n",
       " ('JAMES', 1050),\n",
       " ('ALLEN', 1700),\n",
       " ('MILLER', 1400),\n",
       " ('SCOTT', 3100),\n",
       " ('TURNER', 1600)]"
      ]
     },
     "execution_count": 9,
     "metadata": {},
     "output_type": "execute_result"
    }
   ],
   "source": [
    "%%sql /* row counts */\n",
    "\n",
    "update tbl_employees set sal=sal+100\n",
    "where job != 'MANAGER'\n",
    "returning ename,sal as new_salary;"
   ]
  },
  {
   "cell_type": "markdown",
   "metadata": {},
   "source": [
    "### Scenario 3: Join\n",
    "\n",
    "List all employees earning more than their managers using a self-join query.\n",
    "\n",
    "Description:\n",
    "A self join is a regular join, but the table is joined with itself. The following SQL statement matches employees with their manager and filters those that are earning more than their manager."
   ]
  },
  {
   "cell_type": "code",
   "execution_count": 10,
   "metadata": {
    "vscode": {
     "languageId": "sql"
    }
   },
   "outputs": [
    {
     "name": "stdout",
     "output_type": "stream",
     "text": [
      " * postgresql://yugabyte@127.0.0.1:5433/db_ybu\n",
      "2 rows affected.\n"
     ]
    },
    {
     "data": {
      "text/html": [
       "<table>\n",
       "    <thead>\n",
       "        <tr>\n",
       "            <th>ename</th>\n",
       "            <th>sal</th>\n",
       "            <th>manager ename</th>\n",
       "            <th>manager sal</th>\n",
       "        </tr>\n",
       "    </thead>\n",
       "    <tbody>\n",
       "        <tr>\n",
       "            <td>FORD</td>\n",
       "            <td>3100</td>\n",
       "            <td>JONES</td>\n",
       "            <td>2975</td>\n",
       "        </tr>\n",
       "        <tr>\n",
       "            <td>SCOTT</td>\n",
       "            <td>3100</td>\n",
       "            <td>JONES</td>\n",
       "            <td>2975</td>\n",
       "        </tr>\n",
       "    </tbody>\n",
       "</table>"
      ],
      "text/plain": [
       "[('FORD', 3100, 'JONES', 2975), ('SCOTT', 3100, 'JONES', 2975)]"
      ]
     },
     "execution_count": 10,
     "metadata": {},
     "output_type": "execute_result"
    }
   ],
   "source": [
    "%%sql\n",
    "\n",
    "select \n",
    "  employee.ename,\n",
    "  employee.sal,\n",
    "  manager.ename as \"manager ename\",\n",
    "  manager.sal as \"manager sal\"\n",
    "from\n",
    "  tbl_employees employee\n",
    "join tbl_employees manager ON\n",
    "  employee.mgr = manager.empno\n",
    "where 1=1 \n",
    " and manager.sal<employee.sal\n",
    "order by employee.sal;"
   ]
  },
  {
   "attachments": {},
   "cell_type": "markdown",
   "metadata": {},
   "source": [
    "### Scenario 4: Prepared Statements\n",
    "\n",
    "Get salary for an employee with a prepared statement\n",
    "\n",
    "Description:\n",
    "Get salary for an employee with a prepared statement that declares a fixed query with typed parameters to prevent SQL injection\n",
    "\n",
    "\n",
    "#### Step 1: \n",
    "Prepare a statement employee_salary with a parameterized query:\n",
    "\n",
    "`prepare stmt_employee_salary(int) as select ename, sal from tbl_employees where empno=$1`\n",
    "\n",
    "A prepared statement declares parameterized SQL. The following will display the name and salary for a provided employee number (as integer)."
   ]
  },
  {
   "attachments": {},
   "cell_type": "markdown",
   "metadata": {},
   "source": [
    "> Note:\n",
    ">  \n",
    "> The following is a workaround for sql magic and `$1` reference for the parameterized value. This is not needed in any other context. It's just a workaround. When called, the function will create the prepared statement for the %sql connection."
   ]
  },
  {
   "cell_type": "code",
   "execution_count": 11,
   "metadata": {
    "vscode": {
     "languageId": "sql"
    }
   },
   "outputs": [
    {
     "name": "stdout",
     "output_type": "stream",
     "text": [
      " * postgresql://yugabyte@127.0.0.1:5433/db_ybu\n",
      "Done.\n"
     ]
    },
    {
     "data": {
      "text/plain": [
       "[]"
      ]
     },
     "execution_count": 11,
     "metadata": {},
     "output_type": "execute_result"
    }
   ],
   "source": [
    "%%sql \n",
    "create or replace function fn_tmp_create_stmts() \n",
    "returns timestamptz as $DO$\n",
    "begin\n",
    "  execute format('prepare stmt_employee_salary(int) as select ename, sal from tbl_employees where empno=$1');\n",
    "return clock_timestamp(); \n",
    "end; \n",
    "$DO$ language plpgsql;\n"
   ]
  },
  {
   "attachments": {},
   "cell_type": "markdown",
   "metadata": {},
   "source": [
    "To create the prepared statement using the workaround for sql magic, call the function."
   ]
  },
  {
   "cell_type": "code",
   "execution_count": 12,
   "metadata": {
    "vscode": {
     "languageId": "sql"
    }
   },
   "outputs": [
    {
     "name": "stdout",
     "output_type": "stream",
     "text": [
      " * postgresql://yugabyte@127.0.0.1:5433/db_ybu\n",
      "1 rows affected.\n",
      "+----------------------------------+\n",
      "|       fn_tmp_create_stmts        |\n",
      "+----------------------------------+\n",
      "| 2023-04-20 16:25:20.602389-07:00 |\n",
      "+----------------------------------+\n"
     ]
    }
   ],
   "source": [
    "a = %sql select fn_tmp_create_stmts()\n",
    "\n",
    "print (a)"
   ]
  },
  {
   "attachments": {},
   "cell_type": "markdown",
   "metadata": {},
   "source": [
    "Verify that the prepared statement exists. There should be four results."
   ]
  },
  {
   "cell_type": "code",
   "execution_count": 13,
   "metadata": {
    "vscode": {
     "languageId": "sql"
    }
   },
   "outputs": [
    {
     "name": "stdout",
     "output_type": "stream",
     "text": [
      " * postgresql://yugabyte@127.0.0.1:5433/db_ybu\n",
      "4 rows affected.\n"
     ]
    },
    {
     "data": {
      "text/html": [
       "<table>\n",
       "    <thead>\n",
       "        <tr>\n",
       "            <th>name</th>\n",
       "        </tr>\n",
       "    </thead>\n",
       "    <tbody>\n",
       "        <tr>\n",
       "            <td>stmt_employee_salary</td>\n",
       "        </tr>\n",
       "        <tr>\n",
       "            <td>stmt_util_metrics_snap_reset</td>\n",
       "        </tr>\n",
       "        <tr>\n",
       "            <td>stmt_util_metrics_snap_table</td>\n",
       "        </tr>\n",
       "        <tr>\n",
       "            <td>stmt_util_metrics_snap_tablet</td>\n",
       "        </tr>\n",
       "    </tbody>\n",
       "</table>"
      ],
      "text/plain": [
       "[('stmt_employee_salary',),\n",
       " ('stmt_util_metrics_snap_reset',),\n",
       " ('stmt_util_metrics_snap_table',),\n",
       " ('stmt_util_metrics_snap_tablet',)]"
      ]
     },
     "execution_count": 13,
     "metadata": {},
     "output_type": "execute_result"
    }
   ],
   "source": [
    "%%sql \n",
    "select name from pg_prepared_statements where 1=1 order by name;"
   ]
  },
  {
   "attachments": {},
   "cell_type": "markdown",
   "metadata": {},
   "source": [
    "Step 2:\n",
    "Use the EXECUTE statement to execute a previously prepared statement. The following SQL executes the prepared statement with an employee ID 7900.\n",
    "\n",
    "Once prepared, the statement can be called by providing only the parameter value. This displays the name and salary of employee number 7900."
   ]
  },
  {
   "cell_type": "code",
   "execution_count": 14,
   "metadata": {
    "vscode": {
     "languageId": "sql"
    }
   },
   "outputs": [
    {
     "name": "stdout",
     "output_type": "stream",
     "text": [
      " * postgresql://yugabyte@127.0.0.1:5433/db_ybu\n",
      "1 rows affected.\n"
     ]
    },
    {
     "data": {
      "text/html": [
       "<table>\n",
       "    <thead>\n",
       "        <tr>\n",
       "            <th>ename</th>\n",
       "            <th>sal</th>\n",
       "        </tr>\n",
       "    </thead>\n",
       "    <tbody>\n",
       "        <tr>\n",
       "            <td>JAMES</td>\n",
       "            <td>1050</td>\n",
       "        </tr>\n",
       "    </tbody>\n",
       "</table>"
      ],
      "text/plain": [
       "[('JAMES', 1050)]"
      ]
     },
     "execution_count": 14,
     "metadata": {},
     "output_type": "execute_result"
    }
   ],
   "source": [
    "%%sql\n",
    "\n",
    "execute stmt_employee_salary(7900);"
   ]
  },
  {
   "attachments": {},
   "cell_type": "markdown",
   "metadata": {},
   "source": [
    "Step 3: Execute the same prepared statement another employee ID 7902\n",
    "\n",
    "Without writing the SQL again, this displays the name and salary of employee number 7902"
   ]
  },
  {
   "cell_type": "code",
   "execution_count": 15,
   "metadata": {
    "vscode": {
     "languageId": "sql"
    }
   },
   "outputs": [
    {
     "name": "stdout",
     "output_type": "stream",
     "text": [
      " * postgresql://yugabyte@127.0.0.1:5433/db_ybu\n",
      "1 rows affected.\n"
     ]
    },
    {
     "data": {
      "text/html": [
       "<table>\n",
       "    <thead>\n",
       "        <tr>\n",
       "            <th>ename</th>\n",
       "            <th>sal</th>\n",
       "        </tr>\n",
       "    </thead>\n",
       "    <tbody>\n",
       "        <tr>\n",
       "            <td>FORD</td>\n",
       "            <td>3100</td>\n",
       "        </tr>\n",
       "    </tbody>\n",
       "</table>"
      ],
      "text/plain": [
       "[('FORD', 3100)]"
      ]
     },
     "execution_count": 15,
     "metadata": {},
     "output_type": "execute_result"
    }
   ],
   "source": [
    "%%sql\n",
    "\n",
    "execute stmt_employee_salary(7902);"
   ]
  },
  {
   "cell_type": "markdown",
   "metadata": {},
   "source": [
    "A prepared statement stays in the session and can be deallocated when not used anymore. The following frees the memory used by this statement:"
   ]
  },
  {
   "cell_type": "code",
   "execution_count": 16,
   "metadata": {
    "vscode": {
     "languageId": "sql"
    }
   },
   "outputs": [
    {
     "name": "stdout",
     "output_type": "stream",
     "text": [
      " * postgresql://yugabyte@127.0.0.1:5433/db_ybu\n",
      "Done.\n"
     ]
    },
    {
     "data": {
      "text/plain": [
       "[]"
      ]
     },
     "execution_count": 16,
     "metadata": {},
     "output_type": "execute_result"
    }
   ],
   "source": [
    "%%sql\n",
    "deallocate stmt_employee_salary;"
   ]
  },
  {
   "attachments": {},
   "cell_type": "markdown",
   "metadata": {},
   "source": [
    "Now, check to see that there are now only be 3 prepared statements instead of 4."
   ]
  },
  {
   "cell_type": "code",
   "execution_count": 17,
   "metadata": {
    "vscode": {
     "languageId": "sql"
    }
   },
   "outputs": [
    {
     "name": "stdout",
     "output_type": "stream",
     "text": [
      " * postgresql://yugabyte@127.0.0.1:5433/db_ybu\n",
      "3 rows affected.\n"
     ]
    },
    {
     "data": {
      "text/html": [
       "<table>\n",
       "    <thead>\n",
       "        <tr>\n",
       "            <th>name</th>\n",
       "        </tr>\n",
       "    </thead>\n",
       "    <tbody>\n",
       "        <tr>\n",
       "            <td>stmt_util_metrics_snap_reset</td>\n",
       "        </tr>\n",
       "        <tr>\n",
       "            <td>stmt_util_metrics_snap_table</td>\n",
       "        </tr>\n",
       "        <tr>\n",
       "            <td>stmt_util_metrics_snap_tablet</td>\n",
       "        </tr>\n",
       "    </tbody>\n",
       "</table>"
      ],
      "text/plain": [
       "[('stmt_util_metrics_snap_reset',),\n",
       " ('stmt_util_metrics_snap_table',),\n",
       " ('stmt_util_metrics_snap_tablet',)]"
      ]
     },
     "execution_count": 17,
     "metadata": {},
     "output_type": "execute_result"
    }
   ],
   "source": [
    "%%sql \n",
    "select name from pg_prepared_statements where 1=1 order by name;"
   ]
  },
  {
   "attachments": {},
   "cell_type": "markdown",
   "metadata": {},
   "source": [
    "### Scenario 5: Indexes\n",
    "\n",
    "Create and analyze index on the fly\n",
    "\n",
    "Description: \n",
    "Create a new table and a specific index to avoid table scan and sorts\n",
    "\n",
    "\n",
    "#### Step 1: Create a new demo table with randomly generated rows\n",
    "\n",
    "`GENERATE_SERIES()` is a built-in function can generate rows. The following uses it to create a table with 42 rows and a random value from 1 to 10"
   ]
  },
  {
   "cell_type": "code",
   "execution_count": 18,
   "metadata": {
    "vscode": {
     "languageId": "sql"
    }
   },
   "outputs": [
    {
     "name": "stdout",
     "output_type": "stream",
     "text": [
      " * postgresql://yugabyte@127.0.0.1:5433/db_ybu\n",
      "Done.\n",
      "65535 rows affected.\n"
     ]
    },
    {
     "data": {
      "text/plain": [
       "[]"
      ]
     },
     "execution_count": 18,
     "metadata": {},
     "output_type": "execute_result"
    }
   ],
   "source": [
    "%%sql \n",
    "\n",
    "drop table if exists tbl_demo;\n",
    "\n",
    "create table if not exists tbl_demo as select generate_series(1,65535) num, round(10*random()) val;"
   ]
  },
  {
   "attachments": {},
   "cell_type": "markdown",
   "metadata": {},
   "source": [
    "#### Step 2: Create the index “demo_val” on demo table\n",
    "\n",
    "With the goal to query, for a value, with numbers ordered, in the most efficient way, the following creates an index on “val” (hashed for distribution) and “num” in ascending order. You can learn more about hashing and tablets in the next notebook."
   ]
  },
  {
   "cell_type": "code",
   "execution_count": 19,
   "metadata": {
    "vscode": {
     "languageId": "sql"
    }
   },
   "outputs": [
    {
     "name": "stdout",
     "output_type": "stream",
     "text": [
      " * postgresql://yugabyte@127.0.0.1:5433/db_ybu\n",
      "Done.\n"
     ]
    },
    {
     "data": {
      "text/plain": [
       "[]"
      ]
     },
     "execution_count": 19,
     "metadata": {},
     "output_type": "execute_result"
    }
   ],
   "source": [
    "%%sql\n",
    "\n",
    "create index idx_demo_val on tbl_demo (val hash, num asc);"
   ]
  },
  {
   "attachments": {},
   "cell_type": "markdown",
   "metadata": {},
   "source": [
    "Describe the index and the table. YugabyteDB uses a LSM-Tree index, not BTREE."
   ]
  },
  {
   "cell_type": "code",
   "execution_count": 20,
   "metadata": {
    "vscode": {
     "languageId": "shellscript"
    }
   },
   "outputs": [
    {
     "name": "stdout",
     "output_type": "stream",
     "text": [
      "                      Index \"public.idx_demo_val\"\n",
      " Column |       Type       | Key? | Definition | Storage | Stats target \n",
      "--------+------------------+------+------------+---------+--------------\n",
      " val    | double precision | yes  | val        | plain   | \n",
      " num    | integer          | yes  | num        | plain   | \n",
      "lsm, for table \"public.tbl_demo\"\n",
      "\n",
      "                                      Table \"public.tbl_demo\"\n",
      " Column |       Type       | Collation | Nullable | Default | Storage | Stats target | Description \n",
      "--------+------------------+-----------+----------+---------+---------+--------------+-------------\n",
      " num    | integer          |           |          |         | plain   |              | \n",
      " val    | double precision |           |          |         | plain   |              | \n",
      "Indexes:\n",
      "    \"idx_demo_val\" lsm (val HASH, num ASC)\n",
      "\n"
     ]
    }
   ],
   "source": [
    "%%bash -s \"$MY_YB_PATH\" \"$MY_DB_NAME\" #\\d+\n",
    "YB_PATH=${1}\n",
    "DB_NAME=${2}\n",
    "\n",
    "\n",
    "cd $YB_PATH\n",
    "./bin/ysqlsh  -d ${DB_NAME} -c \"\\d+ idx_demo_val\" -c \"\\d+ tbl_demo\"\n"
   ]
  },
  {
   "attachments": {},
   "cell_type": "markdown",
   "metadata": {},
   "source": [
    "#### Step 3: Gather optimizer statistics on table demo\n",
    "\n",
    "The query planner chooses the best access path when provided with statistics about the data stored in the table. The following gathers those statistics."
   ]
  },
  {
   "cell_type": "code",
   "execution_count": 21,
   "metadata": {
    "vscode": {
     "languageId": "sql"
    }
   },
   "outputs": [
    {
     "name": "stdout",
     "output_type": "stream",
     "text": [
      " * postgresql://yugabyte@127.0.0.1:5433/db_ybu\n",
      "Done.\n"
     ]
    },
    {
     "data": {
      "text/plain": [
       "[]"
      ]
     },
     "execution_count": 21,
     "metadata": {},
     "output_type": "execute_result"
    }
   ],
   "source": [
    "%%sql \n",
    "\n",
    "analyze tbl_demo;"
   ]
  },
  {
   "attachments": {},
   "cell_type": "markdown",
   "metadata": {},
   "source": [
    "#### Step 4: Query the Top-3 numbers for a specific value\n",
    "\n",
    "The following displays the Top-3 numbers for the value 5"
   ]
  },
  {
   "cell_type": "code",
   "execution_count": 22,
   "metadata": {
    "vscode": {
     "languageId": "sql"
    }
   },
   "outputs": [
    {
     "name": "stdout",
     "output_type": "stream",
     "text": [
      " * postgresql://yugabyte@127.0.0.1:5433/db_ybu\n",
      "3 rows affected.\n"
     ]
    },
    {
     "data": {
      "text/html": [
       "<table>\n",
       "    <thead>\n",
       "        <tr>\n",
       "            <th>num</th>\n",
       "            <th>val</th>\n",
       "        </tr>\n",
       "    </thead>\n",
       "    <tbody>\n",
       "        <tr>\n",
       "            <td>7</td>\n",
       "            <td>5.0</td>\n",
       "        </tr>\n",
       "        <tr>\n",
       "            <td>10</td>\n",
       "            <td>5.0</td>\n",
       "        </tr>\n",
       "        <tr>\n",
       "            <td>23</td>\n",
       "            <td>5.0</td>\n",
       "        </tr>\n",
       "    </tbody>\n",
       "</table>"
      ],
      "text/plain": [
       "[(7, 5.0), (10, 5.0), (23, 5.0)]"
      ]
     },
     "execution_count": 22,
     "metadata": {},
     "output_type": "execute_result"
    }
   ],
   "source": [
    "%%sql\n",
    "\n",
    "select * \n",
    "from tbl_demo \n",
    "where 1=1 \n",
    "and val=5 \n",
    "order by num asc \n",
    "fetch first 3 rows only;"
   ]
  },
  {
   "attachments": {},
   "cell_type": "markdown",
   "metadata": {},
   "source": [
    "#### Step 5: Verify that index is leading to faster query execution using explain analyze\n",
    "\n",
    "When defining an index for a specific access pattern, it is good that the developer verifies that the index is used. The following shows that an “Index Only Scan” was used, without the need for an additional “Sort” operation"
   ]
  },
  {
   "cell_type": "code",
   "execution_count": 23,
   "metadata": {
    "vscode": {
     "languageId": "sql"
    }
   },
   "outputs": [
    {
     "name": "stdout",
     "output_type": "stream",
     "text": [
      " * postgresql://yugabyte@127.0.0.1:5433/db_ybu\n",
      "7 rows affected.\n"
     ]
    },
    {
     "data": {
      "text/html": [
       "<table>\n",
       "    <thead>\n",
       "        <tr>\n",
       "            <th>QUERY PLAN</th>\n",
       "        </tr>\n",
       "    </thead>\n",
       "    <tbody>\n",
       "        <tr>\n",
       "            <td>Limit  (cost=0.00..0.34 rows=3 width=12) (actual time=0.741..0.744 rows=3 loops=1)</td>\n",
       "        </tr>\n",
       "        <tr>\n",
       "            <td>&nbsp;&nbsp;-&gt;  Index Only Scan using idx_demo_val on tbl_demo  (cost=0.00..741.47 rows=6555 width=12) (actual time=0.740..0.742 rows=3 loops=1)</td>\n",
       "        </tr>\n",
       "        <tr>\n",
       "            <td>&nbsp;&nbsp;&nbsp;&nbsp;&nbsp;&nbsp;&nbsp;&nbsp;Index Cond: (val = &#x27;5&#x27;::double precision)</td>\n",
       "        </tr>\n",
       "        <tr>\n",
       "            <td>&nbsp;&nbsp;&nbsp;&nbsp;&nbsp;&nbsp;&nbsp;&nbsp;Heap Fetches: 0</td>\n",
       "        </tr>\n",
       "        <tr>\n",
       "            <td>Planning Time: 0.062 ms</td>\n",
       "        </tr>\n",
       "        <tr>\n",
       "            <td>Execution Time: 0.776 ms</td>\n",
       "        </tr>\n",
       "        <tr>\n",
       "            <td>Peak Memory Usage: 8 kB</td>\n",
       "        </tr>\n",
       "    </tbody>\n",
       "</table>"
      ],
      "text/plain": [
       "[('Limit  (cost=0.00..0.34 rows=3 width=12) (actual time=0.741..0.744 rows=3 loops=1)',),\n",
       " ('  ->  Index Only Scan using idx_demo_val on tbl_demo  (cost=0.00..741.47 rows=6555 width=12) (actual time=0.740..0.742 rows=3 loops=1)',),\n",
       " (\"        Index Cond: (val = '5'::double precision)\",),\n",
       " ('        Heap Fetches: 0',),\n",
       " ('Planning Time: 0.062 ms',),\n",
       " ('Execution Time: 0.776 ms',),\n",
       " ('Peak Memory Usage: 8 kB',)]"
      ]
     },
     "execution_count": 23,
     "metadata": {},
     "output_type": "execute_result"
    }
   ],
   "source": [
    "%%sql\n",
    "\n",
    "explain analyze select * from tbl_demo where val=5 order by num fetch first 3 rows only;"
   ]
  },
  {
   "attachments": {},
   "cell_type": "markdown",
   "metadata": {},
   "source": [
    "#### Step 6: Clean up the table for this exercise.\n",
    "\n",
    "To leave the database in the same state as before this exercise, the following removes the demo table created before"
   ]
  },
  {
   "cell_type": "code",
   "execution_count": 24,
   "metadata": {
    "vscode": {
     "languageId": "sql"
    }
   },
   "outputs": [
    {
     "name": "stdout",
     "output_type": "stream",
     "text": [
      " * postgresql://yugabyte@127.0.0.1:5433/db_ybu\n",
      "Done.\n"
     ]
    },
    {
     "data": {
      "text/plain": [
       "[]"
      ]
     },
     "execution_count": 24,
     "metadata": {},
     "output_type": "execute_result"
    }
   ],
   "source": [
    "%%sql\n",
    "\n",
    "drop table if exists tbl_demo;"
   ]
  },
  {
   "cell_type": "markdown",
   "metadata": {},
   "source": [
    "## q2 | Built-in Functions\n",
    "Learn powerful functions for performing complex database operations with ease\n",
    "\n",
    "### Scenario 1: Window Functions\n",
    "Compare employees hiring time interval by department using LAG function\n",
    "\n",
    "LAG is a window function that provides access to the row before the current one. The following SQL statement uses WINDOW to define groups of employees by department, in order of their hiring date. LAG is used to access the previous row in this group, to compare the hiring date interval between two employees. FORMAT builds a text from column values, and COALESCE handles the first hire for which there is no previous row in the group. Without those window functions, this query would have required reading the same table two times.\n"
   ]
  },
  {
   "cell_type": "code",
   "execution_count": 25,
   "metadata": {
    "vscode": {
     "languageId": "sql"
    }
   },
   "outputs": [
    {
     "name": "stdout",
     "output_type": "stream",
     "text": [
      " * postgresql://yugabyte@127.0.0.1:5433/db_ybu\n",
      "14 rows affected.\n"
     ]
    },
    {
     "data": {
      "text/html": [
       "<table>\n",
       "    <thead>\n",
       "        <tr>\n",
       "            <th>dname</th>\n",
       "            <th>ename</th>\n",
       "            <th>job</th>\n",
       "            <th>last hire in dept</th>\n",
       "        </tr>\n",
       "    </thead>\n",
       "    <tbody>\n",
       "        <tr>\n",
       "            <td>ACCOUNTING</td>\n",
       "            <td>CLARK</td>\n",
       "            <td>MANAGER</td>\n",
       "            <td>(1st hire in &#x27;ACCOUNTING&#x27;)</td>\n",
       "        </tr>\n",
       "        <tr>\n",
       "            <td>ACCOUNTING</td>\n",
       "            <td>KING</td>\n",
       "            <td>PRESIDENT</td>\n",
       "            <td>hired  161 days after CLARK</td>\n",
       "        </tr>\n",
       "        <tr>\n",
       "            <td>ACCOUNTING</td>\n",
       "            <td>MILLER</td>\n",
       "            <td>CLERK</td>\n",
       "            <td>hired   67 days after KING</td>\n",
       "        </tr>\n",
       "        <tr>\n",
       "            <td>RESEARCH</td>\n",
       "            <td>SMITH</td>\n",
       "            <td>CLERK</td>\n",
       "            <td>(1st hire in &#x27;RESEARCH&#x27;)</td>\n",
       "        </tr>\n",
       "        <tr>\n",
       "            <td>RESEARCH</td>\n",
       "            <td>JONES</td>\n",
       "            <td>MANAGER</td>\n",
       "            <td>hired  106 days after SMITH</td>\n",
       "        </tr>\n",
       "        <tr>\n",
       "            <td>RESEARCH</td>\n",
       "            <td>FORD</td>\n",
       "            <td>DEVELOPER</td>\n",
       "            <td>hired  245 days after JONES</td>\n",
       "        </tr>\n",
       "        <tr>\n",
       "            <td>RESEARCH</td>\n",
       "            <td>SCOTT</td>\n",
       "            <td>ANALYST</td>\n",
       "            <td>hired  371 days after FORD</td>\n",
       "        </tr>\n",
       "        <tr>\n",
       "            <td>RESEARCH</td>\n",
       "            <td>ADAMS</td>\n",
       "            <td>CLERK</td>\n",
       "            <td>hired   34 days after SCOTT</td>\n",
       "        </tr>\n",
       "        <tr>\n",
       "            <td>SALES</td>\n",
       "            <td>ALLEN</td>\n",
       "            <td>SALESMAN</td>\n",
       "            <td>(1st hire in &#x27;SALES&#x27;)</td>\n",
       "        </tr>\n",
       "        <tr>\n",
       "            <td>SALES</td>\n",
       "            <td>WARD</td>\n",
       "            <td>SALESMAN</td>\n",
       "            <td>hired    2 days after ALLEN</td>\n",
       "        </tr>\n",
       "        <tr>\n",
       "            <td>SALES</td>\n",
       "            <td>BLAKE</td>\n",
       "            <td>MANAGER</td>\n",
       "            <td>hired   68 days after WARD</td>\n",
       "        </tr>\n",
       "        <tr>\n",
       "            <td>SALES</td>\n",
       "            <td>TURNER</td>\n",
       "            <td>SALESMAN</td>\n",
       "            <td>hired  130 days after BLAKE</td>\n",
       "        </tr>\n",
       "        <tr>\n",
       "            <td>SALES</td>\n",
       "            <td>MARTIN</td>\n",
       "            <td>SALESMAN</td>\n",
       "            <td>hired   20 days after TURNER</td>\n",
       "        </tr>\n",
       "        <tr>\n",
       "            <td>SALES</td>\n",
       "            <td>JAMES</td>\n",
       "            <td>CLERK</td>\n",
       "            <td>hired   66 days after MARTIN</td>\n",
       "        </tr>\n",
       "    </tbody>\n",
       "</table>"
      ],
      "text/plain": [
       "[('ACCOUNTING', 'CLARK', 'MANAGER', \"(1st hire in 'ACCOUNTING')\"),\n",
       " ('ACCOUNTING', 'KING', 'PRESIDENT', 'hired  161 days after CLARK'),\n",
       " ('ACCOUNTING', 'MILLER', 'CLERK', 'hired   67 days after KING'),\n",
       " ('RESEARCH', 'SMITH', 'CLERK', \"(1st hire in 'RESEARCH')\"),\n",
       " ('RESEARCH', 'JONES', 'MANAGER', 'hired  106 days after SMITH'),\n",
       " ('RESEARCH', 'FORD', 'DEVELOPER', 'hired  245 days after JONES'),\n",
       " ('RESEARCH', 'SCOTT', 'ANALYST', 'hired  371 days after FORD'),\n",
       " ('RESEARCH', 'ADAMS', 'CLERK', 'hired   34 days after SCOTT'),\n",
       " ('SALES', 'ALLEN', 'SALESMAN', \"(1st hire in 'SALES')\"),\n",
       " ('SALES', 'WARD', 'SALESMAN', 'hired    2 days after ALLEN'),\n",
       " ('SALES', 'BLAKE', 'MANAGER', 'hired   68 days after WARD'),\n",
       " ('SALES', 'TURNER', 'SALESMAN', 'hired  130 days after BLAKE'),\n",
       " ('SALES', 'MARTIN', 'SALESMAN', 'hired   20 days after TURNER'),\n",
       " ('SALES', 'JAMES', 'CLERK', 'hired   66 days after MARTIN')]"
      ]
     },
     "execution_count": 25,
     "metadata": {},
     "output_type": "execute_result"
    }
   ],
   "source": [
    "%%sql\n",
    "\n",
    "select\n",
    "dname,ename,job,\n",
    "coalesce (\n",
    "  'hired '||to_char(hiredate -\n",
    "    lag(hiredate) over (per_dept_hiredate),'999')||' days after '||\n",
    "    lag(ename) over (per_dept_hiredate),\n",
    "    format('(1st hire in %L)',dname)\n",
    ") as \"last hire in dept\"\n",
    "from tbl_employees join tbl_departments using(deptno)\n",
    "window per_dept_hiredate\n",
    "  as (partition by dname order by hiredate)\n",
    "order by dname,hiredate;"
   ]
  },
  {
   "cell_type": "markdown",
   "metadata": {},
   "source": [
    "### Scenario 2. Regexp Matching\n",
    "\n",
    "List all employees with `@gmail` or `.org` in their email addresses\n",
    "\n",
    "Description: `REGEXP` performs a pattern match of a string expression. The following lists employees with an e-mail ending in `.org` or a domain starting with `gmail`."
   ]
  },
  {
   "cell_type": "code",
   "execution_count": 26,
   "metadata": {
    "vscode": {
     "languageId": "sql"
    }
   },
   "outputs": [
    {
     "name": "stdout",
     "output_type": "stream",
     "text": [
      " * postgresql://yugabyte@127.0.0.1:5433/db_ybu\n",
      "3 rows affected.\n"
     ]
    },
    {
     "data": {
      "text/html": [
       "<table>\n",
       "    <thead>\n",
       "        <tr>\n",
       "            <th>empno</th>\n",
       "            <th>ename</th>\n",
       "            <th>job</th>\n",
       "            <th>mgr</th>\n",
       "            <th>hiredate</th>\n",
       "            <th>sal</th>\n",
       "            <th>comm</th>\n",
       "            <th>deptno</th>\n",
       "            <th>email</th>\n",
       "            <th>other_info</th>\n",
       "        </tr>\n",
       "    </thead>\n",
       "    <tbody>\n",
       "        <tr>\n",
       "            <td>7876</td>\n",
       "            <td>ADAMS</td>\n",
       "            <td>CLERK</td>\n",
       "            <td>7788</td>\n",
       "            <td>1983-01-12</td>\n",
       "            <td>1200</td>\n",
       "            <td>None</td>\n",
       "            <td>20</td>\n",
       "            <td>ADAMS@acme.org</td>\n",
       "            <td>None</td>\n",
       "        </tr>\n",
       "        <tr>\n",
       "            <td>7566</td>\n",
       "            <td>JONES</td>\n",
       "            <td>MANAGER</td>\n",
       "            <td>7839</td>\n",
       "            <td>1981-04-02</td>\n",
       "            <td>2975</td>\n",
       "            <td>None</td>\n",
       "            <td>20</td>\n",
       "            <td>JONES@gmail.com</td>\n",
       "            <td>None</td>\n",
       "        </tr>\n",
       "        <tr>\n",
       "            <td>7900</td>\n",
       "            <td>JAMES</td>\n",
       "            <td>CLERK</td>\n",
       "            <td>7698</td>\n",
       "            <td>1981-12-03</td>\n",
       "            <td>1050</td>\n",
       "            <td>None</td>\n",
       "            <td>30</td>\n",
       "            <td>JAMES@acme.org</td>\n",
       "            <td>None</td>\n",
       "        </tr>\n",
       "    </tbody>\n",
       "</table>"
      ],
      "text/plain": [
       "[(7876, 'ADAMS', 'CLERK', 7788, datetime.date(1983, 1, 12), 1200, None, 20, 'ADAMS@acme.org', None),\n",
       " (7566, 'JONES', 'MANAGER', 7839, datetime.date(1981, 4, 2), 2975, None, 20, 'JONES@gmail.com', None),\n",
       " (7900, 'JAMES', 'CLERK', 7698, datetime.date(1981, 12, 3), 1050, None, 30, 'JAMES@acme.org', None)]"
      ]
     },
     "execution_count": 26,
     "metadata": {},
     "output_type": "execute_result"
    }
   ],
   "source": [
    "%%sql\n",
    "\n",
    "select * \n",
    "from tbl_employees\n",
    "where 1=1\n",
    "and email ~ any ( ARRAY[ '@.*\\.org$' , '@gmail\\.' ] );"
   ]
  },
  {
   "cell_type": "markdown",
   "metadata": {},
   "source": [
    "### Scenario 3. Arithmetic Date Intervals\n",
    "\n",
    "The interval data type allows you to store and manipulate a period of time in years, months, days. \n",
    "\n",
    "The following example compares overlapping evaluation periods. A WITH clause defines the evaluation period length depending on the job.\n",
    "\n",
    "Find employees with overlapping evaluation periods."
   ]
  },
  {
   "cell_type": "code",
   "execution_count": 27,
   "metadata": {
    "vscode": {
     "languageId": "sql"
    }
   },
   "outputs": [
    {
     "name": "stdout",
     "output_type": "stream",
     "text": [
      " * postgresql://yugabyte@127.0.0.1:5433/db_ybu\n",
      "3 rows affected.\n"
     ]
    },
    {
     "data": {
      "text/html": [
       "<table>\n",
       "    <thead>\n",
       "        <tr>\n",
       "            <th>ename</th>\n",
       "            <th>deptno</th>\n",
       "            <th>hiredate</th>\n",
       "            <th>evaluation_end</th>\n",
       "            <th>ename_1</th>\n",
       "            <th>deptno_1</th>\n",
       "            <th>hiredate_1</th>\n",
       "            <th>evaluation_end_1</th>\n",
       "        </tr>\n",
       "    </thead>\n",
       "    <tbody>\n",
       "        <tr>\n",
       "            <td>MILLER</td>\n",
       "            <td>10</td>\n",
       "            <td>1982-01-23</td>\n",
       "            <td>1982-02-20 00:00:00</td>\n",
       "            <td>KING</td>\n",
       "            <td>10</td>\n",
       "            <td>1981-11-17</td>\n",
       "            <td>1982-02-17 00:00:00</td>\n",
       "        </tr>\n",
       "        <tr>\n",
       "            <td>TURNER</td>\n",
       "            <td>30</td>\n",
       "            <td>1981-09-08</td>\n",
       "            <td>1981-10-06 00:00:00</td>\n",
       "            <td>MARTIN</td>\n",
       "            <td>30</td>\n",
       "            <td>1981-09-28</td>\n",
       "            <td>1981-10-26 00:00:00</td>\n",
       "        </tr>\n",
       "        <tr>\n",
       "            <td>WARD</td>\n",
       "            <td>30</td>\n",
       "            <td>1981-02-22</td>\n",
       "            <td>1981-03-22 00:00:00</td>\n",
       "            <td>ALLEN</td>\n",
       "            <td>30</td>\n",
       "            <td>1981-02-20</td>\n",
       "            <td>1981-03-20 00:00:00</td>\n",
       "        </tr>\n",
       "    </tbody>\n",
       "</table>"
      ],
      "text/plain": [
       "[('MILLER', 10, datetime.date(1982, 1, 23), datetime.datetime(1982, 2, 20, 0, 0), 'KING', 10, datetime.date(1981, 11, 17), datetime.datetime(1982, 2, 17, 0, 0)),\n",
       " ('TURNER', 30, datetime.date(1981, 9, 8), datetime.datetime(1981, 10, 6, 0, 0), 'MARTIN', 30, datetime.date(1981, 9, 28), datetime.datetime(1981, 10, 26, 0, 0)),\n",
       " ('WARD', 30, datetime.date(1981, 2, 22), datetime.datetime(1981, 3, 22, 0, 0), 'ALLEN', 30, datetime.date(1981, 2, 20), datetime.datetime(1981, 3, 20, 0, 0))]"
      ]
     },
     "execution_count": 27,
     "metadata": {},
     "output_type": "execute_result"
    }
   ],
   "source": [
    "%%sql\n",
    "\n",
    "with employees_evaluation_period  as (\n",
    " select ename,deptno,hiredate,\n",
    " hiredate + case when job in ('MANAGER','PRESIDENT')\n",
    " then interval '3 month' else interval '4 weeks'\n",
    " end evaluation_end \n",
    " from tbl_employees)\n",
    "select * from employees_evaluation_period e1\n",
    " join  employees_evaluation_period e2\n",
    " on (e1.ename>e2.ename) and (e1.deptno=e2.deptno)\n",
    "where (e1.hiredate,e1.evaluation_end)\n",
    " overlaps (e2.hiredate,e2.evaluation_end);"
   ]
  },
  {
   "attachments": {},
   "cell_type": "markdown",
   "metadata": {},
   "source": [
    "### Scenario 4. CROSSTABVIEW\n",
    "\n",
    "`CROSSTABVIEW` is a client meta-command to display rows as columns. The following sums the salaries across jobs and departments and displays them as a cross-table\n",
    "\n",
    "Display total salary per job and department as a cross-table using bash"
   ]
  },
  {
   "cell_type": "code",
   "execution_count": 28,
   "metadata": {
    "vscode": {
     "languageId": "shellscript"
    }
   },
   "outputs": [
    {
     "name": "stdout",
     "output_type": "stream",
     "text": [
      "    job    | ACCOUNTING | SALES | RESEARCH \n",
      "-----------+------------+-------+----------\n",
      " PRESIDENT |       5100 |       |         \n",
      " CLERK     |       1400 |  1050 |     2100\n",
      " SALESMAN  |            |  6000 |         \n",
      " MANAGER   |       2450 |  2850 |     2975\n",
      " ANALYST   |            |       |     3100\n",
      " DEVELOPER |            |       |     3100\n",
      "(6 rows)\n",
      "\n"
     ]
    }
   ],
   "source": [
    "%%bash -s \"$MY_YB_PATH\" \"$MY_DB_NAME\" #\\d+\n",
    "YB_PATH=${1}\n",
    "DB_NAME=${2}\n",
    "\n",
    "#SQL_CROSSTABVIEW=\"\\crosstabview\"\n",
    "\n",
    "cd $YB_PATH\n",
    "echo 'select job, dname, sum(sal) from tbl_employees join tbl_departments using(deptno) group by dname, job  \\crosstabview' | ./bin/ysqlsh  -d ${DB_NAME}\n"
   ]
  },
  {
   "attachments": {},
   "cell_type": "markdown",
   "metadata": {},
   "source": [
    "### Scenario 5: NTILE Function\n",
    "\n",
    "Split e-mails in 3 groups and format them\n",
    "\n",
    "Description: In order to send e-mails to all employees in different batches, you will split them into 3 groups using the NTILE function, and format them with the FORMAT function and aggregate them in a comma-separated list with the STRING_AGG function.\n",
    "\n",
    "This is done using the following Common Table Expression, CTE:"
   ]
  },
  {
   "cell_type": "code",
   "execution_count": 29,
   "metadata": {
    "vscode": {
     "languageId": "sql"
    }
   },
   "outputs": [
    {
     "name": "stdout",
     "output_type": "stream",
     "text": [
      " * postgresql://yugabyte@127.0.0.1:5433/db_ybu\n",
      "3 rows affected.\n"
     ]
    },
    {
     "data": {
      "text/html": [
       "<table>\n",
       "    <thead>\n",
       "        <tr>\n",
       "            <th>string_agg</th>\n",
       "        </tr>\n",
       "    </thead>\n",
       "    <tbody>\n",
       "        <tr>\n",
       "            <td>&lt;ADAMS&gt; ADAMS@acme.org, &lt;JAMES&gt; JAMES@acme.org, &lt;FORD&gt; FORD@acme.com, &lt;MILLER&gt; MILLER@acme.com</td>\n",
       "        </tr>\n",
       "        <tr>\n",
       "            <td>&lt;BLAKE&gt; BLAKE@hotmail.com, &lt;CLARK&gt; CLARK@acme.com, &lt;SCOTT&gt; SCOTT@acme.com, &lt;KING&gt; KING@aol.com, &lt;TURNER&gt; TURNER@acme.com</td>\n",
       "        </tr>\n",
       "        <tr>\n",
       "            <td>&lt;SMITH&gt; SMITH@acme.com, &lt;ALLEN&gt; ALLEN@acme.com, &lt;WARD&gt; WARD@compuserve.com, &lt;JONES&gt; JONES@gmail.com, &lt;MARTIN&gt; MARTIN@acme.com</td>\n",
       "        </tr>\n",
       "    </tbody>\n",
       "</table>"
      ],
      "text/plain": [
       "[('<ADAMS> ADAMS@acme.org, <JAMES> JAMES@acme.org, <FORD> FORD@acme.com, <MILLER> MILLER@acme.com',),\n",
       " ('<BLAKE> BLAKE@hotmail.com, <CLARK> CLARK@acme.com, <SCOTT> SCOTT@acme.com, <KING> KING@aol.com, <TURNER> TURNER@acme.com',),\n",
       " ('<SMITH> SMITH@acme.com, <ALLEN> ALLEN@acme.com, <WARD> WARD@compuserve.com, <JONES> JONES@gmail.com, <MARTIN> MARTIN@acme.com',)]"
      ]
     },
     "execution_count": 29,
     "metadata": {},
     "output_type": "execute_result"
    }
   ],
   "source": [
    "%%sql\n",
    "\n",
    "with groups as (\n",
    " select ntile(3) over (order by empno) group_num\n",
    " ,* \n",
    " from tbl_employees\n",
    ")\n",
    "select string_agg(format('<%s> %s',ename,email),', ') \n",
    "from groups group by group_num;"
   ]
  },
  {
   "attachments": {},
   "cell_type": "markdown",
   "metadata": {},
   "source": [
    "## q3 | Advanced Features\n",
    "Expand your YSQL skills by completing the following 5 scenarios\n",
    "\n",
    "### Scenario 1:  GIN Index on Document\n",
    "List employees that know SQL\n",
    "\n",
    "Description: The skills are stored in the semi-structured JSON document. We can query them with @>, ?, ?& and ?| operators. And, for best performance, index them.\n",
    "\n",
    "#### Step 1: Create GIN index on JSON document\n",
    "\n",
    "GIN indexes can provide fast access to elements inside a JSON document. The following creates an index on the ‘skills’ attributes within ‘other_info’ JSON column"
   ]
  },
  {
   "cell_type": "code",
   "execution_count": 30,
   "metadata": {
    "vscode": {
     "languageId": "sql"
    }
   },
   "outputs": [
    {
     "name": "stdout",
     "output_type": "stream",
     "text": [
      " * postgresql://yugabyte@127.0.0.1:5433/db_ybu\n",
      "Done.\n"
     ]
    },
    {
     "data": {
      "text/plain": [
       "[]"
      ]
     },
     "execution_count": 30,
     "metadata": {},
     "output_type": "execute_result"
    }
   ],
   "source": [
    "%%sql \n",
    "\n",
    "create index idx_emp_skills_ybgin on tbl_employees using gin((other_info->'skills'));"
   ]
  },
  {
   "attachments": {},
   "cell_type": "markdown",
   "metadata": {},
   "source": [
    "Describe the table and the index."
   ]
  },
  {
   "cell_type": "code",
   "execution_count": 31,
   "metadata": {
    "vscode": {
     "languageId": "shellscript"
    }
   },
   "outputs": [
    {
     "name": "stdout",
     "output_type": "stream",
     "text": [
      "                       Index \"public.idx_emp_skills_ybgin\"\n",
      " Column | Type | Key? |           Definition           | Storage  | Stats target \n",
      "--------+------+------+--------------------------------+----------+--------------\n",
      " expr   | text | yes  | (other_info -> 'skills'::text) | extended | \n",
      "ybgin, for table \"public.tbl_employees\"\n",
      "\n",
      "                                              Table \"public.tbl_employees\"\n",
      "   Column   |  Type   | Collation | Nullable |             Default              | Storage  | Stats target | Description \n",
      "------------+---------+-----------+----------+----------------------------------+----------+--------------+-------------\n",
      " empno      | integer |           | not null | generated by default as identity | plain    |              | \n",
      " ename      | text    |           | not null |                                  | extended |              | \n",
      " job        | text    |           |          |                                  | extended |              | \n",
      " mgr        | integer |           |          |                                  | plain    |              | \n",
      " hiredate   | date    |           |          |                                  | plain    |              | \n",
      " sal        | integer |           |          |                                  | plain    |              | \n",
      " comm       | integer |           |          |                                  | plain    |              | \n",
      " deptno     | integer |           | not null |                                  | plain    |              | \n",
      " email      | text    |           |          |                                  | extended |              | \n",
      " other_info | jsonb   |           |          |                                  | extended |              | \n",
      "Indexes:\n",
      "    \"pk_emp\" PRIMARY KEY, lsm (empno HASH)\n",
      "    \"emp_email_uk\" UNIQUE CONSTRAINT, lsm (email HASH)\n",
      "    \"idx_emp_skills_ybgin\" ybgin ((other_info -> 'skills'::text))\n",
      "Check constraints:\n",
      "    \"emp_email_check\" CHECK (email ~ '^[a-zA-Z0-9.!#$%&''*+/=?^_`{|}~-]+@[a-zA-Z0-9](?:[a-zA-Z0-9-]{0,61}[a-zA-Z0-9])?(?:\\.[a-zA-Z0-9](?:[a-zA-Z0-9-]{0,61}[a-zA-Z0-9])?)*$'::text)\n",
      "\n"
     ]
    }
   ],
   "source": [
    "%%bash -s \"$MY_YB_PATH\" \"$MY_DB_NAME\" #\\d+\n",
    "YB_PATH=${1}\n",
    "DB_NAME=${2}\n",
    "\n",
    "\n",
    "cd $YB_PATH\n",
    "./bin/ysqlsh  -d ${DB_NAME} -c \"\\d+ idx_emp_skills_ybgin\" -c \"\\d+ tbl_employees\"\n"
   ]
  },
  {
   "attachments": {},
   "cell_type": "markdown",
   "metadata": {},
   "source": [
    "#### Step 2: Query the JSON attribute list\n",
    "\n",
    "SQL queries can navigate into the JSON document with -> and check if an array contains a value with @>. The following searches the employees with the “SQL” skill"
   ]
  },
  {
   "cell_type": "code",
   "execution_count": 32,
   "metadata": {
    "vscode": {
     "languageId": "sql"
    }
   },
   "outputs": [
    {
     "name": "stdout",
     "output_type": "stream",
     "text": [
      " * postgresql://yugabyte@127.0.0.1:5433/db_ybu\n",
      "2 rows affected.\n"
     ]
    },
    {
     "data": {
      "text/html": [
       "<table>\n",
       "    <thead>\n",
       "        <tr>\n",
       "            <th>empno</th>\n",
       "            <th>ename</th>\n",
       "            <th>job</th>\n",
       "            <th>mgr</th>\n",
       "            <th>hiredate</th>\n",
       "            <th>sal</th>\n",
       "            <th>comm</th>\n",
       "            <th>deptno</th>\n",
       "            <th>email</th>\n",
       "            <th>other_info</th>\n",
       "        </tr>\n",
       "    </thead>\n",
       "    <tbody>\n",
       "        <tr>\n",
       "            <td>7902</td>\n",
       "            <td>FORD</td>\n",
       "            <td>DEVELOPER</td>\n",
       "            <td>7566</td>\n",
       "            <td>1981-12-03</td>\n",
       "            <td>3100</td>\n",
       "            <td>None</td>\n",
       "            <td>20</td>\n",
       "            <td>FORD@acme.com</td>\n",
       "            <td>{&#x27;skills&#x27;: [&#x27;YSQL&#x27;, &#x27;YCQL&#x27;, &#x27;SQL&#x27;, &#x27;CQL&#x27;]}</td>\n",
       "        </tr>\n",
       "        <tr>\n",
       "            <td>7782</td>\n",
       "            <td>CLARK</td>\n",
       "            <td>MANAGER</td>\n",
       "            <td>7839</td>\n",
       "            <td>1981-06-09</td>\n",
       "            <td>2450</td>\n",
       "            <td>None</td>\n",
       "            <td>10</td>\n",
       "            <td>CLARK@acme.com</td>\n",
       "            <td>{&#x27;skills&#x27;: [&#x27;C&#x27;, &#x27;C++&#x27;, &#x27;SQL&#x27;]}</td>\n",
       "        </tr>\n",
       "    </tbody>\n",
       "</table>"
      ],
      "text/plain": [
       "[(7902, 'FORD', 'DEVELOPER', 7566, datetime.date(1981, 12, 3), 3100, None, 20, 'FORD@acme.com', {'skills': ['YSQL', 'YCQL', 'SQL', 'CQL']}),\n",
       " (7782, 'CLARK', 'MANAGER', 7839, datetime.date(1981, 6, 9), 2450, None, 10, 'CLARK@acme.com', {'skills': ['C', 'C++', 'SQL']})]"
      ]
     },
     "execution_count": 32,
     "metadata": {},
     "output_type": "execute_result"
    }
   ],
   "source": [
    "%%sql \n",
    "\n",
    "select * from tbl_employees where other_info->'skills' @> '\"SQL\"' ;"
   ]
  },
  {
   "cell_type": "markdown",
   "metadata": {},
   "source": [
    "Step 3: Use the Explain plan to verify that index usage\n",
    "\n",
    "Thanks to the GIN index, this search doesn’t need to read all documents. The following shows the execution plan being an indexed access path."
   ]
  },
  {
   "cell_type": "code",
   "execution_count": 33,
   "metadata": {
    "vscode": {
     "languageId": "sql"
    }
   },
   "outputs": [
    {
     "name": "stdout",
     "output_type": "stream",
     "text": [
      " * postgresql://yugabyte@127.0.0.1:5433/db_ybu\n",
      "2 rows affected.\n"
     ]
    },
    {
     "data": {
      "text/html": [
       "<table>\n",
       "    <thead>\n",
       "        <tr>\n",
       "            <th>QUERY PLAN</th>\n",
       "        </tr>\n",
       "    </thead>\n",
       "    <tbody>\n",
       "        <tr>\n",
       "            <td>Index Scan using idx_emp_skills_ybgin on tbl_employees  (cost=4.00..12.01 rows=1000 width=152)</td>\n",
       "        </tr>\n",
       "        <tr>\n",
       "            <td>&nbsp;&nbsp;Index Cond: ((other_info -&gt; &#x27;skills&#x27;::text) @&gt; &#x27;&quot;SQL&quot;&#x27;::jsonb)</td>\n",
       "        </tr>\n",
       "    </tbody>\n",
       "</table>"
      ],
      "text/plain": [
       "[('Index Scan using idx_emp_skills_ybgin on tbl_employees  (cost=4.00..12.01 rows=1000 width=152)',),\n",
       " ('  Index Cond: ((other_info -> \\'skills\\'::text) @> \\'\"SQL\"\\'::jsonb)',)]"
      ]
     },
     "execution_count": 33,
     "metadata": {},
     "output_type": "execute_result"
    }
   ],
   "source": [
    "%%sql\n",
    "\n",
    "explain select * from tbl_employees where other_info->'skills' @> '\"SQL\"' ;"
   ]
  },
  {
   "attachments": {},
   "cell_type": "markdown",
   "metadata": {},
   "source": [
    "### Scenario 2: Text Search\n",
    "Build a search index on department descriptions\n",
    "\n",
    "Description: \n",
    "SQL queries can search in the text for some words using the `to_tsvector()` function to extract a list of words that can be compared. We will find all department descriptions with the words 'responsible' and 'services' in it\n",
    "\n",
    "#### Step 1: Create text search index on the description column\n",
    "General Inverted Indexes, known as GIN indexes, can provide fast access to words inside a text. The following creates an index for the simple-grammar vector of words extracted from the department description."
   ]
  },
  {
   "cell_type": "code",
   "execution_count": 34,
   "metadata": {
    "vscode": {
     "languageId": "sql"
    }
   },
   "outputs": [
    {
     "name": "stdout",
     "output_type": "stream",
     "text": [
      " * postgresql://yugabyte@127.0.0.1:5433/db_ybu\n",
      "Done.\n"
     ]
    },
    {
     "data": {
      "text/plain": [
       "[]"
      ]
     },
     "execution_count": 34,
     "metadata": {},
     "output_type": "execute_result"
    }
   ],
   "source": [
    "%%sql\n",
    "\n",
    "create index idx_dept_description_ybgin on tbl_departments using gin (( to_tsvector('simple',description) ));"
   ]
  },
  {
   "attachments": {},
   "cell_type": "markdown",
   "metadata": {},
   "source": [
    "Describe the index and the table."
   ]
  },
  {
   "cell_type": "code",
   "execution_count": 35,
   "metadata": {
    "vscode": {
     "languageId": "shellscript"
    }
   },
   "outputs": [
    {
     "name": "stdout",
     "output_type": "stream",
     "text": [
      "                              Index \"public.idx_dept_description_ybgin\"\n",
      "   Column    | Type | Key? |                  Definition                   | Storage  | Stats target \n",
      "-------------+------+------+-----------------------------------------------+----------+--------------\n",
      " to_tsvector | text | yes  | to_tsvector('simple'::regconfig, description) | extended | \n",
      "ybgin, for table \"public.tbl_departments\"\n",
      "\n",
      "                                 Table \"public.tbl_departments\"\n",
      "   Column    |  Type   | Collation | Nullable | Default | Storage  | Stats target | Description \n",
      "-------------+---------+-----------+----------+---------+----------+--------------+-------------\n",
      " deptno      | integer |           | not null |         | plain    |              | \n",
      " dname       | text    |           |          |         | extended |              | \n",
      " loc         | text    |           |          |         | extended |              | \n",
      " description | text    |           |          |         | extended |              | \n",
      "Indexes:\n",
      "    \"pk_dept\" PRIMARY KEY, lsm (deptno ASC)\n",
      "    \"idx_dept_description_ybgin\" ybgin (to_tsvector('simple'::regconfig, description))\n",
      "\n"
     ]
    }
   ],
   "source": [
    "%%bash -s \"$MY_YB_PATH\" \"$MY_DB_NAME\" #\\d+\n",
    "YB_PATH=${1}\n",
    "DB_NAME=${2}\n",
    "\n",
    "\n",
    "cd $YB_PATH\n",
    "./bin/ysqlsh  -d ${DB_NAME} -c \"\\d+ idx_dept_description_ybgin\" -c \"\\d+ tbl_departments\"\n"
   ]
  },
  {
   "attachments": {},
   "cell_type": "markdown",
   "metadata": {},
   "source": [
    "#### Step 2: Query on description for matching words\n",
    "\n",
    "The following compares the simple-grammar vector of words extracted from the department description with a word search pattern to find the departments which contain ‘responsible’ and ‘services’ in their description."
   ]
  },
  {
   "cell_type": "code",
   "execution_count": 36,
   "metadata": {
    "vscode": {
     "languageId": "sql"
    }
   },
   "outputs": [
    {
     "name": "stdout",
     "output_type": "stream",
     "text": [
      " * postgresql://yugabyte@127.0.0.1:5433/db_ybu\n",
      "1 rows affected.\n"
     ]
    },
    {
     "data": {
      "text/html": [
       "<table>\n",
       "    <thead>\n",
       "        <tr>\n",
       "            <th>deptno</th>\n",
       "            <th>dname</th>\n",
       "            <th>loc</th>\n",
       "            <th>description</th>\n",
       "        </tr>\n",
       "    </thead>\n",
       "    <tbody>\n",
       "        <tr>\n",
       "            <td>30</td>\n",
       "            <td>SALES</td>\n",
       "            <td>CHICAGO</td>\n",
       "            <td>division of a business that is responsible for selling products or services</td>\n",
       "        </tr>\n",
       "    </tbody>\n",
       "</table>"
      ],
      "text/plain": [
       "[(30, 'SALES', 'CHICAGO', 'division of a business that is responsible for selling products or services')]"
      ]
     },
     "execution_count": 36,
     "metadata": {},
     "output_type": "execute_result"
    }
   ],
   "source": [
    "%%sql\n",
    "\n",
    "select * from tbl_departments where to_tsvector('simple',description) @@ to_tsquery('simple','responsible & services');"
   ]
  },
  {
   "attachments": {},
   "cell_type": "markdown",
   "metadata": {},
   "source": [
    "#### Step 3: Explain plan to verify that index is used\n",
    "\n",
    "Thanks to the GIN index, this search doesn’t need to read all rows and text. The following shows the execution plan being an indexed access path"
   ]
  },
  {
   "cell_type": "code",
   "execution_count": 37,
   "metadata": {
    "vscode": {
     "languageId": "sql"
    }
   },
   "outputs": [
    {
     "name": "stdout",
     "output_type": "stream",
     "text": [
      " * postgresql://yugabyte@127.0.0.1:5433/db_ybu\n",
      "2 rows affected.\n"
     ]
    },
    {
     "data": {
      "text/html": [
       "<table>\n",
       "    <thead>\n",
       "        <tr>\n",
       "            <th>QUERY PLAN</th>\n",
       "        </tr>\n",
       "    </thead>\n",
       "    <tbody>\n",
       "        <tr>\n",
       "            <td>Index Scan using idx_dept_description_ybgin on tbl_departments  (cost=8.00..16.01 rows=1000 width=100)</td>\n",
       "        </tr>\n",
       "        <tr>\n",
       "            <td>&nbsp;&nbsp;Index Cond: (to_tsvector(&#x27;simple&#x27;::regconfig, description) @@ &#x27;&#x27;&#x27;responsible&#x27;&#x27; &amp; &#x27;&#x27;services&#x27;&#x27;&#x27;::tsquery)</td>\n",
       "        </tr>\n",
       "    </tbody>\n",
       "</table>"
      ],
      "text/plain": [
       "[('Index Scan using idx_dept_description_ybgin on tbl_departments  (cost=8.00..16.01 rows=1000 width=100)',),\n",
       " (\"  Index Cond: (to_tsvector('simple'::regconfig, description) @@ '''responsible'' & ''services'''::tsquery)\",)]"
      ]
     },
     "execution_count": 37,
     "metadata": {},
     "output_type": "execute_result"
    }
   ],
   "source": [
    "%%sql\n",
    "\n",
    "explain select * from tbl_departments where to_tsvector('simple',description) @@ to_tsquery('simple','responsible & services');"
   ]
  },
  {
   "attachments": {},
   "cell_type": "markdown",
   "metadata": {},
   "source": [
    "### Scenario 3. Stored Procedures\n",
    "Transfer commission from one employee to another\n",
    "\n",
    "\n",
    "Description: \n",
    "A stored procedure can encapsulate a procedural logic into an atomic operation. We will create one in PL/pgSQL, named \"commission_transfer\", that transfers commission “amount” from “empno1” to “empno2”\n",
    "\n",
    "\n",
    "#### Step 1: Create the procedure for the commission transfer between employees\n",
    "\n",
    "The procedure has two SQL operations: \n",
    "- decrease from `empno1`\n",
    "- add to `empno2`\n",
    "\n",
    "\n",
    "In addition, the procedure must check for an error and raise a custom exception if `empno1` does not have the amount to be transferred"
   ]
  },
  {
   "cell_type": "code",
   "execution_count": 38,
   "metadata": {
    "vscode": {
     "languageId": "sql"
    }
   },
   "outputs": [
    {
     "name": "stdout",
     "output_type": "stream",
     "text": [
      " * postgresql://yugabyte@127.0.0.1:5433/db_ybu\n",
      "Done.\n"
     ]
    },
    {
     "data": {
      "text/plain": [
       "[]"
      ]
     },
     "execution_count": 38,
     "metadata": {},
     "output_type": "execute_result"
    }
   ],
   "source": [
    "%%sql\n",
    "\n",
    "create or replace procedure commission_transfer(empno1 int, empno2 int, amount int) \n",
    "as $$\n",
    "begin\n",
    "  update tbl_employees set comm=comm-commission_transfer.amount\n",
    "    where tbl_employees.empno=commission_transfer.empno1 and comm>commission_transfer.amount;\n",
    "  if not found then \n",
    "    raise exception 'Cannot transfer % from %',amount,empno1;\n",
    "  end if;\n",
    "  update tbl_employees set comm=comm+commission_transfer.amount\n",
    "    where tbl_employees.empno=commission_transfer.empno2;\n",
    "  if not found then \n",
    "    raise exception 'Cannot transfer from %',empno2; \n",
    "  end if;\n",
    "end;\n",
    "$$ language plpgsql;"
   ]
  },
  {
   "attachments": {},
   "cell_type": "markdown",
   "metadata": {},
   "source": [
    "#### Step 2: Call the procedure with employee IDs and the amount to be transferred\n",
    "\n",
    "Once defined, the stored procedure is called with values for all parameters. This transfers 100 from tbl_employeesloyee 7521 to 7654"
   ]
  },
  {
   "cell_type": "code",
   "execution_count": 39,
   "metadata": {
    "vscode": {
     "languageId": "sql"
    }
   },
   "outputs": [
    {
     "name": "stdout",
     "output_type": "stream",
     "text": [
      " * postgresql://yugabyte@127.0.0.1:5433/db_ybu\n",
      "2 rows affected.\n"
     ]
    },
    {
     "data": {
      "text/html": [
       "<table>\n",
       "    <thead>\n",
       "        <tr>\n",
       "            <th>empno</th>\n",
       "            <th>ename</th>\n",
       "            <th>job</th>\n",
       "            <th>mgr</th>\n",
       "            <th>hiredate</th>\n",
       "            <th>sal</th>\n",
       "            <th>comm</th>\n",
       "            <th>deptno</th>\n",
       "            <th>email</th>\n",
       "            <th>other_info</th>\n",
       "        </tr>\n",
       "    </thead>\n",
       "    <tbody>\n",
       "        <tr>\n",
       "            <td>7521</td>\n",
       "            <td>WARD</td>\n",
       "            <td>SALESMAN</td>\n",
       "            <td>7698</td>\n",
       "            <td>1981-02-22</td>\n",
       "            <td>1350</td>\n",
       "            <td>500</td>\n",
       "            <td>30</td>\n",
       "            <td>WARD@compuserve.com</td>\n",
       "            <td>None</td>\n",
       "        </tr>\n",
       "        <tr>\n",
       "            <td>7654</td>\n",
       "            <td>MARTIN</td>\n",
       "            <td>SALESMAN</td>\n",
       "            <td>7698</td>\n",
       "            <td>1981-09-28</td>\n",
       "            <td>1350</td>\n",
       "            <td>1400</td>\n",
       "            <td>30</td>\n",
       "            <td>MARTIN@acme.com</td>\n",
       "            <td>None</td>\n",
       "        </tr>\n",
       "    </tbody>\n",
       "</table>"
      ],
      "text/plain": [
       "[(7521, 'WARD', 'SALESMAN', 7698, datetime.date(1981, 2, 22), 1350, 500, 30, 'WARD@compuserve.com', None),\n",
       " (7654, 'MARTIN', 'SALESMAN', 7698, datetime.date(1981, 9, 28), 1350, 1400, 30, 'MARTIN@acme.com', None)]"
      ]
     },
     "execution_count": 39,
     "metadata": {},
     "output_type": "execute_result"
    }
   ],
   "source": [
    "%%sql\n",
    "select * from  tbl_employees where empno in (7521,7654);"
   ]
  },
  {
   "cell_type": "code",
   "execution_count": 40,
   "metadata": {
    "vscode": {
     "languageId": "sql"
    }
   },
   "outputs": [
    {
     "name": "stdout",
     "output_type": "stream",
     "text": [
      " * postgresql://yugabyte@127.0.0.1:5433/db_ybu\n",
      "Done.\n"
     ]
    },
    {
     "data": {
      "text/plain": [
       "[]"
      ]
     },
     "execution_count": 40,
     "metadata": {},
     "output_type": "execute_result"
    }
   ],
   "source": [
    "%%sql\n",
    "\n",
    "call commission_transfer(7521,7654,100);"
   ]
  },
  {
   "cell_type": "code",
   "execution_count": 41,
   "metadata": {
    "vscode": {
     "languageId": "sql"
    }
   },
   "outputs": [
    {
     "name": "stdout",
     "output_type": "stream",
     "text": [
      " * postgresql://yugabyte@127.0.0.1:5433/db_ybu\n",
      "2 rows affected.\n"
     ]
    },
    {
     "data": {
      "text/html": [
       "<table>\n",
       "    <thead>\n",
       "        <tr>\n",
       "            <th>empno</th>\n",
       "            <th>ename</th>\n",
       "            <th>job</th>\n",
       "            <th>mgr</th>\n",
       "            <th>hiredate</th>\n",
       "            <th>sal</th>\n",
       "            <th>comm</th>\n",
       "            <th>deptno</th>\n",
       "            <th>email</th>\n",
       "            <th>other_info</th>\n",
       "        </tr>\n",
       "    </thead>\n",
       "    <tbody>\n",
       "        <tr>\n",
       "            <td>7521</td>\n",
       "            <td>WARD</td>\n",
       "            <td>SALESMAN</td>\n",
       "            <td>7698</td>\n",
       "            <td>1981-02-22</td>\n",
       "            <td>1350</td>\n",
       "            <td>400</td>\n",
       "            <td>30</td>\n",
       "            <td>WARD@compuserve.com</td>\n",
       "            <td>None</td>\n",
       "        </tr>\n",
       "        <tr>\n",
       "            <td>7654</td>\n",
       "            <td>MARTIN</td>\n",
       "            <td>SALESMAN</td>\n",
       "            <td>7698</td>\n",
       "            <td>1981-09-28</td>\n",
       "            <td>1350</td>\n",
       "            <td>1500</td>\n",
       "            <td>30</td>\n",
       "            <td>MARTIN@acme.com</td>\n",
       "            <td>None</td>\n",
       "        </tr>\n",
       "    </tbody>\n",
       "</table>"
      ],
      "text/plain": [
       "[(7521, 'WARD', 'SALESMAN', 7698, datetime.date(1981, 2, 22), 1350, 400, 30, 'WARD@compuserve.com', None),\n",
       " (7654, 'MARTIN', 'SALESMAN', 7698, datetime.date(1981, 9, 28), 1350, 1500, 30, 'MARTIN@acme.com', None)]"
      ]
     },
     "execution_count": 41,
     "metadata": {},
     "output_type": "execute_result"
    }
   ],
   "source": [
    "%%sql\n",
    "select * from  tbl_employees where empno in (7521,7654);"
   ]
  },
  {
   "attachments": {},
   "cell_type": "markdown",
   "metadata": {},
   "source": [
    "#### Step 3: List all employees who have received commission\n",
    "\n",
    "The following displays all employees having a commission, to verify that 100 have been transferred"
   ]
  },
  {
   "cell_type": "code",
   "execution_count": 42,
   "metadata": {
    "vscode": {
     "languageId": "sql"
    }
   },
   "outputs": [
    {
     "name": "stdout",
     "output_type": "stream",
     "text": [
      " * postgresql://yugabyte@127.0.0.1:5433/db_ybu\n",
      "4 rows affected.\n"
     ]
    },
    {
     "data": {
      "text/html": [
       "<table>\n",
       "    <thead>\n",
       "        <tr>\n",
       "            <th>empno</th>\n",
       "            <th>ename</th>\n",
       "            <th>job</th>\n",
       "            <th>mgr</th>\n",
       "            <th>hiredate</th>\n",
       "            <th>sal</th>\n",
       "            <th>comm</th>\n",
       "            <th>deptno</th>\n",
       "            <th>email</th>\n",
       "            <th>other_info</th>\n",
       "        </tr>\n",
       "    </thead>\n",
       "    <tbody>\n",
       "        <tr>\n",
       "            <td>7521</td>\n",
       "            <td>WARD</td>\n",
       "            <td>SALESMAN</td>\n",
       "            <td>7698</td>\n",
       "            <td>1981-02-22</td>\n",
       "            <td>1350</td>\n",
       "            <td>400</td>\n",
       "            <td>30</td>\n",
       "            <td>WARD@compuserve.com</td>\n",
       "            <td>None</td>\n",
       "        </tr>\n",
       "        <tr>\n",
       "            <td>7654</td>\n",
       "            <td>MARTIN</td>\n",
       "            <td>SALESMAN</td>\n",
       "            <td>7698</td>\n",
       "            <td>1981-09-28</td>\n",
       "            <td>1350</td>\n",
       "            <td>1500</td>\n",
       "            <td>30</td>\n",
       "            <td>MARTIN@acme.com</td>\n",
       "            <td>None</td>\n",
       "        </tr>\n",
       "        <tr>\n",
       "            <td>7499</td>\n",
       "            <td>ALLEN</td>\n",
       "            <td>SALESMAN</td>\n",
       "            <td>7698</td>\n",
       "            <td>1981-02-20</td>\n",
       "            <td>1700</td>\n",
       "            <td>300</td>\n",
       "            <td>30</td>\n",
       "            <td>ALLEN@acme.com</td>\n",
       "            <td>None</td>\n",
       "        </tr>\n",
       "        <tr>\n",
       "            <td>7844</td>\n",
       "            <td>TURNER</td>\n",
       "            <td>SALESMAN</td>\n",
       "            <td>7698</td>\n",
       "            <td>1981-09-08</td>\n",
       "            <td>1600</td>\n",
       "            <td>0</td>\n",
       "            <td>30</td>\n",
       "            <td>TURNER@acme.com</td>\n",
       "            <td>None</td>\n",
       "        </tr>\n",
       "    </tbody>\n",
       "</table>"
      ],
      "text/plain": [
       "[(7521, 'WARD', 'SALESMAN', 7698, datetime.date(1981, 2, 22), 1350, 400, 30, 'WARD@compuserve.com', None),\n",
       " (7654, 'MARTIN', 'SALESMAN', 7698, datetime.date(1981, 9, 28), 1350, 1500, 30, 'MARTIN@acme.com', None),\n",
       " (7499, 'ALLEN', 'SALESMAN', 7698, datetime.date(1981, 2, 20), 1700, 300, 30, 'ALLEN@acme.com', None),\n",
       " (7844, 'TURNER', 'SALESMAN', 7698, datetime.date(1981, 9, 8), 1600, 0, 30, 'TURNER@acme.com', None)]"
      ]
     },
     "execution_count": 42,
     "metadata": {},
     "output_type": "execute_result"
    }
   ],
   "source": [
    "%%sql\n",
    "\n",
    "select * from tbl_employees where comm is not null;"
   ]
  },
  {
   "attachments": {},
   "cell_type": "markdown",
   "metadata": {},
   "source": [
    "#### Step 4: Call the procedure with employee IDs and amount that is not allowed to invoke error handling\n",
    "\n",
    "The following attempts to transfer 1000000, more than what 7521 has. It raises the “Cannot transfer” error defined in the procedure and automatically reverts all intermediate changes to return to a consistent state.\n"
   ]
  },
  {
   "cell_type": "code",
   "execution_count": 43,
   "metadata": {
    "vscode": {
     "languageId": "sql"
    }
   },
   "outputs": [
    {
     "name": "stdout",
     "output_type": "stream",
     "text": [
      " * postgresql://yugabyte@127.0.0.1:5433/db_ybu\n",
      "(psycopg2.errors.RaiseException) Cannot transfer 1000000 from 7521\n",
      "CONTEXT:  PL/pgSQL function commission_transfer(integer,integer,integer) line 6 at RAISE\n",
      "\n",
      "[SQL: call commission_transfer(7521,7654,1000000);]\n",
      "(Background on this error at: https://sqlalche.me/e/20/2j85)\n"
     ]
    }
   ],
   "source": [
    "%%sql\n",
    "\n",
    "call commission_transfer(7521,7654,1000000);"
   ]
  },
  {
   "attachments": {},
   "cell_type": "markdown",
   "metadata": {},
   "source": [
    "> Note: By design, the above raises the exception."
   ]
  },
  {
   "attachments": {},
   "cell_type": "markdown",
   "metadata": {},
   "source": [
    "### Scenario 4. Triggers\n",
    "Record the last update time of each row automatically\n",
    "\n",
    "Description\n",
    "We will add a column to hold the last update time, and declare a trigger to update it automatically, on the departments table\n",
    "\n",
    "\n",
    "#### Step 1: Add a column to store the last update time\n",
    "\n",
    "The structure of a SQL table can evolve. With the goal of recording the last update, the following adds a “last_update” column to the department table."
   ]
  },
  {
   "cell_type": "code",
   "execution_count": 44,
   "metadata": {
    "vscode": {
     "languageId": "sql"
    }
   },
   "outputs": [
    {
     "name": "stdout",
     "output_type": "stream",
     "text": [
      " * postgresql://yugabyte@127.0.0.1:5433/db_ybu\n",
      "Done.\n"
     ]
    },
    {
     "data": {
      "text/plain": [
       "[]"
      ]
     },
     "execution_count": 44,
     "metadata": {},
     "output_type": "execute_result"
    }
   ],
   "source": [
    "%%sql\n",
    "\n",
    "alter table tbl_departments add last_update timestamptz;"
   ]
  },
  {
   "attachments": {},
   "cell_type": "markdown",
   "metadata": {},
   "source": [
    "#### Step 2: Create a function\n",
    "\n",
    "Add a function `fn_dept_last_update` to set the last update time. The following SQL query uses the built-in function transaction_timestamp(), which returns the current date and time at the start of the current transaction\n",
    "\n",
    "A stored function declares some procedural logic that returns a value. The following returns the “new” state for a trigger after setting the “last_update” to the current time."
   ]
  },
  {
   "cell_type": "code",
   "execution_count": 45,
   "metadata": {
    "vscode": {
     "languageId": "sql"
    }
   },
   "outputs": [
    {
     "name": "stdout",
     "output_type": "stream",
     "text": [
      " * postgresql://yugabyte@127.0.0.1:5433/db_ybu\n",
      "Done.\n"
     ]
    },
    {
     "data": {
      "text/plain": [
       "[]"
      ]
     },
     "execution_count": 45,
     "metadata": {},
     "output_type": "execute_result"
    }
   ],
   "source": [
    "%%sql\n",
    "\n",
    "create or replace function fn_dept_last_update() returns trigger as $$\n",
    "begin\n",
    "  new.last_update:=transaction_timestamp();\n",
    "  return new;\n",
    "end;\n",
    "$$ language plpgsql;"
   ]
  },
  {
   "attachments": {},
   "cell_type": "markdown",
   "metadata": {},
   "source": [
    "#### Step 3: Create a trigger\n",
    "\n",
    "Create a trigger `trg_dept_last_update` to call the function `fn_dept_last_update()` on each table update.\n",
    "\n",
    "The previous function can be called automatically. The following trigger executes it on each row update for the departments table."
   ]
  },
  {
   "cell_type": "code",
   "execution_count": 46,
   "metadata": {
    "vscode": {
     "languageId": "sql"
    }
   },
   "outputs": [
    {
     "name": "stdout",
     "output_type": "stream",
     "text": [
      " * postgresql://yugabyte@127.0.0.1:5433/db_ybu\n",
      "Done.\n"
     ]
    },
    {
     "data": {
      "text/plain": [
       "[]"
      ]
     },
     "execution_count": 46,
     "metadata": {},
     "output_type": "execute_result"
    }
   ],
   "source": [
    "%%sql\n",
    "\n",
    "create trigger trg_dept_last_update\n",
    "before update on tbl_departments\n",
    "for each row\n",
    "execute procedure fn_dept_last_update();"
   ]
  },
  {
   "attachments": {},
   "cell_type": "markdown",
   "metadata": {},
   "source": [
    "Describe the table."
   ]
  },
  {
   "cell_type": "code",
   "execution_count": 47,
   "metadata": {
    "vscode": {
     "languageId": "shellscript"
    }
   },
   "outputs": [
    {
     "name": "stdout",
     "output_type": "stream",
     "text": [
      "                                         Table \"public.tbl_departments\"\n",
      "   Column    |           Type           | Collation | Nullable | Default | Storage  | Stats target | Description \n",
      "-------------+--------------------------+-----------+----------+---------+----------+--------------+-------------\n",
      " deptno      | integer                  |           | not null |         | plain    |              | \n",
      " dname       | text                     |           |          |         | extended |              | \n",
      " loc         | text                     |           |          |         | extended |              | \n",
      " description | text                     |           |          |         | extended |              | \n",
      " last_update | timestamp with time zone |           |          |         | plain    |              | \n",
      "Indexes:\n",
      "    \"pk_dept\" PRIMARY KEY, lsm (deptno ASC)\n",
      "    \"idx_dept_description_ybgin\" ybgin (to_tsvector('simple'::regconfig, description))\n",
      "Triggers:\n",
      "    trg_dept_last_update BEFORE UPDATE ON tbl_departments FOR EACH ROW EXECUTE PROCEDURE fn_dept_last_update()\n",
      "\n"
     ]
    }
   ],
   "source": [
    "%%bash -s \"$MY_YB_PATH\" \"$MY_DB_NAME\" #\\d+\n",
    "YB_PATH=${1}\n",
    "DB_NAME=${2}\n",
    "\n",
    "\n",
    "cd $YB_PATH\n",
    "./bin/ysqlsh  -d ${DB_NAME} -c \"\\d+ tbl_departments\"\n"
   ]
  },
  {
   "attachments": {},
   "cell_type": "markdown",
   "metadata": {},
   "source": [
    "#### Step 4: Display the current state of the table\n",
    "\n",
    "In order to verify the automatic logging of the last update time, the following displays the current state of departments before any update"
   ]
  },
  {
   "cell_type": "code",
   "execution_count": 48,
   "metadata": {
    "vscode": {
     "languageId": "sql"
    }
   },
   "outputs": [
    {
     "name": "stdout",
     "output_type": "stream",
     "text": [
      " * postgresql://yugabyte@127.0.0.1:5433/db_ybu\n",
      "4 rows affected.\n"
     ]
    },
    {
     "data": {
      "text/html": [
       "<table>\n",
       "    <thead>\n",
       "        <tr>\n",
       "            <th>_</th>\n",
       "            <th>deptno</th>\n",
       "            <th>dname</th>\n",
       "            <th>loc</th>\n",
       "            <th>last_update</th>\n",
       "        </tr>\n",
       "    </thead>\n",
       "    <tbody>\n",
       "        <tr>\n",
       "            <td></td>\n",
       "            <td>10</td>\n",
       "            <td>ACCOUNTING</td>\n",
       "            <td>NEW YORK</td>\n",
       "            <td>None</td>\n",
       "        </tr>\n",
       "        <tr>\n",
       "            <td></td>\n",
       "            <td>20</td>\n",
       "            <td>RESEARCH</td>\n",
       "            <td>DALLAS</td>\n",
       "            <td>None</td>\n",
       "        </tr>\n",
       "        <tr>\n",
       "            <td></td>\n",
       "            <td>30</td>\n",
       "            <td>SALES</td>\n",
       "            <td>CHICAGO</td>\n",
       "            <td>None</td>\n",
       "        </tr>\n",
       "        <tr>\n",
       "            <td></td>\n",
       "            <td>40</td>\n",
       "            <td>OPERATIONS</td>\n",
       "            <td>BOSTON</td>\n",
       "            <td>None</td>\n",
       "        </tr>\n",
       "    </tbody>\n",
       "</table>"
      ],
      "text/plain": [
       "[('', 10, 'ACCOUNTING', 'NEW YORK', None),\n",
       " ('', 20, 'RESEARCH', 'DALLAS', None),\n",
       " ('', 30, 'SALES', 'CHICAGO', None),\n",
       " ('', 40, 'OPERATIONS', 'BOSTON', None)]"
      ]
     },
     "execution_count": 48,
     "metadata": {},
     "output_type": "execute_result"
    }
   ],
   "source": [
    "%%sql\n",
    "\n",
    "select '' _\n",
    "  , deptno\n",
    "  , dname\n",
    "  , loc\n",
    "  , last_update \n",
    "from tbl_departments;"
   ]
  },
  {
   "attachments": {},
   "cell_type": "markdown",
   "metadata": {},
   "source": [
    "#### Step 5: Update multiple rows in one transaction in the dept table\n",
    "\n",
    "Multiple updates can be declared in a single atomic transaction with BEGIN TRANSACTION and COMMIT. The following updates the location of departments 30 and 40 with a 3 seconds interval in between.\n"
   ]
  },
  {
   "cell_type": "code",
   "execution_count": 49,
   "metadata": {
    "vscode": {
     "languageId": "sql"
    }
   },
   "outputs": [
    {
     "name": "stdout",
     "output_type": "stream",
     "text": [
      " * postgresql://yugabyte@127.0.0.1:5433/db_ybu\n",
      "1 rows affected.\n",
      "1 rows affected.\n",
      "1 rows affected.\n"
     ]
    },
    {
     "data": {
      "text/plain": [
       "[]"
      ]
     },
     "execution_count": 49,
     "metadata": {},
     "output_type": "execute_result"
    }
   ],
   "source": [
    "%%sql\n",
    "-- begin transaction;-- commit;\n",
    "update tbl_departments set loc='SUNNYVALE' where deptno=30;\n",
    "select pg_sleep(3);\n",
    "update tbl_departments set loc='SUNNYVALE' where deptno=40;\n"
   ]
  },
  {
   "attachments": {},
   "cell_type": "markdown",
   "metadata": {},
   "source": [
    "#### Step 6: Display the new state of the table to see the last_update column being updated\n",
    "\n",
    "The following shows that in addition of the change location, the last update timestamp has been automatically set. Even if the updates were done at 3 seconds interval, they show the same update time because all was run in an atomic transaction\n"
   ]
  },
  {
   "cell_type": "code",
   "execution_count": 50,
   "metadata": {
    "vscode": {
     "languageId": "sql"
    }
   },
   "outputs": [
    {
     "name": "stdout",
     "output_type": "stream",
     "text": [
      " * postgresql://yugabyte@127.0.0.1:5433/db_ybu\n",
      "4 rows affected.\n"
     ]
    },
    {
     "data": {
      "text/html": [
       "<table>\n",
       "    <thead>\n",
       "        <tr>\n",
       "            <th>_</th>\n",
       "            <th>deptno</th>\n",
       "            <th>dname</th>\n",
       "            <th>loc</th>\n",
       "            <th>last_update</th>\n",
       "        </tr>\n",
       "    </thead>\n",
       "    <tbody>\n",
       "        <tr>\n",
       "            <td></td>\n",
       "            <td>10</td>\n",
       "            <td>ACCOUNTING</td>\n",
       "            <td>NEW YORK</td>\n",
       "            <td>None</td>\n",
       "        </tr>\n",
       "        <tr>\n",
       "            <td></td>\n",
       "            <td>20</td>\n",
       "            <td>RESEARCH</td>\n",
       "            <td>DALLAS</td>\n",
       "            <td>None</td>\n",
       "        </tr>\n",
       "        <tr>\n",
       "            <td></td>\n",
       "            <td>30</td>\n",
       "            <td>SALES</td>\n",
       "            <td>SUNNYVALE</td>\n",
       "            <td>2023-04-20 16:32:29.530197-07:00</td>\n",
       "        </tr>\n",
       "        <tr>\n",
       "            <td></td>\n",
       "            <td>40</td>\n",
       "            <td>OPERATIONS</td>\n",
       "            <td>SUNNYVALE</td>\n",
       "            <td>2023-04-20 16:32:32.544431-07:00</td>\n",
       "        </tr>\n",
       "    </tbody>\n",
       "</table>"
      ],
      "text/plain": [
       "[('', 10, 'ACCOUNTING', 'NEW YORK', None),\n",
       " ('', 20, 'RESEARCH', 'DALLAS', None),\n",
       " ('', 30, 'SALES', 'SUNNYVALE', datetime.datetime(2023, 4, 20, 16, 32, 29, 530197, tzinfo=datetime.timezone(datetime.timedelta(days=-1, seconds=61200)))),\n",
       " ('', 40, 'OPERATIONS', 'SUNNYVALE', datetime.datetime(2023, 4, 20, 16, 32, 32, 544431, tzinfo=datetime.timezone(datetime.timedelta(days=-1, seconds=61200))))]"
      ]
     },
     "execution_count": 50,
     "metadata": {},
     "output_type": "execute_result"
    }
   ],
   "source": [
    "%%sql\n",
    "select '' _\n",
    "  , deptno\n",
    "  , dname\n",
    "  , loc\n",
    "  , last_update \n",
    "from tbl_departments;"
   ]
  },
  {
   "attachments": {},
   "cell_type": "markdown",
   "metadata": {},
   "source": [
    "### Scenario 5. Materialized Views\n",
    "View\n",
    "Pre-compute analytics for reporting, with a materialized view\n",
    "\n",
    "Description\n",
    "In order to get fast on-demand reports, we create a materialized view to store pre-joined and pre-aggregated data. This view will store the total salary per department, the number of employees, and the list of jobs in the department.\n",
    "\n",
    "\n",
    "#### Step 1: Create the materialized view"
   ]
  },
  {
   "cell_type": "code",
   "execution_count": 51,
   "metadata": {
    "vscode": {
     "languageId": "sql"
    }
   },
   "outputs": [
    {
     "name": "stdout",
     "output_type": "stream",
     "text": [
      " * postgresql://yugabyte@127.0.0.1:5433/db_ybu\n",
      "3 rows affected.\n"
     ]
    },
    {
     "data": {
      "text/plain": [
       "[]"
      ]
     },
     "execution_count": 51,
     "metadata": {},
     "output_type": "execute_result"
    }
   ],
   "source": [
    "%%sql\n",
    "\n",
    "create materialized view mvw_report_sal_per_dept as\n",
    "select \n",
    "    deptno,\n",
    "    dname,\n",
    "    sum(sal) sal_per_dept,\n",
    "    count(*) num_of_employees,\n",
    "    string_agg(distinct job,', ') distinct_jobs\n",
    "from tbl_departments join tbl_employees using(deptno)\n",
    "group by deptno,dname\n",
    "order by deptno;"
   ]
  },
  {
   "attachments": {},
   "cell_type": "markdown",
   "metadata": {},
   "source": [
    "Describe the view."
   ]
  },
  {
   "cell_type": "code",
   "execution_count": 52,
   "metadata": {
    "vscode": {
     "languageId": "shellscript"
    }
   },
   "outputs": [
    {
     "name": "stdout",
     "output_type": "stream",
     "text": [
      "                         Materialized view \"public.mvw_report_sal_per_dept\"\n",
      "      Column      |  Type   | Collation | Nullable | Default | Storage  | Stats target | Description \n",
      "------------------+---------+-----------+----------+---------+----------+--------------+-------------\n",
      " deptno           | integer |           |          |         | plain    |              | \n",
      " dname            | text    |           |          |         | extended |              | \n",
      " sal_per_dept     | bigint  |           |          |         | plain    |              | \n",
      " num_of_employees | bigint  |           |          |         | plain    |              | \n",
      " distinct_jobs    | text    |           |          |         | extended |              | \n",
      "View definition:\n",
      " SELECT tbl_departments.deptno,\n",
      "    tbl_departments.dname,\n",
      "    sum(tbl_employees.sal) AS sal_per_dept,\n",
      "    count(*) AS num_of_employees,\n",
      "    string_agg(DISTINCT tbl_employees.job, ', '::text) AS distinct_jobs\n",
      "   FROM tbl_departments\n",
      "     JOIN tbl_employees USING (deptno)\n",
      "  GROUP BY tbl_departments.deptno, tbl_departments.dname\n",
      "  ORDER BY tbl_departments.deptno;\n",
      "\n"
     ]
    }
   ],
   "source": [
    "%%bash -s \"$MY_YB_PATH\" \"$MY_DB_NAME\" #\\d+\n",
    "YB_PATH=${1}\n",
    "DB_NAME=${2}\n",
    "\n",
    "\n",
    "cd $YB_PATH\n",
    "./bin/ysqlsh  -d ${DB_NAME} -c \"\\d+ mvw_report_sal_per_dept\""
   ]
  },
  {
   "attachments": {},
   "cell_type": "markdown",
   "metadata": {},
   "source": [
    "#### Step 2: Create an index for the materialized view\n",
    "\n",
    "Indexes can be created on it. This one allows fast queries on a range of total salary"
   ]
  },
  {
   "cell_type": "code",
   "execution_count": 53,
   "metadata": {
    "vscode": {
     "languageId": "sql"
    }
   },
   "outputs": [
    {
     "name": "stdout",
     "output_type": "stream",
     "text": [
      " * postgresql://yugabyte@127.0.0.1:5433/db_ybu\n",
      "Done.\n",
      "Done.\n"
     ]
    },
    {
     "data": {
      "text/plain": [
       "[]"
      ]
     },
     "execution_count": 53,
     "metadata": {},
     "output_type": "execute_result"
    }
   ],
   "source": [
    "%%sql\n",
    "drop index if exists idx_mvw_report_sal_per_dept_sal;\n",
    "create index if not exists idx_mvw_report_sal_per_dept_sal on mvw_report_sal_per_dept(sal_per_dept desc);"
   ]
  },
  {
   "attachments": {},
   "cell_type": "markdown",
   "metadata": {},
   "source": [
    "Describe the index for the materialized view."
   ]
  },
  {
   "cell_type": "code",
   "execution_count": 54,
   "metadata": {
    "vscode": {
     "languageId": "shellscript"
    }
   },
   "outputs": [
    {
     "name": "stdout",
     "output_type": "stream",
     "text": [
      "            Index \"public.idx_mvw_report_sal_per_dept_sal\"\n",
      "    Column    |  Type  | Key? |  Definition  | Storage | Stats target \n",
      "--------------+--------+------+--------------+---------+--------------\n",
      " sal_per_dept | bigint | yes  | sal_per_dept | plain   | \n",
      "lsm, for table \"public.mvw_report_sal_per_dept\"\n",
      "\n"
     ]
    }
   ],
   "source": [
    "%%bash -s \"$MY_YB_PATH\" \"$MY_DB_NAME\" #\\d+\n",
    "YB_PATH=${1}\n",
    "DB_NAME=${2}\n",
    "\n",
    "\n",
    "cd $YB_PATH\n",
    "./bin/ysqlsh  -d ${DB_NAME} -c \"\\d+ idx_mvw_report_sal_per_dept_sal\""
   ]
  },
  {
   "attachments": {},
   "cell_type": "markdown",
   "metadata": {},
   "source": [
    "#### Step 3: Refresh\n",
    "\n",
    "A refresh can be scheduled on a daily basis to re-compute it in the background with a simple command."
   ]
  },
  {
   "cell_type": "code",
   "execution_count": 55,
   "metadata": {
    "vscode": {
     "languageId": "sql"
    }
   },
   "outputs": [
    {
     "name": "stdout",
     "output_type": "stream",
     "text": [
      " * postgresql://yugabyte@127.0.0.1:5433/db_ybu\n",
      "Done.\n"
     ]
    },
    {
     "data": {
      "text/plain": [
       "[]"
      ]
     },
     "execution_count": 55,
     "metadata": {},
     "output_type": "execute_result"
    }
   ],
   "source": [
    "%%sql\n",
    "\n",
    "refresh materialized view mvw_report_sal_per_dept;"
   ]
  },
  {
   "attachments": {},
   "cell_type": "markdown",
   "metadata": {},
   "source": [
    "#### Step 4: Query\n",
    "\n",
    "Querying the materialized view will show the data consistent as of the last refresh. This one lists the departments with a total salary lower than 10000"
   ]
  },
  {
   "cell_type": "code",
   "execution_count": 56,
   "metadata": {
    "vscode": {
     "languageId": "sql"
    }
   },
   "outputs": [
    {
     "name": "stdout",
     "output_type": "stream",
     "text": [
      " * postgresql://yugabyte@127.0.0.1:5433/db_ybu\n",
      "2 rows affected.\n"
     ]
    },
    {
     "data": {
      "text/html": [
       "<table>\n",
       "    <thead>\n",
       "        <tr>\n",
       "            <th>deptno</th>\n",
       "            <th>dname</th>\n",
       "            <th>sal_per_dept</th>\n",
       "            <th>num_of_employees</th>\n",
       "            <th>distinct_jobs</th>\n",
       "        </tr>\n",
       "    </thead>\n",
       "    <tbody>\n",
       "        <tr>\n",
       "            <td>10</td>\n",
       "            <td>ACCOUNTING</td>\n",
       "            <td>8950</td>\n",
       "            <td>3</td>\n",
       "            <td>CLERK, MANAGER, PRESIDENT</td>\n",
       "        </tr>\n",
       "        <tr>\n",
       "            <td>30</td>\n",
       "            <td>SALES</td>\n",
       "            <td>9900</td>\n",
       "            <td>6</td>\n",
       "            <td>CLERK, MANAGER, SALESMAN</td>\n",
       "        </tr>\n",
       "    </tbody>\n",
       "</table>"
      ],
      "text/plain": [
       "[(10, 'ACCOUNTING', 8950, 3, 'CLERK, MANAGER, PRESIDENT'),\n",
       " (30, 'SALES', 9900, 6, 'CLERK, MANAGER, SALESMAN')]"
      ]
     },
     "execution_count": 56,
     "metadata": {},
     "output_type": "execute_result"
    }
   ],
   "source": [
    "%%sql\n",
    "\n",
    "select *\n",
    "from mvw_report_sal_per_dept\n",
    "where 1=1\n",
    "and sal_per_dept<=10000\n",
    "order by sal_per_dept;"
   ]
  },
  {
   "attachments": {},
   "cell_type": "markdown",
   "metadata": {},
   "source": [
    "#### Step 5: View the query plan\n",
    "\n",
    "The execution plan shows that no additional join or group by are needed when querying this materialized view:"
   ]
  },
  {
   "cell_type": "code",
   "execution_count": 57,
   "metadata": {
    "vscode": {
     "languageId": "sql"
    }
   },
   "outputs": [
    {
     "name": "stdout",
     "output_type": "stream",
     "text": [
      " * postgresql://yugabyte@127.0.0.1:5433/db_ybu\n",
      "5 rows affected.\n"
     ]
    },
    {
     "data": {
      "text/html": [
       "<table>\n",
       "    <thead>\n",
       "        <tr>\n",
       "            <th>QUERY PLAN</th>\n",
       "        </tr>\n",
       "    </thead>\n",
       "    <tbody>\n",
       "        <tr>\n",
       "            <td>Index Scan Backward using idx_mvw_report_sal_per_dept_sal on mvw_report_sal_per_dept  (cost=0.00..5.33 rows=10 width=84) (actual time=1.358..1.362 rows=2 loops=1)</td>\n",
       "        </tr>\n",
       "        <tr>\n",
       "            <td>&nbsp;&nbsp;Index Cond: (sal_per_dept &lt;= 10000)</td>\n",
       "        </tr>\n",
       "        <tr>\n",
       "            <td>Planning Time: 0.060 ms</td>\n",
       "        </tr>\n",
       "        <tr>\n",
       "            <td>Execution Time: 1.390 ms</td>\n",
       "        </tr>\n",
       "        <tr>\n",
       "            <td>Peak Memory Usage: 0 kB</td>\n",
       "        </tr>\n",
       "    </tbody>\n",
       "</table>"
      ],
      "text/plain": [
       "[('Index Scan Backward using idx_mvw_report_sal_per_dept_sal on mvw_report_sal_per_dept  (cost=0.00..5.33 rows=10 width=84) (actual time=1.358..1.362 rows=2 loops=1)',),\n",
       " ('  Index Cond: (sal_per_dept <= 10000)',),\n",
       " ('Planning Time: 0.060 ms',),\n",
       " ('Execution Time: 1.390 ms',),\n",
       " ('Peak Memory Usage: 0 kB',)]"
      ]
     },
     "execution_count": 57,
     "metadata": {},
     "output_type": "execute_result"
    }
   ],
   "source": [
    "%%sql\n",
    "explain analyze\n",
    "select *\n",
    "from mvw_report_sal_per_dept\n",
    "where 1=1\n",
    "and sal_per_dept<=10000\n",
    "order by sal_per_dept;"
   ]
  },
  {
   "attachments": {},
   "cell_type": "markdown",
   "metadata": {
    "deletable": false,
    "editable": false
   },
   "source": [
    "---\n",
    "# 🌟🌟 Well done! \n",
    "In this notebook, you completed the following:\n",
    "- YSQL Development\n",
    "  - Basic of DDL and DML\n",
    "  - Built-in Functions\n",
    "  - Advanced Language features\n",
    "\n",
    "\n",
    "## 😊 Next up!\n",
    "Continue your learning by opening the next notebook, `03_Demystifying_table_sharding_tablets_and_data_distribution.ipynb`. \n",
    "\n",
    "Or, to open the notebook from GitPod, run the following:"
   ]
  },
  {
   "cell_type": "code",
   "execution_count": null,
   "metadata": {
    "vscode": {
     "languageId": "sql"
    }
   },
   "outputs": [],
   "source": [
    "%%bash\n",
    "gp open '03_Demystifying_table_sharding_tablets_and_data_distribution.ipynb'"
   ]
  }
 ],
 "metadata": {
  "kernelspec": {
   "display_name": "Python 3.7.9 64-bit",
   "language": "python",
   "name": "python3"
  },
  "language_info": {
   "codemirror_mode": {
    "name": "ipython",
    "version": 3
   },
   "file_extension": ".py",
   "mimetype": "text/x-python",
   "name": "python",
   "nbconvert_exporter": "python",
   "pygments_lexer": "ipython3",
   "version": "3.9.16"
  },
  "orig_nbformat": 4,
  "vscode": {
   "interpreter": {
    "hash": "aee8b7b246df8f9039afb4144a1f6fd8d2ca17a180786b69acc140d282b71a49"
   }
  }
 },
 "nbformat": 4,
 "nbformat_minor": 2
}
