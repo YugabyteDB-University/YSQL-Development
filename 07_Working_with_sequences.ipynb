{
 "cells": [
  {
   "cell_type": "code",
   "execution_count": null,
   "metadata": {},
   "outputs": [],
   "source": []
  },
  {
   "cell_type": "markdown",
   "metadata": {},
   "source": [
    "Often,\n",
    "\n",
    "If you need an incrementing counter, then your solution is to not create a sequence object. Rather, to manage the counter, create a single row table updated with an exclusive lock acquired until commit. \n",
    "\n",
    "```SQL\n",
    "update tbl_counter\n",
    "set val=val+1 \n",
    "returning va;\n",
    "```\n",
    "This approach affects scalability, which is why databases offer a sequence object. It's non-transactional behavior is for the specific use-case of generating unique numbers. \n",
    "\n",
    "A sequence provides a way to generate unique values in a scalable way. For a sequence to be scalable, it cannot be transactional and, as a result, may exhibit gaps and unpredictable ordering. \n",
    "\n",
    "Non-cached sequences are not scalable. For this reason, YugabyteDB supports sequence caching and enforces a minimum cache (`--ysql_sequence_cache_minval=100`), even if a a `create sequence` statement sets it lower. A sequence cache exists for a given sequence on each Tablet Server in a cluster or universe. This is not a global cache across all Tablet Servers, but rather, a cache per Tablet Server. For this reason, gaps in sequences often occur because clients connect to different Tablet Servers. \n",
    "\n",
    "\n"
   ]
  },
  {
   "cell_type": "markdown",
   "metadata": {},
   "source": []
  }
 ],
 "metadata": {
  "language_info": {
   "name": "python"
  }
 },
 "nbformat": 4,
 "nbformat_minor": 2
}
