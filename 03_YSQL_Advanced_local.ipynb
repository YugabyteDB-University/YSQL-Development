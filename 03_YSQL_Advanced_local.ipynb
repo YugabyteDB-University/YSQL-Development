{
 "cells": [
  {
   "cell_type": "markdown",
   "metadata": {
    "deletable": false,
    "editable": false
   },
   "source": [
    "## Setup steps\n",
    "Here are the steps to setup this lab:\n",
    "- Install missing dependencies and restart the notebook\n",
    "- Create the notebook variables\n",
    "- Create the `db_ybu` database"
   ]
  },
  {
   "cell_type": "markdown",
   "metadata": {},
   "source": [
    "### Install missing dependencies and restart the notebook\n",
    "Run the following cell to ensure that the notebook dependencies are available to the notebook. "
   ]
  },
  {
   "cell_type": "code",
   "execution_count": 1,
   "metadata": {},
   "outputs": [
    {
     "name": "stdout",
     "output_type": "stream",
     "text": [
      "Requirement already satisfied: ipython-sql in /Users/markkim/.pyenv/versions/3.9.4/lib/python3.9/site-packages (0.4.1)\n",
      "Requirement already satisfied: prettytable<1 in /Users/markkim/.pyenv/versions/3.9.4/lib/python3.9/site-packages (from ipython-sql) (0.7.2)\n",
      "Requirement already satisfied: ipython-genutils>=0.1.0 in /Users/markkim/.pyenv/versions/3.9.4/lib/python3.9/site-packages (from ipython-sql) (0.2.0)\n",
      "Requirement already satisfied: ipython>=1.0 in /Users/markkim/.pyenv/versions/3.9.4/lib/python3.9/site-packages (from ipython-sql) (8.4.0)\n",
      "Requirement already satisfied: sqlalchemy>=0.6.7 in /Users/markkim/.pyenv/versions/3.9.4/lib/python3.9/site-packages (from ipython-sql) (1.4.39)\n",
      "Requirement already satisfied: six in /Users/markkim/.pyenv/versions/3.9.4/lib/python3.9/site-packages (from ipython-sql) (1.16.0)\n",
      "Requirement already satisfied: sqlparse in /Users/markkim/.pyenv/versions/3.9.4/lib/python3.9/site-packages (from ipython-sql) (0.4.2)\n",
      "Requirement already satisfied: stack-data in /Users/markkim/.pyenv/versions/3.9.4/lib/python3.9/site-packages (from ipython>=1.0->ipython-sql) (0.3.0)\n",
      "Requirement already satisfied: pexpect>4.3 in /Users/markkim/.pyenv/versions/3.9.4/lib/python3.9/site-packages (from ipython>=1.0->ipython-sql) (4.8.0)\n",
      "Requirement already satisfied: prompt-toolkit!=3.0.0,!=3.0.1,<3.1.0,>=2.0.0 in /Users/markkim/.pyenv/versions/3.9.4/lib/python3.9/site-packages (from ipython>=1.0->ipython-sql) (3.0.30)\n",
      "Requirement already satisfied: decorator in /Users/markkim/.pyenv/versions/3.9.4/lib/python3.9/site-packages (from ipython>=1.0->ipython-sql) (5.1.1)\n",
      "Requirement already satisfied: pygments>=2.4.0 in /Users/markkim/.pyenv/versions/3.9.4/lib/python3.9/site-packages (from ipython>=1.0->ipython-sql) (2.12.0)\n",
      "Requirement already satisfied: traitlets>=5 in /Users/markkim/.pyenv/versions/3.9.4/lib/python3.9/site-packages (from ipython>=1.0->ipython-sql) (5.3.0)\n",
      "Requirement already satisfied: pickleshare in /Users/markkim/.pyenv/versions/3.9.4/lib/python3.9/site-packages (from ipython>=1.0->ipython-sql) (0.7.5)\n",
      "Requirement already satisfied: setuptools>=18.5 in /Users/markkim/.pyenv/versions/3.9.4/lib/python3.9/site-packages (from ipython>=1.0->ipython-sql) (49.2.1)\n",
      "Requirement already satisfied: appnope in /Users/markkim/.pyenv/versions/3.9.4/lib/python3.9/site-packages (from ipython>=1.0->ipython-sql) (0.1.3)\n",
      "Requirement already satisfied: matplotlib-inline in /Users/markkim/.pyenv/versions/3.9.4/lib/python3.9/site-packages (from ipython>=1.0->ipython-sql) (0.1.3)\n",
      "Requirement already satisfied: jedi>=0.16 in /Users/markkim/.pyenv/versions/3.9.4/lib/python3.9/site-packages (from ipython>=1.0->ipython-sql) (0.18.1)\n",
      "Requirement already satisfied: backcall in /Users/markkim/.pyenv/versions/3.9.4/lib/python3.9/site-packages (from ipython>=1.0->ipython-sql) (0.2.0)\n",
      "Requirement already satisfied: parso<0.9.0,>=0.8.0 in /Users/markkim/.pyenv/versions/3.9.4/lib/python3.9/site-packages (from jedi>=0.16->ipython>=1.0->ipython-sql) (0.8.3)\n",
      "Requirement already satisfied: ptyprocess>=0.5 in /Users/markkim/.pyenv/versions/3.9.4/lib/python3.9/site-packages (from pexpect>4.3->ipython>=1.0->ipython-sql) (0.7.0)\n",
      "Requirement already satisfied: wcwidth in /Users/markkim/.pyenv/versions/3.9.4/lib/python3.9/site-packages (from prompt-toolkit!=3.0.0,!=3.0.1,<3.1.0,>=2.0.0->ipython>=1.0->ipython-sql) (0.2.5)\n",
      "Requirement already satisfied: executing in /Users/markkim/.pyenv/versions/3.9.4/lib/python3.9/site-packages (from stack-data->ipython>=1.0->ipython-sql) (0.9.1)\n",
      "Requirement already satisfied: pure-eval in /Users/markkim/.pyenv/versions/3.9.4/lib/python3.9/site-packages (from stack-data->ipython>=1.0->ipython-sql) (0.2.2)\n",
      "Requirement already satisfied: asttokens in /Users/markkim/.pyenv/versions/3.9.4/lib/python3.9/site-packages (from stack-data->ipython>=1.0->ipython-sql) (2.0.5)\n",
      "Requirement already satisfied: psycopg2-binary in /Users/markkim/.pyenv/versions/3.9.4/lib/python3.9/site-packages (2.9.3)\n",
      "Requirement already satisfied: sqlalchemy in /Users/markkim/.pyenv/versions/3.9.4/lib/python3.9/site-packages (1.4.39)\n"
     ]
    }
   ],
   "source": [
    "!pip install ipython-sql\n",
    "!pip install psycopg2-binary\n",
    "!pip install sqlalchemy "
   ]
  },
  {
   "cell_type": "markdown",
   "metadata": {},
   "source": [
    "> Important!\n",
    "> \n",
    "> Restart the Notebook.\n",
    "> \n",
    "> Do NOT skip this step.\n",
    "> \n",
    "> After restarting the notebook, you can continue running notebook cells below, at **Create the notebook variables**.\n"
   ]
  },
  {
   "cell_type": "markdown",
   "metadata": {
    "deletable": false,
    "editable": false
   },
   "source": [
    "### Create the notebook variables \n",
    "\n",
    "> IMPORTANT!\n",
    "> \n",
    "> Do NOT skip running this cell. \n",
    "> \n",
    "\n",
    "The following Python cell creates and stores variables that all the notebooks in this lab will use. You can view these variables in the Jupyter tab.\n",
    "\n",
    "- To run the script, select Execute Cell (Play Arrow) in the left gutter of the cell.\n",
    "- Verify the accuracy of the output values"
   ]
  },
  {
   "cell_type": "code",
   "execution_count": 3,
   "metadata": {
    "deletable": false,
    "editable": false
   },
   "outputs": [
    {
     "name": "stdout",
     "output_type": "stream",
     "text": [
      "/Users/markkim/Documents/YBU_repos/jupyter/YSQL/data /Users/markkim/Documents/YBU_repos/jupyter/YSQL/utils\n",
      "Stored 'MY_DB_NAME' (str)\n",
      "Stored 'MY_YB_PATH' (str)\n",
      "Stored 'MY_GITPOD_WORKSPACE_URL' (str)\n",
      "Stored 'MY_HOST_IPv4_01' (str)\n",
      "Stored 'MY_HOST_IPv4_02' (str)\n",
      "Stored 'MY_HOST_IPv4_03' (str)\n",
      "Stored 'MY_NOTEBOOK_DIR' (str)\n",
      "Stored 'MY_TSERVER_WEBSERVER_PORT' (str)\n",
      "Stored 'MY_NOTEBOOK_DATA_FOLDER' (str)\n",
      "Stored 'MY_NOTEBOOK_UTILS_FOLDER' (str)\n",
      "Stored 'MY_DATA3_DDL_FILE' (str)\n",
      "Stored 'MY_DATA3_DML_FILE' (str)\n",
      "Stored 'MY_UTIL_FUNCTIONS_FILE' (str)\n",
      "Stored 'MY_UTIL_YBTSERVER_METRICS_FILE' (str)\n",
      "Stored 'MY_SUDO' (str)\n"
     ]
    }
   ],
   "source": [
    "# Env variables for Notebook\n",
    "import os\n",
    "\n",
    "# read env_vars.env\n",
    "env_vars = !cat env_vars.env\n",
    "for var in env_vars:\n",
    "    key, value = var.split('=')\n",
    "    os.environ[key] = value\n",
    " \n",
    "\n",
    "# Comment out Local\n",
    "MY_YB_PATH=os.environ.get('MY_YB_PATH_LOCAL')\n",
    "MY_GITPOD_WORKSPACE_URL=os.environ.get('MY_GITPOD_WORKSPACE_URL_LOCAL')\n",
    "MY_SUDO=os.environ.get('MY_SUDO')\n",
    "\n",
    "# Gitpod specific\n",
    "# MY_YB_PATH=os.environ.get('MY_YB_PATH')\n",
    "# MY_GITPOD_WORKSPACE_URL=os.environ.get('GITPOD_WORKSPACE_URL')\n",
    "\n",
    "# env_vars defines the following\n",
    "MY_DB_NAME=os.environ.get('MY_DB_NAME')\n",
    "MY_HOST_IPv4_01=os.environ.get('MY_HOST_IPv4_01')\n",
    "MY_HOST_IPv4_02=os.environ.get('MY_HOST_IPv4_02')\n",
    "MY_HOST_IPv4_03=os.environ.get('MY_HOST_IPv4_03')\n",
    "MY_TSERVER_WEBSERVER_PORT=os.environ.get('MY_TSERVER_WEBSERVER_PORT')\n",
    "MY_DATA3_DDL_FILE=os.environ.get('MY_DATA3_DDL_FILE')\n",
    "MY_DATA3_DML_FILE=os.environ.get('MY_DATA3_DML_FILE')\n",
    "MY_UTIL_FUNCTIONS_FILE=os.environ.get(\"MY_UTIL_FUNCTIONS_FILE\")\n",
    "MY_UTIL_YBTSERVER_METRICS_FILE=os.environ.get(\"MY_UTIL_YBTSERVER_METRICS_FILE\")\n",
    "\n",
    "# Current directory of project and related child folders\n",
    "MY_NOTEBOOK_DIR=os.getcwd()\n",
    "MY_NOTEBOOK_DATA_FOLDER=MY_NOTEBOOK_DIR +'/data'\n",
    "MY_NOTEBOOK_UTILS_FOLDER=MY_NOTEBOOK_DIR + '/utils'\n",
    "\n",
    "print(MY_NOTEBOOK_DATA_FOLDER, MY_NOTEBOOK_UTILS_FOLDER)\n",
    "# Store the note book values for other notebooks to use\n",
    "\n",
    "%store MY_DB_NAME\n",
    "%store MY_YB_PATH\n",
    "%store MY_GITPOD_WORKSPACE_URL\n",
    "%store MY_HOST_IPv4_01\n",
    "%store MY_HOST_IPv4_02\n",
    "%store MY_HOST_IPv4_03\n",
    "%store MY_NOTEBOOK_DIR\n",
    "%store MY_TSERVER_WEBSERVER_PORT\n",
    "%store MY_NOTEBOOK_DATA_FOLDER\n",
    "%store MY_NOTEBOOK_UTILS_FOLDER\n",
    "%store MY_DATA3_DDL_FILE\n",
    "%store MY_DATA3_DML_FILE\n",
    "%store MY_UTIL_FUNCTIONS_FILE\n",
    "%store MY_UTIL_YBTSERVER_METRICS_FILE\n",
    "%store MY_SUDO"
   ]
  },
  {
   "cell_type": "code",
   "execution_count": 4,
   "metadata": {
    "vscode": {
     "languageId": "shellscript"
    }
   },
   "outputs": [
    {
     "name": "stdout",
     "output_type": "stream",
     "text": [
      "lo0: flags=8049<UP,LOOPBACK,RUNNING,MULTICAST> mtu 16384\n",
      "\toptions=1203<RXCSUM,TXCSUM,TXSTATUS,SW_TIMESTAMP>\n",
      "\tinet 127.0.0.1 netmask 0xff000000 \n",
      "\tinet6 ::1 prefixlen 128 \n",
      "\tinet6 fe80::1%lo0 prefixlen 64 scopeid 0x1 \n",
      "\tinet 127.0.0.2 netmask 0xff000000 \n",
      "\tinet 127.0.0.3 netmask 0xff000000 \n",
      "\tinet 127.0.0.4 netmask 0xff000000 \n",
      "\tinet 127.0.0.5 netmask 0xff000000 \n",
      "\tinet 127.0.0.6 netmask 0xff000000 \n",
      "\tinet 127.0.0.7 netmask 0xff000000 \n",
      "\tnd6 options=201<PERFORMNUD,DAD>\n"
     ]
    },
    {
     "name": "stderr",
     "output_type": "stream",
     "text": [
      "Password:"
     ]
    }
   ],
   "source": [
    "%%bash -s \"$MY_SUDO\"  # ifconfig aliases\n",
    "MY_SUDO=${1}\n",
    "\n",
    "if ifconfig lo0 | grep 127.0.0.[2-7] > /dev/null\n",
    "then\n",
    "    echo ${MY_SUDO} | sudo -S ifconfig lo0 delete 127.0.0.2\n",
    "    echo ${MY_SUDO} | sudo -S ifconfig lo0 delete 127.0.0.3\n",
    "    echo ${MY_SUDO} | sudo -S ifconfig lo0 delete 127.0.0.4\n",
    "    echo ${MY_SUDO} | sudo -S ifconfig lo0 delete 127.0.0.5\n",
    "    echo ${MY_SUDO} | sudo -S ifconfig lo0 delete 127.0.0.6\n",
    "    echo ${MY_SUDO} | sudo -S ifconfig lo0 delete 127.0.0.7\n",
    "fi\n",
    "\n",
    "echo ${MY_SUDO} | sudo -S ifconfig lo0 alias 127.0.0.2\n",
    "echo ${MY_SUDO} | sudo -S ifconfig lo0 alias 127.0.0.3\n",
    "echo ${MY_SUDO} | sudo -S ifconfig lo0 alias 127.0.0.4\n",
    "echo ${MY_SUDO} | sudo -S ifconfig lo0 alias 127.0.0.5\n",
    "echo ${MY_SUDO} | sudo -S ifconfig lo0 alias 127.0.0.6\n",
    "echo ${MY_SUDO} | sudo -S ifconfig lo0 alias 127.0.0.7\n",
    "\n",
    "echo ${MY_SUDO} | sudo ifconfig lo0"
   ]
  },
  {
   "cell_type": "code",
   "execution_count": 5,
   "metadata": {
    "vscode": {
     "languageId": "shellscript"
    }
   },
   "outputs": [
    {
     "name": "stdout",
     "output_type": "stream",
     "text": [
      "Destroying cluster.\n",
      "Creating cluster.\n",
      "Waiting for cluster to be ready.\n"
     ]
    },
    {
     "name": "stderr",
     "output_type": "stream",
     "text": [
      "Viewing file /Users/markkim/yugabyte-data/node-1/disk-1/tserver.err:\n",
      "In YugabyteDB, setting LC_COLLATE to C and all other locale settings to en_US.UTF-8 by default. Locale support will be enhanced as part of addressing https://github.com/yugabyte/yugabyte-db/issues/1557\n",
      "2022-08-16 10:43:50.832 PDT [29882] FATAL:  could not create shared memory segment: Cannot allocate memory\n",
      "2022-08-16 10:43:50.832 PDT [29882] DETAIL:  Failed system call was shmget(key=5432018, size=56, 03600).\n",
      "2022-08-16 10:43:50.832 PDT [29882] HINT:  This error usually means that PostgreSQL's request for a shared memory segment exceeded your kernel's SHMALL parameter.  You might need to reconfigure the kernel with larger SHMALL.\n",
      "\tThe PostgreSQL documentation contains more information about shared memory configuration.\n",
      "child process exited with exit code 1initdb: removing data directory \"/Users/markkim/yugabyte-data/node-1/disk-1/pg_data\"\n",
      "F0816 10:43:50.839963 75716096 tablet_server_main.cc:221] Runtime error (yb/yql/pgwrapper/pg_wrapper.cc:480): /Users/markkim/Documents/yugabyteDB/yugabyte-2.14.1.0/postgres/bin/initdb failed with exit code 1\n",
      "Fatal failure details written to /Users/markkim/yugabyte-data/node-1/disk-1/yb-data/tserver/logs/yb-tserver.FATAL.details.2022-08-16T10_43_50.pid29691.txt\n",
      "F20220816 10:43:50 ../../src/yb/tserver/tablet_server_main.cc:221] Runtime error (yb/yql/pgwrapper/pg_wrapper.cc:480): /Users/markkim/Documents/yugabyteDB/yugabyte-2.14.1.0/postgres/bin/initdb failed with exit code 1\n",
      "    @        0x115af2ef3  google::LogDestination::LogToSinks()\n",
      "    @        0x115af215c  google::LogMessage::SendToLog()\n",
      "    @        0x115af2a55  google::LogMessage::Flush()\n",
      "    @        0x115af78af  google::LogMessageFatal::~LogMessageFatal()\n",
      "    @        0x115af3a69  google::LogMessageFatal::~LogMessageFatal()\n",
      "    @        0x1046ef2bc  yb::tserver::(anonymous namespace)::TabletServerMain()\n",
      "    @        0x1046ecf19  main\n",
      "\n",
      "*** Check failure stack trace: ***\n",
      "    @        0x115af22d8  google::LogMessage::SendToLog()\n",
      "    @        0x115af2a55  google::LogMessage::Flush()\n",
      "    @        0x115af78af  google::LogMessageFatal::~LogMessageFatal()\n",
      "    @        0x115af3a69  google::LogMessageFatal::~LogMessageFatal()\n",
      "    @        0x1046ef2bc  yb::tserver::(anonymous namespace)::TabletServerMain()\n",
      "    @        0x1046ecf19  main\n",
      "Viewing file /Users/markkim/yugabyte-data/node-2/disk-1/tserver.err:\n",
      "In YugabyteDB, setting LC_COLLATE to C and all other locale settings to en_US.UTF-8 by default. Locale support will be enhanced as part of addressing https://github.com/yugabyte/yugabyte-db/issues/1557\n",
      "2022-08-16 10:43:50.832 PDT [29883] FATAL:  could not create shared memory segment: Cannot allocate memory\n",
      "2022-08-16 10:43:50.832 PDT [29883] DETAIL:  Failed system call was shmget(key=5432018, size=56, 03600).\n",
      "2022-08-16 10:43:50.832 PDT [29883] HINT:  This error usually means that PostgreSQL's request for a shared memory segment exceeded your kernel's SHMALL parameter.  You might need to reconfigure the kernel with larger SHMALL.\n",
      "\tThe PostgreSQL documentation contains more information about shared memory configuration.\n",
      "child process exited with exit code 1initdb: removing data directory \"/Users/markkim/yugabyte-data/node-2/disk-1/pg_data\"\n",
      "F0816 10:43:50.839982 68371968 tablet_server_main.cc:221] Runtime error (yb/yql/pgwrapper/pg_wrapper.cc:480): /Users/markkim/Documents/yugabyteDB/yugabyte-2.14.1.0/postgres/bin/initdb failed with exit code 1\n",
      "Fatal failure details written to /Users/markkim/yugabyte-data/node-2/disk-1/yb-data/tserver/logs/yb-tserver.FATAL.details.2022-08-16T10_43_50.pid29694.txt\n",
      "F20220816 10:43:50 ../../src/yb/tserver/tablet_server_main.cc:221] Runtime error (yb/yql/pgwrapper/pg_wrapper.cc:480): /Users/markkim/Documents/yugabyteDB/yugabyte-2.14.1.0/postgres/bin/initdb failed with exit code 1\n",
      "    @        0x115431ef3  google::LogDestination::LogToSinks()\n",
      "    @        0x11543115c  google::LogMessage::SendToLog()\n",
      "    @        0x115431a55  google::LogMessage::Flush()\n",
      "    @        0x1154368af  google::LogMessageFatal::~LogMessageFatal()\n",
      "    @        0x115432a69  google::LogMessageFatal::~LogMessageFatal()\n",
      "    @        0x10402e2bc  yb::tserver::(anonymous namespace)::TabletServerMain()\n",
      "    @        0x10402bf19  main\n",
      "\n",
      "*** Check failure stack trace: ***\n",
      "    @        0x1154312d8  google::LogMessage::SendToLog()\n",
      "    @        0x115431a55  google::LogMessage::Flush()\n",
      "    @        0x1154368af  google::LogMessageFatal::~LogMessageFatal()\n",
      "    @        0x115432a69  google::LogMessageFatal::~LogMessageFatal()\n",
      "    @        0x10402e2bc  yb::tserver::(anonymous namespace)::TabletServerMain()\n",
      "    @        0x10402bf19  main\n",
      "Viewing file /Users/markkim/yugabyte-data/node-3/disk-1/tserver.err:\n",
      "In YugabyteDB, setting LC_COLLATE to C and all other locale settings to en_US.UTF-8 by default. Locale support will be enhanced as part of addressing https://github.com/yugabyte/yugabyte-db/issues/1557\n",
      "2022-08-16 10:43:50.832 PDT [29881] FATAL:  could not create shared memory segment: Cannot allocate memory\n",
      "2022-08-16 10:43:50.832 PDT [29881] DETAIL:  Failed system call was shmget(key=5432018, size=56, 03600).\n",
      "2022-08-16 10:43:50.832 PDT [29881] HINT:  This error usually means that PostgreSQL's request for a shared memory segment exceeded your kernel's SHMALL parameter.  You might need to reconfigure the kernel with larger SHMALL.\n",
      "\tThe PostgreSQL documentation contains more information about shared memory configuration.\n",
      "child process exited with exit code 1initdb: removing data directory \"/Users/markkim/yugabyte-data/node-3/disk-1/pg_data\"\n",
      "F0816 10:43:50.839991 83674624 tablet_server_main.cc:221] Runtime error (yb/yql/pgwrapper/pg_wrapper.cc:480): /Users/markkim/Documents/yugabyteDB/yugabyte-2.14.1.0/postgres/bin/initdb failed with exit code 1\n",
      "Fatal failure details written to /Users/markkim/yugabyte-data/node-3/disk-1/yb-data/tserver/logs/yb-tserver.FATAL.details.2022-08-16T10_43_50.pid29697.txt\n",
      "F20220816 10:43:50 ../../src/yb/tserver/tablet_server_main.cc:221] Runtime error (yb/yql/pgwrapper/pg_wrapper.cc:480): /Users/markkim/Documents/yugabyteDB/yugabyte-2.14.1.0/postgres/bin/initdb failed with exit code 1\n",
      "    @        0x1160a7ef3  google::LogDestination::LogToSinks()\n",
      "    @        0x1160a715c  google::LogMessage::SendToLog()\n",
      "    @        0x1160a7a55  google::LogMessage::Flush()\n",
      "    @        0x1160ac8af  google::LogMessageFatal::~LogMessageFatal()\n",
      "    @        0x1160a8a69  google::LogMessageFatal::~LogMessageFatal()\n",
      "    @        0x104ca42bc  yb::tserver::(anonymous namespace)::TabletServerMain()\n",
      "    @        0x104ca1f19  main\n",
      "\n",
      "*** Check failure stack trace: ***\n",
      "    @        0x1160a72d8  google::LogMessage::SendToLog()\n",
      "    @        0x1160a7a55  google::LogMessage::Flush()\n",
      "    @        0x1160ac8af  google::LogMessageFatal::~LogMessageFatal()\n",
      "    @        0x1160a8a69  google::LogMessageFatal::~LogMessageFatal()\n",
      "    @        0x104ca42bc  yb::tserver::(anonymous namespace)::TabletServerMain()\n",
      "    @        0x104ca1f19  main\n",
      "Viewing file /var/folders/1w/vsyvrf3s2tsfqx_3qbmwsbvw0000gn/T/tmpbwc3fdga:\n",
      "2022-08-16 10:43:44,610 INFO: Starting master-1 with:\n",
      "/Users/markkim/Documents/yugabyteDB/yugabyte-2.14.1.0/bin/yb-master --fs_data_dirs \"/Users/markkim/yugabyte-data/node-1/disk-1\" --webserver_interface 127.0.0.1 --rpc_bind_addresses 127.0.0.1 --v 0 --version_file_json_path=/Users/markkim/Documents/yugabyteDB/yugabyte-2.14.1.0 --webserver_doc_root \"/Users/markkim/Documents/yugabyteDB/yugabyte-2.14.1.0/www\" --replication_factor=3 --yb_num_shards_per_tserver 1 --ysql_num_shards_per_tserver=2 --default_memory_limit_to_ram_ratio=0.35 --master_addresses 127.0.0.1:7100,127.0.0.2:7100,127.0.0.3:7100 --enable_ysql=true --yb_num_shards_per_tserver=1 --ysql_num_shards_per_tserver=1 --placement_cloud cloud1 --placement_region region1 --placement_zone zone1 >\"/Users/markkim/yugabyte-data/node-1/disk-1/master.out\" 2>\"/Users/markkim/yugabyte-data/node-1/disk-1/master.err\" &\n",
      "2022-08-16 10:43:44,631 INFO: Starting master-2 with:\n",
      "/Users/markkim/Documents/yugabyteDB/yugabyte-2.14.1.0/bin/yb-master --fs_data_dirs \"/Users/markkim/yugabyte-data/node-2/disk-1\" --webserver_interface 127.0.0.2 --rpc_bind_addresses 127.0.0.2 --v 0 --version_file_json_path=/Users/markkim/Documents/yugabyteDB/yugabyte-2.14.1.0 --webserver_doc_root \"/Users/markkim/Documents/yugabyteDB/yugabyte-2.14.1.0/www\" --replication_factor=3 --yb_num_shards_per_tserver 1 --ysql_num_shards_per_tserver=2 --default_memory_limit_to_ram_ratio=0.35 --master_addresses 127.0.0.1:7100,127.0.0.2:7100,127.0.0.3:7100 --enable_ysql=true --yb_num_shards_per_tserver=1 --ysql_num_shards_per_tserver=1 --placement_cloud cloud2 --placement_region region1 --placement_zone zone2 >\"/Users/markkim/yugabyte-data/node-2/disk-1/master.out\" 2>\"/Users/markkim/yugabyte-data/node-2/disk-1/master.err\" &\n",
      "2022-08-16 10:43:44,664 INFO: Starting master-3 with:\n",
      "/Users/markkim/Documents/yugabyteDB/yugabyte-2.14.1.0/bin/yb-master --fs_data_dirs \"/Users/markkim/yugabyte-data/node-3/disk-1\" --webserver_interface 127.0.0.3 --rpc_bind_addresses 127.0.0.3 --v 0 --version_file_json_path=/Users/markkim/Documents/yugabyteDB/yugabyte-2.14.1.0 --webserver_doc_root \"/Users/markkim/Documents/yugabyteDB/yugabyte-2.14.1.0/www\" --replication_factor=3 --yb_num_shards_per_tserver 1 --ysql_num_shards_per_tserver=2 --default_memory_limit_to_ram_ratio=0.35 --master_addresses 127.0.0.1:7100,127.0.0.2:7100,127.0.0.3:7100 --enable_ysql=true --yb_num_shards_per_tserver=1 --ysql_num_shards_per_tserver=1 --placement_cloud cloud3 --placement_region region1 --placement_zone zone3 >\"/Users/markkim/yugabyte-data/node-3/disk-1/master.out\" 2>\"/Users/markkim/yugabyte-data/node-3/disk-1/master.err\" &\n",
      "2022-08-16 10:43:44,686 INFO: Starting tserver-1 with:\n",
      "/Users/markkim/Documents/yugabyteDB/yugabyte-2.14.1.0/bin/yb-tserver --fs_data_dirs \"/Users/markkim/yugabyte-data/node-1/disk-1\" --webserver_interface 127.0.0.1 --rpc_bind_addresses 127.0.0.1 --v 0 --version_file_json_path=/Users/markkim/Documents/yugabyteDB/yugabyte-2.14.1.0 --webserver_doc_root \"/Users/markkim/Documents/yugabyteDB/yugabyte-2.14.1.0/www\" --tserver_master_addrs=127.0.0.1:7100,127.0.0.2:7100,127.0.0.3:7100 --yb_num_shards_per_tserver=1 --redis_proxy_bind_address=127.0.0.1:6379 --cql_proxy_bind_address=127.0.0.1:9042 --local_ip_for_outbound_sockets=127.0.0.1 --use_cassandra_authentication=false --ysql_num_shards_per_tserver=2 --default_memory_limit_to_ram_ratio=0.65 --enable_ysql=true --pgsql_proxy_bind_address=127.0.0.1:5433 --yb_num_shards_per_tserver=1 --ysql_num_shards_per_tserver=1 --ysql_beta_features=true --webserver_port=8200 --placement_cloud cloud1 --placement_region region1 --placement_zone zone1 >\"/Users/markkim/yugabyte-data/node-1/disk-1/tserver.out\" 2>\"/Users/markkim/yugabyte-data/node-1/disk-1/tserver.err\" &\n",
      "2022-08-16 10:43:44,710 INFO: Starting tserver-2 with:\n",
      "/Users/markkim/Documents/yugabyteDB/yugabyte-2.14.1.0/bin/yb-tserver --fs_data_dirs \"/Users/markkim/yugabyte-data/node-2/disk-1\" --webserver_interface 127.0.0.2 --rpc_bind_addresses 127.0.0.2 --v 0 --version_file_json_path=/Users/markkim/Documents/yugabyteDB/yugabyte-2.14.1.0 --webserver_doc_root \"/Users/markkim/Documents/yugabyteDB/yugabyte-2.14.1.0/www\" --tserver_master_addrs=127.0.0.1:7100,127.0.0.2:7100,127.0.0.3:7100 --yb_num_shards_per_tserver=1 --redis_proxy_bind_address=127.0.0.2:6379 --cql_proxy_bind_address=127.0.0.2:9042 --local_ip_for_outbound_sockets=127.0.0.2 --use_cassandra_authentication=false --ysql_num_shards_per_tserver=2 --default_memory_limit_to_ram_ratio=0.65 --enable_ysql=true --pgsql_proxy_bind_address=127.0.0.2:5433 --yb_num_shards_per_tserver=1 --ysql_num_shards_per_tserver=1 --ysql_beta_features=true --webserver_port=8200 --placement_cloud cloud2 --placement_region region1 --placement_zone zone2 >\"/Users/markkim/yugabyte-data/node-2/disk-1/tserver.out\" 2>\"/Users/markkim/yugabyte-data/node-2/disk-1/tserver.err\" &\n",
      "2022-08-16 10:43:44,729 INFO: Starting tserver-3 with:\n",
      "/Users/markkim/Documents/yugabyteDB/yugabyte-2.14.1.0/bin/yb-tserver --fs_data_dirs \"/Users/markkim/yugabyte-data/node-3/disk-1\" --webserver_interface 127.0.0.3 --rpc_bind_addresses 127.0.0.3 --v 0 --version_file_json_path=/Users/markkim/Documents/yugabyteDB/yugabyte-2.14.1.0 --webserver_doc_root \"/Users/markkim/Documents/yugabyteDB/yugabyte-2.14.1.0/www\" --tserver_master_addrs=127.0.0.1:7100,127.0.0.2:7100,127.0.0.3:7100 --yb_num_shards_per_tserver=1 --redis_proxy_bind_address=127.0.0.3:6379 --cql_proxy_bind_address=127.0.0.3:9042 --local_ip_for_outbound_sockets=127.0.0.3 --use_cassandra_authentication=false --ysql_num_shards_per_tserver=2 --default_memory_limit_to_ram_ratio=0.65 --enable_ysql=true --pgsql_proxy_bind_address=127.0.0.3:5433 --yb_num_shards_per_tserver=1 --ysql_num_shards_per_tserver=1 --ysql_beta_features=true --webserver_port=8200 --placement_cloud cloud3 --placement_region region1 --placement_zone zone3 >\"/Users/markkim/yugabyte-data/node-3/disk-1/tserver.out\" 2>\"/Users/markkim/yugabyte-data/node-3/disk-1/tserver.err\" &\n",
      "2022-08-16 10:43:44,736 INFO: Waiting for master and tserver processes to come up.\n",
      "2022-08-16 10:43:44,911 INFO: Waiting for master leader election and tablet server registration.\n",
      "2022-08-16 10:43:50,293 INFO: Waiting for all tablet servers to register: 0/3\n",
      "2022-08-16 10:43:51,489 INFO: PIDs found: {'master': [29682, 29685, 29688], 'tserver': [None, None, None]}\n",
      "2022-08-16 10:43:51,489 ERROR: At least one master or tserver process is down.\n"
     ]
    },
    {
     "name": "stdout",
     "output_type": "stream",
     "text": [
      "^^^ Encountered errors ^^^\n",
      "----------------------------------------------------------------------------------------------------\n",
      "| Node Count: 3 | Replication Factor: 1                                                            |\n",
      "----------------------------------------------------------------------------------------------------\n",
      "| JDBC                : jdbc:postgresql://127.0.0.1:5433/yugabyte                                  |\n",
      "| YSQL Shell          : bin/ysqlsh                                                                 |\n",
      "| YCQL Shell          : bin/ycqlsh                                                                 |\n",
      "| YEDIS Shell         : bin/redis-cli                                                              |\n",
      "| Web UI              : http://127.0.0.1:7000/                                                     |\n",
      "| Cluster Data        : /Users/markkim/yugabyte-data                                               |\n",
      "----------------------------------------------------------------------------------------------------\n",
      "----------------------------------------------------------------------------------------------------\n",
      "| Node 1: yb-tserver (Stopped), yb-master (pid 29682)                                              |\n",
      "----------------------------------------------------------------------------------------------------\n",
      "| JDBC                : jdbc:postgresql://127.0.0.1:5433/yugabyte                                  |\n",
      "| YSQL Shell          : bin/ysqlsh                                                                 |\n",
      "| YCQL Shell          : bin/ycqlsh                                                                 |\n",
      "| YEDIS Shell         : bin/redis-cli                                                              |\n",
      "| data-dir[0]         : /Users/markkim/yugabyte-data/node-1/disk-1/yb-data                         |\n",
      "| yb-tserver Logs     : /Users/markkim/yugabyte-data/node-1/disk-1/yb-data/tserver/logs            |\n",
      "| yb-master Logs      : /Users/markkim/yugabyte-data/node-1/disk-1/yb-data/master/logs             |\n",
      "----------------------------------------------------------------------------------------------------\n",
      "----------------------------------------------------------------------------------------------------\n",
      "| Node 2: yb-tserver (Stopped), yb-master (pid 29685)                                              |\n",
      "----------------------------------------------------------------------------------------------------\n",
      "| JDBC                : jdbc:postgresql://127.0.0.2:5433/yugabyte                                  |\n",
      "| YSQL Shell          : bin/ysqlsh -h 127.0.0.2                                                    |\n",
      "| YCQL Shell          : bin/ycqlsh 127.0.0.2                                                       |\n",
      "| YEDIS Shell         : bin/redis-cli -h 127.0.0.2                                                 |\n",
      "| data-dir[0]         : /Users/markkim/yugabyte-data/node-2/disk-1/yb-data                         |\n",
      "| yb-tserver Logs     : /Users/markkim/yugabyte-data/node-2/disk-1/yb-data/tserver/logs            |\n",
      "| yb-master Logs      : /Users/markkim/yugabyte-data/node-2/disk-1/yb-data/master/logs             |\n",
      "----------------------------------------------------------------------------------------------------\n",
      "----------------------------------------------------------------------------------------------------\n",
      "| Node 3: yb-tserver (Stopped), yb-master (pid 29688)                                              |\n",
      "----------------------------------------------------------------------------------------------------\n",
      "| JDBC                : jdbc:postgresql://127.0.0.3:5433/yugabyte                                  |\n",
      "| YSQL Shell          : bin/ysqlsh -h 127.0.0.3                                                    |\n",
      "| YCQL Shell          : bin/ycqlsh 127.0.0.3                                                       |\n",
      "| YEDIS Shell         : bin/redis-cli -h 127.0.0.3                                                 |\n",
      "| data-dir[0]         : /Users/markkim/yugabyte-data/node-3/disk-1/yb-data                         |\n",
      "| yb-tserver Logs     : /Users/markkim/yugabyte-data/node-3/disk-1/yb-data/tserver/logs            |\n",
      "| yb-master Logs      : /Users/markkim/yugabyte-data/node-3/disk-1/yb-data/master/logs             |\n",
      "----------------------------------------------------------------------------------------------------\n"
     ]
    }
   ],
   "source": [
    "%%bash -s \"$MY_YB_PATH\" \"$MY_TSERVER_WEBSERVER_PORT\"  # yb-ctl create\n",
    "YB_PATH=${1}\n",
    "TSERVER_WEBSERVER_PORT=${2}\n",
    "\n",
    "cd $YB_PATH\n",
    "\n",
    "### Grep port 9000 for conflict\n",
    "# lsof -nP -iTCP -sTCP:LISTEN | grep 9000\n",
    "\n",
    "# Stop running cluster\n",
    "if  pgrep -x \"yb-tserver\" > /dev/null \n",
    "then\n",
    "    ./bin/yb-ctl stop\n",
    "    sleep 1\n",
    "fi\n",
    "\n",
    "# Destroy cluster\n",
    "if echo `./bin/yb-ctl status` | grep \"Node Count\"  > /dev/null \n",
    "then\n",
    "    ./bin/yb-ctl destroy\n",
    "    sleep 1\n",
    "fi\n",
    "\n",
    "# Create cluster\n",
    "./bin/yb-ctl --rf 3 create  \\\n",
    "--tserver_flags \"yb_num_shards_per_tserver=1,ysql_num_shards_per_tserver=1,ysql_beta_features=true,webserver_port=\"${TSERVER_WEBSERVER_PORT}  \\\n",
    "--master_flags \"yb_num_shards_per_tserver=1,ysql_num_shards_per_tserver=1\" \\\n",
    "--num_shards_per_tserver=1  \\\n",
    "--placement_info \"cloud1.region1.zone1,cloud2.region1.zone2,cloud3.region1.zone3\" \n",
    "\n",
    "# Output status\n",
    "./bin/yb-ctl status"
   ]
  },
  {
   "cell_type": "markdown",
   "metadata": {
    "deletable": false,
    "editable": false
   },
   "source": [
    "### Create the `db_ybu` database with `ysqlsh`\n",
    "Run the following cell to connect to the local host using `ysqlsh`, create the `db_ybu` database, and then list the databases."
   ]
  },
  {
   "cell_type": "code",
   "execution_count": null,
   "metadata": {
    "vscode": {
     "languageId": "shellscript"
    }
   },
   "outputs": [],
   "source": [
    "%%bash -s \"$MY_YB_PATH\" \"$MY_DB_NAME\"  # create database\n",
    "YB_PATH=${1}\n",
    "DB_NAME=${2}\n",
    "\n",
    "cd $YB_PATH\n",
    "\n",
    "# drop and create\n",
    "./bin/ysqlsh -d yugabyte -c \"drop database if exists \"${DB_NAME}\";\"  \n",
    "./bin/ysqlsh -d yugabyte -c \"create database \"${DB_NAME}\";\" \n",
    "\n",
    "# list dbs\n",
    "./bin/ysqlsh -d yugabyte -c \"\\l\""
   ]
  },
  {
   "cell_type": "markdown",
   "metadata": {
    "deletable": false,
    "editable": false
   },
   "source": [
    "## Connect to YugabyteDB using the PostgreSQL Driver for Python\n",
    "The following cells requires:\n",
    "- Python 3.8+ and psycopg2"
   ]
  },
  {
   "cell_type": "markdown",
   "metadata": {
    "deletable": false,
    "editable": false
   },
   "source": [
    "### Create tables and loaded data using DDL and DML scripts\n",
    "In this section of the notebook, you will:\n",
    "- Create tables with a DDL script\n",
    "- Load data with a DML script\n",
    "- Verify the creation of tables and data\n",
    "- View the DDL for tbl_countries"
   ]
  },
  {
   "cell_type": "markdown",
   "metadata": {
    "deletable": false,
    "editable": false
   },
   "source": [
    "##### Create tables, load data, and review relations\n",
    "Run the following cell to execute the DDL and DML scripts using `ysqlsh`."
   ]
  },
  {
   "cell_type": "code",
   "execution_count": null,
   "metadata": {
    "vscode": {
     "languageId": "shellscript"
    }
   },
   "outputs": [],
   "source": [
    "%%bash -s \"$MY_YB_PATH\" \"$MY_DB_NAME\" \"$MY_NOTEBOOK_DATA_FOLDER\" \"$MY_DATA3_DDL_FILE\" \"$MY_DATA3_DML_FILE\"   # World Cities\n",
    "YB_PATH=${1}\n",
    "DB_NAME=${2}\n",
    "DATA_FOLDER=${3}\n",
    "DATA_DDL_FILE=${4}\n",
    "DATA_DML_FILE=${5}\n",
    "\n",
    "#ls $DATA_FOLDER\n",
    "\n",
    "COMPANY_DDL_PATH=${DATA_FOLDER}/${DATA_DDL_FILE}\n",
    "COMPANY_DML_PATH=${DATA_FOLDER}/${DATA_DML_FILE}\n",
    "\n",
    "cd $YB_PATH\n",
    "\n",
    "# DDL file\n",
    "./bin/ysqlsh -d ${DB_NAME} -f ${COMPANY_DDL_PATH} >&/dev/null\n",
    "sleep 1;\n",
    "\n",
    "# DML file\n",
    "./bin/ysqlsh -d ${DB_NAME} -f ${COMPANY_DML_PATH} >&/dev/null\n",
    "sleep 1;\n",
    "\n",
    "# Describe relations\n",
    "./bin/ysqlsh -d ${DB_NAME} -c \"\\d\""
   ]
  },
  {
   "cell_type": "markdown",
   "metadata": {
    "deletable": false,
    "editable": false
   },
   "source": [
    "##### View DDL for Table partitions\n",
    "Run the following cell using `ysqlsh` to view a table definition.\n",
    "\n",
    "> Note\n",
    "> \n",
    "> SQL magic does not support PostgreSQL `psql` commands. In order to execute `psql` commands, the notebook uses bash and `ysqlsh`.\n",
    "\n"
   ]
  },
  {
   "cell_type": "code",
   "execution_count": null,
   "metadata": {
    "vscode": {
     "languageId": "shellscript"
    }
   },
   "outputs": [],
   "source": [
    "%%bash -s \"$MY_YB_PATH\" \"$MY_DB_NAME\"  \n",
    "\n",
    "YB_PATH=${1}\n",
    "DB_NAME=${2}\n",
    "\n",
    "cd $YB_PATH\n",
    "\n",
    "./bin/ysqlsh -d ${DB_NAME} -c \"\\dt\"\n",
    "./bin/ysqlsh -d ${DB_NAME} -c \"\\d order_changes\"\n",
    "./bin/ysqlsh -d ${DB_NAME} -c \"\\d order_changes_2019_02\"\n",
    "./bin/ysqlsh -d ${DB_NAME} -c \"\\d order_changes_2019_03\"\n",
    "./bin/ysqlsh -d ${DB_NAME} -c \"\\d order_changes_default\""
   ]
  },
  {
   "cell_type": "code",
   "execution_count": null,
   "metadata": {
    "deletable": false,
    "editable": false
   },
   "outputs": [],
   "source": [
    "# Connect to db_ybu\n",
    "# Inspiration from https://medium.com/analytics-vidhya/postgresql-integration-with-jupyter-notebook-deb97579a38d\n",
    "import psycopg2\n",
    "import sqlalchemy as alc\n",
    "from sqlalchemy import create_engine\n",
    "\n",
    "# env_var.env\n",
    "db_host=MY_HOST_IPv4_01\n",
    "db_name=MY_DB_NAME\n",
    "\n",
    "connection_str='postgresql+psycopg2://yugabyte@'+db_host+':5433/'+db_name\n",
    "\n",
    "# engine = create_engine(connection_str)"
   ]
  },
  {
   "cell_type": "markdown",
   "metadata": {
    "deletable": false,
    "editable": false
   },
   "source": [
    "#### Load SQL magic extension\n",
    ">IMPORTANT!\n",
    ">\n",
    "> To use SQL magic, you must run the following cell that loads the notebook extension."
   ]
  },
  {
   "cell_type": "code",
   "execution_count": null,
   "metadata": {},
   "outputs": [],
   "source": [
    "%reload_ext sql\n",
    "# creates connection for sql magic\n",
    "%sql {connection_str}"
   ]
  },
  {
   "cell_type": "markdown",
   "metadata": {
    "deletable": false,
    "editable": false
   },
   "source": [
    "#### Show table row counts\n",
    "Run the cell below to view the row counts for the tables."
   ]
  },
  {
   "cell_type": "markdown",
   "metadata": {},
   "source": [
    "A SQL update can compute the new value and return it without the need to query again. The following adds 100 to the salaries of all employees who are not managers and show the new value"
   ]
  },
  {
   "cell_type": "code",
   "execution_count": null,
   "metadata": {
    "vscode": {
     "languageId": "sql"
    }
   },
   "outputs": [],
   "source": [
    "%%sql /* Table Reads */\n",
    "\n",
    "-- INSERT INTO order_changes VALUES (1, 1001, '2019-02-15', 'move oven');\n",
    "-- INSERT INTO order_changes VALUES (1, 1001, '2019-02-10', 'run cable');\n",
    "-- INSERT INTO order_changes VALUES (2, 2002, '2019-03-5', 'add 2nd shower');\n",
    "-- INSERT INTO order_changes VALUES (3, 2002, '2019-04-5', 'add 3nd shower');\n",
    "\n",
    "-- SELECT * FROM order_changes;\n",
    "-- SELECT * FROM order_changes_2019_03;\n",
    "SELECT * FROM order_changes_2019_02;\n",
    "-- SELECT * FROM order_changes_default;"
   ]
  },
  {
   "cell_type": "markdown",
   "metadata": {},
   "source": [
    "Scenario 2. Join\n",
    "List all employees earning more than their managers using a self-join query.\n",
    "\n",
    "Description\n",
    "A self join is a regular join, but the table is joined with itself. The following SQL statement matches employees with their manager and filters those that are earning more than their manager."
   ]
  },
  {
   "cell_type": "code",
   "execution_count": null,
   "metadata": {
    "vscode": {
     "languageId": "sql"
    }
   },
   "outputs": [],
   "source": [
    "%%sql\n",
    "\n",
    "SELECT \n",
    "  employee.ename,\n",
    "  employee.sal,\n",
    "  manager.ename as \"manager ename\",\n",
    "  manager.sal as \"manager sal\"\n",
    "FROM\n",
    "  emp employee\n",
    "JOIN emp manager ON\n",
    "  employee.mgr = manager.empno\n",
    "WHERE\n",
    "  manager.sal<employee.sal\n",
    "ORDER BY employee.sal;"
   ]
  },
  {
   "cell_type": "markdown",
   "metadata": {},
   "source": [
    "Scenario 4. Indexes\n",
    "Create and analyze index on the fly\n",
    "\n",
    "Description\n",
    "Create a new table and a specific index to avoid table scan and sorts\n",
    "\n",
    "SQL Statement\n",
    "Step 1: Create a new demo table with randomly generated rows\n",
    "\n",
    "GENERATE_SERIES function can generate rows. The following uses it to create a table with 42 rows and a random value from 1 to 10"
   ]
  },
  {
   "cell_type": "code",
   "execution_count": null,
   "metadata": {
    "vscode": {
     "languageId": "sql"
    }
   },
   "outputs": [],
   "source": [
    "%%sql \n",
    "\n",
    "create table demo as select generate_series(1,42) num, round(10*random()) val;"
   ]
  },
  {
   "cell_type": "markdown",
   "metadata": {},
   "source": [
    "Step 2: Create the index “demo_val” on demo table\n",
    "\n",
    "With the goal to query, for a value, with numbers ordered, in the most efficient way, the following creates an index on “val” (hashed for distribution) and “num” in ascending order"
   ]
  },
  {
   "cell_type": "code",
   "execution_count": null,
   "metadata": {
    "vscode": {
     "languageId": "sql"
    }
   },
   "outputs": [],
   "source": [
    "%%sql\n",
    "\n",
    "create index demo_val on demo(val hash,num asc);"
   ]
  },
  {
   "cell_type": "markdown",
   "metadata": {},
   "source": [
    "Step 3: Gather optimizer statistics on table demo\n",
    "\n",
    "The query planner chooses the best access path when provided with statistics about the data stored in the table. The following gathers those statistics."
   ]
  },
  {
   "cell_type": "code",
   "execution_count": null,
   "metadata": {
    "vscode": {
     "languageId": "sql"
    }
   },
   "outputs": [],
   "source": [
    "%%sql \n",
    "\n",
    "analyze demo;"
   ]
  },
  {
   "cell_type": "markdown",
   "metadata": {},
   "source": [
    "Step 4: Query the Top-3 numbers for a specific value\n",
    "\n",
    "The following displays the Top-3 numbers for the value 5"
   ]
  },
  {
   "cell_type": "code",
   "execution_count": null,
   "metadata": {
    "vscode": {
     "languageId": "sql"
    }
   },
   "outputs": [],
   "source": [
    "%%sql\n",
    "\n",
    "select * from demo where val=5 order by num asc fetch first 3 rows only;"
   ]
  },
  {
   "cell_type": "markdown",
   "metadata": {},
   "source": [
    "Step 5: Verify that index is leading to faster query execution using explain analyze\n",
    "\n",
    "When defining an index for a specific access pattern, it is good that the developer verifies that the index is used. The following shows that an “Index Only Scan” was used, without the need for an additional “Sort” operation"
   ]
  },
  {
   "cell_type": "code",
   "execution_count": null,
   "metadata": {
    "vscode": {
     "languageId": "sql"
    }
   },
   "outputs": [],
   "source": [
    "%%sql\n",
    "\n",
    "explain analyze select * from demo where val=5 order by num fetch first 3 rows only;"
   ]
  },
  {
   "cell_type": "markdown",
   "metadata": {},
   "source": [
    "Step 6: Clean up the table for this exercise.\n",
    "\n",
    "To leave the database in the same state as before this exercise, the following removes the demo table created before"
   ]
  },
  {
   "cell_type": "code",
   "execution_count": null,
   "metadata": {
    "vscode": {
     "languageId": "sql"
    }
   },
   "outputs": [],
   "source": [
    "%%sql\n",
    "\n",
    "drop table if exists demo;"
   ]
  },
  {
   "cell_type": "markdown",
   "metadata": {},
   "source": [
    "2. Built-in Functions\n",
    "Learn powerful functions for performing complex database operations with ease\n",
    "\n",
    "Scenario 1. Window Functions\n",
    "Compare employees hiring time interval by department using LAG function\n",
    "\n",
    "LAG is a window function that provides access to the row before the current one. The following SQL statement uses WINDOW to define groups of employees by department, in order of their hiring date. LAG is used to access the previous row in this group, to compare the hiring date interval between two employees. FORMAT builds a text from column values, and COALESCE handles the first hire for which there is no previous row in the group. Without those window functions, this query would have required reading the same table two times.\n"
   ]
  },
  {
   "cell_type": "code",
   "execution_count": null,
   "metadata": {
    "vscode": {
     "languageId": "sql"
    }
   },
   "outputs": [],
   "source": [
    "%%sql\n",
    "\n",
    "select\n",
    "dname,ename,job,\n",
    "coalesce (\n",
    "  'hired '||to_char(hiredate -\n",
    "    lag(hiredate) over (per_dept_hiredate),'999')||' days after '||\n",
    "    lag(ename) over (per_dept_hiredate),\n",
    "    format('(1st hire in %L)',dname)\n",
    ") as \"last hire in dept\"\n",
    "from emp join dept using(deptno)\n",
    "window per_dept_hiredate\n",
    "  as (partition by dname order by hiredate)\n",
    "order by dname,hiredate;"
   ]
  },
  {
   "cell_type": "markdown",
   "metadata": {},
   "source": [
    "Scenario 2. Regexp Matching\n",
    "List all employees with @gmail or .org in their email addresses\n",
    "Description\n",
    "REGEXP performs a pattern match of a string expression. The following lists employees with an e-mail ending in ‘.org’ or a domain starting with ‘gmail.’"
   ]
  },
  {
   "cell_type": "code",
   "execution_count": null,
   "metadata": {
    "vscode": {
     "languageId": "sql"
    }
   },
   "outputs": [],
   "source": [
    "%%sql\n",
    "\n",
    "select * from emp\n",
    "where email ~ any ( ARRAY[ '@.*\\.org$' , '@gmail\\.' ] );"
   ]
  },
  {
   "cell_type": "markdown",
   "metadata": {},
   "source": [
    "Scenario 3. Arithmetic Date Intervals\n",
    "\n",
    "The interval data type allows you to store and manipulate a period of time in years, months, days... The following example compares overlapping evaluation periods. A WITH clause defines the evaluation period length depending on the job.\n",
    "\n",
    "Find employees with overlapping evaluation periods"
   ]
  },
  {
   "cell_type": "code",
   "execution_count": null,
   "metadata": {
    "vscode": {
     "languageId": "sql"
    }
   },
   "outputs": [],
   "source": [
    "%%sql\n",
    "\n",
    "with emp_evaluation_period as (\n",
    " select ename,deptno,hiredate,\n",
    " hiredate + case when job in ('MANAGER','PRESIDENT')\n",
    " then interval '3 month' else interval '4 weeks'\n",
    " end evaluation_end from emp)\n",
    "select * from emp_evaluation_period e1\n",
    " join emp_evaluation_period e2\n",
    " on (e1.ename>e2.ename) and (e1.deptno=e2.deptno)\n",
    "where (e1.hiredate,e1.evaluation_end)\n",
    " overlaps (e2.hiredate,e2.evaluation_end);"
   ]
  },
  {
   "cell_type": "markdown",
   "metadata": {},
   "source": [
    "Scenario 4. CROSSTABVIEW\n",
    "Description\n",
    "CROSSTABVIEW is a client command to display rows as columns. The following sums the salaries across jobs and departments and displays them as a cross-table\n",
    "\n",
    "Display total salary per job and department as a cross-table"
   ]
  },
  {
   "cell_type": "code",
   "execution_count": null,
   "metadata": {
    "vscode": {
     "languageId": "sql"
    }
   },
   "outputs": [],
   "source": [
    "%%sql\n",
    "\n",
    "select job, dname, sum(sal)\n",
    "from emp join dept using(deptno)\n",
    "group by dname, job"
   ]
  },
  {
   "cell_type": "markdown",
   "metadata": {},
   "source": [
    "Scenario 5. NTILE Function\n",
    "\n",
    "Split e-mails in 3 groups and format them\n",
    "\n",
    "In order to send e-mails to all employees in different batches, you will split them into 3 groups using the NTILE function, and format them with the FORMAT function and aggregate them in a comma-separated list with the STRING_AGG function"
   ]
  },
  {
   "cell_type": "code",
   "execution_count": null,
   "metadata": {
    "vscode": {
     "languageId": "sql"
    }
   },
   "outputs": [],
   "source": [
    "%%sql\n",
    "\n",
    "with groups as (\n",
    " select ntile(3) over (order by empno) group_num\n",
    " ,* \n",
    " from emp\n",
    ")\n",
    "select string_agg(format('<%s> %s',ename,email),', ') \n",
    "from groups group by group_num;"
   ]
  },
  {
   "cell_type": "markdown",
   "metadata": {},
   "source": [
    "Advanced Features\n",
    "Expand your YSQL skills by completing the following 5 scenarios\n",
    "\n",
    "Scenario 1. GIN Index on Document\n",
    "List employees that know SQL\n",
    "Description\n",
    "The skills are stored in the semi-structured JSON document. We can query them with @>, ?, ?& and ?| operators. And, for best performance, index them.\n",
    "\n",
    "SQL Statement\n",
    "Step 1: Create GIN index on JSON document\n",
    "\n",
    "GIN indexes can provide fast access to elements inside a JSON document. The following creates an index on the ‘skills’ attributes within ‘other_info’ JSON column"
   ]
  },
  {
   "cell_type": "code",
   "execution_count": null,
   "metadata": {
    "vscode": {
     "languageId": "sql"
    }
   },
   "outputs": [],
   "source": [
    "%%sql \n",
    "\n",
    "create index emp_skills on emp using gin((other_info->'skills'));"
   ]
  },
  {
   "cell_type": "markdown",
   "metadata": {},
   "source": [
    "Step 2: Query the JSON attribute list\n",
    "\n",
    "SQL queries can navigate into the JSON document with -> and check if an array contains a value with @>. The following searches the employees with the “SQL” skill"
   ]
  },
  {
   "cell_type": "code",
   "execution_count": null,
   "metadata": {
    "vscode": {
     "languageId": "sql"
    }
   },
   "outputs": [],
   "source": [
    "%%sql \n",
    "\n",
    "select * from emp where other_info->'skills' @> '\"SQL\"' ;"
   ]
  },
  {
   "cell_type": "markdown",
   "metadata": {},
   "source": [
    "Step 3: Use Explain pla to verify that index is used\n",
    "\n",
    "Thanks to the GIN index, this search doesn’t need to read all documents. The following shows the execution plan being an indexed access path."
   ]
  },
  {
   "cell_type": "code",
   "execution_count": null,
   "metadata": {
    "vscode": {
     "languageId": "sql"
    }
   },
   "outputs": [],
   "source": [
    "%%sql\n",
    "\n",
    "explain select * from emp where other_info->'skills' @> '\"SQL\"' ;"
   ]
  },
  {
   "cell_type": "markdown",
   "metadata": {},
   "source": [
    "Scenario 2. Text Search\n",
    "Build a search index on department descriptions\n",
    "\n",
    "Description\n",
    "SQL queries can search in the text for some words using the to_tsvector() function to extract a list of words that can be compared. We will find all department descriptions with the words 'responsible' and 'services' in it\n",
    "\n",
    "SQL Statement\n",
    "Step 1: Create text search index on the description column\n",
    "\n",
    "GIN indexes can provide fast access to words inside a text. The following creates an index for the simple-grammar vector of words extracted from the department description"
   ]
  },
  {
   "cell_type": "code",
   "execution_count": null,
   "metadata": {
    "vscode": {
     "languageId": "sql"
    }
   },
   "outputs": [],
   "source": [
    "%%sql\n",
    "\n",
    "create index dept_description_text_search on dept using gin (( to_tsvector('simple',description) ));"
   ]
  },
  {
   "cell_type": "markdown",
   "metadata": {},
   "source": [
    "Step 2: Query on description for matching words\n",
    "\n",
    "The following compares the simple-grammar vector of words extracted from the department description with a word search pattern to find the departments which contain ‘responsible’ and ‘services’ in their description."
   ]
  },
  {
   "cell_type": "code",
   "execution_count": null,
   "metadata": {
    "vscode": {
     "languageId": "sql"
    }
   },
   "outputs": [],
   "source": [
    "%%sql\n",
    "\n",
    "select * from dept where to_tsvector('simple',description) @@ to_tsquery('simple','responsible & services');"
   ]
  },
  {
   "cell_type": "markdown",
   "metadata": {},
   "source": [
    "Step 3: Explain plan to verify that index is used\n",
    "\n",
    "Thanks to the GIN index, this search doesn’t need to read all rows and text. The following shows the execution plan being an indexed access path"
   ]
  },
  {
   "cell_type": "code",
   "execution_count": null,
   "metadata": {
    "vscode": {
     "languageId": "sql"
    }
   },
   "outputs": [],
   "source": [
    "%%sql\n",
    "\n",
    "explain select * from dept where to_tsvector('simple',description) @@ to_tsquery('simple','responsible & services');"
   ]
  },
  {
   "cell_type": "markdown",
   "metadata": {},
   "source": [
    "Scenario 3. Stored Procedures\n",
    "Transfer commission from one employee to another\n",
    "\n",
    "\n",
    "Description\n",
    "A stored procedure can encapsulate a procedural logic into an atomic operation. We will create one in PL/pgSQL, named \"commission_transfer\", that transfers commission “amount” from “empno1” to “empno2”\n",
    "\n",
    "SQL Statement\n",
    "Step 1: Create the procedure for the commission transfer between employees\n",
    "\n",
    "The procedure has two SQL operations: decrease from “empno1” and add to “empno2”. Plus error checking to raise a custom exception if “empno1” doesn’t have the amount to be transferred"
   ]
  },
  {
   "cell_type": "code",
   "execution_count": null,
   "metadata": {
    "vscode": {
     "languageId": "sql"
    }
   },
   "outputs": [],
   "source": [
    "%%sql\n",
    "\n",
    "create or replace procedure commission_transfer(empno1 int, empno2 int, amount int) as $$\n",
    "begin\n",
    "update emp set comm=comm-commission_transfer.amount\n",
    "  where empno=commission_transfer.empno1 and comm>commission_transfer.amount;\n",
    "if not found then raise exception 'Cannot transfer % from %',amount,empno1; end if;\n",
    "update emp set comm=comm+commission_transfer.amount\n",
    "  where emp.empno=commission_transfer.empno2;\n",
    "if not found then raise exception 'Cannot transfer from %',empno2; end if;\n",
    "end;\n",
    "$$ language plpgsql;"
   ]
  },
  {
   "cell_type": "markdown",
   "metadata": {},
   "source": [
    "Step 2: Call the procedure with employee IDs and the amount to be transferred\n",
    "\n",
    "Once defined, the stored procedure is called with values for all parameters. This transfers 100 from employee 7521 to 7654"
   ]
  },
  {
   "cell_type": "code",
   "execution_count": null,
   "metadata": {
    "vscode": {
     "languageId": "sql"
    }
   },
   "outputs": [],
   "source": [
    "%%sql\n",
    "\n",
    "call commission_transfer(7521,7654,100);"
   ]
  },
  {
   "cell_type": "markdown",
   "metadata": {},
   "source": [
    "Step 3: List all employees who have received commission\n",
    "\n",
    "The following displays all employees having a commission, to verify that 100 have been transferred"
   ]
  },
  {
   "cell_type": "code",
   "execution_count": null,
   "metadata": {
    "vscode": {
     "languageId": "sql"
    }
   },
   "outputs": [],
   "source": [
    "%%sql\n",
    "\n",
    "SELECT * from emp where comm is not null;"
   ]
  },
  {
   "cell_type": "markdown",
   "metadata": {},
   "source": [
    "Step 4: Call the procedure with employee IDs and amount that is not allowed to invoke error handling\n",
    "\n",
    "The following attempts to transfer 1000000, more than what 7521 has. It raises the “Cannot transfer” error defined in the procedure and automatically reverts all intermediate changes to return to a consistent state"
   ]
  },
  {
   "cell_type": "code",
   "execution_count": null,
   "metadata": {
    "vscode": {
     "languageId": "sql"
    }
   },
   "outputs": [],
   "source": [
    "%%sql\n",
    "\n",
    "call commission_transfer(7521,7654,1000000);"
   ]
  },
  {
   "cell_type": "markdown",
   "metadata": {},
   "source": [
    "Scenario 4. Triggers\n",
    "Record the last update time of each row automatically\n",
    "\n",
    "Description\n",
    "We will add a column to hold the last update time, and declare a trigger to update it automatically, on the departments table\n",
    "\n",
    "SQL Statement\n",
    "Step 1: Add a column to store the last update time\n",
    "\n",
    "The structure of a SQL table can evolve. With the goal of recording the last update, the following adds a “last_update” column to the department table."
   ]
  },
  {
   "cell_type": "code",
   "execution_count": null,
   "metadata": {
    "vscode": {
     "languageId": "sql"
    }
   },
   "outputs": [],
   "source": [
    "%%sql\n",
    "\n",
    "alter table dept add last_update timestamptz;"
   ]
  },
  {
   "cell_type": "markdown",
   "metadata": {},
   "source": [
    "Step 2: Add a function “dept_last_update” to set the last update time. The following SQL query uses the built-in function transaction_timestamp(), which returns the current date and time at the start of the current transaction\n",
    "\n",
    "A stored function declares some procedural logic that returns a value. The following returns the “new” state for a trigger after setting the “last_update” to the current time."
   ]
  },
  {
   "cell_type": "code",
   "execution_count": null,
   "metadata": {
    "vscode": {
     "languageId": "sql"
    }
   },
   "outputs": [],
   "source": [
    "%%sql\n",
    "\n",
    "create or replace function dept_last_update() returns trigger as $$\n",
    "begin\n",
    "  new.last_update:=transaction_timestamp();\n",
    "  return new;\n",
    "end;\n",
    "$$ language plpgsql;"
   ]
  },
  {
   "cell_type": "markdown",
   "metadata": {},
   "source": [
    "Step 3: Create a trigger “dept_last_update” to call the function “dept_last_update()” on each table update\n",
    "\n",
    "The previous function can be called automatically. The following trigger executes it on each row update for the departments table."
   ]
  },
  {
   "cell_type": "code",
   "execution_count": null,
   "metadata": {
    "vscode": {
     "languageId": "sql"
    }
   },
   "outputs": [],
   "source": [
    "%%sql\n",
    "\n",
    "create trigger dept_last_update\n",
    "before update on dept\n",
    "for each row\n",
    "execute procedure dept_last_update();"
   ]
  },
  {
   "cell_type": "markdown",
   "metadata": {},
   "source": [
    "Step 4: Display the current state of the table\n",
    "\n",
    "In order to verify the automatic logging of the last update time, the following displays the current state of departments before any update"
   ]
  },
  {
   "cell_type": "code",
   "execution_count": null,
   "metadata": {
    "vscode": {
     "languageId": "sql"
    }
   },
   "outputs": [],
   "source": [
    "%%sql\n",
    "\n",
    "select deptno,dname,loc,last_update from dept;"
   ]
  },
  {
   "cell_type": "markdown",
   "metadata": {},
   "source": [
    "Scenario 5. Materialized Views\n",
    "View\n",
    "Pre-compute analytics for reporting, with a materialized view\n",
    "\n",
    "Description\n",
    "In order to get fast on-demand reports, we create a materialized view to store pre-joined and pre-aggregated data. This view will store the total salary per department, the number of employees, and the list of jobs in the department.\n",
    "\n",
    "SQL Statement\n",
    "Step 1: Create the materialized view"
   ]
  },
  {
   "cell_type": "code",
   "execution_count": null,
   "metadata": {
    "vscode": {
     "languageId": "sql"
    }
   },
   "outputs": [],
   "source": [
    "%%sql\n",
    "\n",
    "create materialized view report_sal_per_dept as\n",
    "select \n",
    "deptno,dname,\n",
    "sum(sal) sal_per_dept,\n",
    "count(*) num_of_employees,\n",
    "string_agg(distinct job,', ') distinct_jobs\n",
    "from dept join emp using(deptno)\n",
    "group by deptno,dname\n",
    "order by deptno;"
   ]
  },
  {
   "cell_type": "markdown",
   "metadata": {},
   "source": [
    "Step 2: Indexes can be created on it. This one allows fast queries on a range of total salary"
   ]
  },
  {
   "cell_type": "code",
   "execution_count": null,
   "metadata": {
    "vscode": {
     "languageId": "sql"
    }
   },
   "outputs": [],
   "source": [
    "%%sql\n",
    "\n",
    "create index report_sal_per_dept_sal on report_sal_per_dept(sal_per_dept desc);"
   ]
  },
  {
   "cell_type": "markdown",
   "metadata": {},
   "source": [
    "Step 3: A refresh can be scheduled on a daily basis to re-compute it in the background with a simple command."
   ]
  },
  {
   "cell_type": "code",
   "execution_count": null,
   "metadata": {
    "vscode": {
     "languageId": "sql"
    }
   },
   "outputs": [],
   "source": [
    "%%sql\n",
    "\n",
    "select *\n",
    "from report_sal_per_dept\n",
    "where sal_per_dept<=10000\n",
    "order by sal_per_dept;"
   ]
  },
  {
   "cell_type": "markdown",
   "metadata": {
    "deletable": false,
    "editable": false
   },
   "source": [
    "---\n",
    "# All done!\n",
    "In this lab, you completed the following:\n",
    "\n",
    "- Setup\n",
    "  - Created the `db_ybu` database with `ysqlsh`\n",
    "  - Created utils\n",
    "  - Created tables and loaded data using DDL and DML scripts\n",
    "  - Connected to the database using a PostgreSQL driver for Python\n",
    "\n",
    "Next, run the following cell to open `02_Demystifying_table_sharding_tablets_and_data_distribution.ipynb`."
   ]
  }
 ],
 "metadata": {
  "kernelspec": {
   "display_name": "Python 3.9.4 64-bit ('3.9.4': pyenv)",
   "language": "python",
   "name": "python3"
  },
  "language_info": {
   "codemirror_mode": {
    "name": "ipython",
    "version": 3
   },
   "file_extension": ".py",
   "mimetype": "text/x-python",
   "name": "python",
   "nbconvert_exporter": "python",
   "pygments_lexer": "ipython3",
   "version": "3.9.4"
  },
  "orig_nbformat": 4,
  "vscode": {
   "interpreter": {
    "hash": "0857ffcb80af2fb548f76c195b67e2e5b75e102946b97bbf401092901016b64a"
   }
  }
 },
 "nbformat": 4,
 "nbformat_minor": 2
}
